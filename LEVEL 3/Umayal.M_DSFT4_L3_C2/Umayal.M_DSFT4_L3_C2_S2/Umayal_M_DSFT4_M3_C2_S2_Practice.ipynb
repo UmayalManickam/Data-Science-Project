{
  "nbformat": 4,
  "nbformat_minor": 0,
  "metadata": {
    "colab": {
      "name": "Umayal.M_DSFT4_M3_C2_S2_Practice.ipynb",
      "provenance": [],
      "collapsed_sections": []
    },
    "kernelspec": {
      "name": "python3",
      "display_name": "Python 3"
    },
    "language_info": {
      "name": "python"
    },
    "accelerator": "GPU"
  },
  "cells": [
    {
      "cell_type": "markdown",
      "source": [
        "## BUILDING BLOCKS OF DEEP LEARNING AND TENSORFLOW"
      ],
      "metadata": {
        "id": "I1c5vMq0iPXJ"
      }
    },
    {
      "cell_type": "code",
      "source": [
        "#importing libraries\n",
        "import tensorflow as tf\n",
        "import numpy as np"
      ],
      "metadata": {
        "id": "1LZjdE8kivzj"
      },
      "execution_count": null,
      "outputs": []
    },
    {
      "cell_type": "markdown",
      "source": [
        "### TASK 1"
      ],
      "metadata": {
        "id": "dDM3IDDRphA_"
      }
    },
    {
      "cell_type": "code",
      "source": [
        "#creating tilde(~) separated customer record\n",
        "custId='100';custName='John';email='john12@gmail.com';phone='9843275982';city='Mumbai';gender='Male';date_of_birth='09-03-1999'\n",
        "List=[custId,custName,email,phone,city,gender,date_of_birth]\n",
        "a=tf.strings.join(List,separator= \"~\")\n",
        "print(a)"
      ],
      "metadata": {
        "colab": {
          "base_uri": "https://localhost:8080/"
        },
        "id": "2Md27pyuphNp",
        "outputId": "5896ce73-1ca8-475e-a652-7bffe0455b35"
      },
      "execution_count": null,
      "outputs": [
        {
          "output_type": "stream",
          "name": "stdout",
          "text": [
            "tf.Tensor(b'100~John~john12@gmail.com~9843275982~Mumbai~Male~09-03-1999', shape=(), dtype=string)\n"
          ]
        }
      ]
    },
    {
      "cell_type": "code",
      "source": [
        "#extracting random number of characters from the strings\n",
        "for i in List:\n",
        "  print('The string is',i,end='  ')\n",
        "  print(tf.strings.substr(i,int(np.random.randint(1,len(i),1)),int(np.random.randint(1,len(i),1))))"
      ],
      "metadata": {
        "colab": {
          "base_uri": "https://localhost:8080/"
        },
        "id": "fqwaK5cHiGOi",
        "outputId": "95166a67-c5c7-43c9-9cf3-1c81ed7bfe72"
      },
      "execution_count": null,
      "outputs": [
        {
          "output_type": "stream",
          "name": "stdout",
          "text": [
            "The string is 100  tf.Tensor(b'0', shape=(), dtype=string)\n",
            "The string is John  tf.Tensor(b'hn', shape=(), dtype=string)\n",
            "The string is john12@gmail.com  tf.Tensor(b'ma', shape=(), dtype=string)\n",
            "The string is 9843275982  tf.Tensor(b'3275982', shape=(), dtype=string)\n",
            "The string is Mumbai  tf.Tensor(b'bai', shape=(), dtype=string)\n",
            "The string is Male  tf.Tensor(b'al', shape=(), dtype=string)\n",
            "The string is 09-03-1999  tf.Tensor(b'-1999', shape=(), dtype=string)\n"
          ]
        }
      ]
    },
    {
      "cell_type": "markdown",
      "source": [
        "### TASK 2"
      ],
      "metadata": {
        "id": "MvogVnTpinYR"
      }
    },
    {
      "cell_type": "code",
      "source": [
        "#creating 3x3 character constant matrix\n",
        "matrix=tf.constant([['indigo','violet','programmer'],['computer','training','kitchen'],['array','instagram','bluetooth']])\n",
        "print(matrix)\n",
        "print('Shape of matrix=',matrix.shape)\n",
        "print('Dimension of matrix=',matrix.ndim)"
      ],
      "metadata": {
        "colab": {
          "base_uri": "https://localhost:8080/"
        },
        "id": "WOzbMSltiEUl",
        "outputId": "aed1ea2b-3858-455b-844e-e85ed5279174"
      },
      "execution_count": null,
      "outputs": [
        {
          "output_type": "stream",
          "name": "stdout",
          "text": [
            "tf.Tensor(\n",
            "[[b'indigo' b'violet' b'programmer']\n",
            " [b'computer' b'training' b'kitchen']\n",
            " [b'array' b'instagram' b'bluetooth']], shape=(3, 3), dtype=string)\n",
            "Shape of matrix= (3, 3)\n",
            "Dimension of matrix= 2\n"
          ]
        }
      ]
    },
    {
      "cell_type": "markdown",
      "source": [
        "### TASK 3"
      ],
      "metadata": {
        "id": "S3cqH7KMjqsu"
      }
    },
    {
      "cell_type": "code",
      "source": [
        "#Create a constant and assign a value\n",
        "product_price=tf.constant(1895.2)\n",
        "print(product_price)\n",
        "#convert its datatype to float16\n",
        "product_price=tf.constant(1895.2,tf.float16)\n",
        "print(product_price)"
      ],
      "metadata": {
        "colab": {
          "base_uri": "https://localhost:8080/"
        },
        "id": "6JGR-XzXjs2J",
        "outputId": "e0933d30-f782-48f8-9b5c-4d0494fb263c"
      },
      "execution_count": null,
      "outputs": [
        {
          "output_type": "stream",
          "name": "stdout",
          "text": [
            "tf.Tensor(1895.2, shape=(), dtype=float32)\n",
            "tf.Tensor(1895.0, shape=(), dtype=float16)\n"
          ]
        }
      ]
    },
    {
      "cell_type": "markdown",
      "source": [
        "### TASK 4"
      ],
      "metadata": {
        "id": "ES2Q3SXoj3Ck"
      }
    },
    {
      "cell_type": "code",
      "source": [
        "#create 5x3 array with int16\n",
        "marks=tf.constant([[10,20,30],[40,50,60],[70,80,90],[25,35,45],[55,65,75]],tf.int16)\n",
        "print('Old marks:\\n',marks)\n",
        "#update the value with random numbers\n",
        "marks=tf.constant(np.random.randint(10,100,15).reshape(5,3))\n",
        "print('Updated marks:\\n',marks)"
      ],
      "metadata": {
        "colab": {
          "base_uri": "https://localhost:8080/"
        },
        "id": "82cp3OdmlDvX",
        "outputId": "2fae0ab5-5230-456e-bdb7-1c8ae8e86d38"
      },
      "execution_count": null,
      "outputs": [
        {
          "output_type": "stream",
          "name": "stdout",
          "text": [
            "Old marks:\n",
            " tf.Tensor(\n",
            "[[10 20 30]\n",
            " [40 50 60]\n",
            " [70 80 90]\n",
            " [25 35 45]\n",
            " [55 65 75]], shape=(5, 3), dtype=int16)\n",
            "Updated marks:\n",
            " tf.Tensor(\n",
            "[[31 49 92]\n",
            " [72 29 49]\n",
            " [92 70 35]\n",
            " [99 74 19]\n",
            " [15 21 54]], shape=(5, 3), dtype=int64)\n"
          ]
        }
      ]
    },
    {
      "cell_type": "markdown",
      "source": [
        "### TASK 5"
      ],
      "metadata": {
        "id": "b9EcB5MXqafZ"
      }
    },
    {
      "cell_type": "code",
      "source": [
        "#creating test data\n",
        "test_data=np.random.randint(1,100,150)\n",
        "print('The test data is:\\n',test_data)\n",
        "#creating 2 constants-coefficients\n",
        "a=tf.constant(2)\n",
        "b=tf.constant(1)\n",
        "#y as placeholder\n",
        "y=a+(b*test_data)\n",
        "#predicting\n",
        "print('The predictions are:\\n',y)"
      ],
      "metadata": {
        "id": "ZoN_hg5uqaqk",
        "colab": {
          "base_uri": "https://localhost:8080/"
        },
        "outputId": "d37d9e3f-87a0-48e6-f004-a7ba8b10ef5e"
      },
      "execution_count": null,
      "outputs": [
        {
          "output_type": "stream",
          "name": "stdout",
          "text": [
            "The test data is:\n",
            " [34 71 55 91 69 74 16 70 73 40 40 55 21 68 50 35 54 58 75 43 73 79 31 88\n",
            "  6 17 20 95 76 55 83 73 40 79 25  4 71 90 58 34  9 57 25 74 68 77 35 78\n",
            " 23  9 84 29 57 94 31 88 11 77 49 67 33 86 97 69 10 57 59 71 51 39 32 29\n",
            " 70 32 55 39 30 13 50 10 93 98 58 63 19 98 65 58 26  4 71 53 51 94 38 14\n",
            " 91 81 85 92 90 63 80 30 25 51 10 64 20 47 65 33 92 95 51 51  2 42  8 30\n",
            " 50  5 29 92 30 46 11 95  2 92 87 92 31 39 15 51 92 53 11 35 22 96 81 32\n",
            " 53 21 19  5 44 58]\n",
            "The predictions are:\n",
            " tf.Tensor(\n",
            "[ 36  73  57  93  71  76  18  72  75  42  42  57  23  70  52  37  56  60\n",
            "  77  45  75  81  33  90   8  19  22  97  78  57  85  75  42  81  27   6\n",
            "  73  92  60  36  11  59  27  76  70  79  37  80  25  11  86  31  59  96\n",
            "  33  90  13  79  51  69  35  88  99  71  12  59  61  73  53  41  34  31\n",
            "  72  34  57  41  32  15  52  12  95 100  60  65  21 100  67  60  28   6\n",
            "  73  55  53  96  40  16  93  83  87  94  92  65  82  32  27  53  12  66\n",
            "  22  49  67  35  94  97  53  53   4  44  10  32  52   7  31  94  32  48\n",
            "  13  97   4  94  89  94  33  41  17  53  94  55  13  37  24  98  83  34\n",
            "  55  23  21   7  46  60], shape=(150,), dtype=int32)\n"
          ]
        }
      ]
    },
    {
      "cell_type": "markdown",
      "source": [
        "### TASK 6"
      ],
      "metadata": {
        "id": "4dOj23yAmNek"
      }
    },
    {
      "cell_type": "code",
      "source": [
        "#create dictionary with 3 pairs\n",
        "currency = {'India':'Rupee', 'America':'Dollar','Europe':'Euros'}\n",
        "print('Dictionary :',currency)\n",
        "print('Size of dictionary:',len(currency))\n",
        "#converting to tensors and printing the keys \n",
        "t_currency_keys = tf.convert_to_tensor(list(currency.keys()))\n",
        "print(t_currency_keys)\n",
        "#converting to tensors and printing the values\n",
        "t_currency_values = tf.convert_to_tensor(list(currency.values()))\n",
        "print(t_currency_values)"
      ],
      "metadata": {
        "colab": {
          "base_uri": "https://localhost:8080/"
        },
        "id": "Q6NmosSDmPpQ",
        "outputId": "d6cbde46-949b-4758-e2d1-1886a584ee74"
      },
      "execution_count": null,
      "outputs": [
        {
          "output_type": "stream",
          "name": "stdout",
          "text": [
            "Dictionary : {'India': 'Rupee', 'America': 'Dollar', 'Europe': 'Euros'}\n",
            "Size of dictionary: 3\n",
            "tf.Tensor([b'India' b'America' b'Europe'], shape=(3,), dtype=string)\n",
            "tf.Tensor([b'Rupee' b'Dollar' b'Euros'], shape=(3,), dtype=string)\n"
          ]
        }
      ]
    },
    {
      "cell_type": "markdown",
      "source": [
        "### TASK 7"
      ],
      "metadata": {
        "id": "f1GoYNqwniEE"
      }
    },
    {
      "cell_type": "code",
      "source": [
        "#creating 2 arrays with 4 products-no.of units,unit price\n",
        "unit=[5,10,15,20]\n",
        "unit_price=[10,20,30,40]\n",
        "for i in range(0, len(unit)):\n",
        "    total=unit[i] * unit_price[i]\n",
        "#getting the grand total of all 4 products\n",
        "print('Grand total=',total)                "
      ],
      "metadata": {
        "colab": {
          "base_uri": "https://localhost:8080/"
        },
        "id": "OATlozVYnjmg",
        "outputId": "424ee5ef-ce6b-496e-fba5-db71a3ae2343"
      },
      "execution_count": null,
      "outputs": [
        {
          "output_type": "stream",
          "name": "stdout",
          "text": [
            "Grand total= 800\n"
          ]
        }
      ]
    },
    {
      "cell_type": "markdown",
      "source": [
        "## END"
      ],
      "metadata": {
        "id": "YZDrwyv4pcio"
      }
    }
  ]
}
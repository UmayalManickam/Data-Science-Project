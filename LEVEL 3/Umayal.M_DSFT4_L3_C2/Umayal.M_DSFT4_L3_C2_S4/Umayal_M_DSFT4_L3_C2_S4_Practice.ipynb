{
  "nbformat": 4,
  "nbformat_minor": 0,
  "metadata": {
    "colab": {
      "name": "Umayal.M_DSFT4_L3_C2_S4_Practice.ipynb",
      "provenance": [],
      "collapsed_sections": []
    },
    "kernelspec": {
      "name": "python3",
      "display_name": "Python 3"
    },
    "language_info": {
      "name": "python"
    }
  },
  "cells": [
    {
      "cell_type": "markdown",
      "source": [
        "#REGRESSION USING DEEP LEARNING"
      ],
      "metadata": {
        "id": "UmD8RXTCZVdq"
      }
    },
    {
      "cell_type": "code",
      "execution_count": 3,
      "metadata": {
        "id": "d8eCkYOJYqwy",
        "colab": {
          "base_uri": "https://localhost:8080/"
        },
        "outputId": "4e280647-856d-483d-e3f0-412ba6579b12"
      },
      "outputs": [
        {
          "output_type": "stream",
          "name": "stdout",
          "text": [
            "Requirement already satisfied: neurolab in /usr/local/lib/python3.7/dist-packages (0.3.5)\n"
          ]
        }
      ],
      "source": [
        "#IMPORTING LIBRARIES\n",
        "!pip install neurolab\n",
        "import pandas as pd\n",
        "import numpy as np\n",
        "import matplotlib.pyplot as plt\n",
        "import neurolab as nl\n",
        "import keras\n",
        "import tensorflow as tf\n",
        "import seaborn as sns"
      ]
    },
    {
      "cell_type": "markdown",
      "source": [
        "###TASK 1"
      ],
      "metadata": {
        "id": "lbMP1vJnaEra"
      }
    },
    {
      "cell_type": "code",
      "source": [
        "#LOADING DATASET\n",
        "wine=pd.read_csv('DS3_C2_S4_Regression_Practice_WhiteWine_Data.csv')\n",
        "wine.head(2)"
      ],
      "metadata": {
        "colab": {
          "base_uri": "https://localhost:8080/",
          "height": 112
        },
        "id": "1Og5DMfHatqr",
        "outputId": "7dba11c8-6064-4dcc-c752-07cc0c196871"
      },
      "execution_count": 4,
      "outputs": [
        {
          "output_type": "execute_result",
          "data": {
            "text/plain": [
              "   fixed acidity  volatile acidity  citric acid  residual sugar  chlorides  \\\n",
              "0            7.0              0.27         0.36            20.7      0.045   \n",
              "1            6.3              0.30         0.34             1.6      0.049   \n",
              "\n",
              "   free sulfur dioxide  total sulfur dioxide  density   pH  sulphates  \\\n",
              "0                 45.0                 170.0    1.001  3.0       0.45   \n",
              "1                 14.0                 132.0    0.994  3.3       0.49   \n",
              "\n",
              "   alcohol  quality  \n",
              "0      8.8        6  \n",
              "1      9.5        6  "
            ],
            "text/html": [
              "\n",
              "  <div id=\"df-b6862331-446b-4c9e-8904-55ad5330658d\">\n",
              "    <div class=\"colab-df-container\">\n",
              "      <div>\n",
              "<style scoped>\n",
              "    .dataframe tbody tr th:only-of-type {\n",
              "        vertical-align: middle;\n",
              "    }\n",
              "\n",
              "    .dataframe tbody tr th {\n",
              "        vertical-align: top;\n",
              "    }\n",
              "\n",
              "    .dataframe thead th {\n",
              "        text-align: right;\n",
              "    }\n",
              "</style>\n",
              "<table border=\"1\" class=\"dataframe\">\n",
              "  <thead>\n",
              "    <tr style=\"text-align: right;\">\n",
              "      <th></th>\n",
              "      <th>fixed acidity</th>\n",
              "      <th>volatile acidity</th>\n",
              "      <th>citric acid</th>\n",
              "      <th>residual sugar</th>\n",
              "      <th>chlorides</th>\n",
              "      <th>free sulfur dioxide</th>\n",
              "      <th>total sulfur dioxide</th>\n",
              "      <th>density</th>\n",
              "      <th>pH</th>\n",
              "      <th>sulphates</th>\n",
              "      <th>alcohol</th>\n",
              "      <th>quality</th>\n",
              "    </tr>\n",
              "  </thead>\n",
              "  <tbody>\n",
              "    <tr>\n",
              "      <th>0</th>\n",
              "      <td>7.0</td>\n",
              "      <td>0.27</td>\n",
              "      <td>0.36</td>\n",
              "      <td>20.7</td>\n",
              "      <td>0.045</td>\n",
              "      <td>45.0</td>\n",
              "      <td>170.0</td>\n",
              "      <td>1.001</td>\n",
              "      <td>3.0</td>\n",
              "      <td>0.45</td>\n",
              "      <td>8.8</td>\n",
              "      <td>6</td>\n",
              "    </tr>\n",
              "    <tr>\n",
              "      <th>1</th>\n",
              "      <td>6.3</td>\n",
              "      <td>0.30</td>\n",
              "      <td>0.34</td>\n",
              "      <td>1.6</td>\n",
              "      <td>0.049</td>\n",
              "      <td>14.0</td>\n",
              "      <td>132.0</td>\n",
              "      <td>0.994</td>\n",
              "      <td>3.3</td>\n",
              "      <td>0.49</td>\n",
              "      <td>9.5</td>\n",
              "      <td>6</td>\n",
              "    </tr>\n",
              "  </tbody>\n",
              "</table>\n",
              "</div>\n",
              "      <button class=\"colab-df-convert\" onclick=\"convertToInteractive('df-b6862331-446b-4c9e-8904-55ad5330658d')\"\n",
              "              title=\"Convert this dataframe to an interactive table.\"\n",
              "              style=\"display:none;\">\n",
              "        \n",
              "  <svg xmlns=\"http://www.w3.org/2000/svg\" height=\"24px\"viewBox=\"0 0 24 24\"\n",
              "       width=\"24px\">\n",
              "    <path d=\"M0 0h24v24H0V0z\" fill=\"none\"/>\n",
              "    <path d=\"M18.56 5.44l.94 2.06.94-2.06 2.06-.94-2.06-.94-.94-2.06-.94 2.06-2.06.94zm-11 1L8.5 8.5l.94-2.06 2.06-.94-2.06-.94L8.5 2.5l-.94 2.06-2.06.94zm10 10l.94 2.06.94-2.06 2.06-.94-2.06-.94-.94-2.06-.94 2.06-2.06.94z\"/><path d=\"M17.41 7.96l-1.37-1.37c-.4-.4-.92-.59-1.43-.59-.52 0-1.04.2-1.43.59L10.3 9.45l-7.72 7.72c-.78.78-.78 2.05 0 2.83L4 21.41c.39.39.9.59 1.41.59.51 0 1.02-.2 1.41-.59l7.78-7.78 2.81-2.81c.8-.78.8-2.07 0-2.86zM5.41 20L4 18.59l7.72-7.72 1.47 1.35L5.41 20z\"/>\n",
              "  </svg>\n",
              "      </button>\n",
              "      \n",
              "  <style>\n",
              "    .colab-df-container {\n",
              "      display:flex;\n",
              "      flex-wrap:wrap;\n",
              "      gap: 12px;\n",
              "    }\n",
              "\n",
              "    .colab-df-convert {\n",
              "      background-color: #E8F0FE;\n",
              "      border: none;\n",
              "      border-radius: 50%;\n",
              "      cursor: pointer;\n",
              "      display: none;\n",
              "      fill: #1967D2;\n",
              "      height: 32px;\n",
              "      padding: 0 0 0 0;\n",
              "      width: 32px;\n",
              "    }\n",
              "\n",
              "    .colab-df-convert:hover {\n",
              "      background-color: #E2EBFA;\n",
              "      box-shadow: 0px 1px 2px rgba(60, 64, 67, 0.3), 0px 1px 3px 1px rgba(60, 64, 67, 0.15);\n",
              "      fill: #174EA6;\n",
              "    }\n",
              "\n",
              "    [theme=dark] .colab-df-convert {\n",
              "      background-color: #3B4455;\n",
              "      fill: #D2E3FC;\n",
              "    }\n",
              "\n",
              "    [theme=dark] .colab-df-convert:hover {\n",
              "      background-color: #434B5C;\n",
              "      box-shadow: 0px 1px 3px 1px rgba(0, 0, 0, 0.15);\n",
              "      filter: drop-shadow(0px 1px 2px rgba(0, 0, 0, 0.3));\n",
              "      fill: #FFFFFF;\n",
              "    }\n",
              "  </style>\n",
              "\n",
              "      <script>\n",
              "        const buttonEl =\n",
              "          document.querySelector('#df-b6862331-446b-4c9e-8904-55ad5330658d button.colab-df-convert');\n",
              "        buttonEl.style.display =\n",
              "          google.colab.kernel.accessAllowed ? 'block' : 'none';\n",
              "\n",
              "        async function convertToInteractive(key) {\n",
              "          const element = document.querySelector('#df-b6862331-446b-4c9e-8904-55ad5330658d');\n",
              "          const dataTable =\n",
              "            await google.colab.kernel.invokeFunction('convertToInteractive',\n",
              "                                                     [key], {});\n",
              "          if (!dataTable) return;\n",
              "\n",
              "          const docLinkHtml = 'Like what you see? Visit the ' +\n",
              "            '<a target=\"_blank\" href=https://colab.research.google.com/notebooks/data_table.ipynb>data table notebook</a>'\n",
              "            + ' to learn more about interactive tables.';\n",
              "          element.innerHTML = '';\n",
              "          dataTable['output_type'] = 'display_data';\n",
              "          await google.colab.output.renderOutput(dataTable, element);\n",
              "          const docLink = document.createElement('div');\n",
              "          docLink.innerHTML = docLinkHtml;\n",
              "          element.appendChild(docLink);\n",
              "        }\n",
              "      </script>\n",
              "    </div>\n",
              "  </div>\n",
              "  "
            ]
          },
          "metadata": {},
          "execution_count": 4
        }
      ]
    },
    {
      "cell_type": "code",
      "source": [
        "#DATA VISULAIZATION\n",
        "plt.plot(wine['alcohol'])\n",
        "plt.show()"
      ],
      "metadata": {
        "colab": {
          "base_uri": "https://localhost:8080/",
          "height": 265
        },
        "id": "euf3xUOmkXnD",
        "outputId": "7765205a-bdb9-4f29-bd69-cb2e5509539a"
      },
      "execution_count": 11,
      "outputs": [
        {
          "output_type": "display_data",
          "data": {
            "text/plain": [
              "<Figure size 432x288 with 1 Axes>"
            ],
            "image/png": "[encoded data removed]"
          },
          "metadata": {
            "needs_background": "light"
          }
        }
      ]
    },
    {
      "cell_type": "code",
      "source": [
        "plt.figure(figsize=(10,5))\n",
        "sns.heatmap(wine.corr(),annot=True)"
      ],
      "metadata": {
        "colab": {
          "base_uri": "https://localhost:8080/",
          "height": 425
        },
        "id": "-jAeRYk3efLs",
        "outputId": "9f3444f8-24dd-4791-a1ff-54558c355983"
      },
      "execution_count": 5,
      "outputs": [
        {
          "output_type": "execute_result",
          "data": {
            "text/plain": [
              "<matplotlib.axes._subplots.AxesSubplot at 0x7f4033c0a310>"
            ]
          },
          "metadata": {},
          "execution_count": 5
        },
        {
          "output_type": "display_data",
          "data": {
            "text/plain": [
              "<Figure size 720x360 with 2 Axes>"
            ],
            "image/png": "[encoded data removed]"
          },
          "metadata": {
            "needs_background": "light"
          }
        }
      ]
    },
    {
      "cell_type": "code",
      "source": [
        "#DATA NORMALIZATION\n",
        "from sklearn.preprocessing import MinMaxScaler\n",
        "scaler=MinMaxScaler()\n",
        "wine_scaled=scaler.fit_transform(wine)\n",
        "wined=pd.DataFrame(wine_scaled,columns=wine.columns)\n",
        "wined.head(2)"
      ],
      "metadata": {
        "colab": {
          "base_uri": "https://localhost:8080/",
          "height": 112
        },
        "id": "oHTIUX46lD-l",
        "outputId": "e4000217-0fb7-42fe-eaa4-39b4d2f5f341"
      },
      "execution_count": 17,
      "outputs": [
        {
          "output_type": "execute_result",
          "data": {
            "text/plain": [
              "   fixed acidity  volatile acidity  citric acid  residual sugar  chlorides  \\\n",
              "0       0.307692          0.186275     0.216867        0.308282   0.106825   \n",
              "1       0.240385          0.215686     0.204819        0.015337   0.118694   \n",
              "\n",
              "   free sulfur dioxide  total sulfur dioxide   density        pH  sulphates  \\\n",
              "0             0.149826              0.373550  0.267785  0.254545   0.267442   \n",
              "1             0.041812              0.285383  0.132832  0.527273   0.313953   \n",
              "\n",
              "    alcohol  quality  \n",
              "0  0.129032      0.5  \n",
              "1  0.241935      0.5  "
            ],
            "text/html": [
              "\n",
              "  <div id=\"df-ee5acfbd-ecf9-4d44-9124-dffb826c9e56\">\n",
              "    <div class=\"colab-df-container\">\n",
              "      <div>\n",
              "<style scoped>\n",
              "    .dataframe tbody tr th:only-of-type {\n",
              "        vertical-align: middle;\n",
              "    }\n",
              "\n",
              "    .dataframe tbody tr th {\n",
              "        vertical-align: top;\n",
              "    }\n",
              "\n",
              "    .dataframe thead th {\n",
              "        text-align: right;\n",
              "    }\n",
              "</style>\n",
              "<table border=\"1\" class=\"dataframe\">\n",
              "  <thead>\n",
              "    <tr style=\"text-align: right;\">\n",
              "      <th></th>\n",
              "      <th>fixed acidity</th>\n",
              "      <th>volatile acidity</th>\n",
              "      <th>citric acid</th>\n",
              "      <th>residual sugar</th>\n",
              "      <th>chlorides</th>\n",
              "      <th>free sulfur dioxide</th>\n",
              "      <th>total sulfur dioxide</th>\n",
              "      <th>density</th>\n",
              "      <th>pH</th>\n",
              "      <th>sulphates</th>\n",
              "      <th>alcohol</th>\n",
              "      <th>quality</th>\n",
              "    </tr>\n",
              "  </thead>\n",
              "  <tbody>\n",
              "    <tr>\n",
              "      <th>0</th>\n",
              "      <td>0.307692</td>\n",
              "      <td>0.186275</td>\n",
              "      <td>0.216867</td>\n",
              "      <td>0.308282</td>\n",
              "      <td>0.106825</td>\n",
              "      <td>0.149826</td>\n",
              "      <td>0.373550</td>\n",
              "      <td>0.267785</td>\n",
              "      <td>0.254545</td>\n",
              "      <td>0.267442</td>\n",
              "      <td>0.129032</td>\n",
              "      <td>0.5</td>\n",
              "    </tr>\n",
              "    <tr>\n",
              "      <th>1</th>\n",
              "      <td>0.240385</td>\n",
              "      <td>0.215686</td>\n",
              "      <td>0.204819</td>\n",
              "      <td>0.015337</td>\n",
              "      <td>0.118694</td>\n",
              "      <td>0.041812</td>\n",
              "      <td>0.285383</td>\n",
              "      <td>0.132832</td>\n",
              "      <td>0.527273</td>\n",
              "      <td>0.313953</td>\n",
              "      <td>0.241935</td>\n",
              "      <td>0.5</td>\n",
              "    </tr>\n",
              "  </tbody>\n",
              "</table>\n",
              "</div>\n",
              "      <button class=\"colab-df-convert\" onclick=\"convertToInteractive('df-ee5acfbd-ecf9-4d44-9124-dffb826c9e56')\"\n",
              "              title=\"Convert this dataframe to an interactive table.\"\n",
              "              style=\"display:none;\">\n",
              "        \n",
              "  <svg xmlns=\"http://www.w3.org/2000/svg\" height=\"24px\"viewBox=\"0 0 24 24\"\n",
              "       width=\"24px\">\n",
              "    <path d=\"M0 0h24v24H0V0z\" fill=\"none\"/>\n",
              "    <path d=\"M18.56 5.44l.94 2.06.94-2.06 2.06-.94-2.06-.94-.94-2.06-.94 2.06-2.06.94zm-11 1L8.5 8.5l.94-2.06 2.06-.94-2.06-.94L8.5 2.5l-.94 2.06-2.06.94zm10 10l.94 2.06.94-2.06 2.06-.94-2.06-.94-.94-2.06-.94 2.06-2.06.94z\"/><path d=\"M17.41 7.96l-1.37-1.37c-.4-.4-.92-.59-1.43-.59-.52 0-1.04.2-1.43.59L10.3 9.45l-7.72 7.72c-.78.78-.78 2.05 0 2.83L4 21.41c.39.39.9.59 1.41.59.51 0 1.02-.2 1.41-.59l7.78-7.78 2.81-2.81c.8-.78.8-2.07 0-2.86zM5.41 20L4 18.59l7.72-7.72 1.47 1.35L5.41 20z\"/>\n",
              "  </svg>\n",
              "      </button>\n",
              "      \n",
              "  <style>\n",
              "    .colab-df-container {\n",
              "      display:flex;\n",
              "      flex-wrap:wrap;\n",
              "      gap: 12px;\n",
              "    }\n",
              "\n",
              "    .colab-df-convert {\n",
              "      background-color: #E8F0FE;\n",
              "      border: none;\n",
              "      border-radius: 50%;\n",
              "      cursor: pointer;\n",
              "      display: none;\n",
              "      fill: #1967D2;\n",
              "      height: 32px;\n",
              "      padding: 0 0 0 0;\n",
              "      width: 32px;\n",
              "    }\n",
              "\n",
              "    .colab-df-convert:hover {\n",
              "      background-color: #E2EBFA;\n",
              "      box-shadow: 0px 1px 2px rgba(60, 64, 67, 0.3), 0px 1px 3px 1px rgba(60, 64, 67, 0.15);\n",
              "      fill: #174EA6;\n",
              "    }\n",
              "\n",
              "    [theme=dark] .colab-df-convert {\n",
              "      background-color: #3B4455;\n",
              "      fill: #D2E3FC;\n",
              "    }\n",
              "\n",
              "    [theme=dark] .colab-df-convert:hover {\n",
              "      background-color: #434B5C;\n",
              "      box-shadow: 0px 1px 3px 1px rgba(0, 0, 0, 0.15);\n",
              "      filter: drop-shadow(0px 1px 2px rgba(0, 0, 0, 0.3));\n",
              "      fill: #FFFFFF;\n",
              "    }\n",
              "  </style>\n",
              "\n",
              "      <script>\n",
              "        const buttonEl =\n",
              "          document.querySelector('#df-ee5acfbd-ecf9-4d44-9124-dffb826c9e56 button.colab-df-convert');\n",
              "        buttonEl.style.display =\n",
              "          google.colab.kernel.accessAllowed ? 'block' : 'none';\n",
              "\n",
              "        async function convertToInteractive(key) {\n",
              "          const element = document.querySelector('#df-ee5acfbd-ecf9-4d44-9124-dffb826c9e56');\n",
              "          const dataTable =\n",
              "            await google.colab.kernel.invokeFunction('convertToInteractive',\n",
              "                                                     [key], {});\n",
              "          if (!dataTable) return;\n",
              "\n",
              "          const docLinkHtml = 'Like what you see? Visit the ' +\n",
              "            '<a target=\"_blank\" href=https://colab.research.google.com/notebooks/data_table.ipynb>data table notebook</a>'\n",
              "            + ' to learn more about interactive tables.';\n",
              "          element.innerHTML = '';\n",
              "          dataTable['output_type'] = 'display_data';\n",
              "          await google.colab.output.renderOutput(dataTable, element);\n",
              "          const docLink = document.createElement('div');\n",
              "          docLink.innerHTML = docLinkHtml;\n",
              "          element.appendChild(docLink);\n",
              "        }\n",
              "      </script>\n",
              "    </div>\n",
              "  </div>\n",
              "  "
            ]
          },
          "metadata": {},
          "execution_count": 17
        }
      ]
    },
    {
      "cell_type": "code",
      "source": [
        "#FEATURES\n",
        "x=wined.drop(['alcohol'],axis=1)\n",
        "#LABELS\n",
        "y=wined['alcohol']\n",
        "x.shape,y.shape"
      ],
      "metadata": {
        "colab": {
          "base_uri": "https://localhost:8080/"
        },
        "id": "f0oMCtsLbdF4",
        "outputId": "ad986c39-3df7-404b-ff18-e5a42a99d658"
      },
      "execution_count": 18,
      "outputs": [
        {
          "output_type": "execute_result",
          "data": {
            "text/plain": [
              "((4898, 11), (4898,))"
            ]
          },
          "metadata": {},
          "execution_count": 18
        }
      ]
    },
    {
      "cell_type": "code",
      "source": [
        "#DATA SPLITTING\n",
        "#CREATE TRAIN 80% AND TEST 20% DATASET\n",
        "from sklearn.model_selection import train_test_split\n",
        "X_train,X_test,y_train,y_test=train_test_split(x['quality'],y,test_size=0.2,random_state=42)\n",
        "#setting random state for reproducible splits\n",
        "X_train.shape,X_test.shape,y_train.shape,y_test.shape"
      ],
      "metadata": {
        "colab": {
          "base_uri": "https://localhost:8080/"
        },
        "id": "4uka-98cb79u",
        "outputId": "56dd9016-349f-48cd-c6aa-22a7df4b6b13"
      },
      "execution_count": 54,
      "outputs": [
        {
          "output_type": "execute_result",
          "data": {
            "text/plain": [
              "((3918,), (980,), (3918,), (980,))"
            ]
          },
          "metadata": {},
          "execution_count": 54
        }
      ]
    },
    {
      "cell_type": "markdown",
      "source": [
        "###TASK 2"
      ],
      "metadata": {
        "id": "tjV35R0_mCE3"
      }
    },
    {
      "cell_type": "code",
      "source": [
        "def mae(y_test,y_pred):\n",
        "  return tf.metrics.mean_absolute_error(y_test,y_pred)\n",
        "def mse(y_test,y_pred):\n",
        "  return tf.metrics.mean_squared_error(y_test,y_pred)"
      ],
      "metadata": {
        "id": "CG4gkFB_qQyS"
      },
      "execution_count": 55,
      "outputs": []
    },
    {
      "cell_type": "code",
      "source": [
        "#MODEL 1\n",
        "tf.random.set_seed(42)\n",
        "model1=tf.keras.Sequential([tf.keras.layers.Dense(1)]) \n",
        "#COMPILE THE MODEL\n",
        "model1.compile(loss=tf.keras.losses.mae,\n",
        "               optimizer=tf.keras.optimizers.SGD(),\n",
        "               metrics=['mae'])\n",
        "#FITTING\n",
        "model1.fit(X_train,y_train,epochs=200,verbose=0)"
      ],
      "metadata": {
        "colab": {
          "base_uri": "https://localhost:8080/"
        },
        "id": "gUV0g38ViTox",
        "outputId": "ff437a35-b408-4701-941d-f26993018483"
      },
      "execution_count": 56,
      "outputs": [
        {
          "output_type": "execute_result",
          "data": {
            "text/plain": [
              "<keras.callbacks.History at 0x7f4027aeb790>"
            ]
          },
          "metadata": {},
          "execution_count": 56
        }
      ]
    },
    {
      "cell_type": "code",
      "source": [
        "#EVALUATE THE MODEL1\n",
        "model1.evaluate(X_test,y_test)"
      ],
      "metadata": {
        "colab": {
          "base_uri": "https://localhost:8080/"
        },
        "id": "RZXcsaqbmr82",
        "outputId": "90dcf947-fd02-450b-cde8-9d7db416de02"
      },
      "execution_count": 57,
      "outputs": [
        {
          "output_type": "stream",
          "name": "stdout",
          "text": [
            "31/31 [==============================] - 0s 1ms/step - loss: 0.1441 - mae: 0.1441\n"
          ]
        },
        {
          "output_type": "execute_result",
          "data": {
            "text/plain": [
              "[0.14405255019664764, 0.14405255019664764]"
            ]
          },
          "metadata": {},
          "execution_count": 57
        }
      ]
    },
    {
      "cell_type": "code",
      "source": [
        "#PREDICTIONS FOR THE MODEL1\n",
        "y_pred1=model1.predict(X_test)\n",
        "# print(y_pred1)"
      ],
      "metadata": {
        "id": "Xs45GqA2qr-e"
      },
      "execution_count": 58,
      "outputs": []
    },
    {
      "cell_type": "code",
      "source": [
        "def plot_predictions(train_data=X_train,\n",
        "                     train_labels=y_train,\n",
        "                     test_data=X_test,\n",
        "                     test_labels=y_test,\n",
        "                     predictions=y_pred1):\n",
        "  plt.scatter(train_data,train_labels,c='b',label='training data')\n",
        "  plt.scatter(test_data,test_labels,c='r',label='testing data')\n",
        "  plt.scatter(test_data,predictions,c='g',label='predictions')\n",
        "  plt.legend()\n",
        "  plt.show()"
      ],
      "metadata": {
        "id": "eUYTjMDIqmB7"
      },
      "execution_count": 61,
      "outputs": []
    },
    {
      "cell_type": "code",
      "source": [
        "#PLOTTING PREDCITIONS FOR THE MODEL1\n",
        "plot_predictions(predictions=y_pred1)"
      ],
      "metadata": {
        "colab": {
          "base_uri": "https://localhost:8080/",
          "height": 265
        },
        "id": "mVINDFhwqmFa",
        "outputId": "f5c3d184-fa9b-461d-e810-3f9d658ae99f"
      },
      "execution_count": 62,
      "outputs": [
        {
          "output_type": "display_data",
          "data": {
            "text/plain": [
              "<Figure size 432x288 with 1 Axes>"
            ],
            "image/png": "[encoded data removed]"
          },
          "metadata": {
            "needs_background": "light"
          }
        }
      ]
    },
    {
      "cell_type": "code",
      "source": [
        "#CALCULATE MODEL1 METRICS\n",
        "mae1=mae(y_test,y_pred1.squeeze()).numpy()\n",
        "mse1=mse(y_test,y_pred1.squeeze()).numpy()\n",
        "mae1,mse1"
      ],
      "metadata": {
        "colab": {
          "base_uri": "https://localhost:8080/"
        },
        "id": "4bQChFH2r9hK",
        "outputId": "bf4107a1-bc22-4826-a6dd-c82f36a11cb9"
      },
      "execution_count": 71,
      "outputs": [
        {
          "output_type": "execute_result",
          "data": {
            "text/plain": [
              "(0.14405255, 0.032482073)"
            ]
          },
          "metadata": {},
          "execution_count": 71
        }
      ]
    },
    {
      "cell_type": "code",
      "source": [
        "#MODEL 2\n",
        "tf.random.set_seed(42)\n",
        "model2=tf.keras.Sequential([tf.keras.layers.Dense(10),tf.keras.layers.Dense(1)]) \n",
        "#COMPILE THE MODEL\n",
        "model2.compile(loss=tf.keras.losses.mae,\n",
        "               optimizer=tf.keras.optimizers.SGD(),\n",
        "               metrics=['mae'])\n",
        "#FITTING\n",
        "model2.fit(X_train,y_train,epochs=200,verbose=0)"
      ],
      "metadata": {
        "colab": {
          "base_uri": "https://localhost:8080/"
        },
        "id": "ZCUUJiKKiTuI",
        "outputId": "a59882a5-f9dc-4d2a-f497-0253982f9344"
      },
      "execution_count": 69,
      "outputs": [
        {
          "output_type": "execute_result",
          "data": {
            "text/plain": [
              "<keras.callbacks.History at 0x7f40279c1150>"
            ]
          },
          "metadata": {},
          "execution_count": 69
        }
      ]
    },
    {
      "cell_type": "code",
      "source": [
        "#EVALUATE THE MODEL2\n",
        "model2.evaluate(X_test,y_test)"
      ],
      "metadata": {
        "colab": {
          "base_uri": "https://localhost:8080/"
        },
        "id": "OOD0peP9oBqH",
        "outputId": "c2e013ac-9db1-4bc9-94ad-d53ca8720a3f"
      },
      "execution_count": 72,
      "outputs": [
        {
          "output_type": "stream",
          "name": "stdout",
          "text": [
            "31/31 [==============================] - 0s 1ms/step - loss: 0.1442 - mae: 0.1442\n"
          ]
        },
        {
          "output_type": "execute_result",
          "data": {
            "text/plain": [
              "[0.1441606879234314, 0.1441606879234314]"
            ]
          },
          "metadata": {},
          "execution_count": 72
        }
      ]
    },
    {
      "cell_type": "code",
      "source": [
        "#PREDICTIONS FOR THE MODEL1\n",
        "y_pred2=model2.predict(X_test)\n",
        "#PLOTTING PREDCITIONS FOR THE MODEL2\n",
        "plot_predictions(predictions=y_pred2)"
      ],
      "metadata": {
        "colab": {
          "base_uri": "https://localhost:8080/",
          "height": 265
        },
        "id": "oZiyNGarrstJ",
        "outputId": "526a6885-7759-4d0b-a00e-4a28cc79d143"
      },
      "execution_count": 73,
      "outputs": [
        {
          "output_type": "display_data",
          "data": {
            "text/plain": [
              "<Figure size 432x288 with 1 Axes>"
            ],
            "image/png": "[encoded data removed]"
          },
          "metadata": {
            "needs_background": "light"
          }
        }
      ]
    },
    {
      "cell_type": "code",
      "source": [
        "#CALCULATE MODEL2 METRICS\n",
        "mae2=mae(y_test,y_pred2.squeeze()).numpy()\n",
        "mse2=mse(y_test,y_pred2.squeeze()).numpy()\n",
        "mae2,mse2"
      ],
      "metadata": {
        "colab": {
          "base_uri": "https://localhost:8080/"
        },
        "id": "inW9MD73swEI",
        "outputId": "0da6e91a-e599-490c-b547-633a406899e1"
      },
      "execution_count": 74,
      "outputs": [
        {
          "output_type": "execute_result",
          "data": {
            "text/plain": [
              "(0.14416069, 0.03274443)"
            ]
          },
          "metadata": {},
          "execution_count": 74
        }
      ]
    },
    {
      "cell_type": "code",
      "source": [
        "#MODEL 3\n",
        "tf.random.set_seed(42)\n",
        "model3=tf.keras.Sequential([tf.keras.layers.Dense(100),\n",
        "                                      tf.keras.layers.Dense(100),\n",
        "                                      tf.keras.layers.Dense(10),\n",
        "                                      tf.keras.layers.Dense(1)])\n",
        "#COMPILE THE MODEL\n",
        "model3.compile(loss=tf.keras.losses.mae,\n",
        "               optimizer=tf.keras.optimizers.SGD(),\n",
        "               metrics=['mae'])\n",
        "#FIT THE MODEL\n",
        "model3.fit(X_train,y_train,epochs=200,verbose=0)"
      ],
      "metadata": {
        "colab": {
          "base_uri": "https://localhost:8080/"
        },
        "id": "b75y_838iTws",
        "outputId": "9e928625-d35e-49a5-d6af-c2c0cc0b3795"
      },
      "execution_count": 79,
      "outputs": [
        {
          "output_type": "execute_result",
          "data": {
            "text/plain": [
              "<keras.callbacks.History at 0x7f4027694bd0>"
            ]
          },
          "metadata": {},
          "execution_count": 79
        }
      ]
    },
    {
      "cell_type": "code",
      "source": [
        "#EVALUATE THE MODEL3\n",
        "model3.evaluate(X_test,y_test)"
      ],
      "metadata": {
        "colab": {
          "base_uri": "https://localhost:8080/"
        },
        "id": "SAVl3-bBiTyv",
        "outputId": "c3c4ffae-5136-4f40-824a-17f42fe66824"
      },
      "execution_count": 80,
      "outputs": [
        {
          "output_type": "stream",
          "name": "stdout",
          "text": [
            "31/31 [==============================] - 0s 915us/step - loss: 0.1441 - mae: 0.1441\n"
          ]
        },
        {
          "output_type": "execute_result",
          "data": {
            "text/plain": [
              "[0.14409086108207703, 0.14409086108207703]"
            ]
          },
          "metadata": {},
          "execution_count": 80
        }
      ]
    },
    {
      "cell_type": "code",
      "source": [
        "#MAKE AND PLOT PREDICTIONS FOR MODEL3\n",
        "y_pred3=model3.predict(X_test)\n",
        "plot_predictions(predictions=y_pred3)"
      ],
      "metadata": {
        "colab": {
          "base_uri": "https://localhost:8080/",
          "height": 265
        },
        "id": "MgOd8NMgiT06",
        "outputId": "b421a060-b8d7-418a-e513-fda7f4704863"
      },
      "execution_count": 81,
      "outputs": [
        {
          "output_type": "display_data",
          "data": {
            "text/plain": [
              "<Figure size 432x288 with 1 Axes>"
            ],
            "image/png": "[encoded data removed]"
          },
          "metadata": {
            "needs_background": "light"
          }
        }
      ]
    },
    {
      "cell_type": "code",
      "source": [
        "#CALCULATE MODEL3 METRICS\n",
        "mae3=mae(y_test,y_pred3.squeeze()).numpy()\n",
        "mse3=mse(y_test,y_pred3.squeeze()).numpy()\n",
        "mae3,mse3"
      ],
      "metadata": {
        "colab": {
          "base_uri": "https://localhost:8080/"
        },
        "id": "XuDxWQxUiT3f",
        "outputId": "cf876fbb-4511-43e7-b55a-3e6c5ee126da"
      },
      "execution_count": 82,
      "outputs": [
        {
          "output_type": "execute_result",
          "data": {
            "text/plain": [
              "(0.14409083, 0.032642413)"
            ]
          },
          "metadata": {},
          "execution_count": 82
        }
      ]
    },
    {
      "cell_type": "code",
      "source": [
        "#COMPARING THE RESULTS\n",
        "model_results=[['model1',mae1,mse1],['model2',mae2,mse2],['model3',mae3,mse3]]"
      ],
      "metadata": {
        "id": "WclurpyZu3Tq"
      },
      "execution_count": 83,
      "outputs": []
    },
    {
      "cell_type": "code",
      "source": [
        "#FOR DIFFERENT HIDDEN LAYERS -MSE,MAE\n",
        "all_results=pd.DataFrame(model_results,columns=['Model','MAE','MSE'])\n",
        "all_results"
      ],
      "metadata": {
        "colab": {
          "base_uri": "https://localhost:8080/",
          "height": 143
        },
        "id": "WQl_I8fet1Jj",
        "outputId": "53acad35-eb14-4641-8280-73e0daecd7fe"
      },
      "execution_count": 84,
      "outputs": [
        {
          "output_type": "execute_result",
          "data": {
            "text/plain": [
              "    Model       MAE       MSE\n",
              "0  model1  0.144053  0.032482\n",
              "1  model2  0.144161  0.032744\n",
              "2  model3  0.144091  0.032642"
            ],
            "text/html": [
              "\n",
              "  <div id=\"df-c9e91da0-0cdd-456d-8b6d-43f820745a6f\">\n",
              "    <div class=\"colab-df-container\">\n",
              "      <div>\n",
              "<style scoped>\n",
              "    .dataframe tbody tr th:only-of-type {\n",
              "        vertical-align: middle;\n",
              "    }\n",
              "\n",
              "    .dataframe tbody tr th {\n",
              "        vertical-align: top;\n",
              "    }\n",
              "\n",
              "    .dataframe thead th {\n",
              "        text-align: right;\n",
              "    }\n",
              "</style>\n",
              "<table border=\"1\" class=\"dataframe\">\n",
              "  <thead>\n",
              "    <tr style=\"text-align: right;\">\n",
              "      <th></th>\n",
              "      <th>Model</th>\n",
              "      <th>MAE</th>\n",
              "      <th>MSE</th>\n",
              "    </tr>\n",
              "  </thead>\n",
              "  <tbody>\n",
              "    <tr>\n",
              "      <th>0</th>\n",
              "      <td>model1</td>\n",
              "      <td>0.144053</td>\n",
              "      <td>0.032482</td>\n",
              "    </tr>\n",
              "    <tr>\n",
              "      <th>1</th>\n",
              "      <td>model2</td>\n",
              "      <td>0.144161</td>\n",
              "      <td>0.032744</td>\n",
              "    </tr>\n",
              "    <tr>\n",
              "      <th>2</th>\n",
              "      <td>model3</td>\n",
              "      <td>0.144091</td>\n",
              "      <td>0.032642</td>\n",
              "    </tr>\n",
              "  </tbody>\n",
              "</table>\n",
              "</div>\n",
              "      <button class=\"colab-df-convert\" onclick=\"convertToInteractive('df-c9e91da0-0cdd-456d-8b6d-43f820745a6f')\"\n",
              "              title=\"Convert this dataframe to an interactive table.\"\n",
              "              style=\"display:none;\">\n",
              "        \n",
              "  <svg xmlns=\"http://www.w3.org/2000/svg\" height=\"24px\"viewBox=\"0 0 24 24\"\n",
              "       width=\"24px\">\n",
              "    <path d=\"M0 0h24v24H0V0z\" fill=\"none\"/>\n",
              "    <path d=\"M18.56 5.44l.94 2.06.94-2.06 2.06-.94-2.06-.94-.94-2.06-.94 2.06-2.06.94zm-11 1L8.5 8.5l.94-2.06 2.06-.94-2.06-.94L8.5 2.5l-.94 2.06-2.06.94zm10 10l.94 2.06.94-2.06 2.06-.94-2.06-.94-.94-2.06-.94 2.06-2.06.94z\"/><path d=\"M17.41 7.96l-1.37-1.37c-.4-.4-.92-.59-1.43-.59-.52 0-1.04.2-1.43.59L10.3 9.45l-7.72 7.72c-.78.78-.78 2.05 0 2.83L4 21.41c.39.39.9.59 1.41.59.51 0 1.02-.2 1.41-.59l7.78-7.78 2.81-2.81c.8-.78.8-2.07 0-2.86zM5.41 20L4 18.59l7.72-7.72 1.47 1.35L5.41 20z\"/>\n",
              "  </svg>\n",
              "      </button>\n",
              "      \n",
              "  <style>\n",
              "    .colab-df-container {\n",
              "      display:flex;\n",
              "      flex-wrap:wrap;\n",
              "      gap: 12px;\n",
              "    }\n",
              "\n",
              "    .colab-df-convert {\n",
              "      background-color: #E8F0FE;\n",
              "      border: none;\n",
              "      border-radius: 50%;\n",
              "      cursor: pointer;\n",
              "      display: none;\n",
              "      fill: #1967D2;\n",
              "      height: 32px;\n",
              "      padding: 0 0 0 0;\n",
              "      width: 32px;\n",
              "    }\n",
              "\n",
              "    .colab-df-convert:hover {\n",
              "      background-color: #E2EBFA;\n",
              "      box-shadow: 0px 1px 2px rgba(60, 64, 67, 0.3), 0px 1px 3px 1px rgba(60, 64, 67, 0.15);\n",
              "      fill: #174EA6;\n",
              "    }\n",
              "\n",
              "    [theme=dark] .colab-df-convert {\n",
              "      background-color: #3B4455;\n",
              "      fill: #D2E3FC;\n",
              "    }\n",
              "\n",
              "    [theme=dark] .colab-df-convert:hover {\n",
              "      background-color: #434B5C;\n",
              "      box-shadow: 0px 1px 3px 1px rgba(0, 0, 0, 0.15);\n",
              "      filter: drop-shadow(0px 1px 2px rgba(0, 0, 0, 0.3));\n",
              "      fill: #FFFFFF;\n",
              "    }\n",
              "  </style>\n",
              "\n",
              "      <script>\n",
              "        const buttonEl =\n",
              "          document.querySelector('#df-c9e91da0-0cdd-456d-8b6d-43f820745a6f button.colab-df-convert');\n",
              "        buttonEl.style.display =\n",
              "          google.colab.kernel.accessAllowed ? 'block' : 'none';\n",
              "\n",
              "        async function convertToInteractive(key) {\n",
              "          const element = document.querySelector('#df-c9e91da0-0cdd-456d-8b6d-43f820745a6f');\n",
              "          const dataTable =\n",
              "            await google.colab.kernel.invokeFunction('convertToInteractive',\n",
              "                                                     [key], {});\n",
              "          if (!dataTable) return;\n",
              "\n",
              "          const docLinkHtml = 'Like what you see? Visit the ' +\n",
              "            '<a target=\"_blank\" href=https://colab.research.google.com/notebooks/data_table.ipynb>data table notebook</a>'\n",
              "            + ' to learn more about interactive tables.';\n",
              "          element.innerHTML = '';\n",
              "          dataTable['output_type'] = 'display_data';\n",
              "          await google.colab.output.renderOutput(dataTable, element);\n",
              "          const docLink = document.createElement('div');\n",
              "          docLink.innerHTML = docLinkHtml;\n",
              "          element.appendChild(docLink);\n",
              "        }\n",
              "      </script>\n",
              "    </div>\n",
              "  </div>\n",
              "  "
            ]
          },
          "metadata": {},
          "execution_count": 84
        }
      ]
    },
    {
      "cell_type": "markdown",
      "source": [
        "Model 1 is best while comparing with other models"
      ],
      "metadata": {
        "id": "3IzQSIwZvECS"
      }
    },
    {
      "cell_type": "markdown",
      "source": [
        "### TASK 3"
      ],
      "metadata": {
        "id": "MZivPObAvPx_"
      }
    },
    {
      "cell_type": "code",
      "source": [
        "#MODEL 1-MAE\n",
        "tf.random.set_seed(42)\n",
        "model11=tf.keras.Sequential([tf.keras.layers.Dense(1)]) \n",
        "#COMPILE THE MODEL\n",
        "model11.compile(loss=tf.keras.losses.mae,\n",
        "               optimizer=tf.keras.optimizers.SGD(),\n",
        "               metrics=['mae'])\n",
        "#FITTING\n",
        "history1=model11.fit(X_train,y_train,epochs=200,verbose=0)"
      ],
      "metadata": {
        "id": "Vf-3KO_mvRRK"
      },
      "execution_count": 89,
      "outputs": []
    },
    {
      "cell_type": "code",
      "source": [
        "#CHECKING THE RESULTS OF MODEL1\n",
        "model11.evaluate(X_test,y_test)"
      ],
      "metadata": {
        "colab": {
          "base_uri": "https://localhost:8080/"
        },
        "id": "UV9--LQHwygH",
        "outputId": "478ff83e-c26e-4707-a7dd-64e25a7f873c"
      },
      "execution_count": 90,
      "outputs": [
        {
          "output_type": "stream",
          "name": "stdout",
          "text": [
            "31/31 [==============================] - 0s 879us/step - loss: 0.1441 - mae: 0.1441\n"
          ]
        },
        {
          "output_type": "execute_result",
          "data": {
            "text/plain": [
              "[0.14405255019664764, 0.14405255019664764]"
            ]
          },
          "metadata": {},
          "execution_count": 90
        }
      ]
    },
    {
      "cell_type": "code",
      "source": [
        "#PLOT THE HISTORY1\n",
        "pd.DataFrame(history1.history).plot()\n",
        "plt.ylabel('loss')\n",
        "plt.xlabel('epochs')"
      ],
      "metadata": {
        "colab": {
          "base_uri": "https://localhost:8080/",
          "height": 296
        },
        "id": "TrzrC0Pgw6AR",
        "outputId": "4bf16ba2-e8f1-464c-dceb-eb7195dc4535"
      },
      "execution_count": 91,
      "outputs": [
        {
          "output_type": "execute_result",
          "data": {
            "text/plain": [
              "Text(0.5, 0, 'epochs')"
            ]
          },
          "metadata": {},
          "execution_count": 91
        },
        {
          "output_type": "display_data",
          "data": {
            "text/plain": [
              "<Figure size 432x288 with 1 Axes>"
            ],
            "image/png": "[encoded data removed]"
          },
          "metadata": {
            "needs_background": "light"
          }
        }
      ]
    },
    {
      "cell_type": "code",
      "source": [
        "#MODEL 1-MSE\n",
        "tf.random.set_seed(42)\n",
        "model12=tf.keras.Sequential([tf.keras.layers.Dense(1)]) \n",
        "#COMPILE THE MODEL\n",
        "model12.compile(loss=tf.keras.losses.mse,\n",
        "               optimizer=tf.keras.optimizers.SGD(),\n",
        "               metrics=['mse'])\n",
        "#FITTING\n",
        "history2=model12.fit(X_train,y_train,epochs=200,verbose=0)"
      ],
      "metadata": {
        "id": "_yftQ3cbwl8h"
      },
      "execution_count": 92,
      "outputs": []
    },
    {
      "cell_type": "code",
      "source": [
        "#CHECKING THE RESULTS OF MODEL1\n",
        "model12.evaluate(X_test,y_test)"
      ],
      "metadata": {
        "colab": {
          "base_uri": "https://localhost:8080/"
        },
        "id": "hhO68k1ewl_4",
        "outputId": "780f2c0a-827a-457b-8e7f-10ab15e7ccae"
      },
      "execution_count": 93,
      "outputs": [
        {
          "output_type": "stream",
          "name": "stdout",
          "text": [
            "31/31 [==============================] - 0s 1ms/step - loss: 0.0320 - mse: 0.0320\n"
          ]
        },
        {
          "output_type": "execute_result",
          "data": {
            "text/plain": [
              "[0.03196331113576889, 0.03196331113576889]"
            ]
          },
          "metadata": {},
          "execution_count": 93
        }
      ]
    },
    {
      "cell_type": "code",
      "source": [
        "#PLOT THE HISTORY2\n",
        "pd.DataFrame(history2.history).plot()\n",
        "plt.ylabel('loss')\n",
        "plt.xlabel('epochs')"
      ],
      "metadata": {
        "colab": {
          "base_uri": "https://localhost:8080/",
          "height": 297
        },
        "id": "iM39T-c2xekU",
        "outputId": "8d961050-5dde-48aa-9aa1-898c753ccb8e"
      },
      "execution_count": 94,
      "outputs": [
        {
          "output_type": "execute_result",
          "data": {
            "text/plain": [
              "Text(0.5, 0, 'epochs')"
            ]
          },
          "metadata": {},
          "execution_count": 94
        },
        {
          "output_type": "display_data",
          "data": {
            "text/plain": [
              "<Figure size 432x288 with 1 Axes>"
            ],
            "image/png": "[encoded data removed]"
          },
          "metadata": {
            "needs_background": "light"
          }
        }
      ]
    },
    {
      "cell_type": "code",
      "source": [
        "#MODEL 1-MSLE\n",
        "tf.random.set_seed(42)\n",
        "model13=tf.keras.Sequential([tf.keras.layers.Dense(1)]) \n",
        "#COMPILE THE MODEL\n",
        "model13.compile(loss=tf.keras.losses.msle,\n",
        "               optimizer=tf.keras.optimizers.SGD(),\n",
        "               metrics=['msle'])\n",
        "#FITTING\n",
        "history3=model13.fit(X_train,y_train,epochs=200,verbose=0)"
      ],
      "metadata": {
        "id": "rwOPdP7kxel4"
      },
      "execution_count": 95,
      "outputs": []
    },
    {
      "cell_type": "code",
      "source": [
        "#CHECKING THE RESULTS OF MODEL1\n",
        "model13.evaluate(X_test,y_test)"
      ],
      "metadata": {
        "colab": {
          "base_uri": "https://localhost:8080/"
        },
        "id": "b4ZrLlVZxepY",
        "outputId": "e581e877-3537-459c-f9eb-2473309bbafe"
      },
      "execution_count": 96,
      "outputs": [
        {
          "output_type": "stream",
          "name": "stdout",
          "text": [
            "31/31 [==============================] - 0s 997us/step - loss: 0.0157 - msle: 0.0157\n"
          ]
        },
        {
          "output_type": "execute_result",
          "data": {
            "text/plain": [
              "[0.015696074813604355, 0.015696074813604355]"
            ]
          },
          "metadata": {},
          "execution_count": 96
        }
      ]
    },
    {
      "cell_type": "code",
      "source": [
        "#PLOT THE HISTORY3\n",
        "pd.DataFrame(history3.history).plot()\n",
        "plt.ylabel('loss')\n",
        "plt.xlabel('epochs')"
      ],
      "metadata": {
        "colab": {
          "base_uri": "https://localhost:8080/",
          "height": 296
        },
        "id": "Sa8oaGLxxtHI",
        "outputId": "bf3a6b3c-b4f0-4a3c-f193-ab56e1700ff6"
      },
      "execution_count": 97,
      "outputs": [
        {
          "output_type": "execute_result",
          "data": {
            "text/plain": [
              "Text(0.5, 0, 'epochs')"
            ]
          },
          "metadata": {},
          "execution_count": 97
        },
        {
          "output_type": "display_data",
          "data": {
            "text/plain": [
              "<Figure size 432x288 with 1 Axes>"
            ],
            "image/png": "[encoded data removed]"
          },
          "metadata": {
            "needs_background": "light"
          }
        }
      ]
    },
    {
      "cell_type": "markdown",
      "source": [
        "MSLE value is better while comparing with other metrices"
      ],
      "metadata": {
        "id": "ezJXbFh1xyqN"
      }
    }
  ]
}
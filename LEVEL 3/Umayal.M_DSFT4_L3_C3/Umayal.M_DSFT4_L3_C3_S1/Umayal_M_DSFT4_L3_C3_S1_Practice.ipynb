{
  "nbformat": 4,
  "nbformat_minor": 0,
  "metadata": {
    "colab": {
      "name": "Umayal.M_DSFT4_L3_C3_S1_Practice.ipynb",
      "provenance": [],
      "collapsed_sections": []
    },
    "kernelspec": {
      "name": "python3",
      "display_name": "Python 3"
    },
    "language_info": {
      "name": "python"
    },
    "accelerator": "GPU"
  },
  "cells": [
    {
      "cell_type": "markdown",
      "source": [
        "#INTRODUCTION TO TEXT ANALYSIS"
      ],
      "metadata": {
        "id": "DxmGSUF11zBS"
      }
    },
    {
      "cell_type": "code",
      "execution_count": null,
      "metadata": {
        "colab": {
          "base_uri": "https://localhost:8080/"
        },
        "id": "QEu2m8SO0yDw",
        "outputId": "178b5c60-3357-436d-c3dc-0265b6deb05b"
      },
      "outputs": [
        {
          "output_type": "stream",
          "name": "stdout",
          "text": [
            "Collecting easyocr\n",
            "  Downloading easyocr-1.4.2-py3-none-any.whl (70.8 MB)\n",
            "\u001b[K     |████████████████████████████████| 70.8 MB 13 kB/s \n",
            "\u001b[?25hRequirement already satisfied: Pillow in /usr/local/lib/python3.7/dist-packages (from easyocr) (7.1.2)\n",
            "Collecting python-bidi\n",
            "  Downloading python_bidi-0.4.2-py2.py3-none-any.whl (30 kB)\n",
            "Requirement already satisfied: scipy in /usr/local/lib/python3.7/dist-packages (from easyocr) (1.4.1)\n",
            "Requirement already satisfied: torch in /usr/local/lib/python3.7/dist-packages (from easyocr) (1.11.0+cu113)\n",
            "Collecting opencv-python-headless<=4.5.4.60\n",
            "  Downloading opencv_python_headless-4.5.4.60-cp37-cp37m-manylinux_2_17_x86_64.manylinux2014_x86_64.whl (47.6 MB)\n",
            "\u001b[K     |████████████████████████████████| 47.6 MB 1.3 MB/s \n",
            "\u001b[?25hRequirement already satisfied: scikit-image in /usr/local/lib/python3.7/dist-packages (from easyocr) (0.18.3)\n",
            "Requirement already satisfied: torchvision>=0.5 in /usr/local/lib/python3.7/dist-packages (from easyocr) (0.12.0+cu113)\n",
            "Requirement already satisfied: numpy in /usr/local/lib/python3.7/dist-packages (from easyocr) (1.21.6)\n",
            "Requirement already satisfied: PyYAML in /usr/local/lib/python3.7/dist-packages (from easyocr) (3.13)\n",
            "Requirement already satisfied: typing-extensions in /usr/local/lib/python3.7/dist-packages (from torchvision>=0.5->easyocr) (4.2.0)\n",
            "Requirement already satisfied: requests in /usr/local/lib/python3.7/dist-packages (from torchvision>=0.5->easyocr) (2.23.0)\n",
            "Requirement already satisfied: six in /usr/local/lib/python3.7/dist-packages (from python-bidi->easyocr) (1.15.0)\n",
            "Requirement already satisfied: idna<3,>=2.5 in /usr/local/lib/python3.7/dist-packages (from requests->torchvision>=0.5->easyocr) (2.10)\n",
            "Requirement already satisfied: chardet<4,>=3.0.2 in /usr/local/lib/python3.7/dist-packages (from requests->torchvision>=0.5->easyocr) (3.0.4)\n",
            "Requirement already satisfied: certifi>=2017.4.17 in /usr/local/lib/python3.7/dist-packages (from requests->torchvision>=0.5->easyocr) (2021.10.8)\n",
            "Requirement already satisfied: urllib3!=1.25.0,!=1.25.1,<1.26,>=1.21.1 in /usr/local/lib/python3.7/dist-packages (from requests->torchvision>=0.5->easyocr) (1.24.3)\n",
            "Requirement already satisfied: tifffile>=2019.7.26 in /usr/local/lib/python3.7/dist-packages (from scikit-image->easyocr) (2021.11.2)\n",
            "Requirement already satisfied: PyWavelets>=1.1.1 in /usr/local/lib/python3.7/dist-packages (from scikit-image->easyocr) (1.3.0)\n",
            "Requirement already satisfied: matplotlib!=3.0.0,>=2.0.0 in /usr/local/lib/python3.7/dist-packages (from scikit-image->easyocr) (3.2.2)\n",
            "Requirement already satisfied: networkx>=2.0 in /usr/local/lib/python3.7/dist-packages (from scikit-image->easyocr) (2.6.3)\n",
            "Requirement already satisfied: imageio>=2.3.0 in /usr/local/lib/python3.7/dist-packages (from scikit-image->easyocr) (2.4.1)\n",
            "Requirement already satisfied: python-dateutil>=2.1 in /usr/local/lib/python3.7/dist-packages (from matplotlib!=3.0.0,>=2.0.0->scikit-image->easyocr) (2.8.2)\n",
            "Requirement already satisfied: kiwisolver>=1.0.1 in /usr/local/lib/python3.7/dist-packages (from matplotlib!=3.0.0,>=2.0.0->scikit-image->easyocr) (1.4.2)\n",
            "Requirement already satisfied: cycler>=0.10 in /usr/local/lib/python3.7/dist-packages (from matplotlib!=3.0.0,>=2.0.0->scikit-image->easyocr) (0.11.0)\n",
            "Requirement already satisfied: pyparsing!=2.0.4,!=2.1.2,!=2.1.6,>=2.0.1 in /usr/local/lib/python3.7/dist-packages (from matplotlib!=3.0.0,>=2.0.0->scikit-image->easyocr) (3.0.8)\n",
            "Installing collected packages: python-bidi, opencv-python-headless, easyocr\n",
            "Successfully installed easyocr-1.4.2 opencv-python-headless-4.5.4.60 python-bidi-0.4.2\n",
            "Requirement already satisfied: bs4 in /usr/local/lib/python3.7/dist-packages (0.0.1)\n",
            "Requirement already satisfied: beautifulsoup4 in /usr/local/lib/python3.7/dist-packages (from bs4) (4.6.3)\n",
            "Collecting Pattern\n",
            "  Downloading Pattern-3.6.0.tar.gz (22.2 MB)\n",
            "\u001b[K     |████████████████████████████████| 22.2 MB 101.8 MB/s \n",
            "\u001b[?25hRequirement already satisfied: future in /usr/local/lib/python3.7/dist-packages (from Pattern) (0.16.0)\n",
            "Collecting backports.csv\n",
            "  Downloading backports.csv-1.0.7-py2.py3-none-any.whl (12 kB)\n",
            "Collecting mysqlclient\n",
            "  Downloading mysqlclient-2.1.0.tar.gz (87 kB)\n",
            "\u001b[K     |████████████████████████████████| 87 kB 8.5 MB/s \n",
            "\u001b[?25hRequirement already satisfied: beautifulsoup4 in /usr/local/lib/python3.7/dist-packages (from Pattern) (4.6.3)\n",
            "Requirement already satisfied: lxml in /usr/local/lib/python3.7/dist-packages (from Pattern) (4.2.6)\n",
            "Collecting feedparser\n",
            "  Downloading feedparser-6.0.8-py3-none-any.whl (81 kB)\n",
            "\u001b[K     |████████████████████████████████| 81 kB 12.3 MB/s \n",
            "\u001b[?25hCollecting pdfminer.six\n",
            "  Downloading pdfminer.six-20220506-py3-none-any.whl (5.6 MB)\n",
            "\u001b[K     |████████████████████████████████| 5.6 MB 63.8 MB/s \n",
            "\u001b[?25hRequirement already satisfied: numpy in /usr/local/lib/python3.7/dist-packages (from Pattern) (1.21.6)\n",
            "Requirement already satisfied: scipy in /usr/local/lib/python3.7/dist-packages (from Pattern) (1.4.1)\n",
            "Requirement already satisfied: nltk in /usr/local/lib/python3.7/dist-packages (from Pattern) (3.2.5)\n",
            "Collecting python-docx\n",
            "  Downloading python-docx-0.8.11.tar.gz (5.6 MB)\n",
            "\u001b[K     |████████████████████████████████| 5.6 MB 60.0 MB/s \n",
            "\u001b[?25hCollecting cherrypy\n",
            "  Downloading CherryPy-18.6.1-py2.py3-none-any.whl (419 kB)\n",
            "\u001b[K     |████████████████████████████████| 419 kB 66.8 MB/s \n",
            "\u001b[?25hRequirement already satisfied: requests in /usr/local/lib/python3.7/dist-packages (from Pattern) (2.23.0)\n",
            "Collecting portend>=2.1.1\n",
            "  Downloading portend-3.1.0-py3-none-any.whl (5.3 kB)\n",
            "Collecting zc.lockfile\n",
            "  Downloading zc.lockfile-2.0-py2.py3-none-any.whl (9.7 kB)\n",
            "Requirement already satisfied: more-itertools in /usr/local/lib/python3.7/dist-packages (from cherrypy->Pattern) (8.12.0)\n",
            "Collecting cheroot>=8.2.1\n",
            "  Downloading cheroot-8.6.0-py2.py3-none-any.whl (104 kB)\n",
            "\u001b[K     |████████████████████████████████| 104 kB 67.2 MB/s \n",
            "\u001b[?25hCollecting jaraco.collections\n",
            "  Downloading jaraco.collections-3.5.1-py3-none-any.whl (10 kB)\n",
            "Collecting jaraco.functools\n",
            "  Downloading jaraco.functools-3.5.0-py3-none-any.whl (7.0 kB)\n",
            "Requirement already satisfied: six>=1.11.0 in /usr/local/lib/python3.7/dist-packages (from cheroot>=8.2.1->cherrypy->Pattern) (1.15.0)\n",
            "Collecting tempora>=1.8\n",
            "  Downloading tempora-5.0.1-py3-none-any.whl (15 kB)\n",
            "Requirement already satisfied: pytz in /usr/local/lib/python3.7/dist-packages (from tempora>=1.8->portend>=2.1.1->cherrypy->Pattern) (2022.1)\n",
            "Collecting sgmllib3k\n",
            "  Downloading sgmllib3k-1.0.0.tar.gz (5.8 kB)\n",
            "Collecting jaraco.classes\n",
            "  Downloading jaraco.classes-3.2.1-py3-none-any.whl (5.6 kB)\n",
            "Collecting jaraco.text\n",
            "  Downloading jaraco.text-3.7.0-py3-none-any.whl (8.6 kB)\n",
            "Collecting jaraco.context>=4.1\n",
            "  Downloading jaraco.context-4.1.1-py3-none-any.whl (4.4 kB)\n",
            "Requirement already satisfied: importlib-resources in /usr/local/lib/python3.7/dist-packages (from jaraco.text->jaraco.collections->cherrypy->Pattern) (5.7.1)\n",
            "Requirement already satisfied: zipp>=3.1.0 in /usr/local/lib/python3.7/dist-packages (from importlib-resources->jaraco.text->jaraco.collections->cherrypy->Pattern) (3.8.0)\n",
            "Collecting cryptography~=36.0.0\n",
            "  Downloading cryptography-36.0.2-cp36-abi3-manylinux_2_24_x86_64.whl (3.6 MB)\n",
            "\u001b[K     |████████████████████████████████| 3.6 MB 49.1 MB/s \n",
            "\u001b[?25hRequirement already satisfied: charset-normalizer~=2.0.0 in /usr/local/lib/python3.7/dist-packages (from pdfminer.six->Pattern) (2.0.12)\n",
            "Requirement already satisfied: cffi>=1.12 in /usr/local/lib/python3.7/dist-packages (from cryptography~=36.0.0->pdfminer.six->Pattern) (1.15.0)\n",
            "Requirement already satisfied: pycparser in /usr/local/lib/python3.7/dist-packages (from cffi>=1.12->cryptography~=36.0.0->pdfminer.six->Pattern) (2.21)\n",
            "Requirement already satisfied: certifi>=2017.4.17 in /usr/local/lib/python3.7/dist-packages (from requests->Pattern) (2021.10.8)\n",
            "Requirement already satisfied: idna<3,>=2.5 in /usr/local/lib/python3.7/dist-packages (from requests->Pattern) (2.10)\n",
            "Requirement already satisfied: chardet<4,>=3.0.2 in /usr/local/lib/python3.7/dist-packages (from requests->Pattern) (3.0.4)\n",
            "Requirement already satisfied: urllib3!=1.25.0,!=1.25.1,<1.26,>=1.21.1 in /usr/local/lib/python3.7/dist-packages (from requests->Pattern) (1.24.3)\n",
            "Requirement already satisfied: setuptools in /usr/local/lib/python3.7/dist-packages (from zc.lockfile->cherrypy->Pattern) (57.4.0)\n",
            "Building wheels for collected packages: Pattern, mysqlclient, python-docx, sgmllib3k\n",
            "  Building wheel for Pattern (setup.py) ... \u001b[?25l\u001b[?25hdone\n",
            "  Created wheel for Pattern: filename=Pattern-3.6-py3-none-any.whl size=22332721 sha256=a0c820be502fc433f82aa2d25471b3990916b4e19f4a6d2e5fb57beeec7e878d\n",
            "  Stored in directory: /root/.cache/pip/wheels/8d/1f/4e/9b67afd2430d55dee90bd57618dd7d899f1323e5852c465682\n",
            "  Building wheel for mysqlclient (setup.py) ... \u001b[?25l\u001b[?25hdone\n",
            "  Created wheel for mysqlclient: filename=mysqlclient-2.1.0-cp37-cp37m-linux_x86_64.whl size=99959 sha256=33aa8f99dc2532ee95572dd9255fe0eef22f3576db75b7f1392d6a701a7a8c66\n",
            "  Stored in directory: /root/.cache/pip/wheels/97/d4/df/08cd6e1fa4a8691b268ab254bd0fa589827ab5b65638c010b4\n",
            "  Building wheel for python-docx (setup.py) ... \u001b[?25l\u001b[?25hdone\n",
            "  Created wheel for python-docx: filename=python_docx-0.8.11-py3-none-any.whl size=184507 sha256=8b19b20d8e040a84118c0d2dbd5a770aeb70cfda91be12f025f722ac18c5cb30\n",
            "  Stored in directory: /root/.cache/pip/wheels/f6/6f/b9/d798122a8b55b74ad30b5f52b01482169b445fbb84a11797a6\n",
            "  Building wheel for sgmllib3k (setup.py) ... \u001b[?25l\u001b[?25hdone\n",
            "  Created wheel for sgmllib3k: filename=sgmllib3k-1.0.0-py3-none-any.whl size=6066 sha256=d61871489cba4ffae4726e2262fb3362bda8ebf8ba7599b86bbdafb86eb257cd\n",
            "  Stored in directory: /root/.cache/pip/wheels/73/ad/a4/0dff4a6ef231fc0dfa12ffbac2a36cebfdddfe059f50e019aa\n",
            "Successfully built Pattern mysqlclient python-docx sgmllib3k\n",
            "Installing collected packages: jaraco.functools, jaraco.context, tempora, jaraco.text, jaraco.classes, zc.lockfile, sgmllib3k, portend, jaraco.collections, cryptography, cheroot, python-docx, pdfminer.six, mysqlclient, feedparser, cherrypy, backports.csv, Pattern\n",
            "Successfully installed Pattern-3.6 backports.csv-1.0.7 cheroot-8.6.0 cherrypy-18.6.1 cryptography-36.0.2 feedparser-6.0.8 jaraco.classes-3.2.1 jaraco.collections-3.5.1 jaraco.context-4.1.1 jaraco.functools-3.5.0 jaraco.text-3.7.0 mysqlclient-2.1.0 pdfminer.six-20220506 portend-3.1.0 python-docx-0.8.11 sgmllib3k-1.0.0 tempora-5.0.1 zc.lockfile-2.0\n",
            "Requirement already satisfied: torch in /usr/local/lib/python3.7/dist-packages (1.11.0+cu113)\n",
            "Requirement already satisfied: torchvision in /usr/local/lib/python3.7/dist-packages (0.12.0+cu113)\n",
            "Requirement already satisfied: torchaudio in /usr/local/lib/python3.7/dist-packages (0.11.0+cu113)\n",
            "Requirement already satisfied: typing-extensions in /usr/local/lib/python3.7/dist-packages (from torch) (4.2.0)\n",
            "Requirement already satisfied: numpy in /usr/local/lib/python3.7/dist-packages (from torchvision) (1.21.6)\n",
            "Requirement already satisfied: requests in /usr/local/lib/python3.7/dist-packages (from torchvision) (2.23.0)\n",
            "Requirement already satisfied: pillow!=8.3.*,>=5.3.0 in /usr/local/lib/python3.7/dist-packages (from torchvision) (7.1.2)\n",
            "Requirement already satisfied: urllib3!=1.25.0,!=1.25.1,<1.26,>=1.21.1 in /usr/local/lib/python3.7/dist-packages (from requests->torchvision) (1.24.3)\n",
            "Requirement already satisfied: certifi>=2017.4.17 in /usr/local/lib/python3.7/dist-packages (from requests->torchvision) (2021.10.8)\n",
            "Requirement already satisfied: chardet<4,>=3.0.2 in /usr/local/lib/python3.7/dist-packages (from requests->torchvision) (3.0.4)\n",
            "Requirement already satisfied: idna<3,>=2.5 in /usr/local/lib/python3.7/dist-packages (from requests->torchvision) (2.10)\n"
          ]
        }
      ],
      "source": [
        "#INSTALLING REQUIRED LIBRARIES\n",
        "!pip install easyocr       \n",
        "!pip install bs4\n",
        "!pip install Pattern\n",
        "!pip3 install torch torchvision torchaudio"
      ]
    },
    {
      "cell_type": "code",
      "source": [
        "#IMPORTING LIBRARIES\n",
        "import json\n",
        "\n",
        "import easyocr\n",
        "\n",
        "from pattern.web import Crawler, DEPTH\n",
        "\n",
        "import requests\n",
        "from bs4 import BeautifulSoup"
      ],
      "metadata": {
        "id": "FOWrBEjo2Npx"
      },
      "execution_count": null,
      "outputs": []
    },
    {
      "cell_type": "markdown",
      "source": [
        "### TASK 1\n",
        "**OCR with EasyOCR**"
      ],
      "metadata": {
        "id": "pGZOzYlY2F7w"
      }
    },
    {
      "cell_type": "code",
      "source": [
        "#INTIALISING READER FOR ENGLISH LANGUAGE\n",
        "reader=easyocr.Reader(['en'])"
      ],
      "metadata": {
        "colab": {
          "base_uri": "https://localhost:8080/"
        },
        "id": "ok4dAdZ22JCN",
        "outputId": "dc00b2e2-900f-4869-d0a3-cfa20f2a18b3"
      },
      "execution_count": null,
      "outputs": [
        {
          "output_type": "stream",
          "name": "stderr",
          "text": [
            "Downloading detection model, please wait. This may take several minutes depending upon your network connection.\n"
          ]
        },
        {
          "output_type": "stream",
          "name": "stdout",
          "text": [
            "Progress: |██████████████████████████████████████████████████| 100.0% Complete"
          ]
        },
        {
          "output_type": "stream",
          "name": "stderr",
          "text": [
            "Downloading recognition model, please wait. This may take several minutes depending upon your network connection.\n"
          ]
        },
        {
          "output_type": "stream",
          "name": "stdout",
          "text": [
            "Progress: |██████████████████████████████████████████████████| 100.0% Complete"
          ]
        }
      ]
    },
    {
      "cell_type": "code",
      "source": [
        "#READING FROM IMAGE USING OCR AND EXTRACTING IT AS STRING\n",
        "result=reader.readtext('physics.png',detail=0)\n",
        "result"
      ],
      "metadata": {
        "colab": {
          "base_uri": "https://localhost:8080/"
        },
        "id": "ULnCA-Ut2trj",
        "outputId": "9aafd883-5185-49ea-d32f-d6c3879fca9c"
      },
      "execution_count": null,
      "outputs": [
        {
          "output_type": "execute_result",
          "data": {
            "text/plain": [
              "['Physics is the natural science that studies matter,[al its fundamental constituents, its motion and behavior through space and time, and the related entities of energy and force [2]',\n",
              " 'Physics is one of the most fundamental scientific disciplines, and its main goal is to understand how the universe behaves [b][3I[4][5]',\n",
              " 'Physics is one of the oldest academic disciplines and, through its inclusion of astronomy, perhaps the oldest [6] Over much of the past two millennia, physics, chemistry, biology, and',\n",
              " 'certain branches of mathematics were a part of natural philosophy, but during the Scientific Revolution in the 17th century these natural sciences emerged as unique research',\n",
              " 'endeavors in their own right Ic] Physics intersects with many interdisciplinary areas of research, such as biophysics and quantum chemistry, and the boundaries of physics are not rigidly',\n",
              " 'defined. New ideas in physics often explain the fundamental mechanisms studied by other sciences[3] and suggest new avenues of research in academic disciplines such as',\n",
              " 'mathematics and philosophy:',\n",
              " 'Advances in physics often enable advances in new technologies_',\n",
              " 'For example, advances in the understanding of electromagnetism, solid-state physics, and nuclear physics led directly',\n",
              " 'to the development of new products that have dramatically transformed modern-day society, such as television, computers, domestic appliances, and nuclear weapons;[3] advances in',\n",
              " 'thermodynamics led to the development of industrialization; and advances in mechanics inspired the development of calculus.']"
            ]
          },
          "metadata": {},
          "execution_count": 4
        }
      ]
    },
    {
      "cell_type": "code",
      "source": [
        "#JOINING TO GET A PARAGRAPH\n",
        "'.'.join(result)"
      ],
      "metadata": {
        "colab": {
          "base_uri": "https://localhost:8080/",
          "height": 123
        },
        "id": "Wyf1DMhK3Dr_",
        "outputId": "601c3f28-f0b2-4fa8-8ecd-858a9d7bf6ad"
      },
      "execution_count": null,
      "outputs": [
        {
          "output_type": "execute_result",
          "data": {
            "text/plain": [
              "'Physics is the natural science that studies matter,[al its fundamental constituents, its motion and behavior through space and time, and the related entities of energy and force [2].Physics is one of the most fundamental scientific disciplines, and its main goal is to understand how the universe behaves [b][3I[4][5].Physics is one of the oldest academic disciplines and, through its inclusion of astronomy, perhaps the oldest [6] Over much of the past two millennia, physics, chemistry, biology, and.certain branches of mathematics were a part of natural philosophy, but during the Scientific Revolution in the 17th century these natural sciences emerged as unique research.endeavors in their own right Ic] Physics intersects with many interdisciplinary areas of research, such as biophysics and quantum chemistry, and the boundaries of physics are not rigidly.defined. New ideas in physics often explain the fundamental mechanisms studied by other sciences[3] and suggest new avenues of research in academic disciplines such as.mathematics and philosophy:.Advances in physics often enable advances in new technologies_.For example, advances in the understanding of electromagnetism, solid-state physics, and nuclear physics led directly.to the development of new products that have dramatically transformed modern-day society, such as television, computers, domestic appliances, and nuclear weapons;[3] advances in.thermodynamics led to the development of industrialization; and advances in mechanics inspired the development of calculus.'"
            ],
            "application/vnd.google.colaboratory.intrinsic+json": {
              "type": "string"
            }
          },
          "metadata": {},
          "execution_count": 5
        }
      ]
    },
    {
      "cell_type": "markdown",
      "source": [
        "###TASK 2\n",
        "**Crawling With the Pattern Library**"
      ],
      "metadata": {
        "id": "GJJPIHG73pMJ"
      }
    },
    {
      "cell_type": "code",
      "source": [
        "#CRAWLING FIRST 10 WEBSITES STARTING FROM https://www.nature.com/ \n",
        "class Crawl(Crawler): \n",
        "    def visit(self, link, source=None):\n",
        "        st = \"VISITED: \" + str(link.url) + \" | FROM: \" + str(link.referrer)\n",
        "        print(st)\n",
        "    def fail(self, link):\n",
        "        print(\"failed:\", repr(link.url))\n",
        "        \n",
        "url0 = \"https://www.nature.com/\"\n",
        "p = Crawl(links=[url0], delay=0.2)\n",
        "num_visited = 0\n",
        "while (not p.done and num_visited < 10) :\n",
        "    p.crawl(\n",
        "        method=DEPTH, \n",
        "        cached=False, \n",
        "        throttle=1\n",
        "    )\n",
        "    num_visited += 1"
      ],
      "metadata": {
        "colab": {
          "base_uri": "https://localhost:8080/"
        },
        "id": "WZn6wTF62uZc",
        "outputId": "3b3996e0-9537-4d28-92fc-2bb7015a915b"
      },
      "execution_count": null,
      "outputs": [
        {
          "output_type": "stream",
          "name": "stdout",
          "text": [
            "VISITED: https://www.nature.com/ | FROM: \n",
            "VISITED: https://www.nature.com/#content | FROM: https://www.nature.com/\n",
            "VISITED: https://www.nature.com/siteindex | FROM: https://www.nature.com/\n",
            "VISITED: https://www.nature.com/#search-menu | FROM: https://www.nature.com/\n",
            "VISITED: https://www.nature.com/nams/svc/myaccount | FROM: https://www.nature.com/\n",
            "VISITED: https://www.nature.com/#explore | FROM: https://www.nature.com/\n",
            "VISITED: https://www.nature.com/#about-the-journal | FROM: https://www.nature.com/\n",
            "VISITED: https://www.nature.com/#publish-with-us | FROM: https://www.nature.com/\n",
            "VISITED: https://www.nature.com/nature/subscribe | FROM: https://www.nature.com/\n",
            "VISITED: https://www.nature.com/my-account/alerts/subscribe-journal?list-id=1 | FROM: https://www.nature.com/\n"
          ]
        }
      ]
    },
    {
      "cell_type": "code",
      "source": [
        "#AND PRINTING THE VISITED URL\n",
        "p.visited"
      ],
      "metadata": {
        "colab": {
          "base_uri": "https://localhost:8080/"
        },
        "id": "0nStRJJf4oV7",
        "outputId": "175942a9-ee13-41c2-abf6-91f0457977f9"
      },
      "execution_count": null,
      "outputs": [
        {
          "output_type": "execute_result",
          "data": {
            "text/plain": [
              "{'https://www.nature.com/': True,\n",
              " 'https://www.nature.com/#about-the-journal': True,\n",
              " 'https://www.nature.com/#content': True,\n",
              " 'https://www.nature.com/#explore': True,\n",
              " 'https://www.nature.com/#publish-with-us': True,\n",
              " 'https://www.nature.com/#search-menu': True,\n",
              " 'https://www.nature.com/my-account/alerts/subscribe-journal?list-id=1': True,\n",
              " 'https://www.nature.com/nams/svc/myaccount': True,\n",
              " 'https://www.nature.com/nature/subscribe': True,\n",
              " 'https://www.nature.com/siteindex': True}"
            ]
          },
          "metadata": {},
          "execution_count": 7
        }
      ]
    },
    {
      "cell_type": "markdown",
      "source": [
        "###TASK 3\n",
        "**Using BeautifulSoup4 to extract HTML Information**"
      ],
      "metadata": {
        "id": "K0If14SS4yg3"
      }
    },
    {
      "cell_type": "code",
      "source": [
        "#TO EXTRACT TEXT,TITLE,ALL LINKS FROM \"https://www.nature.com/\" WEBSITE\n",
        "url= \"https://www.nature.com/\"\n",
        "\n",
        "response = requests.get(url)\n",
        "\n",
        "soup = BeautifulSoup(response.text, \"lxml\")\n",
        "# soup"
      ],
      "metadata": {
        "id": "ZZ8KwmNk5GWR"
      },
      "execution_count": null,
      "outputs": []
    },
    {
      "cell_type": "code",
      "source": [
        "#EXTRACTING TITLE\n",
        "soup.title.text"
      ],
      "metadata": {
        "colab": {
          "base_uri": "https://localhost:8080/",
          "height": 36
        },
        "id": "nOhG8zFR5qPK",
        "outputId": "23a2ae3e-cfc9-4d14-87b3-a09f8020f4df"
      },
      "execution_count": null,
      "outputs": [
        {
          "output_type": "execute_result",
          "data": {
            "text/plain": [
              "'Nature'"
            ],
            "application/vnd.google.colaboratory.intrinsic+json": {
              "type": "string"
            }
          },
          "metadata": {},
          "execution_count": 9
        }
      ]
    },
    {
      "cell_type": "code",
      "source": [
        "A=soup.findAll('title')\n",
        "for i in A:\n",
        "  print(i.text)"
      ],
      "metadata": {
        "colab": {
          "base_uri": "https://localhost:8080/"
        },
        "id": "fGkgMeBg6cZv",
        "outputId": "df369c71-55d4-41c6-fe5a-3436dbb37278"
      },
      "execution_count": null,
      "outputs": [
        {
          "output_type": "stream",
          "name": "stdout",
          "text": [
            "Nature\n",
            "Close banner\n",
            "Close banner\n"
          ]
        }
      ]
    },
    {
      "cell_type": "code",
      "source": [
        "#EXTRACTING ALL LINKS\n",
        "import re\n",
        "for link in soup.find_all('a', \n",
        "                          attrs={'href': re.compile('^http')}):\n",
        "    # display the actual urls\n",
        "    print(link.get('href'))"
      ],
      "metadata": {
        "colab": {
          "base_uri": "https://localhost:8080/"
        },
        "id": "qcdCGp_c6cd0",
        "outputId": "0faf7c53-7029-4407-afb8-625dc0e415f6"
      },
      "execution_count": null,
      "outputs": [
        {
          "output_type": "stream",
          "name": "stdout",
          "text": [
            "https://www.nature.com/siteindex\n",
            "https://idp.nature.com/authorize/natureuser?client_id=grover&redirect_uri=https%3A%2F%2Fwww.nature.com%2Fnature\n",
            "https://www.nature.com/nature/subscribe\n",
            "https://www.nature.com/my-account/alerts/subscribe-journal?list-id=1\n",
            "http://feeds.nature.com/nature/rss/current\n",
            "https://www.nature.com/articles/d41586-022-01274-1\n",
            "https://www.nature.com/nature/subscribe\n",
            "https://www.springernature.com/gp/open-research/transformative-journals\n",
            "https://www.springernature.com/gp/open-research/funding\n",
            "http://dx.doi.org/10.1038/s41586-022-04629-w\n",
            "http://dx.doi.org/10.1038/d41586-022-01238-5\n",
            "http://dx.doi.org/10.1038/d41586-022-01231-y\n",
            "http://dx.doi.org/10.1038/s41586-022-04675-4\n",
            "https://www.nature.com/natureevents/science\n",
            "https://www.nature.com/naturecareers/events/event/embl-95505\n",
            "https://www.nature.com/naturecareers/events/event/embl-95500\n",
            "https://www.nature.com/naturecareers/events/event/embl-95499\n",
            "https://www.nature.com/naturecareers/events/event/embl-95501\n",
            "https://www.nature.com/naturecareers/events/event/keystone-symposia-95394\n",
            "https://www.nature.com/naturejobs/science\n",
            "https://www.nature.com/naturecareers/job/postdoctoral-training-fellow-in-computational-biologybioinformatics-hostpathogen-interaction-francis-crick-institute-756406\n",
            "https://www.nature.com/naturecareers/job/call-for-group-leaders-2022-centre-for-psychiatry-and-neuroscience-cpn-756411\n",
            "https://www.nature.com/naturecareers/job/post-doctoral-researcher-in-medical-bioinformatics-mfd-university-medical-center-freiburg-756418\n",
            "https://www.nature.com/naturecareers/job/postdoctoral-fellow-nih-national-institute-on-alcohol-abuse-and-alcoholism-niaaa-756425\n",
            "https://www.nature.com/naturecareers/job/director-of-biorepositories-program-mayo-clinic-health-system-756438\n",
            "https://www.nature.com/info/privacy\n",
            "https://www.facebook.com/Nature\n",
            "https://twitter.com/nature\n",
            "https://www.nature.com/nature/subscribe\n",
            "https://www.nature.com/my-account/alerts/subscribe-journal?list-id=1\n",
            "http://feeds.nature.com/nature/rss/current\n",
            "https://mts-nature.nature.com/\n",
            "https://www.nature.com/npg_/company_info/index.html\n",
            "https://www.nature.com/npg_/press_room/press_releases.html\n",
            "https://press.nature.com/\n",
            "https://support.nature.com/support/home\n",
            "https://www.facebook.com/NaturePortfolioJournals/\n",
            "https://twitter.com/NaturePortfolio?lang=en\n",
            "https://www.youtube.com/channel/UCvCLdSgYdSTpWcOgEJgi-ng\n",
            "https://www.nature.com/siteindex\n",
            "https://www.nature.com/subjects/\n",
            "https://nano.nature.com/\n",
            "https://www.nature.com/protocolexchange/\n",
            "https://www.natureindex.com/\n",
            "https://www.nature.com/authors/editorial_policies/\n",
            "https://www.nature.com/nature-research/open-access\n",
            "https://www.nature.com/reprints/\n",
            "https://www.springernature.com/gp/authors/research-data\n",
            "https://authorservices.springernature.com/go/nr\n",
            "https://authorservices.springernature.com/scientific-editing/\n",
            "https://masterclasses.nature.com/\n",
            "https://partnerships.nature.com/product/researcher-training/\n",
            "https://solutions.springernature.com/\n",
            "https://www.springernature.com/gp/librarians/tools-services\n",
            "https://www.springernature.com/gp/librarians/manage-your-account/librarianportal\n",
            "https://www.nature.com/openresearch/about-open-access/information-for-institutions/\n",
            "https://www.springernature.com/gp/librarians/recommend-to-your-library\n",
            "https://partnerships.nature.com/product/digital-advertising/\n",
            "https://partnerships.nature.com/\n",
            "https://partnerships.nature.com/media-kits/\n",
            "https://partnerships.nature.com/product/branded-content-native-advertising/\n",
            "https://www.nature.com/naturecareers\n",
            "https://conferences.nature.com\n",
            "https://www.nature.com/natureevents/\n",
            "https://www.nature.com/natafrica\n",
            "http://www.naturechina.com\n",
            "https://www.nature.com/nindia\n",
            "https://www.nature.com/natitaly\n",
            "https://www.natureasia.com/ja-jp/\n",
            "https://www.natureasia.com/ko-kr/\n",
            "https://www.nature.com/nmiddleeast/\n",
            "https://www.nature.com/info/privacy\n",
            "https://www.nature.com/info/cookies\n",
            "https://www.nature.com/info/legal-notice\n",
            "https://www.nature.com/info/accessibility-statement\n",
            "https://www.nature.com/info/terms-and-conditions\n",
            "https://www.springernature.com/ccpa\n"
          ]
        }
      ]
    },
    {
      "cell_type": "code",
      "source": [
        "#EXTRACTING TEXT\n",
        "B=soup.findAll('p')\n",
        "for i in B:\n",
        "  print(i.text)"
      ],
      "metadata": {
        "colab": {
          "base_uri": "https://localhost:8080/"
        },
        "id": "PRObVeEq94RY",
        "outputId": "d1db24e5-a6a5-4727-9fe7-ce718d2080fa"
      },
      "execution_count": null,
      "outputs": [
        {
          "output_type": "stream",
          "name": "stdout",
          "text": [
            "Thank you for visiting nature.com. You are using a browser version with limited support for CSS. To obtain\n",
            "            the best experience, we recommend you use a more up to date browser (or turn off compatibility mode in\n",
            "            Internet Explorer). In the meantime, to ensure continued support, we are displaying the site without styles\n",
            "            and JavaScript.\n",
            "Advertisement\n",
            "Alarming impression is first known case of a mammal copying an insect to deter hostile species.\n",
            "Omicron relatives called BA.4 and BA.5 are behind a fresh wave of COVID-19 in South Africa, and could be signs of a more predictable future for SARS-CoV-2.\n",
            "Guidelines released this year are the latest regulations to protect China’s genetic resources, but some scientists say they are making collaborations harder.\n",
            "ZTF J1406+1222 is a wide hierarchical triple system that hosts a low-metallicity subdwarf star and a ‘black widow’ millisecond pulsar that has a highly varying optical flux and a 62-minute period.\n",
            "How a common sunscreen ingredient turns toxic in the sea, how renewable technologies are being developed in one of the northernmost towns in the world and how tree-ring scientists find old growth trees in New York City. \n",
            "Adaptation plans must heed those who face water insecurity.\n",
            "Snippets from Nature’s past.\n",
            "Life on Earth depends on the ability of cells to duplicate their genetic material, encoded in DNA molecules, and pass this information on to the next generation. Elucidation of the molecular mechanism underlying the priming step of this copying process provides insights into how DNA replication begins.\n",
            "Would environmental damage be reduced by replacing beef with mycoprotein produced in cell culture? Modelling shows that this change could greatly cut global deforestation, pasture area and greenhouse-gas emissions.\n",
            "The beating of hair-like structures that enable microorganisms to swim has been replicated in a polymer material that bends and twists with the help of light-sensitive molecular machines.\n",
            "It has long been thought that two enzymes, the kinases CDC7 and CDK2, are both needed to trigger DNA replication in mammalian cells. This view is challenged by evidence that offers a revised view of which kinases are essential.\n",
            "Nature is a Transformative Journal; authors can publish using the traditional publishing route OR via immediate gold Open Access.\n",
            "Our Open Access option complies with funder and institutional requirements.\n",
            "The development of confined organocatalysts for the enantioselective cyanosilylation of small, unbiased substrates, including 2-butanone, is shown to lead to catalysts that are as selective as enzymes, with excellent levels of control.\n",
            "A survey of the CD4+ T cells in human melanomas indicates that immune evasion is mediated through direct stimulation of neoantigen-specific tumour-reactive regulatory T cells by HLA class II-positive melanoma cells.\n",
            "A method that uses a combination of optical trapping, fluorescence microscopy and microfluidics to analyse the internal structure of chromosomes shows that there is a distinct nonlinear stiffening of the chromosome in response to tension.\n",
            "Advertisement\n",
            "\n",
            "12 October 2022 –\n",
            "                                                15 October 2022\n",
            "\n",
            "EMBL Advanced Training Centre\n",
            "\n",
            "11 September 2022 –\n",
            "                                                18 September 2022\n",
            "\n",
            "EMBL Advanced Training Centre\n",
            "\n",
            "05 September 2022 –\n",
            "                                                08 September 2022\n",
            "\n",
            "EMBL Advanced Training Centre\n",
            "\n",
            "13 September 2022 –\n",
            "                                                16 September 2022\n",
            "\n",
            "EMBL Advanced Training Centre\n",
            "\n",
            "29 June 2022 –\n",
            "                                                02 July 2022\n",
            "\n",
            "Keystone Resort\n",
            "Francis Crick Institute\n",
            "London, United Kingdom\n",
            "Centre for Psychiatry and Neuroscience (CPN)\n",
            "Paris, France\n",
            "University Medical Center Freiburg\n",
            "Freiburg, Germany\n",
            "NIH National Institute on Alcohol Abuse and Alcoholism (NIAAA)\n",
            "Bethesda, United States\n",
            "Mayo Clinic Health System\n",
            "Rochester, United States\n",
            "Advertisement\n",
            "Sign up for the Nature Briefing newsletter — what matters in science, free to your inbox daily.\n",
            "\n",
            "\n",
            "                    Advanced search\n",
            "                \n",
            "\n",
            "\n",
            "        Top headline image: Credit: F. Deschandol and P. Sabine/Biosphoto/Minden Pictures\n",
            "    \n",
            "\n",
            "        Issue cover: Cover image: Sergey Dereliev/www.dereliev-photography.com\n",
            "    \n",
            "\n",
            "\n",
            "                    Nature (Nature)\n",
            "                \n",
            "\n",
            "ISSN 1476-4687 (online)\n",
            "    \n",
            "\n",
            "ISSN 0028-0836 (print)\n",
            "    \n",
            "\n",
            "© 2022 Springer Nature Limited\n"
          ]
        }
      ]
    }
  ]
}
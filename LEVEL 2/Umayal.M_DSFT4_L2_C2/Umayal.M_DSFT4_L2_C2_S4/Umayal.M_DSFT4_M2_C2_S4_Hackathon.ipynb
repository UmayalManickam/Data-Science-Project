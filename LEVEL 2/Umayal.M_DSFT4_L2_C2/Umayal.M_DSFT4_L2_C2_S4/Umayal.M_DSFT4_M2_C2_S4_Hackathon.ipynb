{
 "cells": [
  {
   "cell_type": "markdown",
   "id": "1696e9ea",
   "metadata": {},
   "source": [
    "# Hackathon-Horror movie rating"
   ]
  },
  {
   "cell_type": "code",
   "execution_count": 1,
   "id": "15ab3fc1",
   "metadata": {},
   "outputs": [],
   "source": [
    "#importing\n",
    "import requests\n",
    "import pandas as pd\n",
    "from bs4 import BeautifulSoup"
   ]
  },
  {
   "cell_type": "markdown",
   "id": "14ff3419",
   "metadata": {},
   "source": [
    "### TASK 1"
   ]
  },
  {
   "cell_type": "code",
   "execution_count": 2,
   "id": "7f074b37",
   "metadata": {},
   "outputs": [],
   "source": [
    "#getting the URL for 2015 & 2016\n",
    "url='https://en.wikipedia.org/wiki/List_of_horror_films_of_2015'\n",
    "url1='https://en.wikipedia.org/wiki/List_of_horror_films_of_2016'"
   ]
  },
  {
   "cell_type": "code",
   "execution_count": 3,
   "id": "5ca342bc",
   "metadata": {},
   "outputs": [
    {
     "name": "stdout",
     "output_type": "stream",
     "text": [
      "200\n",
      "200\n"
     ]
    }
   ],
   "source": [
    "#making get request\n",
    "response=requests.get(url)\n",
    "print(response.status_code)\n",
    "response1=requests.get(url1)\n",
    "print(response1.status_code)"
   ]
  },
  {
   "cell_type": "markdown",
   "id": "e0a08707",
   "metadata": {},
   "source": [
    "### TASK 2"
   ]
  },
  {
   "cell_type": "code",
   "execution_count": 4,
   "id": "3d8d3fe5",
   "metadata": {},
   "outputs": [],
   "source": [
    "#using BeautifulSoup getting the html page from the url\n",
    "soup=BeautifulSoup(response.content,'html')\n",
    "soup1=BeautifulSoup(response1.content,'html')\n",
    "#soup.prettify\n",
    "#soup1.prettify"
   ]
  },
  {
   "cell_type": "code",
   "execution_count": 144,
   "id": "c3995468",
   "metadata": {},
   "outputs": [],
   "source": [
    "#getting the table from 2015 \n",
    "a=soup.find('table',class_='wikitable sortable')\n",
    "#a"
   ]
  },
  {
   "cell_type": "code",
   "execution_count": 6,
   "id": "39081bbd",
   "metadata": {},
   "outputs": [],
   "source": [
    "new_table=[]\n",
    "for row in a.find_all('tr')[1:]:\n",
    "    columns = row.find_all('td')\n",
    "    new_table.append([column.text for column in columns[0:-1]])\n",
    "#new_table"
   ]
  },
  {
   "cell_type": "code",
   "execution_count": 7,
   "id": "d1640536",
   "metadata": {},
   "outputs": [],
   "source": [
    "movie=[]\n",
    "for row in a.find_all('tr')[1:]:\n",
    "    for r in row.find_all('th'):\n",
    "        temp = r.text.replace('\\n\\n', \" \").strip()\n",
    "    movie.append(temp)\n",
    "#movie"
   ]
  },
  {
   "cell_type": "code",
   "execution_count": 8,
   "id": "5dcde6e0",
   "metadata": {},
   "outputs": [],
   "source": [
    "c=pd.DataFrame(movie,columns=['Movie'])\n",
    "d=pd.DataFrame(new_table,columns=['Director','Cast','Country','Ref'])\n",
    "d.drop([4],axis=0,inplace=True)\n",
    "c.drop([4],axis=0,inplace=True)\n",
    "d2015=d[['Director','Cast','Country']];\n",
    "aa=c['Movie']\n",
    "d2015.insert(0,'Movie',aa)\n",
    "#d2015"
   ]
  },
  {
   "cell_type": "code",
   "execution_count": 9,
   "id": "797d5554",
   "metadata": {},
   "outputs": [],
   "source": [
    "#getting the table from 2016 \n",
    "a1=soup1.find('table',class_='wikitable sortable')\n",
    "#a1"
   ]
  },
  {
   "cell_type": "code",
   "execution_count": 10,
   "id": "b4ae7952",
   "metadata": {},
   "outputs": [],
   "source": [
    "new_table1=[]\n",
    "for row in a1.find_all('tr')[1:]:\n",
    "    columns = row.find_all('td')\n",
    "    new_table1.append([column.text for column in columns[0:-1]])\n",
    "#new_table1"
   ]
  },
  {
   "cell_type": "code",
   "execution_count": 11,
   "id": "2e529d85",
   "metadata": {},
   "outputs": [],
   "source": [
    "movie1=[]\n",
    "for row in a1.find_all('tr')[1:]:\n",
    "    for r in row.find_all('th'):\n",
    "        temp = r.text.replace('\\n\\n', \" \").strip()\n",
    "    movie1.append(temp)\n",
    "#movie1"
   ]
  },
  {
   "cell_type": "code",
   "execution_count": 12,
   "id": "8e14a16f",
   "metadata": {},
   "outputs": [],
   "source": [
    "e=pd.DataFrame(movie1,columns=['Movie'])\n",
    "f=pd.DataFrame(new_table1,columns=['Director','Cast','Country'])\n",
    "d2016=f[['Director','Cast','Country']];\n",
    "g=e['Movie']\n",
    "d2016.insert(0,'Movie',g)\n",
    "#d2016"
   ]
  },
  {
   "cell_type": "code",
   "execution_count": 13,
   "id": "d3374332",
   "metadata": {},
   "outputs": [],
   "source": [
    "#for gross-2015\n",
    "df=pd.read_html('G:\\\\HTML files\\\\2015rating.html')"
   ]
  },
  {
   "cell_type": "code",
   "execution_count": 14,
   "id": "4965c48c",
   "metadata": {},
   "outputs": [
    {
     "data": {
      "text/plain": [
       "list"
      ]
     },
     "execution_count": 14,
     "metadata": {},
     "output_type": "execute_result"
    }
   ],
   "source": [
    "type(df)"
   ]
  },
  {
   "cell_type": "code",
   "execution_count": 15,
   "id": "422b795b",
   "metadata": {},
   "outputs": [
    {
     "name": "stderr",
     "output_type": "stream",
     "text": [
      "C:\\Users\\Admin\\AppData\\Local\\Temp/ipykernel_1284/2412123290.py:3: FutureWarning: The default value of regex will change from True to False in a future version. In addition, single character regular expressions will *not* be treated as literal strings when regex=True.\n",
      "  df1['Gross']=df1['Gross'].str.replace('$','')\n"
     ]
    }
   ],
   "source": [
    "df1=pd.DataFrame(df[0])\n",
    "df1['Gross']=df1['Gross'].str.replace(',','')\n",
    "df1['Gross']=df1['Gross'].str.replace('$','')\n",
    "df1=df1[['Movie','ReleaseDate','TheatricalDistributor','MPAARating','Gross']]"
   ]
  },
  {
   "cell_type": "code",
   "execution_count": 16,
   "id": "9e226b2f",
   "metadata": {},
   "outputs": [],
   "source": [
    "D=pd.merge(d2015,df1,on='Movie',how='inner')\n",
    "D=D[['Movie','Director','Cast','Country','TheatricalDistributor','ReleaseDate','Gross']]"
   ]
  },
  {
   "cell_type": "code",
   "execution_count": 17,
   "id": "e2f6ff0e",
   "metadata": {},
   "outputs": [],
   "source": [
    "#for gross-2016\n",
    "DF=pd.read_html('G:\\\\HTML files\\\\2016rating.html')\n",
    "#DF"
   ]
  },
  {
   "cell_type": "code",
   "execution_count": 18,
   "id": "fd07d351",
   "metadata": {},
   "outputs": [
    {
     "name": "stderr",
     "output_type": "stream",
     "text": [
      "C:\\Users\\Admin\\AppData\\Local\\Temp/ipykernel_1284/2503640100.py:3: FutureWarning: The default value of regex will change from True to False in a future version. In addition, single character regular expressions will *not* be treated as literal strings when regex=True.\n",
      "  df2['Gross']=df2['Gross'].str.replace('$','')\n"
     ]
    }
   ],
   "source": [
    "df2=pd.DataFrame(DF[0])\n",
    "df2['Gross']=df2['Gross'].str.replace(',','')\n",
    "df2['Gross']=df2['Gross'].str.replace('$','')\n",
    "df2=df2[['Movie','ReleaseDate','TheatricalDistributor','MPAARating','Gross']]"
   ]
  },
  {
   "cell_type": "code",
   "execution_count": 19,
   "id": "583f1877",
   "metadata": {},
   "outputs": [],
   "source": [
    "D2=pd.merge(d2016,df2,on='Movie',how='inner')\n",
    "D2=D2[['Movie','Director','Cast','Country','TheatricalDistributor','ReleaseDate','Gross']]"
   ]
  },
  {
   "cell_type": "code",
   "execution_count": 134,
   "id": "62312331",
   "metadata": {},
   "outputs": [],
   "source": [
    "Cat=['Gothic romance film','Found footage supernatural horror film','Horror comedy film','Supernatural horror film','Christmas horror comedy film','Supernatural horror film','3D found footage supernatural horror film','Supernatural horror film','Zombie comedy film','Supernatural horror film','Found footage comedy horror film','Supernatural horror film','Found footage supernatural horror film','Horror film','Supernatural horror film','Black and white horror film','Supernatural horror film','Supernatural horror film','Psychological horror film','Supernatural horror film','Supernatural horror film','Dystopian political action horror film','Psychological horror film']\n",
    "C=pd.DataFrame(Cat,columns=['Category'])\n"
   ]
  },
  {
   "cell_type": "code",
   "execution_count": 139,
   "id": "4e3f0c9f",
   "metadata": {},
   "outputs": [],
   "source": [
    "#combining 2015 and 2016\n",
    "add=[D,D2]\n",
    "Comdf=pd.concat(add)\n",
    "A=C['Category']\n",
    "Comdf.insert(1,'Category',A)\n",
    "Comdf.to_csv('Gross.csv',index=False)"
   ]
  },
  {
   "cell_type": "code",
   "execution_count": 151,
   "id": "dfda8886",
   "metadata": {},
   "outputs": [],
   "source": [
    "#END"
   ]
  }
 ],
 "metadata": {
  "kernelspec": {
   "display_name": "Python 3 (ipykernel)",
   "language": "python",
   "name": "python3"
  },
  "language_info": {
   "codemirror_mode": {
    "name": "ipython",
    "version": 3
   },
   "file_extension": ".py",
   "mimetype": "text/x-python",
   "name": "python",
   "nbconvert_exporter": "python",
   "pygments_lexer": "ipython3",
   "version": "3.9.7"
  }
 },
 "nbformat": 4,
 "nbformat_minor": 5
}

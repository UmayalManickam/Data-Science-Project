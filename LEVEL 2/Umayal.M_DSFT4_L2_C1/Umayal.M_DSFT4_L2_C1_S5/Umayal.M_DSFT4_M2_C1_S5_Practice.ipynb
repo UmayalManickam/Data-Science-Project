{
 "cells": [
  {
   "cell_type": "markdown",
   "id": "e2420d60",
   "metadata": {},
   "source": [
    "## PRE-PROCESSING AND TOKENIZING THE TEXT DATA"
   ]
  },
  {
   "cell_type": "markdown",
   "id": "741dbe45",
   "metadata": {},
   "source": [
    "### TASK 1"
   ]
  },
  {
   "cell_type": "code",
   "execution_count": 1,
   "id": "64f5c8ce",
   "metadata": {},
   "outputs": [],
   "source": [
    "import re\n",
    "pattern = re.compile('\\d{3}\\/\\d{3}\\-\\d{4}\\(\\d\\)')"
   ]
  },
  {
   "cell_type": "code",
   "execution_count": 2,
   "id": "0b5d4d0b",
   "metadata": {},
   "outputs": [
    {
     "name": "stdout",
     "output_type": "stream",
     "text": [
      "True\n"
     ]
    }
   ],
   "source": [
    "#A)120/456-7890(8)\n",
    "result1 = pattern.match(\"120/456-7890(8)\") \n",
    "print(bool(result1))"
   ]
  },
  {
   "cell_type": "code",
   "execution_count": 3,
   "id": "5da6c6a5",
   "metadata": {},
   "outputs": [
    {
     "name": "stdout",
     "output_type": "stream",
     "text": [
      "False\n"
     ]
    }
   ],
   "source": [
    "#B)123/456-789\n",
    "result2 = pattern.match(\"123/456-789\") \n",
    "print(bool(result2))"
   ]
  },
  {
   "cell_type": "code",
   "execution_count": 4,
   "id": "a8aa6d0f",
   "metadata": {},
   "outputs": [
    {
     "name": "stdout",
     "output_type": "stream",
     "text": [
      "False\n"
     ]
    }
   ],
   "source": [
    "#C)120-456-7890(8)\n",
    "result3 = pattern.match(\"120-456-7890(8)\") \n",
    "print(bool(result3))"
   ]
  },
  {
   "cell_type": "markdown",
   "id": "333e9950",
   "metadata": {},
   "source": [
    "### TASK 2"
   ]
  },
  {
   "cell_type": "code",
   "execution_count": 5,
   "id": "696110b7",
   "metadata": {},
   "outputs": [
    {
     "name": "stdout",
     "output_type": "stream",
     "text": [
      "A final note on 10 key sentences is that academic readers expect them to be at the beginning of the paragraph.(The first sentence of this paragraph is one example of this!) This placement helps readers comprehend your position. To try this, find a well-written academic piece, such as textbook or scholarly article, and go through part of it just by reading the first sentence of each paragraph. You should be able to follow the sequence of logic.\n",
      "\n",
      "When you're writing for 22 professors, it is especially effective to put key sentences first to convey your original thinking.\n"
     ]
    }
   ],
   "source": [
    "#reading text_paragraph.txt\n",
    "data=open('text_paragraph.txt').read()\n",
    "print(data)"
   ]
  },
  {
   "cell_type": "code",
   "execution_count": 6,
   "id": "662d57f8",
   "metadata": {},
   "outputs": [
    {
     "name": "stdout",
     "output_type": "stream",
     "text": [
      "['10', '22']\n"
     ]
    }
   ],
   "source": [
    "numeric_values = re.findall('\\d+', data)   \n",
    "print(numeric_values)"
   ]
  },
  {
   "cell_type": "code",
   "execution_count": 7,
   "id": "08fb1a01",
   "metadata": {},
   "outputs": [
    {
     "name": "stdout",
     "output_type": "stream",
     "text": [
      "\n",
      "After removal of Numeric values:\n",
      "\n",
      " A final note on  key sentences is that academic readers expect them to be at the beginning of the paragraph.(The first sentence of this paragraph is one example of this!) This placement helps readers comprehend your position. To try this, find a well-written academic piece, such as textbook or scholarly article, and go through part of it just by reading the first sentence of each paragraph. You should be able to follow the sequence of logic.\n",
      "\n",
      "When you're writing for  professors, it is especially effective to put key sentences first to convey your original thinking.\n"
     ]
    }
   ],
   "source": [
    "mod_string = ''.join(filter(lambda item: not item.isdigit(),data))         \n",
    "print('\\nAfter removal of Numeric values:\\n\\n',mod_string) "
   ]
  },
  {
   "cell_type": "markdown",
   "id": "f37d6791",
   "metadata": {},
   "source": [
    "### TASK 3"
   ]
  },
  {
   "cell_type": "code",
   "execution_count": 8,
   "id": "fe2114fb",
   "metadata": {},
   "outputs": [
    {
     "name": "stdout",
     "output_type": "stream",
     "text": [
      "Input TEXT:\n",
      "\n",
      " A final note on  key sentences is that academic readers expect them to be at the beginning of the paragraph.(The first sentence of this paragraph is one example of this!) This placement helps readers comprehend your position. To try this, find a well-written academic piece, such as textbook or scholarly article, and go through part of it just by reading the first sentence of each paragraph. You should be able to follow the sequence of logic.\n",
      "\n",
      "When you're writing for  professors, it is especially effective to put key sentences first to convey your original thinking.\n",
      "\n",
      " \n",
      "  After REMOVING COMMA:\n",
      "\n",
      " A final note on  key sentences is that academic readers expect them to be at the beginning of the paragraph.(The first sentence of this paragraph is one example of this!) This placement helps readers comprehend your position. To try this  find a well-written academic piece  such as textbook or scholarly article  and go through part of it just by reading the first sentence of each paragraph. You should be able to follow the sequence of logic.\n",
      "\n",
      "When you're writing for  professors  it is especially effective to put key sentences first to convey your original thinking.\n"
     ]
    }
   ],
   "source": [
    "#remove comma\n",
    "item = mod_string                                                  \n",
    "text_new = re.sub(',',' ', item)                                 \n",
    "print('Input TEXT:\\n\\n',item)                                      \n",
    "print('\\n \\n  After REMOVING COMMA:\\n\\n',text_new)     "
   ]
  },
  {
   "cell_type": "code",
   "execution_count": 9,
   "id": "35674ceb",
   "metadata": {},
   "outputs": [
    {
     "name": "stdout",
     "output_type": "stream",
     "text": [
      "Input TEXT:\n",
      "\n",
      " A final note on  key sentences is that academic readers expect them to be at the beginning of the paragraph.(The first sentence of this paragraph is one example of this!) This placement helps readers comprehend your position. To try this, find a well-written academic piece, such as textbook or scholarly article, and go through part of it just by reading the first sentence of each paragraph. You should be able to follow the sequence of logic.\n",
      "\n",
      "When you're writing for  professors, it is especially effective to put key sentences first to convey your original thinking.\n",
      "\n",
      " \n",
      "  After REPLACING ! WITH . :\n",
      "\n",
      " A final note on  key sentences is that academic readers expect them to be at the beginning of the paragraph.(The first sentence of this paragraph is one example of this.) This placement helps readers comprehend your position. To try this, find a well-written academic piece, such as textbook or scholarly article, and go through part of it just by reading the first sentence of each paragraph. You should be able to follow the sequence of logic.\n",
      "\n",
      "When you're writing for  professors, it is especially effective to put key sentences first to convey your original thinking.\n"
     ]
    }
   ],
   "source": [
    "#substituting . in place of !\n",
    "item1 = item                                                  \n",
    "text_new1 = re.sub('!','.', item1)                                 \n",
    "print('Input TEXT:\\n\\n',item1)                                      \n",
    "print('\\n \\n  After REPLACING ! WITH . :\\n\\n',text_new1)  "
   ]
  },
  {
   "cell_type": "markdown",
   "id": "6beb94c9",
   "metadata": {},
   "source": [
    "### TASK 4"
   ]
  },
  {
   "cell_type": "code",
   "execution_count": 10,
   "id": "cc53bebb",
   "metadata": {},
   "outputs": [
    {
     "name": "stdout",
     "output_type": "stream",
     "text": [
      "True\n"
     ]
    }
   ],
   "source": [
    "pattern=re.compile('\\€\\d+\\.\\d{3}')\n",
    "result4=pattern.match('€58888.756')\n",
    "print(bool(result4))"
   ]
  },
  {
   "cell_type": "markdown",
   "id": "c6666bf4",
   "metadata": {},
   "source": [
    "### TASK 5"
   ]
  },
  {
   "cell_type": "code",
   "execution_count": null,
   "id": "da134d3a",
   "metadata": {},
   "outputs": [],
   "source": [
    "import spacy\n",
    "nlp = spacy.load(\"en_core_web_sm\")  \n",
    "file=open('48_hrs.txt').read()\n",
    "file1=nlp(file)\n",
    "print(file1)"
   ]
  },
  {
   "cell_type": "code",
   "execution_count": null,
   "id": "70825476",
   "metadata": {},
   "outputs": [],
   "source": [
    "nlp.pipe_names "
   ]
  },
  {
   "cell_type": "code",
   "execution_count": null,
   "id": "f5ef77e5",
   "metadata": {},
   "outputs": [],
   "source": [
    "#disabling pipelines\n",
    "nlp.disable_pipes('tagger', 'parser','lemmatizer', 'ner')         \n",
    "nlp.pipe_names "
   ]
  },
  {
   "cell_type": "code",
   "execution_count": null,
   "id": "8f7ad091",
   "metadata": {},
   "outputs": [],
   "source": [
    "#printing tokens\n",
    "contents = file[:1500]                                      # First few characters of input file\n",
    "print(contents)                                                # To print contents of file\n",
    "text_combined = str(contents)                                  # String\n",
    "doc = nlp(text_combined)                                       # Create NLP object\n",
    "for token in doc:\n",
    "    print(token)                                               # Print tokens\n",
    "len(token) "
   ]
  },
  {
   "cell_type": "markdown",
   "id": "ab615a04",
   "metadata": {},
   "source": [
    "### TASK 6"
   ]
  },
  {
   "cell_type": "code",
   "execution_count": null,
   "id": "f09927d3",
   "metadata": {},
   "outputs": [],
   "source": [
    "#A)Top 10 most common words/characters/symbols\n",
    "\n",
    "from collections import Counter\n",
    "counts0 = Counter()                                   \n",
    "for token in file1:\n",
    "    counts0[token.text] += 1                         \n",
    "m = counts0.most_common(10)  \n",
    "m"
   ]
  },
  {
   "cell_type": "code",
   "execution_count": null,
   "id": "8f4589f9",
   "metadata": {},
   "outputs": [],
   "source": [
    "#B)Frequency of word prisoner and prisoners count\n",
    "counts1 = Counter()\n",
    "for token in file1:                                  \n",
    "    counts1[token.orth_] += 1                      \n",
    "print(counts1)\n",
    "#print(counts.values())"
   ]
  },
  {
   "cell_type": "code",
   "execution_count": null,
   "id": "f7eed971",
   "metadata": {},
   "outputs": [],
   "source": [
    "print('Count of prisoner and prisoners is 4 and 1 respectively')"
   ]
  },
  {
   "cell_type": "markdown",
   "id": "33671c3f",
   "metadata": {},
   "source": [
    "### TASK 7"
   ]
  },
  {
   "cell_type": "code",
   "execution_count": null,
   "id": "cf5d717a",
   "metadata": {},
   "outputs": [],
   "source": [
    "File= open('task7.txt', 'w')                                     \n",
    "File.write('John went to the U.S.A. to visit his elder sister.')   \n",
    "File.close()  \n",
    "File= open('task7.txt').read() \n",
    "NEW=nlp(File)\n",
    "print(NEW)"
   ]
  },
  {
   "cell_type": "code",
   "execution_count": null,
   "id": "2f7760a6",
   "metadata": {},
   "outputs": [],
   "source": [
    "#Tokenization\n",
    "print ([token.text for token in NEW]) "
   ]
  },
  {
   "cell_type": "code",
   "execution_count": null,
   "id": "c15c3a86",
   "metadata": {},
   "outputs": [],
   "source": [
    "print('The no.of token is 11 and U.S.A. is considered as one token.')"
   ]
  },
  {
   "cell_type": "markdown",
   "id": "67a6409a",
   "metadata": {},
   "source": [
    "### TASK 8"
   ]
  },
  {
   "cell_type": "code",
   "execution_count": null,
   "id": "0d394483",
   "metadata": {},
   "outputs": [],
   "source": [
    "#48_hrs.txt\n",
    "counts2 = Counter()\n",
    "for token in file1:                                  \n",
    "    counts2[token.orth_] += 1                      \n",
    "print(\"Count of 'the' is 956 times\")\n",
    "#print(counts2)"
   ]
  },
  {
   "cell_type": "code",
   "execution_count": null,
   "id": "89011e64",
   "metadata": {},
   "outputs": [],
   "source": [
    "#Ten_things_I_hate.txt\n",
    "f = open('Ten_things_I_hate.txt').read()\n",
    "F=nlp(f)\n",
    "counts3 = Counter()\n",
    "for token in F:                                  \n",
    "    counts3[token.orth_] += 1                      \n",
    "print(\"Count of 'the' is 581 times\")\n",
    "#print(counts3)"
   ]
  },
  {
   "cell_type": "code",
   "execution_count": null,
   "id": "0b9312c8",
   "metadata": {},
   "outputs": [],
   "source": [
    "#Text paragraph.txt\n",
    "Text1=nlp(data)\n",
    "counts4 = Counter()\n",
    "for token in Text1:                                  \n",
    "    counts4[token.orth_] += 1                      \n",
    "print(\"Count of 'the' is 4 times\")\n",
    "#print(counts4)"
   ]
  },
  {
   "cell_type": "code",
   "execution_count": null,
   "id": "eff49cd5",
   "metadata": {},
   "outputs": [],
   "source": [
    "print(\"text_paragraph.txt is giving least number of 'the' with count=4\")"
   ]
  },
  {
   "cell_type": "code",
   "execution_count": null,
   "id": "6e3cbe2e",
   "metadata": {},
   "outputs": [],
   "source": [
    "#END"
   ]
  }
 ],
 "metadata": {
  "kernelspec": {
   "display_name": "Python 3 (ipykernel)",
   "language": "python",
   "name": "python3"
  },
  "language_info": {
   "codemirror_mode": {
    "name": "ipython",
    "version": 3
   },
   "file_extension": ".py",
   "mimetype": "text/x-python",
   "name": "python",
   "nbconvert_exporter": "python",
   "pygments_lexer": "ipython3",
   "version": "3.9.7"
  }
 },
 "nbformat": 4,
 "nbformat_minor": 5
}

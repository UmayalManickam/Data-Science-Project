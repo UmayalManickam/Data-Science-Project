{
  "nbformat": 4,
  "nbformat_minor": 0,
  "metadata": {
    "colab": {
      "name": "NLP_Notes2.ipynb",
      "provenance": [],
      "collapsed_sections": [
        "EPlhLwEZmZq7",
        "cU0d3IVfmbzF",
        "nj4muHpForXc",
        "LplPVNeusZz3",
        "6Qml-MhNuAQC",
        "W5_V3rBuv2XC",
        "kyeRg_xew8pN",
        "Iyfabk_C7Ftl",
        "QHBE6aQJ_gn0",
        "Fs7Riz_zmwkh",
        "zXBm3j1XnYIl",
        "WweEbrQOoXdf",
        "e79ODIkOqiM9",
        "-E0vJMRZsO6k",
        "Hotn2DWgxnSQ",
        "eAbrZ-58yAVs",
        "SLkVGb5Cy0md",
        "0GTcEw8H1zUQ",
        "BMYFG9ys4IGK",
        "xAqhhNrI52IZ",
        "aP4ZJiBm7yws",
        "L9n6cx2hUcDM",
        "_rfcxwnSO4wS",
        "GZZKhnicQHrH"
      ]
    },
    "kernelspec": {
      "name": "python3",
      "display_name": "Python 3"
    },
    "language_info": {
      "name": "python"
    }
  },
  "cells": [
    {
      "cell_type": "markdown",
      "source": [
        "##WORKING WITH FILES IN PYTHON"
      ],
      "metadata": {
        "id": "EPlhLwEZmZq7"
      }
    },
    {
      "cell_type": "markdown",
      "source": [
        "###STRING FORMATTER"
      ],
      "metadata": {
        "id": "cU0d3IVfmbzF"
      }
    },
    {
      "cell_type": "code",
      "execution_count": 7,
      "metadata": {
        "id": "NQ5fFot3i7UJ",
        "colab": {
          "base_uri": "https://localhost:8080/"
        },
        "outputId": "2f2f76f4-1cb0-4212-b928-ff3747677588"
      },
      "outputs": [
        {
          "output_type": "stream",
          "name": "stdout",
          "text": [
            "name follower\n",
            "Umayal is my youtube channel name 30k\n"
          ]
        }
      ],
      "source": [
        "name='Umayal is my youtube channel name'\n",
        "follower='30k'\n",
        "print('name','follower')\n",
        "print(name,follower)"
      ]
    },
    {
      "cell_type": "code",
      "source": [
        "ds=[('python',50),('tensorflow',100),('nlp',200)]\n",
        "print(ds)\n",
        "for info in ds:\n",
        "  print(info[0],info[1])"
      ],
      "metadata": {
        "colab": {
          "base_uri": "https://localhost:8080/"
        },
        "id": "yJFHoyvXmmRy",
        "outputId": "72e19c1f-de73-4b03-eeb1-0b5cfd26c917"
      },
      "execution_count": 8,
      "outputs": [
        {
          "output_type": "stream",
          "name": "stdout",
          "text": [
            "[('python', 50), ('tensorflow', 100), ('nlp', 200)]\n",
            "python 50\n",
            "tensorflow 100\n",
            "nlp 200\n"
          ]
        }
      ]
    },
    {
      "cell_type": "code",
      "source": [
        "for info in ds:\n",
        "  print(f'{info[0]:{20}} {info[1]}')"
      ],
      "metadata": {
        "colab": {
          "base_uri": "https://localhost:8080/"
        },
        "id": "DqsfNE0ZmmUs",
        "outputId": "de49d42c-6e20-43c5-dd21-ba2d73411d04"
      },
      "execution_count": 9,
      "outputs": [
        {
          "output_type": "stream",
          "name": "stdout",
          "text": [
            "python               50\n",
            "tensorflow           100\n",
            "nlp                  200\n"
          ]
        }
      ]
    },
    {
      "cell_type": "code",
      "source": [
        "for info in ds:\n",
        "  print(f'{info[0]:{20}} {info[1]:.>{5}}')"
      ],
      "metadata": {
        "colab": {
          "base_uri": "https://localhost:8080/"
        },
        "id": "RBpHEcyxpBTN",
        "outputId": "57249e40-9b87-4834-f804-fa4ba8e60906"
      },
      "execution_count": 10,
      "outputs": [
        {
          "output_type": "stream",
          "name": "stdout",
          "text": [
            "python               ...50\n",
            "tensorflow           ..100\n",
            "nlp                  ..200\n"
          ]
        }
      ]
    },
    {
      "cell_type": "markdown",
      "source": [
        "###WORKING WITH FILES"
      ],
      "metadata": {
        "id": "nj4muHpForXc"
      }
    },
    {
      "cell_type": "code",
      "source": [
        "file=open('data.txt','w')\n",
        "data='this is sentence one'\n",
        "file.write(data)\n",
        "file.close()"
      ],
      "metadata": {
        "id": "udsTvMh3mmXe"
      },
      "execution_count": 13,
      "outputs": []
    },
    {
      "cell_type": "code",
      "source": [
        "len(data)"
      ],
      "metadata": {
        "colab": {
          "base_uri": "https://localhost:8080/"
        },
        "id": "SKLqzk9yqDN7",
        "outputId": "5b2ae93e-3fda-4218-8975-8c637ec9362c"
      },
      "execution_count": 14,
      "outputs": [
        {
          "output_type": "execute_result",
          "data": {
            "text/plain": [
              "20"
            ]
          },
          "metadata": {},
          "execution_count": 14
        }
      ]
    },
    {
      "cell_type": "code",
      "source": [
        "file=open('data.txt','a')\n",
        "data='\\t this is sentence three'\n",
        "file.write(data)\n",
        "file.close()"
      ],
      "metadata": {
        "id": "EMGMYmQEqDQp"
      },
      "execution_count": 15,
      "outputs": []
    },
    {
      "cell_type": "code",
      "source": [
        "file=open('data1.txt','a')\n",
        "data=1\n",
        "file.write(str(data))\n",
        "file.close()"
      ],
      "metadata": {
        "id": "uHdSxb2YqDTf"
      },
      "execution_count": 17,
      "outputs": []
    },
    {
      "cell_type": "code",
      "source": [
        "file=open('data2.txt','w')\n",
        "data=[1,'one','this is two',2.3]\n",
        "for d in data:\n",
        "  file.write(str(d))\n",
        "  file.write(',')\n",
        "file.close()"
      ],
      "metadata": {
        "id": "Da2nV0ibqDWw"
      },
      "execution_count": 18,
      "outputs": []
    },
    {
      "cell_type": "code",
      "source": [
        "with open('data3.txt','w') as file:\n",
        "  data1=[1,'one','this is two',2.3]\n",
        "  for d in data1:\n",
        "    file.write(str(d))\n",
        "    file.write(',')\n",
        "file.close()"
      ],
      "metadata": {
        "id": "8o-WDamemmab"
      },
      "execution_count": 44,
      "outputs": []
    },
    {
      "cell_type": "markdown",
      "source": [
        "###WORKING WITH READ MODE"
      ],
      "metadata": {
        "id": "LplPVNeusZz3"
      }
    },
    {
      "cell_type": "code",
      "source": [
        "file=open('data3.txt','r')"
      ],
      "metadata": {
        "id": "PHDwsJcXmmdV"
      },
      "execution_count": 39,
      "outputs": []
    },
    {
      "cell_type": "code",
      "source": [
        "file.seek(0)\n",
        "data=file.read().splitlines()\n",
        "data"
      ],
      "metadata": {
        "colab": {
          "base_uri": "https://localhost:8080/"
        },
        "id": "_3fEiKFAsmmf",
        "outputId": "6fb545da-cba8-45c5-ab57-3b5a215bee93"
      },
      "execution_count": 40,
      "outputs": [
        {
          "output_type": "execute_result",
          "data": {
            "text/plain": [
              "['1,one,this is two,2.3,']"
            ]
          },
          "metadata": {},
          "execution_count": 40
        }
      ]
    },
    {
      "cell_type": "code",
      "source": [
        "file.seek(0)\n",
        "file.readlines()"
      ],
      "metadata": {
        "colab": {
          "base_uri": "https://localhost:8080/"
        },
        "id": "6Y07D5itsmpK",
        "outputId": "e3e5b31b-50d7-4a7c-c56a-99501a9b6c89"
      },
      "execution_count": 41,
      "outputs": [
        {
          "output_type": "execute_result",
          "data": {
            "text/plain": [
              "['1,one,this is two,2.3,']"
            ]
          },
          "metadata": {},
          "execution_count": 41
        }
      ]
    },
    {
      "cell_type": "markdown",
      "source": [
        "###READING AND WRITING .csv AND .tsv FILES WITH PANDAS"
      ],
      "metadata": {
        "id": "6Qml-MhNuAQC"
      }
    },
    {
      "cell_type": "code",
      "source": [
        "import pandas as pd"
      ],
      "metadata": {
        "id": "-x_5UyaFsmw4"
      },
      "execution_count": 47,
      "outputs": []
    },
    {
      "cell_type": "code",
      "source": [
        "pd.read_csv('data3.txt',header=None)"
      ],
      "metadata": {
        "colab": {
          "base_uri": "https://localhost:8080/",
          "height": 81
        },
        "id": "D7EIuDe8uiLi",
        "outputId": "28538887-7d74-42d0-91e9-1b61378b042c"
      },
      "execution_count": 48,
      "outputs": [
        {
          "output_type": "execute_result",
          "data": {
            "text/plain": [
              "   0    1            2    3   4\n",
              "0  1  one  this is two  2.3 NaN"
            ],
            "text/html": [
              "\n",
              "  <div id=\"df-f1095442-431b-4c29-b775-04213d9e4f4f\">\n",
              "    <div class=\"colab-df-container\">\n",
              "      <div>\n",
              "<style scoped>\n",
              "    .dataframe tbody tr th:only-of-type {\n",
              "        vertical-align: middle;\n",
              "    }\n",
              "\n",
              "    .dataframe tbody tr th {\n",
              "        vertical-align: top;\n",
              "    }\n",
              "\n",
              "    .dataframe thead th {\n",
              "        text-align: right;\n",
              "    }\n",
              "</style>\n",
              "<table border=\"1\" class=\"dataframe\">\n",
              "  <thead>\n",
              "    <tr style=\"text-align: right;\">\n",
              "      <th></th>\n",
              "      <th>0</th>\n",
              "      <th>1</th>\n",
              "      <th>2</th>\n",
              "      <th>3</th>\n",
              "      <th>4</th>\n",
              "    </tr>\n",
              "  </thead>\n",
              "  <tbody>\n",
              "    <tr>\n",
              "      <th>0</th>\n",
              "      <td>1</td>\n",
              "      <td>one</td>\n",
              "      <td>this is two</td>\n",
              "      <td>2.3</td>\n",
              "      <td>NaN</td>\n",
              "    </tr>\n",
              "  </tbody>\n",
              "</table>\n",
              "</div>\n",
              "      <button class=\"colab-df-convert\" onclick=\"convertToInteractive('df-f1095442-431b-4c29-b775-04213d9e4f4f')\"\n",
              "              title=\"Convert this dataframe to an interactive table.\"\n",
              "              style=\"display:none;\">\n",
              "        \n",
              "  <svg xmlns=\"http://www.w3.org/2000/svg\" height=\"24px\"viewBox=\"0 0 24 24\"\n",
              "       width=\"24px\">\n",
              "    <path d=\"M0 0h24v24H0V0z\" fill=\"none\"/>\n",
              "    <path d=\"M18.56 5.44l.94 2.06.94-2.06 2.06-.94-2.06-.94-.94-2.06-.94 2.06-2.06.94zm-11 1L8.5 8.5l.94-2.06 2.06-.94-2.06-.94L8.5 2.5l-.94 2.06-2.06.94zm10 10l.94 2.06.94-2.06 2.06-.94-2.06-.94-.94-2.06-.94 2.06-2.06.94z\"/><path d=\"M17.41 7.96l-1.37-1.37c-.4-.4-.92-.59-1.43-.59-.52 0-1.04.2-1.43.59L10.3 9.45l-7.72 7.72c-.78.78-.78 2.05 0 2.83L4 21.41c.39.39.9.59 1.41.59.51 0 1.02-.2 1.41-.59l7.78-7.78 2.81-2.81c.8-.78.8-2.07 0-2.86zM5.41 20L4 18.59l7.72-7.72 1.47 1.35L5.41 20z\"/>\n",
              "  </svg>\n",
              "      </button>\n",
              "      \n",
              "  <style>\n",
              "    .colab-df-container {\n",
              "      display:flex;\n",
              "      flex-wrap:wrap;\n",
              "      gap: 12px;\n",
              "    }\n",
              "\n",
              "    .colab-df-convert {\n",
              "      background-color: #E8F0FE;\n",
              "      border: none;\n",
              "      border-radius: 50%;\n",
              "      cursor: pointer;\n",
              "      display: none;\n",
              "      fill: #1967D2;\n",
              "      height: 32px;\n",
              "      padding: 0 0 0 0;\n",
              "      width: 32px;\n",
              "    }\n",
              "\n",
              "    .colab-df-convert:hover {\n",
              "      background-color: #E2EBFA;\n",
              "      box-shadow: 0px 1px 2px rgba(60, 64, 67, 0.3), 0px 1px 3px 1px rgba(60, 64, 67, 0.15);\n",
              "      fill: #174EA6;\n",
              "    }\n",
              "\n",
              "    [theme=dark] .colab-df-convert {\n",
              "      background-color: #3B4455;\n",
              "      fill: #D2E3FC;\n",
              "    }\n",
              "\n",
              "    [theme=dark] .colab-df-convert:hover {\n",
              "      background-color: #434B5C;\n",
              "      box-shadow: 0px 1px 3px 1px rgba(0, 0, 0, 0.15);\n",
              "      filter: drop-shadow(0px 1px 2px rgba(0, 0, 0, 0.3));\n",
              "      fill: #FFFFFF;\n",
              "    }\n",
              "  </style>\n",
              "\n",
              "      <script>\n",
              "        const buttonEl =\n",
              "          document.querySelector('#df-f1095442-431b-4c29-b775-04213d9e4f4f button.colab-df-convert');\n",
              "        buttonEl.style.display =\n",
              "          google.colab.kernel.accessAllowed ? 'block' : 'none';\n",
              "\n",
              "        async function convertToInteractive(key) {\n",
              "          const element = document.querySelector('#df-f1095442-431b-4c29-b775-04213d9e4f4f');\n",
              "          const dataTable =\n",
              "            await google.colab.kernel.invokeFunction('convertToInteractive',\n",
              "                                                     [key], {});\n",
              "          if (!dataTable) return;\n",
              "\n",
              "          const docLinkHtml = 'Like what you see? Visit the ' +\n",
              "            '<a target=\"_blank\" href=https://colab.research.google.com/notebooks/data_table.ipynb>data table notebook</a>'\n",
              "            + ' to learn more about interactive tables.';\n",
              "          element.innerHTML = '';\n",
              "          dataTable['output_type'] = 'display_data';\n",
              "          await google.colab.output.renderOutput(dataTable, element);\n",
              "          const docLink = document.createElement('div');\n",
              "          docLink.innerHTML = docLinkHtml;\n",
              "          element.appendChild(docLink);\n",
              "        }\n",
              "      </script>\n",
              "    </div>\n",
              "  </div>\n",
              "  "
            ]
          },
          "metadata": {},
          "execution_count": 48
        }
      ]
    },
    {
      "cell_type": "code",
      "source": [
        "#READING TSV FILES\n",
        "pd.read_csv('moviereviews.tsv',sep='\\t')"
      ],
      "metadata": {
        "colab": {
          "base_uri": "https://localhost:8080/",
          "height": 424
        },
        "id": "i7Snma-EuiOD",
        "outputId": "3be06f8d-888f-4b3b-fbc3-dfdf358a3ecf"
      },
      "execution_count": 49,
      "outputs": [
        {
          "output_type": "execute_result",
          "data": {
            "text/plain": [
              "     label                                             review\n",
              "0      neg  how do films like mouse hunt get into theatres...\n",
              "1      neg  some talented actresses are blessed with a dem...\n",
              "2      pos  this has been an extraordinary year for austra...\n",
              "3      pos  according to hollywood movies made in last few...\n",
              "4      neg  my first press screening of 1998 and already i...\n",
              "...    ...                                                ...\n",
              "1995   pos  i like movies with albert brooks , and i reall...\n",
              "1996   pos  it might surprise some to know that joel and e...\n",
              "1997   pos  the verdict : spine-chilling drama from horror...\n",
              "1998   pos  i want to correct what i wrote in a former ret...\n",
              "1999   pos  a couple of months ago , when i first download...\n",
              "\n",
              "[2000 rows x 2 columns]"
            ],
            "text/html": [
              "\n",
              "  <div id=\"df-0df68302-87d9-4ad5-98f0-52673a2bcd03\">\n",
              "    <div class=\"colab-df-container\">\n",
              "      <div>\n",
              "<style scoped>\n",
              "    .dataframe tbody tr th:only-of-type {\n",
              "        vertical-align: middle;\n",
              "    }\n",
              "\n",
              "    .dataframe tbody tr th {\n",
              "        vertical-align: top;\n",
              "    }\n",
              "\n",
              "    .dataframe thead th {\n",
              "        text-align: right;\n",
              "    }\n",
              "</style>\n",
              "<table border=\"1\" class=\"dataframe\">\n",
              "  <thead>\n",
              "    <tr style=\"text-align: right;\">\n",
              "      <th></th>\n",
              "      <th>label</th>\n",
              "      <th>review</th>\n",
              "    </tr>\n",
              "  </thead>\n",
              "  <tbody>\n",
              "    <tr>\n",
              "      <th>0</th>\n",
              "      <td>neg</td>\n",
              "      <td>how do films like mouse hunt get into theatres...</td>\n",
              "    </tr>\n",
              "    <tr>\n",
              "      <th>1</th>\n",
              "      <td>neg</td>\n",
              "      <td>some talented actresses are blessed with a dem...</td>\n",
              "    </tr>\n",
              "    <tr>\n",
              "      <th>2</th>\n",
              "      <td>pos</td>\n",
              "      <td>this has been an extraordinary year for austra...</td>\n",
              "    </tr>\n",
              "    <tr>\n",
              "      <th>3</th>\n",
              "      <td>pos</td>\n",
              "      <td>according to hollywood movies made in last few...</td>\n",
              "    </tr>\n",
              "    <tr>\n",
              "      <th>4</th>\n",
              "      <td>neg</td>\n",
              "      <td>my first press screening of 1998 and already i...</td>\n",
              "    </tr>\n",
              "    <tr>\n",
              "      <th>...</th>\n",
              "      <td>...</td>\n",
              "      <td>...</td>\n",
              "    </tr>\n",
              "    <tr>\n",
              "      <th>1995</th>\n",
              "      <td>pos</td>\n",
              "      <td>i like movies with albert brooks , and i reall...</td>\n",
              "    </tr>\n",
              "    <tr>\n",
              "      <th>1996</th>\n",
              "      <td>pos</td>\n",
              "      <td>it might surprise some to know that joel and e...</td>\n",
              "    </tr>\n",
              "    <tr>\n",
              "      <th>1997</th>\n",
              "      <td>pos</td>\n",
              "      <td>the verdict : spine-chilling drama from horror...</td>\n",
              "    </tr>\n",
              "    <tr>\n",
              "      <th>1998</th>\n",
              "      <td>pos</td>\n",
              "      <td>i want to correct what i wrote in a former ret...</td>\n",
              "    </tr>\n",
              "    <tr>\n",
              "      <th>1999</th>\n",
              "      <td>pos</td>\n",
              "      <td>a couple of months ago , when i first download...</td>\n",
              "    </tr>\n",
              "  </tbody>\n",
              "</table>\n",
              "<p>2000 rows × 2 columns</p>\n",
              "</div>\n",
              "      <button class=\"colab-df-convert\" onclick=\"convertToInteractive('df-0df68302-87d9-4ad5-98f0-52673a2bcd03')\"\n",
              "              title=\"Convert this dataframe to an interactive table.\"\n",
              "              style=\"display:none;\">\n",
              "        \n",
              "  <svg xmlns=\"http://www.w3.org/2000/svg\" height=\"24px\"viewBox=\"0 0 24 24\"\n",
              "       width=\"24px\">\n",
              "    <path d=\"M0 0h24v24H0V0z\" fill=\"none\"/>\n",
              "    <path d=\"M18.56 5.44l.94 2.06.94-2.06 2.06-.94-2.06-.94-.94-2.06-.94 2.06-2.06.94zm-11 1L8.5 8.5l.94-2.06 2.06-.94-2.06-.94L8.5 2.5l-.94 2.06-2.06.94zm10 10l.94 2.06.94-2.06 2.06-.94-2.06-.94-.94-2.06-.94 2.06-2.06.94z\"/><path d=\"M17.41 7.96l-1.37-1.37c-.4-.4-.92-.59-1.43-.59-.52 0-1.04.2-1.43.59L10.3 9.45l-7.72 7.72c-.78.78-.78 2.05 0 2.83L4 21.41c.39.39.9.59 1.41.59.51 0 1.02-.2 1.41-.59l7.78-7.78 2.81-2.81c.8-.78.8-2.07 0-2.86zM5.41 20L4 18.59l7.72-7.72 1.47 1.35L5.41 20z\"/>\n",
              "  </svg>\n",
              "      </button>\n",
              "      \n",
              "  <style>\n",
              "    .colab-df-container {\n",
              "      display:flex;\n",
              "      flex-wrap:wrap;\n",
              "      gap: 12px;\n",
              "    }\n",
              "\n",
              "    .colab-df-convert {\n",
              "      background-color: #E8F0FE;\n",
              "      border: none;\n",
              "      border-radius: 50%;\n",
              "      cursor: pointer;\n",
              "      display: none;\n",
              "      fill: #1967D2;\n",
              "      height: 32px;\n",
              "      padding: 0 0 0 0;\n",
              "      width: 32px;\n",
              "    }\n",
              "\n",
              "    .colab-df-convert:hover {\n",
              "      background-color: #E2EBFA;\n",
              "      box-shadow: 0px 1px 2px rgba(60, 64, 67, 0.3), 0px 1px 3px 1px rgba(60, 64, 67, 0.15);\n",
              "      fill: #174EA6;\n",
              "    }\n",
              "\n",
              "    [theme=dark] .colab-df-convert {\n",
              "      background-color: #3B4455;\n",
              "      fill: #D2E3FC;\n",
              "    }\n",
              "\n",
              "    [theme=dark] .colab-df-convert:hover {\n",
              "      background-color: #434B5C;\n",
              "      box-shadow: 0px 1px 3px 1px rgba(0, 0, 0, 0.15);\n",
              "      filter: drop-shadow(0px 1px 2px rgba(0, 0, 0, 0.3));\n",
              "      fill: #FFFFFF;\n",
              "    }\n",
              "  </style>\n",
              "\n",
              "      <script>\n",
              "        const buttonEl =\n",
              "          document.querySelector('#df-0df68302-87d9-4ad5-98f0-52673a2bcd03 button.colab-df-convert');\n",
              "        buttonEl.style.display =\n",
              "          google.colab.kernel.accessAllowed ? 'block' : 'none';\n",
              "\n",
              "        async function convertToInteractive(key) {\n",
              "          const element = document.querySelector('#df-0df68302-87d9-4ad5-98f0-52673a2bcd03');\n",
              "          const dataTable =\n",
              "            await google.colab.kernel.invokeFunction('convertToInteractive',\n",
              "                                                     [key], {});\n",
              "          if (!dataTable) return;\n",
              "\n",
              "          const docLinkHtml = 'Like what you see? Visit the ' +\n",
              "            '<a target=\"_blank\" href=https://colab.research.google.com/notebooks/data_table.ipynb>data table notebook</a>'\n",
              "            + ' to learn more about interactive tables.';\n",
              "          element.innerHTML = '';\n",
              "          dataTable['output_type'] = 'display_data';\n",
              "          await google.colab.output.renderOutput(dataTable, element);\n",
              "          const docLink = document.createElement('div');\n",
              "          docLink.innerHTML = docLinkHtml;\n",
              "          element.appendChild(docLink);\n",
              "        }\n",
              "      </script>\n",
              "    </div>\n",
              "  </div>\n",
              "  "
            ]
          },
          "metadata": {},
          "execution_count": 49
        }
      ]
    },
    {
      "cell_type": "code",
      "source": [
        "#READING CSV FILE\n",
        "pd.read_csv('digit.csv')"
      ],
      "metadata": {
        "colab": {
          "base_uri": "https://localhost:8080/",
          "height": 143
        },
        "id": "FySq_g6euiRO",
        "outputId": "2cb187aa-ab15-415b-d054-9553968c6cb4"
      },
      "execution_count": 52,
      "outputs": [
        {
          "output_type": "execute_result",
          "data": {
            "text/plain": [
              "   digit figure\n",
              "0      1    one\n",
              "1      2    two\n",
              "2      3  three"
            ],
            "text/html": [
              "\n",
              "  <div id=\"df-421c0e3f-3143-4704-8012-ecd91e9e2daa\">\n",
              "    <div class=\"colab-df-container\">\n",
              "      <div>\n",
              "<style scoped>\n",
              "    .dataframe tbody tr th:only-of-type {\n",
              "        vertical-align: middle;\n",
              "    }\n",
              "\n",
              "    .dataframe tbody tr th {\n",
              "        vertical-align: top;\n",
              "    }\n",
              "\n",
              "    .dataframe thead th {\n",
              "        text-align: right;\n",
              "    }\n",
              "</style>\n",
              "<table border=\"1\" class=\"dataframe\">\n",
              "  <thead>\n",
              "    <tr style=\"text-align: right;\">\n",
              "      <th></th>\n",
              "      <th>digit</th>\n",
              "      <th>figure</th>\n",
              "    </tr>\n",
              "  </thead>\n",
              "  <tbody>\n",
              "    <tr>\n",
              "      <th>0</th>\n",
              "      <td>1</td>\n",
              "      <td>one</td>\n",
              "    </tr>\n",
              "    <tr>\n",
              "      <th>1</th>\n",
              "      <td>2</td>\n",
              "      <td>two</td>\n",
              "    </tr>\n",
              "    <tr>\n",
              "      <th>2</th>\n",
              "      <td>3</td>\n",
              "      <td>three</td>\n",
              "    </tr>\n",
              "  </tbody>\n",
              "</table>\n",
              "</div>\n",
              "      <button class=\"colab-df-convert\" onclick=\"convertToInteractive('df-421c0e3f-3143-4704-8012-ecd91e9e2daa')\"\n",
              "              title=\"Convert this dataframe to an interactive table.\"\n",
              "              style=\"display:none;\">\n",
              "        \n",
              "  <svg xmlns=\"http://www.w3.org/2000/svg\" height=\"24px\"viewBox=\"0 0 24 24\"\n",
              "       width=\"24px\">\n",
              "    <path d=\"M0 0h24v24H0V0z\" fill=\"none\"/>\n",
              "    <path d=\"M18.56 5.44l.94 2.06.94-2.06 2.06-.94-2.06-.94-.94-2.06-.94 2.06-2.06.94zm-11 1L8.5 8.5l.94-2.06 2.06-.94-2.06-.94L8.5 2.5l-.94 2.06-2.06.94zm10 10l.94 2.06.94-2.06 2.06-.94-2.06-.94-.94-2.06-.94 2.06-2.06.94z\"/><path d=\"M17.41 7.96l-1.37-1.37c-.4-.4-.92-.59-1.43-.59-.52 0-1.04.2-1.43.59L10.3 9.45l-7.72 7.72c-.78.78-.78 2.05 0 2.83L4 21.41c.39.39.9.59 1.41.59.51 0 1.02-.2 1.41-.59l7.78-7.78 2.81-2.81c.8-.78.8-2.07 0-2.86zM5.41 20L4 18.59l7.72-7.72 1.47 1.35L5.41 20z\"/>\n",
              "  </svg>\n",
              "      </button>\n",
              "      \n",
              "  <style>\n",
              "    .colab-df-container {\n",
              "      display:flex;\n",
              "      flex-wrap:wrap;\n",
              "      gap: 12px;\n",
              "    }\n",
              "\n",
              "    .colab-df-convert {\n",
              "      background-color: #E8F0FE;\n",
              "      border: none;\n",
              "      border-radius: 50%;\n",
              "      cursor: pointer;\n",
              "      display: none;\n",
              "      fill: #1967D2;\n",
              "      height: 32px;\n",
              "      padding: 0 0 0 0;\n",
              "      width: 32px;\n",
              "    }\n",
              "\n",
              "    .colab-df-convert:hover {\n",
              "      background-color: #E2EBFA;\n",
              "      box-shadow: 0px 1px 2px rgba(60, 64, 67, 0.3), 0px 1px 3px 1px rgba(60, 64, 67, 0.15);\n",
              "      fill: #174EA6;\n",
              "    }\n",
              "\n",
              "    [theme=dark] .colab-df-convert {\n",
              "      background-color: #3B4455;\n",
              "      fill: #D2E3FC;\n",
              "    }\n",
              "\n",
              "    [theme=dark] .colab-df-convert:hover {\n",
              "      background-color: #434B5C;\n",
              "      box-shadow: 0px 1px 3px 1px rgba(0, 0, 0, 0.15);\n",
              "      filter: drop-shadow(0px 1px 2px rgba(0, 0, 0, 0.3));\n",
              "      fill: #FFFFFF;\n",
              "    }\n",
              "  </style>\n",
              "\n",
              "      <script>\n",
              "        const buttonEl =\n",
              "          document.querySelector('#df-421c0e3f-3143-4704-8012-ecd91e9e2daa button.colab-df-convert');\n",
              "        buttonEl.style.display =\n",
              "          google.colab.kernel.accessAllowed ? 'block' : 'none';\n",
              "\n",
              "        async function convertToInteractive(key) {\n",
              "          const element = document.querySelector('#df-421c0e3f-3143-4704-8012-ecd91e9e2daa');\n",
              "          const dataTable =\n",
              "            await google.colab.kernel.invokeFunction('convertToInteractive',\n",
              "                                                     [key], {});\n",
              "          if (!dataTable) return;\n",
              "\n",
              "          const docLinkHtml = 'Like what you see? Visit the ' +\n",
              "            '<a target=\"_blank\" href=https://colab.research.google.com/notebooks/data_table.ipynb>data table notebook</a>'\n",
              "            + ' to learn more about interactive tables.';\n",
              "          element.innerHTML = '';\n",
              "          dataTable['output_type'] = 'display_data';\n",
              "          await google.colab.output.renderOutput(dataTable, element);\n",
              "          const docLink = document.createElement('div');\n",
              "          docLink.innerHTML = docLinkHtml;\n",
              "          element.appendChild(docLink);\n",
              "        }\n",
              "      </script>\n",
              "    </div>\n",
              "  </div>\n",
              "  "
            ]
          },
          "metadata": {},
          "execution_count": 52
        }
      ]
    },
    {
      "cell_type": "markdown",
      "source": [
        "###READING AND WRITING .xlsx FILES WITH PANDAS"
      ],
      "metadata": {
        "id": "W5_V3rBuv2XC"
      }
    },
    {
      "cell_type": "code",
      "source": [
        "# df.to_excel('digit_sheet.xlsx',index=None,sheet_name='digit')"
      ],
      "metadata": {
        "id": "IBQXS1zWuiUT"
      },
      "execution_count": 54,
      "outputs": []
    },
    {
      "cell_type": "code",
      "source": [
        "#INSTALL xlsxwriter\n",
        "  # writer=pd.ExcelWriter('digit_sheet.xlsx',engine='xlsxwriter')\n",
        "  # df.to_excel(writer,index=None,sheet_name'digit1')\n",
        "  # writer.save()\n",
        "  # writer.close()"
      ],
      "metadata": {
        "id": "6i9TgG5YwO06"
      },
      "execution_count": null,
      "outputs": []
    },
    {
      "cell_type": "markdown",
      "source": [
        "###READING AND WRITING .json FILES"
      ],
      "metadata": {
        "id": "kyeRg_xew8pN"
      }
    },
    {
      "cell_type": "code",
      "source": [
        "import json"
      ],
      "metadata": {
        "id": "QaPlEkCzwO3s"
      },
      "execution_count": 55,
      "outputs": []
    },
    {
      "cell_type": "code",
      "source": [
        "data_dict={'one':'1','two':'2'}\n",
        "type(data_dict)"
      ],
      "metadata": {
        "colab": {
          "base_uri": "https://localhost:8080/"
        },
        "id": "sP_fKitRwO7D",
        "outputId": "53e017f2-ee47-4840-aae2-d2db1527e3d4"
      },
      "execution_count": 57,
      "outputs": [
        {
          "output_type": "execute_result",
          "data": {
            "text/plain": [
              "dict"
            ]
          },
          "metadata": {},
          "execution_count": 57
        }
      ]
    },
    {
      "cell_type": "code",
      "source": [
        "data_str='{\"one\":\"1\",\"two\":\"2\"}'\n",
        "type(data_str)"
      ],
      "metadata": {
        "colab": {
          "base_uri": "https://localhost:8080/"
        },
        "id": "QGwwpMZrwO9L",
        "outputId": "353d3422-8cfc-4ae1-fe51-c15064a337a5"
      },
      "execution_count": 58,
      "outputs": [
        {
          "output_type": "execute_result",
          "data": {
            "text/plain": [
              "str"
            ]
          },
          "metadata": {},
          "execution_count": 58
        }
      ]
    },
    {
      "cell_type": "code",
      "source": [
        "#load(),loads(),dump(),dumps()\n",
        "json.loads(data_str)#accept json convert dict"
      ],
      "metadata": {
        "colab": {
          "base_uri": "https://localhost:8080/"
        },
        "id": "FUcBe-F1wO_r",
        "outputId": "d490014b-4832-4cdb-9782-25f3def16131"
      },
      "execution_count": 59,
      "outputs": [
        {
          "output_type": "execute_result",
          "data": {
            "text/plain": [
              "{'one': '1', 'two': '2'}"
            ]
          },
          "metadata": {},
          "execution_count": 59
        }
      ]
    },
    {
      "cell_type": "code",
      "source": [
        "json.dumps(data_dict)#accept dict convert json"
      ],
      "metadata": {
        "colab": {
          "base_uri": "https://localhost:8080/",
          "height": 36
        },
        "id": "zplVJtH-wPDJ",
        "outputId": "8b2b2a24-a5e0-427b-eb6c-f84dacbddc35"
      },
      "execution_count": 70,
      "outputs": [
        {
          "output_type": "execute_result",
          "data": {
            "text/plain": [
              "'{\"one\": \"1\", \"two\": \"2\"}'"
            ],
            "application/vnd.google.colaboratory.intrinsic+json": {
              "type": "string"
            }
          },
          "metadata": {},
          "execution_count": 70
        }
      ]
    },
    {
      "cell_type": "code",
      "source": [
        "file=open('data.json','w')\n",
        "json.dump(data_str,file)\n",
        "file.close()"
      ],
      "metadata": {
        "id": "9V9aDUU4sm0h"
      },
      "execution_count": 68,
      "outputs": []
    },
    {
      "cell_type": "code",
      "source": [
        "s=open('data.json','r')\n",
        "s.read()"
      ],
      "metadata": {
        "colab": {
          "base_uri": "https://localhost:8080/",
          "height": 36
        },
        "id": "qIvpmMQB6MLc",
        "outputId": "6dfec9f6-9a1d-4305-cc1e-8a0b8e56628b"
      },
      "execution_count": 69,
      "outputs": [
        {
          "output_type": "execute_result",
          "data": {
            "text/plain": [
              "'\"{\\\\\"one\\\\\":\\\\\"1\\\\\",\\\\\"two\\\\\":\\\\\"2\\\\\"}\"'"
            ],
            "application/vnd.google.colaboratory.intrinsic+json": {
              "type": "string"
            }
          },
          "metadata": {},
          "execution_count": 69
        }
      ]
    },
    {
      "cell_type": "code",
      "source": [
        "file=open('data.json','r')\n",
        "json_data=json.load(file)\n",
        "file.close"
      ],
      "metadata": {
        "colab": {
          "base_uri": "https://localhost:8080/"
        },
        "id": "rc6hgNQf7f6J",
        "outputId": "4c538f38-d0ed-49f1-ad99-c458882c9013"
      },
      "execution_count": 71,
      "outputs": [
        {
          "output_type": "execute_result",
          "data": {
            "text/plain": [
              "<function TextIOWrapper.close>"
            ]
          },
          "metadata": {},
          "execution_count": 71
        }
      ]
    },
    {
      "cell_type": "code",
      "source": [
        "json.loads(json_data)"
      ],
      "metadata": {
        "colab": {
          "base_uri": "https://localhost:8080/"
        },
        "id": "vgGgGnJw7pxr",
        "outputId": "b1aac43c-5ec7-4607-f5fd-971130f159b9"
      },
      "execution_count": 73,
      "outputs": [
        {
          "output_type": "execute_result",
          "data": {
            "text/plain": [
              "{'one': '1', 'two': '2'}"
            ]
          },
          "metadata": {},
          "execution_count": 73
        }
      ]
    },
    {
      "cell_type": "markdown",
      "source": [
        "###EXTRACTING DATA FROM PDF"
      ],
      "metadata": {
        "id": "Iyfabk_C7Ftl"
      }
    },
    {
      "cell_type": "code",
      "source": [
        "!pip install PyPDF2"
      ],
      "metadata": {
        "colab": {
          "base_uri": "https://localhost:8080/"
        },
        "id": "WKqjvk-H6MOV",
        "outputId": "26b71530-b4dc-41bf-8075-3f05523ae082"
      },
      "execution_count": 84,
      "outputs": [
        {
          "output_type": "stream",
          "name": "stdout",
          "text": [
            "Requirement already satisfied: PyPDF2 in /usr/local/lib/python3.7/dist-packages (1.27.12)\n"
          ]
        }
      ]
    },
    {
      "cell_type": "code",
      "source": [
        "import PyPDF2 as pdf"
      ],
      "metadata": {
        "id": "Gr4X6ZIZ6MRw"
      },
      "execution_count": 85,
      "outputs": []
    },
    {
      "cell_type": "code",
      "source": [
        "file=open('NLP.pdf','rb')\n",
        "reader=pdf.PdfFileReader(file)\n",
        "reader"
      ],
      "metadata": {
        "colab": {
          "base_uri": "https://localhost:8080/"
        },
        "id": "tcnzJ-L9mmgu",
        "outputId": "7f835f77-8014-41d3-8492-76fb1fdb2c0d"
      },
      "execution_count": 86,
      "outputs": [
        {
          "output_type": "stream",
          "name": "stderr",
          "text": [
            "PdfReadWarning: Xref table not zero-indexed. ID numbers for objects will be corrected. [_reader.py:1067]\n"
          ]
        },
        {
          "output_type": "execute_result",
          "data": {
            "text/plain": [
              "<PyPDF2._reader.PdfFileReader at 0x7f98e5360710>"
            ]
          },
          "metadata": {},
          "execution_count": 86
        }
      ]
    },
    {
      "cell_type": "code",
      "source": [
        "reader.getIsEncrypted()"
      ],
      "metadata": {
        "colab": {
          "base_uri": "https://localhost:8080/"
        },
        "id": "S5Rg9h5v8wPy",
        "outputId": "26fabcc2-9b80-4310-c3aa-2b7625027560"
      },
      "execution_count": 87,
      "outputs": [
        {
          "output_type": "execute_result",
          "data": {
            "text/plain": [
              "False"
            ]
          },
          "metadata": {},
          "execution_count": 87
        }
      ]
    },
    {
      "cell_type": "code",
      "source": [
        "reader.getDocumentInfo()"
      ],
      "metadata": {
        "colab": {
          "base_uri": "https://localhost:8080/"
        },
        "id": "tenqtw7W8wSG",
        "outputId": "42ba6d7f-cf05-477b-f789-bb2e87bd6f5a"
      },
      "execution_count": 88,
      "outputs": [
        {
          "output_type": "execute_result",
          "data": {
            "text/plain": [
              "{'/Author': 's',\n",
              " '/CreationDate': 'D:20060227151709Z',\n",
              " '/Creator': 'Acrobat PDFMaker 6.0 for Word',\n",
              " '/ModDate': 'D:20060227152126Z',\n",
              " '/Producer': 'Acrobat Distiller 6.0 (Windows)',\n",
              " '/SourceModified': 'D:20060227151632',\n",
              " '/Title': '#n'}"
            ]
          },
          "metadata": {},
          "execution_count": 88
        }
      ]
    },
    {
      "cell_type": "code",
      "source": [
        "reader.getNumPages()"
      ],
      "metadata": {
        "colab": {
          "base_uri": "https://localhost:8080/"
        },
        "id": "tpWJLnn78wU1",
        "outputId": "bb2c315c-6700-4de7-d98f-f3153c63afba"
      },
      "execution_count": 89,
      "outputs": [
        {
          "output_type": "execute_result",
          "data": {
            "text/plain": [
              "19"
            ]
          },
          "metadata": {},
          "execution_count": 89
        }
      ]
    },
    {
      "cell_type": "code",
      "source": [
        "page1=reader.getPage(0).extractText()\n",
        "page1"
      ],
      "metadata": {
        "colab": {
          "base_uri": "https://localhost:8080/",
          "height": 227
        },
        "id": "_H_zV_4d9kUq",
        "outputId": "298d5f14-42ef-46bd-add4-e9900d71c94f"
      },
      "execution_count": 90,
      "outputs": [
        {
          "output_type": "execute_result",
          "data": {
            "text/plain": [
              "'Lkit: A Toolkit for \\nNatua\\nr\\nal La\\nngua\\nge Interface \\nConstruction \\n2. \\nNatural Language Processing (NLP) \\nThis section \\nprovides a br\\nief histor\\ny\\n \\nof \\nNLP, in\\ntroduces so\\nme of t\\nh\\ne main problem\\ns\\n involved\\n \\nin extracting meaning from hu\\nm\\na\\nn lan\\nguages a\\nnd exa\\nm\\nines the \\nkind of activities perfor\\nm\\ne\\nd\\n \\nby\\n NLP s\\ny\\nstems. \\n \\n \\n2.1. Background \\nNatural language processing s\\ny\\nstem\\ns \\ntake strings\\n \\nof words\\n (sentences) as their input and \\nproduce struc\\nt\\nured representations capturing the \\nm\\ne\\na\\nn\\ning of those \\nstrings as their output. The\\n \\nnature of this\\n outp\\nu\\nt \\ndepends heavil\\ny\\n \\no\\nn\\n the \\ntask at \\nhand. A \\nnatu\\nral language \\nunderstandin\\ng\\n \\nsy\\nstem\\n \\nserving as an interf\\nace to a dat\\na\\nbase \\nmight \\nacc\\nept questions in English w\\nh\\nich relate t\\no\\n \\nthe kind of \\ndata held by\\n the databas\\ne\\n. In this case\\n the\\n \\nmeaning\\n of t\\nh\\ne input (the \\noutput \\nof the \\nsy\\nstem\\n) \\nmight be expressed  in terms of structured SQL queries which c\\na\\nn be directly \\nsubm\\nitt\\ned to the database. \\n \\nThe first use of com\\nputers to m\\na\\nnipulate natura\\nl languages was in the 195\\n0s with attem\\np\\nts to\\n \\nautomate tr\\na\\nn\\nslation between Russi\\nan \\nand E\\nnglish [\\nL\\nocke \\n& \\nBooth]\\n. These sy\\nstem\\ns \\nwere \\nspecta\\nc\\nularly unsuccessful requiring \\nhum\\nan Ru\\nss\\nian-English translators to pre-edit the\\n \\nRussian and \\npost-edit the English. Based on World War II \\ncode breaking tec\\nhniques, the\\ny\\n \\ntook i\\nndivi\\ndual words in is\\nolation and checked their definition i\\nn\\n \\na dictionar\\ny\\n. \\nThey were of \\nlittle practical\\n use. Popular tales \\nabout these \\nsy\\nstem\\ns cite \\nmany\\n m\\ni\\ns-\\ntranslations including t\\nh\\ne \\nphrase \"\\nhydraulic ram\\n\" translated as \"\\nwater goat\\n\". \\n \\nIn the 1960s \\nnatural language processin\\ng\\n sy\\nstem\\ns \\nstarted to exam\\ni\\nn\\ne sentence \\nstructure but \\noften in an ad hoc m\\na\\nnne\\nr. These sy\\nste\\nm\\ns \\nwe\\nre b\\na\\ns\\ne\\nd on pattern \\nm\\na\\ntching and few derive\\nd \\nrepresentatio\\nns of m\\ne\\naning. The m\\no\\nst \\nwell known of these is Eliza [\\nW\\neisenbau\\nm\\n]\\n though t\\nh\\ni\\ns\\n \\nsy\\nstem\\n was n\\no\\nt the m\\no\\nst i\\nm\\npr\\nessive in \\nter\\nm\\ns of its abilit\\ny\\n to extract \\nm\\ne\\naning fr\\nom\\n language.\\n \\n \\nSerious developm\\nents in natu\\nral language processing took \\nplace in the early\\n &\\n m\\ni\\nd 1970s as \\nsy\\nstems start\\ne\\nd to use m\\no\\nre general ap\\nproaches \\nand atte\\nm\\np\\nt to for\\nm\\nally\\n describe the rules of\\n \\nthe language they\\n worked\\n with. LUNAR \\n[\\nW\\noods\\n 1973]\\n provided an English interface to \\na \\ndatabase holding details of m\\noon roc\\nk\\n sam\\npl\\nes. SHRDLU \\n[\\nW\\ni\\nnograd]\\n inter\\nf\\naced with a \\nvirtual robot \\nin a world of blocks, accepting \\nEnglish co\\nmmands t\\no\\n \\nm\\nove the blocks around\\n \\nand answer questions about the state of the wo\\nrld. Since that time there has\\n been parallel \\ndevelopm\\nent \\nof ideas and technologies that provi\\nde \\nthe basis for \\nm\\nodern natural language \\nprocessing sy\\nstem\\ns. \\nResearch in co\\nmputer linguist\\nics has provided greater \\nknowledge of\\n \\ngrammar con\\ns\\ntruction [\\nG\\nazdar]\\n and Artificial \\nIntelli\\ngence res\\near\\nc\\nh\\ners have produced m\\no\\nre\\n \\neffective \\nmechanism\\ns\\n for \\nparsing natur\\na\\nl la\\nnguages \\nand for representing mean\\nings [\\nA\\nllen\\n]\\n.\\n \\nNatural lang\\nuage processi\\nng sy\\nstem\\ns n\\no\\nw build \\non \\na solid base \\nof linguistic study\\n and us\\ne \\nhighly developed se\\nm\\na\\nntic representatio\\nns. \\n \\nRecently\\n (during the \\n1990s) natura\\nl language sy\\nstem\\ns\\n have either focused on specific, li\\nm\\ni\\nt\\ne\\nd \\ndom\\nains with\\n som\\ne\\n success or attem\\np\\nted to\\n pro\\nv\\nide \\ngeneral purp\\no\\nse language \\nunderstandin\\ng\\n \\nability with less success. \\nA major goal in contem\\npo\\nrary\\n language processing \\nresearch is to \\nproduce s\\ny\\nstems which wo\\nrk with com\\np\\nlete th\\nreads o\\nf\\n discourse (with hum\\nan l\\ni\\nke abilities) \\nrather than only\\n with isolated sentenc\\ne\\ns\\n [R\\nussell \\n& Norvig(a)\\n]\\n. \\nSuccess\\nes in\\n this area \\nar\\ne\\n \\ncurrently\\n lim\\nited. \\n \\n \\n \\n 1 \\n'"
            ],
            "application/vnd.google.colaboratory.intrinsic+json": {
              "type": "string"
            }
          },
          "metadata": {},
          "execution_count": 90
        }
      ]
    },
    {
      "cell_type": "code",
      "source": [
        "with open('pdf_text.txt','w') as file1:\n",
        "  for i in range(reader.getNumPages()):\n",
        "    page=reader.getPage(1).extractText()\n",
        "    file1.write(page)\n",
        "    file1.write('\\n')"
      ],
      "metadata": {
        "id": "E-Ul7fgI9kXP"
      },
      "execution_count": 93,
      "outputs": []
    },
    {
      "cell_type": "markdown",
      "source": [
        "###CONVERT AUDIO IN TEXT DATA"
      ],
      "metadata": {
        "id": "QHBE6aQJ_gn0"
      }
    },
    {
      "cell_type": "code",
      "source": [
        "import numpy as np\n",
        "from scipy.io import wavfile"
      ],
      "metadata": {
        "id": "XX19-a7OBvqA"
      },
      "execution_count": 115,
      "outputs": []
    },
    {
      "cell_type": "code",
      "source": [
        "fs,data=wavfile.read('laxmikant.wav')"
      ],
      "metadata": {
        "colab": {
          "base_uri": "https://localhost:8080/"
        },
        "id": "fjAdH0xHAF3M",
        "outputId": "56b1a3f7-1514-441f-8d9b-53b146cccd2e"
      },
      "execution_count": 116,
      "outputs": [
        {
          "output_type": "stream",
          "name": "stderr",
          "text": [
            "WavFileWarning: Chunk (non-data) not understood, skipping it. [ipykernel_launcher.py:1]\n"
          ]
        }
      ]
    },
    {
      "cell_type": "code",
      "source": [
        "fs"
      ],
      "metadata": {
        "colab": {
          "base_uri": "https://localhost:8080/"
        },
        "id": "EyZaKJN_BAEF",
        "outputId": "b061c1bf-ae29-466a-b504-33940b24d702"
      },
      "execution_count": 117,
      "outputs": [
        {
          "output_type": "execute_result",
          "data": {
            "text/plain": [
              "44100"
            ]
          },
          "metadata": {},
          "execution_count": 117
        }
      ]
    },
    {
      "cell_type": "code",
      "source": [
        "data"
      ],
      "metadata": {
        "colab": {
          "base_uri": "https://localhost:8080/"
        },
        "id": "I1q06Dc0BAHj",
        "outputId": "0c9d9071-75b9-4ef6-f644-4ed23eb507f5"
      },
      "execution_count": 118,
      "outputs": [
        {
          "output_type": "execute_result",
          "data": {
            "text/plain": [
              "array([[-9.1552734e-05, -9.1552734e-05],\n",
              "       [-6.1035156e-05, -6.1035156e-05],\n",
              "       [-6.1035156e-05, -9.1552734e-05],\n",
              "       ...,\n",
              "       [-1.2207031e-04, -1.8310547e-04],\n",
              "       [-1.2207031e-04, -9.1552734e-05],\n",
              "       [-6.1035156e-05, -9.1552734e-05]], dtype=float32)"
            ]
          },
          "metadata": {},
          "execution_count": 118
        }
      ]
    },
    {
      "cell_type": "code",
      "source": [
        "y=(np.iinfo(np.int32).max*(data/np.abs(data).max())).astype(np.int32)"
      ],
      "metadata": {
        "id": "Yn70srO_BB7v"
      },
      "execution_count": 119,
      "outputs": []
    },
    {
      "cell_type": "code",
      "source": [
        "np.iinfo(np.int32).max"
      ],
      "metadata": {
        "colab": {
          "base_uri": "https://localhost:8080/"
        },
        "id": "MBqHNYSLBB_Q",
        "outputId": "b482847b-f276-4cf1-8b85-e00d0dbae552"
      },
      "execution_count": 120,
      "outputs": [
        {
          "output_type": "execute_result",
          "data": {
            "text/plain": [
              "2147483647"
            ]
          },
          "metadata": {},
          "execution_count": 120
        }
      ]
    },
    {
      "cell_type": "code",
      "source": [
        "(data/np.abs(data).max())"
      ],
      "metadata": {
        "colab": {
          "base_uri": "https://localhost:8080/"
        },
        "id": "zT07siZBBS5J",
        "outputId": "aeba685e-f516-4ba1-bb6f-f5ce1272ff20"
      },
      "execution_count": 121,
      "outputs": [
        {
          "output_type": "execute_result",
          "data": {
            "text/plain": [
              "array([[-0.00018557, -0.00018557],\n",
              "       [-0.00012372, -0.00012372],\n",
              "       [-0.00012372, -0.00018557],\n",
              "       ...,\n",
              "       [-0.00024743, -0.00037115],\n",
              "       [-0.00024743, -0.00018557],\n",
              "       [-0.00012372, -0.00018557]], dtype=float32)"
            ]
          },
          "metadata": {},
          "execution_count": 121
        }
      ]
    },
    {
      "cell_type": "code",
      "source": [
        "y"
      ],
      "metadata": {
        "colab": {
          "base_uri": "https://localhost:8080/"
        },
        "id": "EPIMsANEBS8m",
        "outputId": "b46611b8-e364-435f-87b9-1696e6adc666"
      },
      "execution_count": 122,
      "outputs": [
        {
          "output_type": "execute_result",
          "data": {
            "text/plain": [
              "array([[-398518, -398518],\n",
              "       [-265679, -265679],\n",
              "       [-265679, -398518],\n",
              "       ...,\n",
              "       [-531358, -797037],\n",
              "       [-531358, -398518],\n",
              "       [-265679, -398518]], dtype=int32)"
            ]
          },
          "metadata": {},
          "execution_count": 122
        }
      ]
    },
    {
      "cell_type": "code",
      "source": [
        "wavfile.write('umayal.wav',fs,y)"
      ],
      "metadata": {
        "id": "4wE_SXsgAF6v"
      },
      "execution_count": 123,
      "outputs": []
    },
    {
      "cell_type": "code",
      "source": [
        "!pip install SpeechRecognition\n",
        "!conda update --force conda\n",
        "!conda install pyaudio"
      ],
      "metadata": {
        "colab": {
          "base_uri": "https://localhost:8080/"
        },
        "id": "GWfJcEh_9ka2",
        "outputId": "7d170332-ae10-45dc-b593-a9fcf1a86219"
      },
      "execution_count": 124,
      "outputs": [
        {
          "output_type": "stream",
          "name": "stdout",
          "text": [
            "Requirement already satisfied: SpeechRecognition in /usr/local/lib/python3.7/dist-packages (3.8.1)\n",
            "/bin/bash: conda: command not found\n",
            "/bin/bash: conda: command not found\n"
          ]
        }
      ]
    },
    {
      "cell_type": "code",
      "source": [
        "import speech_recognition as sr"
      ],
      "metadata": {
        "id": "nSJTZ1zi_AT7"
      },
      "execution_count": 125,
      "outputs": []
    },
    {
      "cell_type": "code",
      "source": [
        "r=sr.Recognizer()"
      ],
      "metadata": {
        "id": "2Oj4Jw3x_AWu"
      },
      "execution_count": 126,
      "outputs": []
    },
    {
      "cell_type": "code",
      "source": [
        "with sr.AudioFile('umayal.wav') as source:\n",
        "  audio=r.listen(source)\n",
        "  try:\n",
        "    text=r.recognize_google(audio)\n",
        "    print('Working on...')\n",
        "    print(text)\n",
        "  except:\n",
        "    print('Sorry. Try again.')"
      ],
      "metadata": {
        "colab": {
          "base_uri": "https://localhost:8080/"
        },
        "id": "K1LTs7oJ_AZU",
        "outputId": "94d14a3c-6447-4fbf-f451-d01cbcdc4a9a"
      },
      "execution_count": 129,
      "outputs": [
        {
          "output_type": "stream",
          "name": "stdout",
          "text": [
            "Working on...\n",
            "hello everyone how are you how's your hope you are enjoying these lesson and I would like to also request you to please leave your rating and if you have any doubts you can come into your questions in the question and answer section\n"
          ]
        }
      ]
    },
    {
      "cell_type": "markdown",
      "source": [
        "###TEXT TO SPEECH CONVERSION"
      ],
      "metadata": {
        "id": "tDL-y0R8En7y"
      }
    },
    {
      "cell_type": "code",
      "source": [
        "text=\"hello everyone how are you how's your hope you are enjoying these lesson and I would like to also request you to please leave your rating and if you have any doubts you can come into your questions in the question and answer section\""
      ],
      "metadata": {
        "id": "v8LlcrqT_AcW"
      },
      "execution_count": 130,
      "outputs": []
    },
    {
      "cell_type": "code",
      "source": [
        "!pip install gTTS"
      ],
      "metadata": {
        "colab": {
          "base_uri": "https://localhost:8080/"
        },
        "id": "r_4JkX-j_Af5",
        "outputId": "f2e2bf1d-40d7-4ada-e952-c1e45260ca44"
      },
      "execution_count": 131,
      "outputs": [
        {
          "output_type": "stream",
          "name": "stdout",
          "text": [
            "Collecting gTTS\n",
            "  Downloading gTTS-2.2.4-py3-none-any.whl (26 kB)\n",
            "Requirement already satisfied: click in /usr/local/lib/python3.7/dist-packages (from gTTS) (7.1.2)\n",
            "Requirement already satisfied: six in /usr/local/lib/python3.7/dist-packages (from gTTS) (1.15.0)\n",
            "Requirement already satisfied: requests in /usr/local/lib/python3.7/dist-packages (from gTTS) (2.23.0)\n",
            "Requirement already satisfied: urllib3!=1.25.0,!=1.25.1,<1.26,>=1.21.1 in /usr/local/lib/python3.7/dist-packages (from requests->gTTS) (1.24.3)\n",
            "Requirement already satisfied: idna<3,>=2.5 in /usr/local/lib/python3.7/dist-packages (from requests->gTTS) (2.10)\n",
            "Requirement already satisfied: certifi>=2017.4.17 in /usr/local/lib/python3.7/dist-packages (from requests->gTTS) (2021.10.8)\n",
            "Requirement already satisfied: chardet<4,>=3.0.2 in /usr/local/lib/python3.7/dist-packages (from requests->gTTS) (3.0.4)\n",
            "Installing collected packages: gTTS\n",
            "Successfully installed gTTS-2.2.4\n"
          ]
        }
      ]
    },
    {
      "cell_type": "code",
      "source": [
        "from gtts import gTTS as g"
      ],
      "metadata": {
        "id": "tmif5M2OE-c4"
      },
      "execution_count": 132,
      "outputs": []
    },
    {
      "cell_type": "code",
      "source": [
        "obj=g(text=text)\n",
        "obj.save('umayal_gtts.mp3')"
      ],
      "metadata": {
        "id": "DYVkVwFlE-gY"
      },
      "execution_count": 133,
      "outputs": []
    },
    {
      "cell_type": "code",
      "source": [
        "spanish = \"Hola, te doy la bienvendia en esta leccion. Dale me gusta y suscribete a este canal. Gracias \""
      ],
      "metadata": {
        "id": "Wg20cIY7FN2W"
      },
      "execution_count": 134,
      "outputs": []
    },
    {
      "cell_type": "code",
      "source": [
        "obj=g(text=spanish)\n",
        "obj.save('umayal_spanish.mp3')\n",
        "# obj=g(text=spanish,lang='en')\n",
        "# obj.save('umayal_spanish.mp3')"
      ],
      "metadata": {
        "id": "TU_vwUYZFN50"
      },
      "execution_count": 135,
      "outputs": []
    },
    {
      "cell_type": "markdown",
      "source": [
        "##SPAM TEXT CLASSIFICATION\n",
        "\n",
        "* N-Gram,Bi-Gram etc.\n",
        "* Bag of words(BoW)\n",
        "* Term frequency calculation(TF)\n",
        "* Inverse document frequency(IDF)\n",
        "* TFIDF\n"
      ],
      "metadata": {
        "id": "Fs7Riz_zmwkh"
      }
    },
    {
      "cell_type": "markdown",
      "source": [
        "###CODE ALONG -BoW"
      ],
      "metadata": {
        "id": "zXBm3j1XnYIl"
      }
    },
    {
      "cell_type": "code",
      "source": [
        "from sklearn.feature_extraction.text import CountVectorizer #numeric encoding"
      ],
      "metadata": {
        "id": "FmM_AJI8m1eU"
      },
      "execution_count": 242,
      "outputs": []
    },
    {
      "cell_type": "code",
      "source": [
        "import pandas as pd\n",
        "import numpy as np"
      ],
      "metadata": {
        "id": "6I8t02YUm1hF"
      },
      "execution_count": 243,
      "outputs": []
    },
    {
      "cell_type": "code",
      "source": [
        "x=['which book is this','this is book and this is math']"
      ],
      "metadata": {
        "id": "LR1OAP0fnjkY"
      },
      "execution_count": 244,
      "outputs": []
    },
    {
      "cell_type": "code",
      "source": [
        "cv=CountVectorizer()\n",
        "count=cv.fit_transform(x)"
      ],
      "metadata": {
        "id": "qIsy62Ovnjoi"
      },
      "execution_count": 245,
      "outputs": []
    },
    {
      "cell_type": "code",
      "source": [
        "count.toarray()#BoW"
      ],
      "metadata": {
        "colab": {
          "base_uri": "https://localhost:8080/"
        },
        "id": "8ivTz46Vnjqf",
        "outputId": "78c5761c-b182-42fb-de05-25e95da4a3f2"
      },
      "execution_count": 246,
      "outputs": [
        {
          "output_type": "execute_result",
          "data": {
            "text/plain": [
              "array([[0, 1, 1, 0, 1, 1],\n",
              "       [1, 1, 2, 1, 2, 0]])"
            ]
          },
          "metadata": {},
          "execution_count": 246
        }
      ]
    },
    {
      "cell_type": "code",
      "source": [
        "cv.get_feature_names()"
      ],
      "metadata": {
        "colab": {
          "base_uri": "https://localhost:8080/"
        },
        "id": "Lck0BXNyn60Y",
        "outputId": "27f3910e-696b-4bcd-f899-3905fc7ed556"
      },
      "execution_count": 247,
      "outputs": [
        {
          "output_type": "stream",
          "name": "stderr",
          "text": [
            "FutureWarning: Function get_feature_names is deprecated; get_feature_names is deprecated in 1.0 and will be removed in 1.2. Please use get_feature_names_out instead. [deprecation.py:87]\n"
          ]
        },
        {
          "output_type": "execute_result",
          "data": {
            "text/plain": [
              "['and', 'book', 'is', 'math', 'this', 'which']"
            ]
          },
          "metadata": {},
          "execution_count": 247
        }
      ]
    },
    {
      "cell_type": "code",
      "source": [
        "bow=pd.DataFrame(count.toarray(),columns=cv.get_feature_names())"
      ],
      "metadata": {
        "colab": {
          "base_uri": "https://localhost:8080/"
        },
        "id": "bOvmQvJXn62-",
        "outputId": "892d6427-647a-464d-b3cf-158c8f2f185c"
      },
      "execution_count": 248,
      "outputs": [
        {
          "output_type": "stream",
          "name": "stderr",
          "text": [
            "FutureWarning: Function get_feature_names is deprecated; get_feature_names is deprecated in 1.0 and will be removed in 1.2. Please use get_feature_names_out instead. [deprecation.py:87]\n"
          ]
        }
      ]
    },
    {
      "cell_type": "code",
      "source": [
        "bow"
      ],
      "metadata": {
        "colab": {
          "base_uri": "https://localhost:8080/",
          "height": 112
        },
        "id": "nzJfVibdn66V",
        "outputId": "c90454e9-c419-4abb-90f2-0a8893918916"
      },
      "execution_count": 249,
      "outputs": [
        {
          "output_type": "execute_result",
          "data": {
            "text/plain": [
              "   and  book  is  math  this  which\n",
              "0    0     1   1     0     1      1\n",
              "1    1     1   2     1     2      0"
            ],
            "text/html": [
              "\n",
              "  <div id=\"df-91ef40d6-f39a-4809-b685-2ea3ff496a48\">\n",
              "    <div class=\"colab-df-container\">\n",
              "      <div>\n",
              "<style scoped>\n",
              "    .dataframe tbody tr th:only-of-type {\n",
              "        vertical-align: middle;\n",
              "    }\n",
              "\n",
              "    .dataframe tbody tr th {\n",
              "        vertical-align: top;\n",
              "    }\n",
              "\n",
              "    .dataframe thead th {\n",
              "        text-align: right;\n",
              "    }\n",
              "</style>\n",
              "<table border=\"1\" class=\"dataframe\">\n",
              "  <thead>\n",
              "    <tr style=\"text-align: right;\">\n",
              "      <th></th>\n",
              "      <th>and</th>\n",
              "      <th>book</th>\n",
              "      <th>is</th>\n",
              "      <th>math</th>\n",
              "      <th>this</th>\n",
              "      <th>which</th>\n",
              "    </tr>\n",
              "  </thead>\n",
              "  <tbody>\n",
              "    <tr>\n",
              "      <th>0</th>\n",
              "      <td>0</td>\n",
              "      <td>1</td>\n",
              "      <td>1</td>\n",
              "      <td>0</td>\n",
              "      <td>1</td>\n",
              "      <td>1</td>\n",
              "    </tr>\n",
              "    <tr>\n",
              "      <th>1</th>\n",
              "      <td>1</td>\n",
              "      <td>1</td>\n",
              "      <td>2</td>\n",
              "      <td>1</td>\n",
              "      <td>2</td>\n",
              "      <td>0</td>\n",
              "    </tr>\n",
              "  </tbody>\n",
              "</table>\n",
              "</div>\n",
              "      <button class=\"colab-df-convert\" onclick=\"convertToInteractive('df-91ef40d6-f39a-4809-b685-2ea3ff496a48')\"\n",
              "              title=\"Convert this dataframe to an interactive table.\"\n",
              "              style=\"display:none;\">\n",
              "        \n",
              "  <svg xmlns=\"http://www.w3.org/2000/svg\" height=\"24px\"viewBox=\"0 0 24 24\"\n",
              "       width=\"24px\">\n",
              "    <path d=\"M0 0h24v24H0V0z\" fill=\"none\"/>\n",
              "    <path d=\"M18.56 5.44l.94 2.06.94-2.06 2.06-.94-2.06-.94-.94-2.06-.94 2.06-2.06.94zm-11 1L8.5 8.5l.94-2.06 2.06-.94-2.06-.94L8.5 2.5l-.94 2.06-2.06.94zm10 10l.94 2.06.94-2.06 2.06-.94-2.06-.94-.94-2.06-.94 2.06-2.06.94z\"/><path d=\"M17.41 7.96l-1.37-1.37c-.4-.4-.92-.59-1.43-.59-.52 0-1.04.2-1.43.59L10.3 9.45l-7.72 7.72c-.78.78-.78 2.05 0 2.83L4 21.41c.39.39.9.59 1.41.59.51 0 1.02-.2 1.41-.59l7.78-7.78 2.81-2.81c.8-.78.8-2.07 0-2.86zM5.41 20L4 18.59l7.72-7.72 1.47 1.35L5.41 20z\"/>\n",
              "  </svg>\n",
              "      </button>\n",
              "      \n",
              "  <style>\n",
              "    .colab-df-container {\n",
              "      display:flex;\n",
              "      flex-wrap:wrap;\n",
              "      gap: 12px;\n",
              "    }\n",
              "\n",
              "    .colab-df-convert {\n",
              "      background-color: #E8F0FE;\n",
              "      border: none;\n",
              "      border-radius: 50%;\n",
              "      cursor: pointer;\n",
              "      display: none;\n",
              "      fill: #1967D2;\n",
              "      height: 32px;\n",
              "      padding: 0 0 0 0;\n",
              "      width: 32px;\n",
              "    }\n",
              "\n",
              "    .colab-df-convert:hover {\n",
              "      background-color: #E2EBFA;\n",
              "      box-shadow: 0px 1px 2px rgba(60, 64, 67, 0.3), 0px 1px 3px 1px rgba(60, 64, 67, 0.15);\n",
              "      fill: #174EA6;\n",
              "    }\n",
              "\n",
              "    [theme=dark] .colab-df-convert {\n",
              "      background-color: #3B4455;\n",
              "      fill: #D2E3FC;\n",
              "    }\n",
              "\n",
              "    [theme=dark] .colab-df-convert:hover {\n",
              "      background-color: #434B5C;\n",
              "      box-shadow: 0px 1px 3px 1px rgba(0, 0, 0, 0.15);\n",
              "      filter: drop-shadow(0px 1px 2px rgba(0, 0, 0, 0.3));\n",
              "      fill: #FFFFFF;\n",
              "    }\n",
              "  </style>\n",
              "\n",
              "      <script>\n",
              "        const buttonEl =\n",
              "          document.querySelector('#df-91ef40d6-f39a-4809-b685-2ea3ff496a48 button.colab-df-convert');\n",
              "        buttonEl.style.display =\n",
              "          google.colab.kernel.accessAllowed ? 'block' : 'none';\n",
              "\n",
              "        async function convertToInteractive(key) {\n",
              "          const element = document.querySelector('#df-91ef40d6-f39a-4809-b685-2ea3ff496a48');\n",
              "          const dataTable =\n",
              "            await google.colab.kernel.invokeFunction('convertToInteractive',\n",
              "                                                     [key], {});\n",
              "          if (!dataTable) return;\n",
              "\n",
              "          const docLinkHtml = 'Like what you see? Visit the ' +\n",
              "            '<a target=\"_blank\" href=https://colab.research.google.com/notebooks/data_table.ipynb>data table notebook</a>'\n",
              "            + ' to learn more about interactive tables.';\n",
              "          element.innerHTML = '';\n",
              "          dataTable['output_type'] = 'display_data';\n",
              "          await google.colab.output.renderOutput(dataTable, element);\n",
              "          const docLink = document.createElement('div');\n",
              "          docLink.innerHTML = docLinkHtml;\n",
              "          element.appendChild(docLink);\n",
              "        }\n",
              "      </script>\n",
              "    </div>\n",
              "  </div>\n",
              "  "
            ]
          },
          "metadata": {},
          "execution_count": 249
        }
      ]
    },
    {
      "cell_type": "markdown",
      "source": [
        "###TERM FREQUENCY"
      ],
      "metadata": {
        "id": "WweEbrQOoXdf"
      }
    },
    {
      "cell_type": "code",
      "source": [
        "bow.shape"
      ],
      "metadata": {
        "colab": {
          "base_uri": "https://localhost:8080/"
        },
        "id": "vEIlXVpOm1k5",
        "outputId": "610eb803-127d-4433-954c-814629e2775a"
      },
      "execution_count": 277,
      "outputs": [
        {
          "output_type": "execute_result",
          "data": {
            "text/plain": [
              "(2, 6)"
            ]
          },
          "metadata": {},
          "execution_count": 277
        }
      ]
    },
    {
      "cell_type": "code",
      "source": [
        "tf=bow.copy()\n",
        "for index,row in enumerate(tf.iterrows()):\n",
        "  print(row[1])\n",
        "  print()"
      ],
      "metadata": {
        "colab": {
          "base_uri": "https://localhost:8080/"
        },
        "id": "pzUDVEqRoaQV",
        "outputId": "5c12f456-b06a-42ff-f70b-4f2d1dd59698"
      },
      "execution_count": 278,
      "outputs": [
        {
          "output_type": "stream",
          "name": "stdout",
          "text": [
            "and      0\n",
            "book     1\n",
            "is       1\n",
            "math     0\n",
            "this     1\n",
            "which    1\n",
            "Name: 0, dtype: int64\n",
            "\n",
            "and      1\n",
            "book     1\n",
            "is       2\n",
            "math     1\n",
            "this     2\n",
            "which    0\n",
            "Name: 1, dtype: int64\n",
            "\n"
          ]
        }
      ]
    },
    {
      "cell_type": "code",
      "source": [
        "tf=bow.copy()\n",
        "for index,row in enumerate(tf.iterrows()):\n",
        "  for col in row[1].index:\n",
        "    tf.loc[index,col]=tf.loc[index,col]/sum(row[1].values)"
      ],
      "metadata": {
        "id": "2NK6vD1ooaMw"
      },
      "execution_count": 279,
      "outputs": []
    },
    {
      "cell_type": "code",
      "source": [
        "tf"
      ],
      "metadata": {
        "colab": {
          "base_uri": "https://localhost:8080/",
          "height": 0
        },
        "id": "0uuDaH8boaKH",
        "outputId": "60fb86e1-7be3-47e6-ac43-cef3ee2adbd6"
      },
      "execution_count": 280,
      "outputs": [
        {
          "output_type": "execute_result",
          "data": {
            "text/plain": [
              "        and      book        is      math      this  which\n",
              "0  0.000000  0.250000  0.250000  0.000000  0.250000   0.25\n",
              "1  0.142857  0.142857  0.285714  0.142857  0.285714   0.00"
            ],
            "text/html": [
              "\n",
              "  <div id=\"df-69fbb030-ffcd-4799-92bb-cff6e4fc4870\">\n",
              "    <div class=\"colab-df-container\">\n",
              "      <div>\n",
              "<style scoped>\n",
              "    .dataframe tbody tr th:only-of-type {\n",
              "        vertical-align: middle;\n",
              "    }\n",
              "\n",
              "    .dataframe tbody tr th {\n",
              "        vertical-align: top;\n",
              "    }\n",
              "\n",
              "    .dataframe thead th {\n",
              "        text-align: right;\n",
              "    }\n",
              "</style>\n",
              "<table border=\"1\" class=\"dataframe\">\n",
              "  <thead>\n",
              "    <tr style=\"text-align: right;\">\n",
              "      <th></th>\n",
              "      <th>and</th>\n",
              "      <th>book</th>\n",
              "      <th>is</th>\n",
              "      <th>math</th>\n",
              "      <th>this</th>\n",
              "      <th>which</th>\n",
              "    </tr>\n",
              "  </thead>\n",
              "  <tbody>\n",
              "    <tr>\n",
              "      <th>0</th>\n",
              "      <td>0.000000</td>\n",
              "      <td>0.250000</td>\n",
              "      <td>0.250000</td>\n",
              "      <td>0.000000</td>\n",
              "      <td>0.250000</td>\n",
              "      <td>0.25</td>\n",
              "    </tr>\n",
              "    <tr>\n",
              "      <th>1</th>\n",
              "      <td>0.142857</td>\n",
              "      <td>0.142857</td>\n",
              "      <td>0.285714</td>\n",
              "      <td>0.142857</td>\n",
              "      <td>0.285714</td>\n",
              "      <td>0.00</td>\n",
              "    </tr>\n",
              "  </tbody>\n",
              "</table>\n",
              "</div>\n",
              "      <button class=\"colab-df-convert\" onclick=\"convertToInteractive('df-69fbb030-ffcd-4799-92bb-cff6e4fc4870')\"\n",
              "              title=\"Convert this dataframe to an interactive table.\"\n",
              "              style=\"display:none;\">\n",
              "        \n",
              "  <svg xmlns=\"http://www.w3.org/2000/svg\" height=\"24px\"viewBox=\"0 0 24 24\"\n",
              "       width=\"24px\">\n",
              "    <path d=\"M0 0h24v24H0V0z\" fill=\"none\"/>\n",
              "    <path d=\"M18.56 5.44l.94 2.06.94-2.06 2.06-.94-2.06-.94-.94-2.06-.94 2.06-2.06.94zm-11 1L8.5 8.5l.94-2.06 2.06-.94-2.06-.94L8.5 2.5l-.94 2.06-2.06.94zm10 10l.94 2.06.94-2.06 2.06-.94-2.06-.94-.94-2.06-.94 2.06-2.06.94z\"/><path d=\"M17.41 7.96l-1.37-1.37c-.4-.4-.92-.59-1.43-.59-.52 0-1.04.2-1.43.59L10.3 9.45l-7.72 7.72c-.78.78-.78 2.05 0 2.83L4 21.41c.39.39.9.59 1.41.59.51 0 1.02-.2 1.41-.59l7.78-7.78 2.81-2.81c.8-.78.8-2.07 0-2.86zM5.41 20L4 18.59l7.72-7.72 1.47 1.35L5.41 20z\"/>\n",
              "  </svg>\n",
              "      </button>\n",
              "      \n",
              "  <style>\n",
              "    .colab-df-container {\n",
              "      display:flex;\n",
              "      flex-wrap:wrap;\n",
              "      gap: 12px;\n",
              "    }\n",
              "\n",
              "    .colab-df-convert {\n",
              "      background-color: #E8F0FE;\n",
              "      border: none;\n",
              "      border-radius: 50%;\n",
              "      cursor: pointer;\n",
              "      display: none;\n",
              "      fill: #1967D2;\n",
              "      height: 32px;\n",
              "      padding: 0 0 0 0;\n",
              "      width: 32px;\n",
              "    }\n",
              "\n",
              "    .colab-df-convert:hover {\n",
              "      background-color: #E2EBFA;\n",
              "      box-shadow: 0px 1px 2px rgba(60, 64, 67, 0.3), 0px 1px 3px 1px rgba(60, 64, 67, 0.15);\n",
              "      fill: #174EA6;\n",
              "    }\n",
              "\n",
              "    [theme=dark] .colab-df-convert {\n",
              "      background-color: #3B4455;\n",
              "      fill: #D2E3FC;\n",
              "    }\n",
              "\n",
              "    [theme=dark] .colab-df-convert:hover {\n",
              "      background-color: #434B5C;\n",
              "      box-shadow: 0px 1px 3px 1px rgba(0, 0, 0, 0.15);\n",
              "      filter: drop-shadow(0px 1px 2px rgba(0, 0, 0, 0.3));\n",
              "      fill: #FFFFFF;\n",
              "    }\n",
              "  </style>\n",
              "\n",
              "      <script>\n",
              "        const buttonEl =\n",
              "          document.querySelector('#df-69fbb030-ffcd-4799-92bb-cff6e4fc4870 button.colab-df-convert');\n",
              "        buttonEl.style.display =\n",
              "          google.colab.kernel.accessAllowed ? 'block' : 'none';\n",
              "\n",
              "        async function convertToInteractive(key) {\n",
              "          const element = document.querySelector('#df-69fbb030-ffcd-4799-92bb-cff6e4fc4870');\n",
              "          const dataTable =\n",
              "            await google.colab.kernel.invokeFunction('convertToInteractive',\n",
              "                                                     [key], {});\n",
              "          if (!dataTable) return;\n",
              "\n",
              "          const docLinkHtml = 'Like what you see? Visit the ' +\n",
              "            '<a target=\"_blank\" href=https://colab.research.google.com/notebooks/data_table.ipynb>data table notebook</a>'\n",
              "            + ' to learn more about interactive tables.';\n",
              "          element.innerHTML = '';\n",
              "          dataTable['output_type'] = 'display_data';\n",
              "          await google.colab.output.renderOutput(dataTable, element);\n",
              "          const docLink = document.createElement('div');\n",
              "          docLink.innerHTML = docLinkHtml;\n",
              "          element.appendChild(docLink);\n",
              "        }\n",
              "      </script>\n",
              "    </div>\n",
              "  </div>\n",
              "  "
            ]
          },
          "metadata": {},
          "execution_count": 280
        }
      ]
    },
    {
      "cell_type": "markdown",
      "source": [
        "###INVERSE DOCUMENT FREQUENCY"
      ],
      "metadata": {
        "id": "e79ODIkOqiM9"
      }
    },
    {
      "cell_type": "code",
      "source": [
        "bb=bow.astype('bool')\n",
        "bb"
      ],
      "metadata": {
        "colab": {
          "base_uri": "https://localhost:8080/",
          "height": 0
        },
        "id": "JpMRylGuq1r9",
        "outputId": "16426a72-2c33-4c27-84da-ef7ba495c3f6"
      },
      "execution_count": 281,
      "outputs": [
        {
          "output_type": "execute_result",
          "data": {
            "text/plain": [
              "     and  book    is   math  this  which\n",
              "0  False  True  True  False  True   True\n",
              "1   True  True  True   True  True  False"
            ],
            "text/html": [
              "\n",
              "  <div id=\"df-5609abeb-5b4c-408b-b80e-c70d92a3ae15\">\n",
              "    <div class=\"colab-df-container\">\n",
              "      <div>\n",
              "<style scoped>\n",
              "    .dataframe tbody tr th:only-of-type {\n",
              "        vertical-align: middle;\n",
              "    }\n",
              "\n",
              "    .dataframe tbody tr th {\n",
              "        vertical-align: top;\n",
              "    }\n",
              "\n",
              "    .dataframe thead th {\n",
              "        text-align: right;\n",
              "    }\n",
              "</style>\n",
              "<table border=\"1\" class=\"dataframe\">\n",
              "  <thead>\n",
              "    <tr style=\"text-align: right;\">\n",
              "      <th></th>\n",
              "      <th>and</th>\n",
              "      <th>book</th>\n",
              "      <th>is</th>\n",
              "      <th>math</th>\n",
              "      <th>this</th>\n",
              "      <th>which</th>\n",
              "    </tr>\n",
              "  </thead>\n",
              "  <tbody>\n",
              "    <tr>\n",
              "      <th>0</th>\n",
              "      <td>False</td>\n",
              "      <td>True</td>\n",
              "      <td>True</td>\n",
              "      <td>False</td>\n",
              "      <td>True</td>\n",
              "      <td>True</td>\n",
              "    </tr>\n",
              "    <tr>\n",
              "      <th>1</th>\n",
              "      <td>True</td>\n",
              "      <td>True</td>\n",
              "      <td>True</td>\n",
              "      <td>True</td>\n",
              "      <td>True</td>\n",
              "      <td>False</td>\n",
              "    </tr>\n",
              "  </tbody>\n",
              "</table>\n",
              "</div>\n",
              "      <button class=\"colab-df-convert\" onclick=\"convertToInteractive('df-5609abeb-5b4c-408b-b80e-c70d92a3ae15')\"\n",
              "              title=\"Convert this dataframe to an interactive table.\"\n",
              "              style=\"display:none;\">\n",
              "        \n",
              "  <svg xmlns=\"http://www.w3.org/2000/svg\" height=\"24px\"viewBox=\"0 0 24 24\"\n",
              "       width=\"24px\">\n",
              "    <path d=\"M0 0h24v24H0V0z\" fill=\"none\"/>\n",
              "    <path d=\"M18.56 5.44l.94 2.06.94-2.06 2.06-.94-2.06-.94-.94-2.06-.94 2.06-2.06.94zm-11 1L8.5 8.5l.94-2.06 2.06-.94-2.06-.94L8.5 2.5l-.94 2.06-2.06.94zm10 10l.94 2.06.94-2.06 2.06-.94-2.06-.94-.94-2.06-.94 2.06-2.06.94z\"/><path d=\"M17.41 7.96l-1.37-1.37c-.4-.4-.92-.59-1.43-.59-.52 0-1.04.2-1.43.59L10.3 9.45l-7.72 7.72c-.78.78-.78 2.05 0 2.83L4 21.41c.39.39.9.59 1.41.59.51 0 1.02-.2 1.41-.59l7.78-7.78 2.81-2.81c.8-.78.8-2.07 0-2.86zM5.41 20L4 18.59l7.72-7.72 1.47 1.35L5.41 20z\"/>\n",
              "  </svg>\n",
              "      </button>\n",
              "      \n",
              "  <style>\n",
              "    .colab-df-container {\n",
              "      display:flex;\n",
              "      flex-wrap:wrap;\n",
              "      gap: 12px;\n",
              "    }\n",
              "\n",
              "    .colab-df-convert {\n",
              "      background-color: #E8F0FE;\n",
              "      border: none;\n",
              "      border-radius: 50%;\n",
              "      cursor: pointer;\n",
              "      display: none;\n",
              "      fill: #1967D2;\n",
              "      height: 32px;\n",
              "      padding: 0 0 0 0;\n",
              "      width: 32px;\n",
              "    }\n",
              "\n",
              "    .colab-df-convert:hover {\n",
              "      background-color: #E2EBFA;\n",
              "      box-shadow: 0px 1px 2px rgba(60, 64, 67, 0.3), 0px 1px 3px 1px rgba(60, 64, 67, 0.15);\n",
              "      fill: #174EA6;\n",
              "    }\n",
              "\n",
              "    [theme=dark] .colab-df-convert {\n",
              "      background-color: #3B4455;\n",
              "      fill: #D2E3FC;\n",
              "    }\n",
              "\n",
              "    [theme=dark] .colab-df-convert:hover {\n",
              "      background-color: #434B5C;\n",
              "      box-shadow: 0px 1px 3px 1px rgba(0, 0, 0, 0.15);\n",
              "      filter: drop-shadow(0px 1px 2px rgba(0, 0, 0, 0.3));\n",
              "      fill: #FFFFFF;\n",
              "    }\n",
              "  </style>\n",
              "\n",
              "      <script>\n",
              "        const buttonEl =\n",
              "          document.querySelector('#df-5609abeb-5b4c-408b-b80e-c70d92a3ae15 button.colab-df-convert');\n",
              "        buttonEl.style.display =\n",
              "          google.colab.kernel.accessAllowed ? 'block' : 'none';\n",
              "\n",
              "        async function convertToInteractive(key) {\n",
              "          const element = document.querySelector('#df-5609abeb-5b4c-408b-b80e-c70d92a3ae15');\n",
              "          const dataTable =\n",
              "            await google.colab.kernel.invokeFunction('convertToInteractive',\n",
              "                                                     [key], {});\n",
              "          if (!dataTable) return;\n",
              "\n",
              "          const docLinkHtml = 'Like what you see? Visit the ' +\n",
              "            '<a target=\"_blank\" href=https://colab.research.google.com/notebooks/data_table.ipynb>data table notebook</a>'\n",
              "            + ' to learn more about interactive tables.';\n",
              "          element.innerHTML = '';\n",
              "          dataTable['output_type'] = 'display_data';\n",
              "          await google.colab.output.renderOutput(dataTable, element);\n",
              "          const docLink = document.createElement('div');\n",
              "          docLink.innerHTML = docLinkHtml;\n",
              "          element.appendChild(docLink);\n",
              "        }\n",
              "      </script>\n",
              "    </div>\n",
              "  </div>\n",
              "  "
            ]
          },
          "metadata": {},
          "execution_count": 281
        }
      ]
    },
    {
      "cell_type": "code",
      "source": [
        "bb['is'].sum()"
      ],
      "metadata": {
        "colab": {
          "base_uri": "https://localhost:8080/"
        },
        "id": "T6Ubxy_UqOAo",
        "outputId": "b8372b75-29aa-4d51-c8ab-f57700ae3ec1"
      },
      "execution_count": 282,
      "outputs": [
        {
          "output_type": "execute_result",
          "data": {
            "text/plain": [
              "2"
            ]
          },
          "metadata": {},
          "execution_count": 282
        }
      ]
    },
    {
      "cell_type": "code",
      "source": [
        "cols=bb.columns\n",
        "cols"
      ],
      "metadata": {
        "colab": {
          "base_uri": "https://localhost:8080/"
        },
        "id": "qSq1I29WqODn",
        "outputId": "14ecf5bd-baeb-4a6e-9c7e-3450d8759695"
      },
      "execution_count": 283,
      "outputs": [
        {
          "output_type": "execute_result",
          "data": {
            "text/plain": [
              "Index(['and', 'book', 'is', 'math', 'this', 'which'], dtype='object')"
            ]
          },
          "metadata": {},
          "execution_count": 283
        }
      ]
    },
    {
      "cell_type": "code",
      "source": [
        "nz=[]\n",
        "for col in cols:\n",
        "  nz.append(bb[col].sum())\n",
        "nz"
      ],
      "metadata": {
        "colab": {
          "base_uri": "https://localhost:8080/"
        },
        "id": "Kwwym36FrArM",
        "outputId": "bf902d23-71f7-4b11-d59f-aa2af4b15b58"
      },
      "execution_count": 284,
      "outputs": [
        {
          "output_type": "execute_result",
          "data": {
            "text/plain": [
              "[1, 2, 2, 1, 2, 1]"
            ]
          },
          "metadata": {},
          "execution_count": 284
        }
      ]
    },
    {
      "cell_type": "markdown",
      "source": [
        "bb--> 1TRUE means we get 1;2 TRUE we get 2 in above code."
      ],
      "metadata": {
        "id": "NQK9vVwnrjTC"
      }
    },
    {
      "cell_type": "code",
      "source": [
        "N=2\n",
        "idf=[]\n",
        "for index,col in enumerate(cols):\n",
        "  idf.append(np.log((N+1)/(nz[index]+1))+1)\n",
        "idf"
      ],
      "metadata": {
        "colab": {
          "base_uri": "https://localhost:8080/"
        },
        "id": "n5pFE3bfqOGj",
        "outputId": "b16b2764-a780-4003-f8a1-5118b72389c5"
      },
      "execution_count": 285,
      "outputs": [
        {
          "output_type": "execute_result",
          "data": {
            "text/plain": [
              "[1.4054651081081644, 1.0, 1.0, 1.4054651081081644, 1.0, 1.4054651081081644]"
            ]
          },
          "metadata": {},
          "execution_count": 285
        }
      ]
    },
    {
      "cell_type": "code",
      "source": [
        "nz[index]"
      ],
      "metadata": {
        "colab": {
          "base_uri": "https://localhost:8080/"
        },
        "id": "GzlhLMqysR__",
        "outputId": "ae96c1c0-1032-487a-a9ef-c2de6bfd68e5"
      },
      "execution_count": 286,
      "outputs": [
        {
          "output_type": "execute_result",
          "data": {
            "text/plain": [
              "1"
            ]
          },
          "metadata": {},
          "execution_count": 286
        }
      ]
    },
    {
      "cell_type": "code",
      "source": [
        "x"
      ],
      "metadata": {
        "colab": {
          "base_uri": "https://localhost:8080/"
        },
        "id": "k4qn8c3WqOJy",
        "outputId": "e58eebcf-8635-4419-b074-6206ac50bb6b"
      },
      "execution_count": 287,
      "outputs": [
        {
          "output_type": "execute_result",
          "data": {
            "text/plain": [
              "['which book is this', 'this is book and this is math']"
            ]
          },
          "metadata": {},
          "execution_count": 287
        }
      ]
    },
    {
      "cell_type": "markdown",
      "source": [
        "###TFIDF  [TF+IDF]\n"
      ],
      "metadata": {
        "id": "-E0vJMRZsO6k"
      }
    },
    {
      "cell_type": "code",
      "source": [
        "from sklearn.feature_extraction.text import TfidfVectorizer"
      ],
      "metadata": {
        "id": "AI3JFCGHqONV"
      },
      "execution_count": 292,
      "outputs": []
    },
    {
      "cell_type": "code",
      "source": [
        "tfidf=TfidfVectorizer()\n",
        "X=tfidf.fit_transform(x)\n",
        "print(X.toarray())"
      ],
      "metadata": {
        "colab": {
          "base_uri": "https://localhost:8080/"
        },
        "id": "vS_LADXmw9Vl",
        "outputId": "d1187cb4-613f-4056-d066-22a080b29e44"
      },
      "execution_count": 293,
      "outputs": [
        {
          "output_type": "stream",
          "name": "stdout",
          "text": [
            "[[0.         0.44832087 0.44832087 0.         0.44832087 0.63009934]\n",
            " [0.39054766 0.27787788 0.55575576 0.39054766 0.55575576 0.        ]]\n"
          ]
        }
      ]
    },
    {
      "cell_type": "code",
      "source": [
        "idf"
      ],
      "metadata": {
        "colab": {
          "base_uri": "https://localhost:8080/"
        },
        "id": "d9yfm11wxcVy",
        "outputId": "b483db50-ddf2-492b-c9f6-1c8ba2c9cb2d"
      },
      "execution_count": 294,
      "outputs": [
        {
          "output_type": "execute_result",
          "data": {
            "text/plain": [
              "[1.4054651081081644, 1.0, 1.0, 1.4054651081081644, 1.0, 1.4054651081081644]"
            ]
          },
          "metadata": {},
          "execution_count": 294
        }
      ]
    },
    {
      "cell_type": "code",
      "source": [
        "print(tfidf.idf_)"
      ],
      "metadata": {
        "colab": {
          "base_uri": "https://localhost:8080/"
        },
        "id": "6XT_uwsgsNcZ",
        "outputId": "1b8c3996-5903-4c9f-8d74-5592699d4aad"
      },
      "execution_count": 295,
      "outputs": [
        {
          "output_type": "stream",
          "name": "stdout",
          "text": [
            "[1.40546511 1.         1.         1.40546511 1.         1.40546511]\n"
          ]
        }
      ]
    },
    {
      "cell_type": "markdown",
      "source": [
        "###LOAD SPAM DATASET"
      ],
      "metadata": {
        "id": "Hotn2DWgxnSQ"
      }
    },
    {
      "cell_type": "code",
      "source": [
        "df=pd.read_csv('spam.tsv',sep='\\t')\n",
        "df.head()"
      ],
      "metadata": {
        "colab": {
          "base_uri": "https://localhost:8080/",
          "height": 206
        },
        "id": "YKVGqULwsNfE",
        "outputId": "be04e697-bb96-45e8-fcce-b77e76ba5fc7"
      },
      "execution_count": 296,
      "outputs": [
        {
          "output_type": "execute_result",
          "data": {
            "text/plain": [
              "  label                                            message  length  punct\n",
              "0   ham  Go until jurong point, crazy.. Available only ...     111      9\n",
              "1   ham                      Ok lar... Joking wif u oni...      29      6\n",
              "2  spam  Free entry in 2 a wkly comp to win FA Cup fina...     155      6\n",
              "3   ham  U dun say so early hor... U c already then say...      49      6\n",
              "4   ham  Nah I don't think he goes to usf, he lives aro...      61      2"
            ],
            "text/html": [
              "\n",
              "  <div id=\"df-b622ca49-23ad-4c6b-8654-e41273019324\">\n",
              "    <div class=\"colab-df-container\">\n",
              "      <div>\n",
              "<style scoped>\n",
              "    .dataframe tbody tr th:only-of-type {\n",
              "        vertical-align: middle;\n",
              "    }\n",
              "\n",
              "    .dataframe tbody tr th {\n",
              "        vertical-align: top;\n",
              "    }\n",
              "\n",
              "    .dataframe thead th {\n",
              "        text-align: right;\n",
              "    }\n",
              "</style>\n",
              "<table border=\"1\" class=\"dataframe\">\n",
              "  <thead>\n",
              "    <tr style=\"text-align: right;\">\n",
              "      <th></th>\n",
              "      <th>label</th>\n",
              "      <th>message</th>\n",
              "      <th>length</th>\n",
              "      <th>punct</th>\n",
              "    </tr>\n",
              "  </thead>\n",
              "  <tbody>\n",
              "    <tr>\n",
              "      <th>0</th>\n",
              "      <td>ham</td>\n",
              "      <td>Go until jurong point, crazy.. Available only ...</td>\n",
              "      <td>111</td>\n",
              "      <td>9</td>\n",
              "    </tr>\n",
              "    <tr>\n",
              "      <th>1</th>\n",
              "      <td>ham</td>\n",
              "      <td>Ok lar... Joking wif u oni...</td>\n",
              "      <td>29</td>\n",
              "      <td>6</td>\n",
              "    </tr>\n",
              "    <tr>\n",
              "      <th>2</th>\n",
              "      <td>spam</td>\n",
              "      <td>Free entry in 2 a wkly comp to win FA Cup fina...</td>\n",
              "      <td>155</td>\n",
              "      <td>6</td>\n",
              "    </tr>\n",
              "    <tr>\n",
              "      <th>3</th>\n",
              "      <td>ham</td>\n",
              "      <td>U dun say so early hor... U c already then say...</td>\n",
              "      <td>49</td>\n",
              "      <td>6</td>\n",
              "    </tr>\n",
              "    <tr>\n",
              "      <th>4</th>\n",
              "      <td>ham</td>\n",
              "      <td>Nah I don't think he goes to usf, he lives aro...</td>\n",
              "      <td>61</td>\n",
              "      <td>2</td>\n",
              "    </tr>\n",
              "  </tbody>\n",
              "</table>\n",
              "</div>\n",
              "      <button class=\"colab-df-convert\" onclick=\"convertToInteractive('df-b622ca49-23ad-4c6b-8654-e41273019324')\"\n",
              "              title=\"Convert this dataframe to an interactive table.\"\n",
              "              style=\"display:none;\">\n",
              "        \n",
              "  <svg xmlns=\"http://www.w3.org/2000/svg\" height=\"24px\"viewBox=\"0 0 24 24\"\n",
              "       width=\"24px\">\n",
              "    <path d=\"M0 0h24v24H0V0z\" fill=\"none\"/>\n",
              "    <path d=\"M18.56 5.44l.94 2.06.94-2.06 2.06-.94-2.06-.94-.94-2.06-.94 2.06-2.06.94zm-11 1L8.5 8.5l.94-2.06 2.06-.94-2.06-.94L8.5 2.5l-.94 2.06-2.06.94zm10 10l.94 2.06.94-2.06 2.06-.94-2.06-.94-.94-2.06-.94 2.06-2.06.94z\"/><path d=\"M17.41 7.96l-1.37-1.37c-.4-.4-.92-.59-1.43-.59-.52 0-1.04.2-1.43.59L10.3 9.45l-7.72 7.72c-.78.78-.78 2.05 0 2.83L4 21.41c.39.39.9.59 1.41.59.51 0 1.02-.2 1.41-.59l7.78-7.78 2.81-2.81c.8-.78.8-2.07 0-2.86zM5.41 20L4 18.59l7.72-7.72 1.47 1.35L5.41 20z\"/>\n",
              "  </svg>\n",
              "      </button>\n",
              "      \n",
              "  <style>\n",
              "    .colab-df-container {\n",
              "      display:flex;\n",
              "      flex-wrap:wrap;\n",
              "      gap: 12px;\n",
              "    }\n",
              "\n",
              "    .colab-df-convert {\n",
              "      background-color: #E8F0FE;\n",
              "      border: none;\n",
              "      border-radius: 50%;\n",
              "      cursor: pointer;\n",
              "      display: none;\n",
              "      fill: #1967D2;\n",
              "      height: 32px;\n",
              "      padding: 0 0 0 0;\n",
              "      width: 32px;\n",
              "    }\n",
              "\n",
              "    .colab-df-convert:hover {\n",
              "      background-color: #E2EBFA;\n",
              "      box-shadow: 0px 1px 2px rgba(60, 64, 67, 0.3), 0px 1px 3px 1px rgba(60, 64, 67, 0.15);\n",
              "      fill: #174EA6;\n",
              "    }\n",
              "\n",
              "    [theme=dark] .colab-df-convert {\n",
              "      background-color: #3B4455;\n",
              "      fill: #D2E3FC;\n",
              "    }\n",
              "\n",
              "    [theme=dark] .colab-df-convert:hover {\n",
              "      background-color: #434B5C;\n",
              "      box-shadow: 0px 1px 3px 1px rgba(0, 0, 0, 0.15);\n",
              "      filter: drop-shadow(0px 1px 2px rgba(0, 0, 0, 0.3));\n",
              "      fill: #FFFFFF;\n",
              "    }\n",
              "  </style>\n",
              "\n",
              "      <script>\n",
              "        const buttonEl =\n",
              "          document.querySelector('#df-b622ca49-23ad-4c6b-8654-e41273019324 button.colab-df-convert');\n",
              "        buttonEl.style.display =\n",
              "          google.colab.kernel.accessAllowed ? 'block' : 'none';\n",
              "\n",
              "        async function convertToInteractive(key) {\n",
              "          const element = document.querySelector('#df-b622ca49-23ad-4c6b-8654-e41273019324');\n",
              "          const dataTable =\n",
              "            await google.colab.kernel.invokeFunction('convertToInteractive',\n",
              "                                                     [key], {});\n",
              "          if (!dataTable) return;\n",
              "\n",
              "          const docLinkHtml = 'Like what you see? Visit the ' +\n",
              "            '<a target=\"_blank\" href=https://colab.research.google.com/notebooks/data_table.ipynb>data table notebook</a>'\n",
              "            + ' to learn more about interactive tables.';\n",
              "          element.innerHTML = '';\n",
              "          dataTable['output_type'] = 'display_data';\n",
              "          await google.colab.output.renderOutput(dataTable, element);\n",
              "          const docLink = document.createElement('div');\n",
              "          docLink.innerHTML = docLinkHtml;\n",
              "          element.appendChild(docLink);\n",
              "        }\n",
              "      </script>\n",
              "    </div>\n",
              "  </div>\n",
              "  "
            ]
          },
          "metadata": {},
          "execution_count": 296
        }
      ]
    },
    {
      "cell_type": "code",
      "source": [
        "df.isnull().sum()"
      ],
      "metadata": {
        "colab": {
          "base_uri": "https://localhost:8080/"
        },
        "id": "UCHXZhXAsNhq",
        "outputId": "bd00c956-5a51-4255-dd4b-48c17def3276"
      },
      "execution_count": 297,
      "outputs": [
        {
          "output_type": "execute_result",
          "data": {
            "text/plain": [
              "label      0\n",
              "message    0\n",
              "length     0\n",
              "punct      0\n",
              "dtype: int64"
            ]
          },
          "metadata": {},
          "execution_count": 297
        }
      ]
    },
    {
      "cell_type": "code",
      "source": [
        "df.shape"
      ],
      "metadata": {
        "colab": {
          "base_uri": "https://localhost:8080/"
        },
        "id": "qd46cjNTx3An",
        "outputId": "309139b2-b58c-41c4-9387-0e31e7a0cb53"
      },
      "execution_count": 298,
      "outputs": [
        {
          "output_type": "execute_result",
          "data": {
            "text/plain": [
              "(5572, 4)"
            ]
          },
          "metadata": {},
          "execution_count": 298
        }
      ]
    },
    {
      "cell_type": "code",
      "source": [
        "df['label'].value_counts()"
      ],
      "metadata": {
        "colab": {
          "base_uri": "https://localhost:8080/"
        },
        "id": "3UzY5Q_Kx3De",
        "outputId": "77f1620c-6634-4398-9b30-842fbb99fc4c"
      },
      "execution_count": 299,
      "outputs": [
        {
          "output_type": "execute_result",
          "data": {
            "text/plain": [
              "ham     4825\n",
              "spam     747\n",
              "Name: label, dtype: int64"
            ]
          },
          "metadata": {},
          "execution_count": 299
        }
      ]
    },
    {
      "cell_type": "markdown",
      "source": [
        "###BALANCE DATASET"
      ],
      "metadata": {
        "id": "eAbrZ-58yAVs"
      }
    },
    {
      "cell_type": "code",
      "source": [
        "ham=df[df['label']=='ham']\n",
        "ham.head()"
      ],
      "metadata": {
        "colab": {
          "base_uri": "https://localhost:8080/",
          "height": 206
        },
        "id": "65NiZHjlx3HF",
        "outputId": "0f151d7f-8ee1-47e4-af14-4b97312cba45"
      },
      "execution_count": 300,
      "outputs": [
        {
          "output_type": "execute_result",
          "data": {
            "text/plain": [
              "  label                                            message  length  punct\n",
              "0   ham  Go until jurong point, crazy.. Available only ...     111      9\n",
              "1   ham                      Ok lar... Joking wif u oni...      29      6\n",
              "3   ham  U dun say so early hor... U c already then say...      49      6\n",
              "4   ham  Nah I don't think he goes to usf, he lives aro...      61      2\n",
              "6   ham  Even my brother is not like to speak with me. ...      77      2"
            ],
            "text/html": [
              "\n",
              "  <div id=\"df-322fa8c2-4861-4876-8c75-03480e68c033\">\n",
              "    <div class=\"colab-df-container\">\n",
              "      <div>\n",
              "<style scoped>\n",
              "    .dataframe tbody tr th:only-of-type {\n",
              "        vertical-align: middle;\n",
              "    }\n",
              "\n",
              "    .dataframe tbody tr th {\n",
              "        vertical-align: top;\n",
              "    }\n",
              "\n",
              "    .dataframe thead th {\n",
              "        text-align: right;\n",
              "    }\n",
              "</style>\n",
              "<table border=\"1\" class=\"dataframe\">\n",
              "  <thead>\n",
              "    <tr style=\"text-align: right;\">\n",
              "      <th></th>\n",
              "      <th>label</th>\n",
              "      <th>message</th>\n",
              "      <th>length</th>\n",
              "      <th>punct</th>\n",
              "    </tr>\n",
              "  </thead>\n",
              "  <tbody>\n",
              "    <tr>\n",
              "      <th>0</th>\n",
              "      <td>ham</td>\n",
              "      <td>Go until jurong point, crazy.. Available only ...</td>\n",
              "      <td>111</td>\n",
              "      <td>9</td>\n",
              "    </tr>\n",
              "    <tr>\n",
              "      <th>1</th>\n",
              "      <td>ham</td>\n",
              "      <td>Ok lar... Joking wif u oni...</td>\n",
              "      <td>29</td>\n",
              "      <td>6</td>\n",
              "    </tr>\n",
              "    <tr>\n",
              "      <th>3</th>\n",
              "      <td>ham</td>\n",
              "      <td>U dun say so early hor... U c already then say...</td>\n",
              "      <td>49</td>\n",
              "      <td>6</td>\n",
              "    </tr>\n",
              "    <tr>\n",
              "      <th>4</th>\n",
              "      <td>ham</td>\n",
              "      <td>Nah I don't think he goes to usf, he lives aro...</td>\n",
              "      <td>61</td>\n",
              "      <td>2</td>\n",
              "    </tr>\n",
              "    <tr>\n",
              "      <th>6</th>\n",
              "      <td>ham</td>\n",
              "      <td>Even my brother is not like to speak with me. ...</td>\n",
              "      <td>77</td>\n",
              "      <td>2</td>\n",
              "    </tr>\n",
              "  </tbody>\n",
              "</table>\n",
              "</div>\n",
              "      <button class=\"colab-df-convert\" onclick=\"convertToInteractive('df-322fa8c2-4861-4876-8c75-03480e68c033')\"\n",
              "              title=\"Convert this dataframe to an interactive table.\"\n",
              "              style=\"display:none;\">\n",
              "        \n",
              "  <svg xmlns=\"http://www.w3.org/2000/svg\" height=\"24px\"viewBox=\"0 0 24 24\"\n",
              "       width=\"24px\">\n",
              "    <path d=\"M0 0h24v24H0V0z\" fill=\"none\"/>\n",
              "    <path d=\"M18.56 5.44l.94 2.06.94-2.06 2.06-.94-2.06-.94-.94-2.06-.94 2.06-2.06.94zm-11 1L8.5 8.5l.94-2.06 2.06-.94-2.06-.94L8.5 2.5l-.94 2.06-2.06.94zm10 10l.94 2.06.94-2.06 2.06-.94-2.06-.94-.94-2.06-.94 2.06-2.06.94z\"/><path d=\"M17.41 7.96l-1.37-1.37c-.4-.4-.92-.59-1.43-.59-.52 0-1.04.2-1.43.59L10.3 9.45l-7.72 7.72c-.78.78-.78 2.05 0 2.83L4 21.41c.39.39.9.59 1.41.59.51 0 1.02-.2 1.41-.59l7.78-7.78 2.81-2.81c.8-.78.8-2.07 0-2.86zM5.41 20L4 18.59l7.72-7.72 1.47 1.35L5.41 20z\"/>\n",
              "  </svg>\n",
              "      </button>\n",
              "      \n",
              "  <style>\n",
              "    .colab-df-container {\n",
              "      display:flex;\n",
              "      flex-wrap:wrap;\n",
              "      gap: 12px;\n",
              "    }\n",
              "\n",
              "    .colab-df-convert {\n",
              "      background-color: #E8F0FE;\n",
              "      border: none;\n",
              "      border-radius: 50%;\n",
              "      cursor: pointer;\n",
              "      display: none;\n",
              "      fill: #1967D2;\n",
              "      height: 32px;\n",
              "      padding: 0 0 0 0;\n",
              "      width: 32px;\n",
              "    }\n",
              "\n",
              "    .colab-df-convert:hover {\n",
              "      background-color: #E2EBFA;\n",
              "      box-shadow: 0px 1px 2px rgba(60, 64, 67, 0.3), 0px 1px 3px 1px rgba(60, 64, 67, 0.15);\n",
              "      fill: #174EA6;\n",
              "    }\n",
              "\n",
              "    [theme=dark] .colab-df-convert {\n",
              "      background-color: #3B4455;\n",
              "      fill: #D2E3FC;\n",
              "    }\n",
              "\n",
              "    [theme=dark] .colab-df-convert:hover {\n",
              "      background-color: #434B5C;\n",
              "      box-shadow: 0px 1px 3px 1px rgba(0, 0, 0, 0.15);\n",
              "      filter: drop-shadow(0px 1px 2px rgba(0, 0, 0, 0.3));\n",
              "      fill: #FFFFFF;\n",
              "    }\n",
              "  </style>\n",
              "\n",
              "      <script>\n",
              "        const buttonEl =\n",
              "          document.querySelector('#df-322fa8c2-4861-4876-8c75-03480e68c033 button.colab-df-convert');\n",
              "        buttonEl.style.display =\n",
              "          google.colab.kernel.accessAllowed ? 'block' : 'none';\n",
              "\n",
              "        async function convertToInteractive(key) {\n",
              "          const element = document.querySelector('#df-322fa8c2-4861-4876-8c75-03480e68c033');\n",
              "          const dataTable =\n",
              "            await google.colab.kernel.invokeFunction('convertToInteractive',\n",
              "                                                     [key], {});\n",
              "          if (!dataTable) return;\n",
              "\n",
              "          const docLinkHtml = 'Like what you see? Visit the ' +\n",
              "            '<a target=\"_blank\" href=https://colab.research.google.com/notebooks/data_table.ipynb>data table notebook</a>'\n",
              "            + ' to learn more about interactive tables.';\n",
              "          element.innerHTML = '';\n",
              "          dataTable['output_type'] = 'display_data';\n",
              "          await google.colab.output.renderOutput(dataTable, element);\n",
              "          const docLink = document.createElement('div');\n",
              "          docLink.innerHTML = docLinkHtml;\n",
              "          element.appendChild(docLink);\n",
              "        }\n",
              "      </script>\n",
              "    </div>\n",
              "  </div>\n",
              "  "
            ]
          },
          "metadata": {},
          "execution_count": 300
        }
      ]
    },
    {
      "cell_type": "code",
      "source": [
        "spam=df[df['label']=='spam']\n",
        "spam.head()"
      ],
      "metadata": {
        "colab": {
          "base_uri": "https://localhost:8080/",
          "height": 206
        },
        "id": "kicmcTANsNkP",
        "outputId": "a40b1953-9718-48ec-a1e0-991f28e9c995"
      },
      "execution_count": 301,
      "outputs": [
        {
          "output_type": "execute_result",
          "data": {
            "text/plain": [
              "   label                                            message  length  punct\n",
              "2   spam  Free entry in 2 a wkly comp to win FA Cup fina...     155      6\n",
              "5   spam  FreeMsg Hey there darling it's been 3 week's n...     147      8\n",
              "8   spam  WINNER!! As a valued network customer you have...     157      6\n",
              "9   spam  Had your mobile 11 months or more? U R entitle...     154      2\n",
              "11  spam  SIX chances to win CASH! From 100 to 20,000 po...     136      8"
            ],
            "text/html": [
              "\n",
              "  <div id=\"df-80a8c0d6-7be1-4c7f-a25b-da54d0fc5dd1\">\n",
              "    <div class=\"colab-df-container\">\n",
              "      <div>\n",
              "<style scoped>\n",
              "    .dataframe tbody tr th:only-of-type {\n",
              "        vertical-align: middle;\n",
              "    }\n",
              "\n",
              "    .dataframe tbody tr th {\n",
              "        vertical-align: top;\n",
              "    }\n",
              "\n",
              "    .dataframe thead th {\n",
              "        text-align: right;\n",
              "    }\n",
              "</style>\n",
              "<table border=\"1\" class=\"dataframe\">\n",
              "  <thead>\n",
              "    <tr style=\"text-align: right;\">\n",
              "      <th></th>\n",
              "      <th>label</th>\n",
              "      <th>message</th>\n",
              "      <th>length</th>\n",
              "      <th>punct</th>\n",
              "    </tr>\n",
              "  </thead>\n",
              "  <tbody>\n",
              "    <tr>\n",
              "      <th>2</th>\n",
              "      <td>spam</td>\n",
              "      <td>Free entry in 2 a wkly comp to win FA Cup fina...</td>\n",
              "      <td>155</td>\n",
              "      <td>6</td>\n",
              "    </tr>\n",
              "    <tr>\n",
              "      <th>5</th>\n",
              "      <td>spam</td>\n",
              "      <td>FreeMsg Hey there darling it's been 3 week's n...</td>\n",
              "      <td>147</td>\n",
              "      <td>8</td>\n",
              "    </tr>\n",
              "    <tr>\n",
              "      <th>8</th>\n",
              "      <td>spam</td>\n",
              "      <td>WINNER!! As a valued network customer you have...</td>\n",
              "      <td>157</td>\n",
              "      <td>6</td>\n",
              "    </tr>\n",
              "    <tr>\n",
              "      <th>9</th>\n",
              "      <td>spam</td>\n",
              "      <td>Had your mobile 11 months or more? U R entitle...</td>\n",
              "      <td>154</td>\n",
              "      <td>2</td>\n",
              "    </tr>\n",
              "    <tr>\n",
              "      <th>11</th>\n",
              "      <td>spam</td>\n",
              "      <td>SIX chances to win CASH! From 100 to 20,000 po...</td>\n",
              "      <td>136</td>\n",
              "      <td>8</td>\n",
              "    </tr>\n",
              "  </tbody>\n",
              "</table>\n",
              "</div>\n",
              "      <button class=\"colab-df-convert\" onclick=\"convertToInteractive('df-80a8c0d6-7be1-4c7f-a25b-da54d0fc5dd1')\"\n",
              "              title=\"Convert this dataframe to an interactive table.\"\n",
              "              style=\"display:none;\">\n",
              "        \n",
              "  <svg xmlns=\"http://www.w3.org/2000/svg\" height=\"24px\"viewBox=\"0 0 24 24\"\n",
              "       width=\"24px\">\n",
              "    <path d=\"M0 0h24v24H0V0z\" fill=\"none\"/>\n",
              "    <path d=\"M18.56 5.44l.94 2.06.94-2.06 2.06-.94-2.06-.94-.94-2.06-.94 2.06-2.06.94zm-11 1L8.5 8.5l.94-2.06 2.06-.94-2.06-.94L8.5 2.5l-.94 2.06-2.06.94zm10 10l.94 2.06.94-2.06 2.06-.94-2.06-.94-.94-2.06-.94 2.06-2.06.94z\"/><path d=\"M17.41 7.96l-1.37-1.37c-.4-.4-.92-.59-1.43-.59-.52 0-1.04.2-1.43.59L10.3 9.45l-7.72 7.72c-.78.78-.78 2.05 0 2.83L4 21.41c.39.39.9.59 1.41.59.51 0 1.02-.2 1.41-.59l7.78-7.78 2.81-2.81c.8-.78.8-2.07 0-2.86zM5.41 20L4 18.59l7.72-7.72 1.47 1.35L5.41 20z\"/>\n",
              "  </svg>\n",
              "      </button>\n",
              "      \n",
              "  <style>\n",
              "    .colab-df-container {\n",
              "      display:flex;\n",
              "      flex-wrap:wrap;\n",
              "      gap: 12px;\n",
              "    }\n",
              "\n",
              "    .colab-df-convert {\n",
              "      background-color: #E8F0FE;\n",
              "      border: none;\n",
              "      border-radius: 50%;\n",
              "      cursor: pointer;\n",
              "      display: none;\n",
              "      fill: #1967D2;\n",
              "      height: 32px;\n",
              "      padding: 0 0 0 0;\n",
              "      width: 32px;\n",
              "    }\n",
              "\n",
              "    .colab-df-convert:hover {\n",
              "      background-color: #E2EBFA;\n",
              "      box-shadow: 0px 1px 2px rgba(60, 64, 67, 0.3), 0px 1px 3px 1px rgba(60, 64, 67, 0.15);\n",
              "      fill: #174EA6;\n",
              "    }\n",
              "\n",
              "    [theme=dark] .colab-df-convert {\n",
              "      background-color: #3B4455;\n",
              "      fill: #D2E3FC;\n",
              "    }\n",
              "\n",
              "    [theme=dark] .colab-df-convert:hover {\n",
              "      background-color: #434B5C;\n",
              "      box-shadow: 0px 1px 3px 1px rgba(0, 0, 0, 0.15);\n",
              "      filter: drop-shadow(0px 1px 2px rgba(0, 0, 0, 0.3));\n",
              "      fill: #FFFFFF;\n",
              "    }\n",
              "  </style>\n",
              "\n",
              "      <script>\n",
              "        const buttonEl =\n",
              "          document.querySelector('#df-80a8c0d6-7be1-4c7f-a25b-da54d0fc5dd1 button.colab-df-convert');\n",
              "        buttonEl.style.display =\n",
              "          google.colab.kernel.accessAllowed ? 'block' : 'none';\n",
              "\n",
              "        async function convertToInteractive(key) {\n",
              "          const element = document.querySelector('#df-80a8c0d6-7be1-4c7f-a25b-da54d0fc5dd1');\n",
              "          const dataTable =\n",
              "            await google.colab.kernel.invokeFunction('convertToInteractive',\n",
              "                                                     [key], {});\n",
              "          if (!dataTable) return;\n",
              "\n",
              "          const docLinkHtml = 'Like what you see? Visit the ' +\n",
              "            '<a target=\"_blank\" href=https://colab.research.google.com/notebooks/data_table.ipynb>data table notebook</a>'\n",
              "            + ' to learn more about interactive tables.';\n",
              "          element.innerHTML = '';\n",
              "          dataTable['output_type'] = 'display_data';\n",
              "          await google.colab.output.renderOutput(dataTable, element);\n",
              "          const docLink = document.createElement('div');\n",
              "          docLink.innerHTML = docLinkHtml;\n",
              "          element.appendChild(docLink);\n",
              "        }\n",
              "      </script>\n",
              "    </div>\n",
              "  </div>\n",
              "  "
            ]
          },
          "metadata": {},
          "execution_count": 301
        }
      ]
    },
    {
      "cell_type": "code",
      "source": [
        "ham.shape,spam.shape"
      ],
      "metadata": {
        "colab": {
          "base_uri": "https://localhost:8080/"
        },
        "id": "2XzrnTf-sNn0",
        "outputId": "5f3b7e88-4461-40cc-8aa8-e999f8c101b3"
      },
      "execution_count": 302,
      "outputs": [
        {
          "output_type": "execute_result",
          "data": {
            "text/plain": [
              "((4825, 4), (747, 4))"
            ]
          },
          "metadata": {},
          "execution_count": 302
        }
      ]
    },
    {
      "cell_type": "code",
      "source": [
        "ham=ham.sample(spam.shape[0])"
      ],
      "metadata": {
        "id": "npz1BIIUoaHO"
      },
      "execution_count": 303,
      "outputs": []
    },
    {
      "cell_type": "code",
      "source": [
        "ham.shape,spam.shape"
      ],
      "metadata": {
        "colab": {
          "base_uri": "https://localhost:8080/"
        },
        "id": "JwYtpuqcoaEX",
        "outputId": "ba3f195b-2245-44fa-9ad7-fa0184cd13ab"
      },
      "execution_count": 304,
      "outputs": [
        {
          "output_type": "execute_result",
          "data": {
            "text/plain": [
              "((747, 4), (747, 4))"
            ]
          },
          "metadata": {},
          "execution_count": 304
        }
      ]
    },
    {
      "cell_type": "code",
      "source": [
        "data=ham.append(spam,ignore_index=True)\n",
        "data.sample(4)"
      ],
      "metadata": {
        "colab": {
          "base_uri": "https://localhost:8080/",
          "height": 175
        },
        "id": "FM_T1qHOyalE",
        "outputId": "2431bbe7-b62b-4970-ac81-06190030be45"
      },
      "execution_count": 305,
      "outputs": [
        {
          "output_type": "execute_result",
          "data": {
            "text/plain": [
              "     label                                            message  length  punct\n",
              "1328  spam  WINNER!! As a valued network customer you have...     157      6\n",
              "1454  spam  PRIVATE! Your 2003 Account Statement for <fone...     146     11\n",
              "925   spam  Got what it takes 2 take part in the WRC Rally...     159     10\n",
              "334    ham  You know there is. I shall speak to you in  &l...      67      6"
            ],
            "text/html": [
              "\n",
              "  <div id=\"df-ecd2212d-4c70-4086-82b8-f48b8b29edac\">\n",
              "    <div class=\"colab-df-container\">\n",
              "      <div>\n",
              "<style scoped>\n",
              "    .dataframe tbody tr th:only-of-type {\n",
              "        vertical-align: middle;\n",
              "    }\n",
              "\n",
              "    .dataframe tbody tr th {\n",
              "        vertical-align: top;\n",
              "    }\n",
              "\n",
              "    .dataframe thead th {\n",
              "        text-align: right;\n",
              "    }\n",
              "</style>\n",
              "<table border=\"1\" class=\"dataframe\">\n",
              "  <thead>\n",
              "    <tr style=\"text-align: right;\">\n",
              "      <th></th>\n",
              "      <th>label</th>\n",
              "      <th>message</th>\n",
              "      <th>length</th>\n",
              "      <th>punct</th>\n",
              "    </tr>\n",
              "  </thead>\n",
              "  <tbody>\n",
              "    <tr>\n",
              "      <th>1328</th>\n",
              "      <td>spam</td>\n",
              "      <td>WINNER!! As a valued network customer you have...</td>\n",
              "      <td>157</td>\n",
              "      <td>6</td>\n",
              "    </tr>\n",
              "    <tr>\n",
              "      <th>1454</th>\n",
              "      <td>spam</td>\n",
              "      <td>PRIVATE! Your 2003 Account Statement for &lt;fone...</td>\n",
              "      <td>146</td>\n",
              "      <td>11</td>\n",
              "    </tr>\n",
              "    <tr>\n",
              "      <th>925</th>\n",
              "      <td>spam</td>\n",
              "      <td>Got what it takes 2 take part in the WRC Rally...</td>\n",
              "      <td>159</td>\n",
              "      <td>10</td>\n",
              "    </tr>\n",
              "    <tr>\n",
              "      <th>334</th>\n",
              "      <td>ham</td>\n",
              "      <td>You know there is. I shall speak to you in  &amp;l...</td>\n",
              "      <td>67</td>\n",
              "      <td>6</td>\n",
              "    </tr>\n",
              "  </tbody>\n",
              "</table>\n",
              "</div>\n",
              "      <button class=\"colab-df-convert\" onclick=\"convertToInteractive('df-ecd2212d-4c70-4086-82b8-f48b8b29edac')\"\n",
              "              title=\"Convert this dataframe to an interactive table.\"\n",
              "              style=\"display:none;\">\n",
              "        \n",
              "  <svg xmlns=\"http://www.w3.org/2000/svg\" height=\"24px\"viewBox=\"0 0 24 24\"\n",
              "       width=\"24px\">\n",
              "    <path d=\"M0 0h24v24H0V0z\" fill=\"none\"/>\n",
              "    <path d=\"M18.56 5.44l.94 2.06.94-2.06 2.06-.94-2.06-.94-.94-2.06-.94 2.06-2.06.94zm-11 1L8.5 8.5l.94-2.06 2.06-.94-2.06-.94L8.5 2.5l-.94 2.06-2.06.94zm10 10l.94 2.06.94-2.06 2.06-.94-2.06-.94-.94-2.06-.94 2.06-2.06.94z\"/><path d=\"M17.41 7.96l-1.37-1.37c-.4-.4-.92-.59-1.43-.59-.52 0-1.04.2-1.43.59L10.3 9.45l-7.72 7.72c-.78.78-.78 2.05 0 2.83L4 21.41c.39.39.9.59 1.41.59.51 0 1.02-.2 1.41-.59l7.78-7.78 2.81-2.81c.8-.78.8-2.07 0-2.86zM5.41 20L4 18.59l7.72-7.72 1.47 1.35L5.41 20z\"/>\n",
              "  </svg>\n",
              "      </button>\n",
              "      \n",
              "  <style>\n",
              "    .colab-df-container {\n",
              "      display:flex;\n",
              "      flex-wrap:wrap;\n",
              "      gap: 12px;\n",
              "    }\n",
              "\n",
              "    .colab-df-convert {\n",
              "      background-color: #E8F0FE;\n",
              "      border: none;\n",
              "      border-radius: 50%;\n",
              "      cursor: pointer;\n",
              "      display: none;\n",
              "      fill: #1967D2;\n",
              "      height: 32px;\n",
              "      padding: 0 0 0 0;\n",
              "      width: 32px;\n",
              "    }\n",
              "\n",
              "    .colab-df-convert:hover {\n",
              "      background-color: #E2EBFA;\n",
              "      box-shadow: 0px 1px 2px rgba(60, 64, 67, 0.3), 0px 1px 3px 1px rgba(60, 64, 67, 0.15);\n",
              "      fill: #174EA6;\n",
              "    }\n",
              "\n",
              "    [theme=dark] .colab-df-convert {\n",
              "      background-color: #3B4455;\n",
              "      fill: #D2E3FC;\n",
              "    }\n",
              "\n",
              "    [theme=dark] .colab-df-convert:hover {\n",
              "      background-color: #434B5C;\n",
              "      box-shadow: 0px 1px 3px 1px rgba(0, 0, 0, 0.15);\n",
              "      filter: drop-shadow(0px 1px 2px rgba(0, 0, 0, 0.3));\n",
              "      fill: #FFFFFF;\n",
              "    }\n",
              "  </style>\n",
              "\n",
              "      <script>\n",
              "        const buttonEl =\n",
              "          document.querySelector('#df-ecd2212d-4c70-4086-82b8-f48b8b29edac button.colab-df-convert');\n",
              "        buttonEl.style.display =\n",
              "          google.colab.kernel.accessAllowed ? 'block' : 'none';\n",
              "\n",
              "        async function convertToInteractive(key) {\n",
              "          const element = document.querySelector('#df-ecd2212d-4c70-4086-82b8-f48b8b29edac');\n",
              "          const dataTable =\n",
              "            await google.colab.kernel.invokeFunction('convertToInteractive',\n",
              "                                                     [key], {});\n",
              "          if (!dataTable) return;\n",
              "\n",
              "          const docLinkHtml = 'Like what you see? Visit the ' +\n",
              "            '<a target=\"_blank\" href=https://colab.research.google.com/notebooks/data_table.ipynb>data table notebook</a>'\n",
              "            + ' to learn more about interactive tables.';\n",
              "          element.innerHTML = '';\n",
              "          dataTable['output_type'] = 'display_data';\n",
              "          await google.colab.output.renderOutput(dataTable, element);\n",
              "          const docLink = document.createElement('div');\n",
              "          docLink.innerHTML = docLinkHtml;\n",
              "          element.appendChild(docLink);\n",
              "        }\n",
              "      </script>\n",
              "    </div>\n",
              "  </div>\n",
              "  "
            ]
          },
          "metadata": {},
          "execution_count": 305
        }
      ]
    },
    {
      "cell_type": "code",
      "source": [
        "data.head(4)"
      ],
      "metadata": {
        "colab": {
          "base_uri": "https://localhost:8080/",
          "height": 175
        },
        "id": "oQZs-jIHzpV4",
        "outputId": "1548274f-d729-4e96-ca41-e6870723b73b"
      },
      "execution_count": 306,
      "outputs": [
        {
          "output_type": "execute_result",
          "data": {
            "text/plain": [
              "  label                                            message  length  punct\n",
              "0   ham     Jay's getting really impatient and belligerent      46      1\n",
              "1   ham  So there's a ring that comes with the guys cos...     112      4\n",
              "2   ham  I dont have any of your file in my bag..i was ...     118      5\n",
              "3   ham  Ok... But they said i've got wisdom teeth hidd...      77      5"
            ],
            "text/html": [
              "\n",
              "  <div id=\"df-245b97b5-fd25-4395-a571-0e8b6abe08f6\">\n",
              "    <div class=\"colab-df-container\">\n",
              "      <div>\n",
              "<style scoped>\n",
              "    .dataframe tbody tr th:only-of-type {\n",
              "        vertical-align: middle;\n",
              "    }\n",
              "\n",
              "    .dataframe tbody tr th {\n",
              "        vertical-align: top;\n",
              "    }\n",
              "\n",
              "    .dataframe thead th {\n",
              "        text-align: right;\n",
              "    }\n",
              "</style>\n",
              "<table border=\"1\" class=\"dataframe\">\n",
              "  <thead>\n",
              "    <tr style=\"text-align: right;\">\n",
              "      <th></th>\n",
              "      <th>label</th>\n",
              "      <th>message</th>\n",
              "      <th>length</th>\n",
              "      <th>punct</th>\n",
              "    </tr>\n",
              "  </thead>\n",
              "  <tbody>\n",
              "    <tr>\n",
              "      <th>0</th>\n",
              "      <td>ham</td>\n",
              "      <td>Jay's getting really impatient and belligerent</td>\n",
              "      <td>46</td>\n",
              "      <td>1</td>\n",
              "    </tr>\n",
              "    <tr>\n",
              "      <th>1</th>\n",
              "      <td>ham</td>\n",
              "      <td>So there's a ring that comes with the guys cos...</td>\n",
              "      <td>112</td>\n",
              "      <td>4</td>\n",
              "    </tr>\n",
              "    <tr>\n",
              "      <th>2</th>\n",
              "      <td>ham</td>\n",
              "      <td>I dont have any of your file in my bag..i was ...</td>\n",
              "      <td>118</td>\n",
              "      <td>5</td>\n",
              "    </tr>\n",
              "    <tr>\n",
              "      <th>3</th>\n",
              "      <td>ham</td>\n",
              "      <td>Ok... But they said i've got wisdom teeth hidd...</td>\n",
              "      <td>77</td>\n",
              "      <td>5</td>\n",
              "    </tr>\n",
              "  </tbody>\n",
              "</table>\n",
              "</div>\n",
              "      <button class=\"colab-df-convert\" onclick=\"convertToInteractive('df-245b97b5-fd25-4395-a571-0e8b6abe08f6')\"\n",
              "              title=\"Convert this dataframe to an interactive table.\"\n",
              "              style=\"display:none;\">\n",
              "        \n",
              "  <svg xmlns=\"http://www.w3.org/2000/svg\" height=\"24px\"viewBox=\"0 0 24 24\"\n",
              "       width=\"24px\">\n",
              "    <path d=\"M0 0h24v24H0V0z\" fill=\"none\"/>\n",
              "    <path d=\"M18.56 5.44l.94 2.06.94-2.06 2.06-.94-2.06-.94-.94-2.06-.94 2.06-2.06.94zm-11 1L8.5 8.5l.94-2.06 2.06-.94-2.06-.94L8.5 2.5l-.94 2.06-2.06.94zm10 10l.94 2.06.94-2.06 2.06-.94-2.06-.94-.94-2.06-.94 2.06-2.06.94z\"/><path d=\"M17.41 7.96l-1.37-1.37c-.4-.4-.92-.59-1.43-.59-.52 0-1.04.2-1.43.59L10.3 9.45l-7.72 7.72c-.78.78-.78 2.05 0 2.83L4 21.41c.39.39.9.59 1.41.59.51 0 1.02-.2 1.41-.59l7.78-7.78 2.81-2.81c.8-.78.8-2.07 0-2.86zM5.41 20L4 18.59l7.72-7.72 1.47 1.35L5.41 20z\"/>\n",
              "  </svg>\n",
              "      </button>\n",
              "      \n",
              "  <style>\n",
              "    .colab-df-container {\n",
              "      display:flex;\n",
              "      flex-wrap:wrap;\n",
              "      gap: 12px;\n",
              "    }\n",
              "\n",
              "    .colab-df-convert {\n",
              "      background-color: #E8F0FE;\n",
              "      border: none;\n",
              "      border-radius: 50%;\n",
              "      cursor: pointer;\n",
              "      display: none;\n",
              "      fill: #1967D2;\n",
              "      height: 32px;\n",
              "      padding: 0 0 0 0;\n",
              "      width: 32px;\n",
              "    }\n",
              "\n",
              "    .colab-df-convert:hover {\n",
              "      background-color: #E2EBFA;\n",
              "      box-shadow: 0px 1px 2px rgba(60, 64, 67, 0.3), 0px 1px 3px 1px rgba(60, 64, 67, 0.15);\n",
              "      fill: #174EA6;\n",
              "    }\n",
              "\n",
              "    [theme=dark] .colab-df-convert {\n",
              "      background-color: #3B4455;\n",
              "      fill: #D2E3FC;\n",
              "    }\n",
              "\n",
              "    [theme=dark] .colab-df-convert:hover {\n",
              "      background-color: #434B5C;\n",
              "      box-shadow: 0px 1px 3px 1px rgba(0, 0, 0, 0.15);\n",
              "      filter: drop-shadow(0px 1px 2px rgba(0, 0, 0, 0.3));\n",
              "      fill: #FFFFFF;\n",
              "    }\n",
              "  </style>\n",
              "\n",
              "      <script>\n",
              "        const buttonEl =\n",
              "          document.querySelector('#df-245b97b5-fd25-4395-a571-0e8b6abe08f6 button.colab-df-convert');\n",
              "        buttonEl.style.display =\n",
              "          google.colab.kernel.accessAllowed ? 'block' : 'none';\n",
              "\n",
              "        async function convertToInteractive(key) {\n",
              "          const element = document.querySelector('#df-245b97b5-fd25-4395-a571-0e8b6abe08f6');\n",
              "          const dataTable =\n",
              "            await google.colab.kernel.invokeFunction('convertToInteractive',\n",
              "                                                     [key], {});\n",
              "          if (!dataTable) return;\n",
              "\n",
              "          const docLinkHtml = 'Like what you see? Visit the ' +\n",
              "            '<a target=\"_blank\" href=https://colab.research.google.com/notebooks/data_table.ipynb>data table notebook</a>'\n",
              "            + ' to learn more about interactive tables.';\n",
              "          element.innerHTML = '';\n",
              "          dataTable['output_type'] = 'display_data';\n",
              "          await google.colab.output.renderOutput(dataTable, element);\n",
              "          const docLink = document.createElement('div');\n",
              "          docLink.innerHTML = docLinkHtml;\n",
              "          element.appendChild(docLink);\n",
              "        }\n",
              "      </script>\n",
              "    </div>\n",
              "  </div>\n",
              "  "
            ]
          },
          "metadata": {},
          "execution_count": 306
        }
      ]
    },
    {
      "cell_type": "code",
      "source": [
        "data.tail(4)"
      ],
      "metadata": {
        "colab": {
          "base_uri": "https://localhost:8080/",
          "height": 175
        },
        "id": "8Arci22jzqD6",
        "outputId": "3da838fc-4788-4bde-f81b-9f43d25ac8df"
      },
      "execution_count": 307,
      "outputs": [
        {
          "output_type": "execute_result",
          "data": {
            "text/plain": [
              "     label                                            message  length  punct\n",
              "1490  spam  ASKED 3MOBILE IF 0870 CHATLINES INCLU IN FREE ...     158      5\n",
              "1491  spam  Had your contract mobile 11 Mnths? Latest Moto...     160      8\n",
              "1492  spam  REMINDER FROM O2: To get 2.50 pounds free call...     147      3\n",
              "1493  spam  This is the 2nd time we have tried 2 contact u...     160      8"
            ],
            "text/html": [
              "\n",
              "  <div id=\"df-4aec510f-2db2-45ec-b249-44884331bfe0\">\n",
              "    <div class=\"colab-df-container\">\n",
              "      <div>\n",
              "<style scoped>\n",
              "    .dataframe tbody tr th:only-of-type {\n",
              "        vertical-align: middle;\n",
              "    }\n",
              "\n",
              "    .dataframe tbody tr th {\n",
              "        vertical-align: top;\n",
              "    }\n",
              "\n",
              "    .dataframe thead th {\n",
              "        text-align: right;\n",
              "    }\n",
              "</style>\n",
              "<table border=\"1\" class=\"dataframe\">\n",
              "  <thead>\n",
              "    <tr style=\"text-align: right;\">\n",
              "      <th></th>\n",
              "      <th>label</th>\n",
              "      <th>message</th>\n",
              "      <th>length</th>\n",
              "      <th>punct</th>\n",
              "    </tr>\n",
              "  </thead>\n",
              "  <tbody>\n",
              "    <tr>\n",
              "      <th>1490</th>\n",
              "      <td>spam</td>\n",
              "      <td>ASKED 3MOBILE IF 0870 CHATLINES INCLU IN FREE ...</td>\n",
              "      <td>158</td>\n",
              "      <td>5</td>\n",
              "    </tr>\n",
              "    <tr>\n",
              "      <th>1491</th>\n",
              "      <td>spam</td>\n",
              "      <td>Had your contract mobile 11 Mnths? Latest Moto...</td>\n",
              "      <td>160</td>\n",
              "      <td>8</td>\n",
              "    </tr>\n",
              "    <tr>\n",
              "      <th>1492</th>\n",
              "      <td>spam</td>\n",
              "      <td>REMINDER FROM O2: To get 2.50 pounds free call...</td>\n",
              "      <td>147</td>\n",
              "      <td>3</td>\n",
              "    </tr>\n",
              "    <tr>\n",
              "      <th>1493</th>\n",
              "      <td>spam</td>\n",
              "      <td>This is the 2nd time we have tried 2 contact u...</td>\n",
              "      <td>160</td>\n",
              "      <td>8</td>\n",
              "    </tr>\n",
              "  </tbody>\n",
              "</table>\n",
              "</div>\n",
              "      <button class=\"colab-df-convert\" onclick=\"convertToInteractive('df-4aec510f-2db2-45ec-b249-44884331bfe0')\"\n",
              "              title=\"Convert this dataframe to an interactive table.\"\n",
              "              style=\"display:none;\">\n",
              "        \n",
              "  <svg xmlns=\"http://www.w3.org/2000/svg\" height=\"24px\"viewBox=\"0 0 24 24\"\n",
              "       width=\"24px\">\n",
              "    <path d=\"M0 0h24v24H0V0z\" fill=\"none\"/>\n",
              "    <path d=\"M18.56 5.44l.94 2.06.94-2.06 2.06-.94-2.06-.94-.94-2.06-.94 2.06-2.06.94zm-11 1L8.5 8.5l.94-2.06 2.06-.94-2.06-.94L8.5 2.5l-.94 2.06-2.06.94zm10 10l.94 2.06.94-2.06 2.06-.94-2.06-.94-.94-2.06-.94 2.06-2.06.94z\"/><path d=\"M17.41 7.96l-1.37-1.37c-.4-.4-.92-.59-1.43-.59-.52 0-1.04.2-1.43.59L10.3 9.45l-7.72 7.72c-.78.78-.78 2.05 0 2.83L4 21.41c.39.39.9.59 1.41.59.51 0 1.02-.2 1.41-.59l7.78-7.78 2.81-2.81c.8-.78.8-2.07 0-2.86zM5.41 20L4 18.59l7.72-7.72 1.47 1.35L5.41 20z\"/>\n",
              "  </svg>\n",
              "      </button>\n",
              "      \n",
              "  <style>\n",
              "    .colab-df-container {\n",
              "      display:flex;\n",
              "      flex-wrap:wrap;\n",
              "      gap: 12px;\n",
              "    }\n",
              "\n",
              "    .colab-df-convert {\n",
              "      background-color: #E8F0FE;\n",
              "      border: none;\n",
              "      border-radius: 50%;\n",
              "      cursor: pointer;\n",
              "      display: none;\n",
              "      fill: #1967D2;\n",
              "      height: 32px;\n",
              "      padding: 0 0 0 0;\n",
              "      width: 32px;\n",
              "    }\n",
              "\n",
              "    .colab-df-convert:hover {\n",
              "      background-color: #E2EBFA;\n",
              "      box-shadow: 0px 1px 2px rgba(60, 64, 67, 0.3), 0px 1px 3px 1px rgba(60, 64, 67, 0.15);\n",
              "      fill: #174EA6;\n",
              "    }\n",
              "\n",
              "    [theme=dark] .colab-df-convert {\n",
              "      background-color: #3B4455;\n",
              "      fill: #D2E3FC;\n",
              "    }\n",
              "\n",
              "    [theme=dark] .colab-df-convert:hover {\n",
              "      background-color: #434B5C;\n",
              "      box-shadow: 0px 1px 3px 1px rgba(0, 0, 0, 0.15);\n",
              "      filter: drop-shadow(0px 1px 2px rgba(0, 0, 0, 0.3));\n",
              "      fill: #FFFFFF;\n",
              "    }\n",
              "  </style>\n",
              "\n",
              "      <script>\n",
              "        const buttonEl =\n",
              "          document.querySelector('#df-4aec510f-2db2-45ec-b249-44884331bfe0 button.colab-df-convert');\n",
              "        buttonEl.style.display =\n",
              "          google.colab.kernel.accessAllowed ? 'block' : 'none';\n",
              "\n",
              "        async function convertToInteractive(key) {\n",
              "          const element = document.querySelector('#df-4aec510f-2db2-45ec-b249-44884331bfe0');\n",
              "          const dataTable =\n",
              "            await google.colab.kernel.invokeFunction('convertToInteractive',\n",
              "                                                     [key], {});\n",
              "          if (!dataTable) return;\n",
              "\n",
              "          const docLinkHtml = 'Like what you see? Visit the ' +\n",
              "            '<a target=\"_blank\" href=https://colab.research.google.com/notebooks/data_table.ipynb>data table notebook</a>'\n",
              "            + ' to learn more about interactive tables.';\n",
              "          element.innerHTML = '';\n",
              "          dataTable['output_type'] = 'display_data';\n",
              "          await google.colab.output.renderOutput(dataTable, element);\n",
              "          const docLink = document.createElement('div');\n",
              "          docLink.innerHTML = docLinkHtml;\n",
              "          element.appendChild(docLink);\n",
              "        }\n",
              "      </script>\n",
              "    </div>\n",
              "  </div>\n",
              "  "
            ]
          },
          "metadata": {},
          "execution_count": 307
        }
      ]
    },
    {
      "cell_type": "markdown",
      "source": [
        "###EXPLORATORY DATA ANALYSIS(EDA)"
      ],
      "metadata": {
        "id": "SLkVGb5Cy0md"
      }
    },
    {
      "cell_type": "code",
      "source": [
        "import matplotlib.pyplot as plt\n",
        "plt.hist(ham['length'],bins=100,alpha=0.7,label='Ham')\n",
        "plt.hist(spam['length'],bins=100,alpha=0.7,label='Spam')\n",
        "plt.legend()\n",
        "plt.show()"
      ],
      "metadata": {
        "colab": {
          "base_uri": "https://localhost:8080/",
          "height": 265
        },
        "id": "dSom8HNfyaqY",
        "outputId": "18ae1231-bafc-4e72-eef2-e55586f9e507"
      },
      "execution_count": 309,
      "outputs": [
        {
          "output_type": "display_data",
          "data": {
            "text/plain": [
              "<Figure size 432x288 with 1 Axes>"
            ],
            "image/png": "[encoded data removed]"
          },
          "metadata": {
            "needs_background": "light"
          }
        }
      ]
    },
    {
      "cell_type": "code",
      "source": [
        "plt.hist(ham['punct'],bins=100,alpha=0.7,label='Ham')\n",
        "plt.hist(spam['punct'],bins=100,alpha=0.7,label='Spam')\n",
        "plt.legend()\n",
        "plt.show()"
      ],
      "metadata": {
        "colab": {
          "base_uri": "https://localhost:8080/",
          "height": 268
        },
        "id": "O3re_UWoyatA",
        "outputId": "7e19e66d-68c8-4518-c22c-ad6685eb5aeb"
      },
      "execution_count": 310,
      "outputs": [
        {
          "output_type": "display_data",
          "data": {
            "text/plain": [
              "<Figure size 432x288 with 1 Axes>"
            ],
            "image/png": "[encoded data removed]"
          },
          "metadata": {
            "needs_background": "light"
          }
        }
      ]
    },
    {
      "cell_type": "markdown",
      "source": [
        "###DATA PREPARATION FOR TRAINING"
      ],
      "metadata": {
        "id": "0GTcEw8H1zUQ"
      }
    },
    {
      "cell_type": "code",
      "source": [
        "from sklearn.model_selection import train_test_split\n",
        "from sklearn.ensemble import RandomForestClassifier\n",
        "from sklearn.svm import SVC\n",
        "from sklearn.metrics import accuracy_score,classification_report,confusion_matrix\n",
        "from sklearn.pipeline import Pipeline\n",
        "from sklearn.feature_extraction.text import TfidfVectorizer"
      ],
      "metadata": {
        "id": "RBIj4WFKyawh"
      },
      "execution_count": 326,
      "outputs": []
    },
    {
      "cell_type": "code",
      "source": [
        "data.head()"
      ],
      "metadata": {
        "colab": {
          "base_uri": "https://localhost:8080/",
          "height": 206
        },
        "id": "xzUK4CY6271l",
        "outputId": "7e6be64f-4831-4e5c-8707-fcc2d4c492d7"
      },
      "execution_count": 327,
      "outputs": [
        {
          "output_type": "execute_result",
          "data": {
            "text/plain": [
              "  label                                            message  length  punct\n",
              "0   ham     Jay's getting really impatient and belligerent      46      1\n",
              "1   ham  So there's a ring that comes with the guys cos...     112      4\n",
              "2   ham  I dont have any of your file in my bag..i was ...     118      5\n",
              "3   ham  Ok... But they said i've got wisdom teeth hidd...      77      5\n",
              "4   ham               Ho ho - big belly laugh! See ya tomo      36      2"
            ],
            "text/html": [
              "\n",
              "  <div id=\"df-bde71e82-4fa7-44d6-8f98-708e9648a704\">\n",
              "    <div class=\"colab-df-container\">\n",
              "      <div>\n",
              "<style scoped>\n",
              "    .dataframe tbody tr th:only-of-type {\n",
              "        vertical-align: middle;\n",
              "    }\n",
              "\n",
              "    .dataframe tbody tr th {\n",
              "        vertical-align: top;\n",
              "    }\n",
              "\n",
              "    .dataframe thead th {\n",
              "        text-align: right;\n",
              "    }\n",
              "</style>\n",
              "<table border=\"1\" class=\"dataframe\">\n",
              "  <thead>\n",
              "    <tr style=\"text-align: right;\">\n",
              "      <th></th>\n",
              "      <th>label</th>\n",
              "      <th>message</th>\n",
              "      <th>length</th>\n",
              "      <th>punct</th>\n",
              "    </tr>\n",
              "  </thead>\n",
              "  <tbody>\n",
              "    <tr>\n",
              "      <th>0</th>\n",
              "      <td>ham</td>\n",
              "      <td>Jay's getting really impatient and belligerent</td>\n",
              "      <td>46</td>\n",
              "      <td>1</td>\n",
              "    </tr>\n",
              "    <tr>\n",
              "      <th>1</th>\n",
              "      <td>ham</td>\n",
              "      <td>So there's a ring that comes with the guys cos...</td>\n",
              "      <td>112</td>\n",
              "      <td>4</td>\n",
              "    </tr>\n",
              "    <tr>\n",
              "      <th>2</th>\n",
              "      <td>ham</td>\n",
              "      <td>I dont have any of your file in my bag..i was ...</td>\n",
              "      <td>118</td>\n",
              "      <td>5</td>\n",
              "    </tr>\n",
              "    <tr>\n",
              "      <th>3</th>\n",
              "      <td>ham</td>\n",
              "      <td>Ok... But they said i've got wisdom teeth hidd...</td>\n",
              "      <td>77</td>\n",
              "      <td>5</td>\n",
              "    </tr>\n",
              "    <tr>\n",
              "      <th>4</th>\n",
              "      <td>ham</td>\n",
              "      <td>Ho ho - big belly laugh! See ya tomo</td>\n",
              "      <td>36</td>\n",
              "      <td>2</td>\n",
              "    </tr>\n",
              "  </tbody>\n",
              "</table>\n",
              "</div>\n",
              "      <button class=\"colab-df-convert\" onclick=\"convertToInteractive('df-bde71e82-4fa7-44d6-8f98-708e9648a704')\"\n",
              "              title=\"Convert this dataframe to an interactive table.\"\n",
              "              style=\"display:none;\">\n",
              "        \n",
              "  <svg xmlns=\"http://www.w3.org/2000/svg\" height=\"24px\"viewBox=\"0 0 24 24\"\n",
              "       width=\"24px\">\n",
              "    <path d=\"M0 0h24v24H0V0z\" fill=\"none\"/>\n",
              "    <path d=\"M18.56 5.44l.94 2.06.94-2.06 2.06-.94-2.06-.94-.94-2.06-.94 2.06-2.06.94zm-11 1L8.5 8.5l.94-2.06 2.06-.94-2.06-.94L8.5 2.5l-.94 2.06-2.06.94zm10 10l.94 2.06.94-2.06 2.06-.94-2.06-.94-.94-2.06-.94 2.06-2.06.94z\"/><path d=\"M17.41 7.96l-1.37-1.37c-.4-.4-.92-.59-1.43-.59-.52 0-1.04.2-1.43.59L10.3 9.45l-7.72 7.72c-.78.78-.78 2.05 0 2.83L4 21.41c.39.39.9.59 1.41.59.51 0 1.02-.2 1.41-.59l7.78-7.78 2.81-2.81c.8-.78.8-2.07 0-2.86zM5.41 20L4 18.59l7.72-7.72 1.47 1.35L5.41 20z\"/>\n",
              "  </svg>\n",
              "      </button>\n",
              "      \n",
              "  <style>\n",
              "    .colab-df-container {\n",
              "      display:flex;\n",
              "      flex-wrap:wrap;\n",
              "      gap: 12px;\n",
              "    }\n",
              "\n",
              "    .colab-df-convert {\n",
              "      background-color: #E8F0FE;\n",
              "      border: none;\n",
              "      border-radius: 50%;\n",
              "      cursor: pointer;\n",
              "      display: none;\n",
              "      fill: #1967D2;\n",
              "      height: 32px;\n",
              "      padding: 0 0 0 0;\n",
              "      width: 32px;\n",
              "    }\n",
              "\n",
              "    .colab-df-convert:hover {\n",
              "      background-color: #E2EBFA;\n",
              "      box-shadow: 0px 1px 2px rgba(60, 64, 67, 0.3), 0px 1px 3px 1px rgba(60, 64, 67, 0.15);\n",
              "      fill: #174EA6;\n",
              "    }\n",
              "\n",
              "    [theme=dark] .colab-df-convert {\n",
              "      background-color: #3B4455;\n",
              "      fill: #D2E3FC;\n",
              "    }\n",
              "\n",
              "    [theme=dark] .colab-df-convert:hover {\n",
              "      background-color: #434B5C;\n",
              "      box-shadow: 0px 1px 3px 1px rgba(0, 0, 0, 0.15);\n",
              "      filter: drop-shadow(0px 1px 2px rgba(0, 0, 0, 0.3));\n",
              "      fill: #FFFFFF;\n",
              "    }\n",
              "  </style>\n",
              "\n",
              "      <script>\n",
              "        const buttonEl =\n",
              "          document.querySelector('#df-bde71e82-4fa7-44d6-8f98-708e9648a704 button.colab-df-convert');\n",
              "        buttonEl.style.display =\n",
              "          google.colab.kernel.accessAllowed ? 'block' : 'none';\n",
              "\n",
              "        async function convertToInteractive(key) {\n",
              "          const element = document.querySelector('#df-bde71e82-4fa7-44d6-8f98-708e9648a704');\n",
              "          const dataTable =\n",
              "            await google.colab.kernel.invokeFunction('convertToInteractive',\n",
              "                                                     [key], {});\n",
              "          if (!dataTable) return;\n",
              "\n",
              "          const docLinkHtml = 'Like what you see? Visit the ' +\n",
              "            '<a target=\"_blank\" href=https://colab.research.google.com/notebooks/data_table.ipynb>data table notebook</a>'\n",
              "            + ' to learn more about interactive tables.';\n",
              "          element.innerHTML = '';\n",
              "          dataTable['output_type'] = 'display_data';\n",
              "          await google.colab.output.renderOutput(dataTable, element);\n",
              "          const docLink = document.createElement('div');\n",
              "          docLink.innerHTML = docLinkHtml;\n",
              "          element.appendChild(docLink);\n",
              "        }\n",
              "      </script>\n",
              "    </div>\n",
              "  </div>\n",
              "  "
            ]
          },
          "metadata": {},
          "execution_count": 327
        }
      ]
    },
    {
      "cell_type": "code",
      "source": [
        "tfidf=TfidfVectorizer()\n",
        "X=tfidf.fit_transform(data['message'])\n",
        "print(X.toarray())"
      ],
      "metadata": {
        "colab": {
          "base_uri": "https://localhost:8080/"
        },
        "id": "pOpzqdGt275G",
        "outputId": "29d5da76-cfcf-40d1-c2dc-2785c1fdde49"
      },
      "execution_count": 328,
      "outputs": [
        {
          "output_type": "stream",
          "name": "stdout",
          "text": [
            "[[0. 0. 0. ... 0. 0. 0.]\n",
            " [0. 0. 0. ... 0. 0. 0.]\n",
            " [0. 0. 0. ... 0. 0. 0.]\n",
            " ...\n",
            " [0. 0. 0. ... 0. 0. 0.]\n",
            " [0. 0. 0. ... 0. 0. 0.]\n",
            " [0. 0. 0. ... 0. 0. 0.]]\n"
          ]
        }
      ]
    },
    {
      "cell_type": "code",
      "source": [
        "X.shape"
      ],
      "metadata": {
        "colab": {
          "base_uri": "https://localhost:8080/"
        },
        "id": "l-sP0qYw3KQY",
        "outputId": "c62cd99d-e7a2-4909-9e40-645e84b39a4c"
      },
      "execution_count": 329,
      "outputs": [
        {
          "output_type": "execute_result",
          "data": {
            "text/plain": [
              "(1494, 4422)"
            ]
          },
          "metadata": {},
          "execution_count": 329
        }
      ]
    },
    {
      "cell_type": "code",
      "source": [
        "X_train,X_test,y_train,y_test=train_test_split(X,data['label'],test_size=0.2,\n",
        "                                               random_state=0,stratify=data['label'])"
      ],
      "metadata": {
        "id": "BK-50D3e3KQZ"
      },
      "execution_count": 330,
      "outputs": []
    },
    {
      "cell_type": "code",
      "source": [
        "X_train.shape,X_test.shape,y_train.shape,y_test.shape"
      ],
      "metadata": {
        "colab": {
          "base_uri": "https://localhost:8080/"
        },
        "id": "D5-tkJ8c11ga",
        "outputId": "cb9727e5-2182-46d9-e5fc-5cd55d5d6951"
      },
      "execution_count": 331,
      "outputs": [
        {
          "output_type": "execute_result",
          "data": {
            "text/plain": [
              "((1195, 4422), (299, 4422), (1195,), (299,))"
            ]
          },
          "metadata": {},
          "execution_count": 331
        }
      ]
    },
    {
      "cell_type": "markdown",
      "source": [
        "###TRAINING YOUR FIRST TEXT CLASSIFIER"
      ],
      "metadata": {
        "id": "BMYFG9ys4IGK"
      }
    },
    {
      "cell_type": "code",
      "source": [
        "clf=RandomForestClassifier(n_estimators=100,n_jobs=-1)"
      ],
      "metadata": {
        "id": "gwW7e56611jm"
      },
      "execution_count": 332,
      "outputs": []
    },
    {
      "cell_type": "code",
      "source": [
        "clf.fit(X_train,y_train)"
      ],
      "metadata": {
        "colab": {
          "base_uri": "https://localhost:8080/"
        },
        "id": "2ZrOrIxZ11m-",
        "outputId": "57c5596b-d615-4e70-cad0-97ed6966298e"
      },
      "execution_count": 333,
      "outputs": [
        {
          "output_type": "execute_result",
          "data": {
            "text/plain": [
              "RandomForestClassifier(n_jobs=-1)"
            ]
          },
          "metadata": {},
          "execution_count": 333
        }
      ]
    },
    {
      "cell_type": "code",
      "source": [
        "y_pred=clf.predict(X_test)\n",
        "y_pred[:10]"
      ],
      "metadata": {
        "colab": {
          "base_uri": "https://localhost:8080/"
        },
        "id": "rdPGLSYe4YdD",
        "outputId": "9bf90dad-4251-43bf-8cea-c634ffdf1767"
      },
      "execution_count": 334,
      "outputs": [
        {
          "output_type": "execute_result",
          "data": {
            "text/plain": [
              "array(['ham', 'spam', 'spam', 'ham', 'ham', 'spam', 'ham', 'spam', 'spam',\n",
              "       'ham'], dtype=object)"
            ]
          },
          "metadata": {},
          "execution_count": 334
        }
      ]
    },
    {
      "cell_type": "code",
      "source": [
        "confusion_matrix(y_test,y_pred)"
      ],
      "metadata": {
        "colab": {
          "base_uri": "https://localhost:8080/"
        },
        "id": "_1YyklDj4Yn_",
        "outputId": "3c835cd3-9938-4e68-efed-13e114c82bdf"
      },
      "execution_count": 335,
      "outputs": [
        {
          "output_type": "execute_result",
          "data": {
            "text/plain": [
              "array([[150,   0],\n",
              "       [ 17, 132]])"
            ]
          },
          "metadata": {},
          "execution_count": 335
        }
      ]
    },
    {
      "cell_type": "code",
      "source": [
        "print(classification_report(y_test,y_pred))"
      ],
      "metadata": {
        "colab": {
          "base_uri": "https://localhost:8080/"
        },
        "id": "Xm0M8b9Q4Yre",
        "outputId": "30b1b398-a831-4ccf-e048-2d9a90d0ff9e"
      },
      "execution_count": 336,
      "outputs": [
        {
          "output_type": "stream",
          "name": "stdout",
          "text": [
            "              precision    recall  f1-score   support\n",
            "\n",
            "         ham       0.90      1.00      0.95       150\n",
            "        spam       1.00      0.89      0.94       149\n",
            "\n",
            "    accuracy                           0.94       299\n",
            "   macro avg       0.95      0.94      0.94       299\n",
            "weighted avg       0.95      0.94      0.94       299\n",
            "\n"
          ]
        }
      ]
    },
    {
      "cell_type": "markdown",
      "source": [
        "###SVM"
      ],
      "metadata": {
        "id": "xAqhhNrI52IZ"
      }
    },
    {
      "cell_type": "code",
      "source": [
        "clf=SVC(C=1000,gamma='auto')"
      ],
      "metadata": {
        "id": "AzrakTG346dW"
      },
      "execution_count": 342,
      "outputs": []
    },
    {
      "cell_type": "code",
      "source": [
        "clf.fit(X_train,y_train)"
      ],
      "metadata": {
        "colab": {
          "base_uri": "https://localhost:8080/"
        },
        "outputId": "3603ee76-060a-4ffd-c2ab-b4c6d71172ff",
        "id": "1r8N3jPK6acQ"
      },
      "execution_count": 343,
      "outputs": [
        {
          "output_type": "execute_result",
          "data": {
            "text/plain": [
              "SVC(C=1000, gamma='auto')"
            ]
          },
          "metadata": {},
          "execution_count": 343
        }
      ]
    },
    {
      "cell_type": "code",
      "source": [
        "y_pred=clf.predict(X_test)\n",
        "y_pred[:10]"
      ],
      "metadata": {
        "colab": {
          "base_uri": "https://localhost:8080/"
        },
        "outputId": "5778220d-5bb8-4d65-bc8e-76fa20ddd46d",
        "id": "v52yiMf_6acS"
      },
      "execution_count": 344,
      "outputs": [
        {
          "output_type": "execute_result",
          "data": {
            "text/plain": [
              "array(['ham', 'spam', 'spam', 'ham', 'ham', 'spam', 'ham', 'spam', 'spam',\n",
              "       'ham'], dtype=object)"
            ]
          },
          "metadata": {},
          "execution_count": 344
        }
      ]
    },
    {
      "cell_type": "code",
      "source": [
        "confusion_matrix(y_test,y_pred)"
      ],
      "metadata": {
        "colab": {
          "base_uri": "https://localhost:8080/"
        },
        "outputId": "5a692cde-4837-4ee2-875b-1bcfa447eac0",
        "id": "KALVnUsJ6acT"
      },
      "execution_count": 345,
      "outputs": [
        {
          "output_type": "execute_result",
          "data": {
            "text/plain": [
              "array([[150,   0],\n",
              "       [ 19, 130]])"
            ]
          },
          "metadata": {},
          "execution_count": 345
        }
      ]
    },
    {
      "cell_type": "code",
      "source": [
        "print(classification_report(y_test,y_pred))"
      ],
      "metadata": {
        "colab": {
          "base_uri": "https://localhost:8080/"
        },
        "outputId": "b1c18b42-938a-48a3-dcc4-d4f38af8d7a3",
        "id": "yn3hQfwI6acT"
      },
      "execution_count": 346,
      "outputs": [
        {
          "output_type": "stream",
          "name": "stdout",
          "text": [
            "              precision    recall  f1-score   support\n",
            "\n",
            "         ham       0.89      1.00      0.94       150\n",
            "        spam       1.00      0.87      0.93       149\n",
            "\n",
            "    accuracy                           0.94       299\n",
            "   macro avg       0.94      0.94      0.94       299\n",
            "weighted avg       0.94      0.94      0.94       299\n",
            "\n"
          ]
        }
      ]
    },
    {
      "cell_type": "markdown",
      "source": [
        "###TEST MODEL WITH REAL DATA"
      ],
      "metadata": {
        "id": "77WD8J-960gp"
      }
    },
    {
      "cell_type": "code",
      "source": [
        "clf"
      ],
      "metadata": {
        "colab": {
          "base_uri": "https://localhost:8080/"
        },
        "id": "70fgsErv46gw",
        "outputId": "977e74df-fb83-4e4c-ddf9-dc55af2bbbf1"
      },
      "execution_count": 347,
      "outputs": [
        {
          "output_type": "execute_result",
          "data": {
            "text/plain": [
              "SVC(C=1000, gamma='auto')"
            ]
          },
          "metadata": {},
          "execution_count": 347
        }
      ]
    },
    {
      "cell_type": "code",
      "source": [
        "def predict(x):\n",
        "  x=tfidf.transform([x])\n",
        "  x=x.toarray()\n",
        "  pred=clf.predict(x)\n",
        "  return pred"
      ],
      "metadata": {
        "id": "TWwl_yT-65iH"
      },
      "execution_count": 348,
      "outputs": []
    },
    {
      "cell_type": "code",
      "source": [
        "predict('hey, submit your assignment on time')"
      ],
      "metadata": {
        "colab": {
          "base_uri": "https://localhost:8080/"
        },
        "id": "ENktHMU165kP",
        "outputId": "20426669-7011-45d9-e5a4-1429e7317b71"
      },
      "execution_count": 349,
      "outputs": [
        {
          "output_type": "execute_result",
          "data": {
            "text/plain": [
              "array(['ham'], dtype=object)"
            ]
          },
          "metadata": {},
          "execution_count": 349
        }
      ]
    },
    {
      "cell_type": "code",
      "source": [
        "predict('Congratulations!, You have won a lottery')"
      ],
      "metadata": {
        "colab": {
          "base_uri": "https://localhost:8080/"
        },
        "id": "t7d5YovU65np",
        "outputId": "b0c5c11d-1f2c-4955-93f2-21daf8228b3e"
      },
      "execution_count": 351,
      "outputs": [
        {
          "output_type": "execute_result",
          "data": {
            "text/plain": [
              "array(['spam'], dtype=object)"
            ]
          },
          "metadata": {},
          "execution_count": 351
        }
      ]
    },
    {
      "cell_type": "markdown",
      "source": [
        "##MULTI-LABEL TEXT CLASSIFICATION FOR STACK OVERFLOW TAG PREDICTION"
      ],
      "metadata": {
        "id": "aP4ZJiBm7yws"
      }
    },
    {
      "cell_type": "code",
      "source": [
        "from sklearn.linear_model import LogisticRegression\n",
        "from sklearn.feature_extraction.text import TfidfVectorizer\n",
        "from sklearn.preprocessing import MultiLabelBinarizer"
      ],
      "metadata": {
        "id": "1QY6VrAZNjUs"
      },
      "execution_count": 359,
      "outputs": []
    },
    {
      "cell_type": "code",
      "source": [
        "DF=pd.read_csv('https://raw.githubusercontent.com/laxmimerit/All-CSV-ML-Data-Files-Download/master/stackoverflow.csv',index_col=0)\n",
        "DF.head()"
      ],
      "metadata": {
        "colab": {
          "base_uri": "https://localhost:8080/",
          "height": 206
        },
        "id": "efUqUfkF4Yu1",
        "outputId": "693c3fce-5cef-424d-8ca1-2c4efe756fda"
      },
      "execution_count": 355,
      "outputs": [
        {
          "output_type": "execute_result",
          "data": {
            "text/plain": [
              "                                                Text                Tags\n",
              "2  aspnet site maps has anyone got experience cre...  ['sql', 'asp.net']\n",
              "4  adding scripting functionality to net applicat...      ['c#', '.net']\n",
              "5  should i use nested classes in this case i am ...             ['c++']\n",
              "6  homegrown consumption of web services i have b...            ['.net']\n",
              "8  automatically update version number i would li...              ['c#']"
            ],
            "text/html": [
              "\n",
              "  <div id=\"df-bcc28df8-7b5b-429b-9f8a-6b838e97c692\">\n",
              "    <div class=\"colab-df-container\">\n",
              "      <div>\n",
              "<style scoped>\n",
              "    .dataframe tbody tr th:only-of-type {\n",
              "        vertical-align: middle;\n",
              "    }\n",
              "\n",
              "    .dataframe tbody tr th {\n",
              "        vertical-align: top;\n",
              "    }\n",
              "\n",
              "    .dataframe thead th {\n",
              "        text-align: right;\n",
              "    }\n",
              "</style>\n",
              "<table border=\"1\" class=\"dataframe\">\n",
              "  <thead>\n",
              "    <tr style=\"text-align: right;\">\n",
              "      <th></th>\n",
              "      <th>Text</th>\n",
              "      <th>Tags</th>\n",
              "    </tr>\n",
              "  </thead>\n",
              "  <tbody>\n",
              "    <tr>\n",
              "      <th>2</th>\n",
              "      <td>aspnet site maps has anyone got experience cre...</td>\n",
              "      <td>['sql', 'asp.net']</td>\n",
              "    </tr>\n",
              "    <tr>\n",
              "      <th>4</th>\n",
              "      <td>adding scripting functionality to net applicat...</td>\n",
              "      <td>['c#', '.net']</td>\n",
              "    </tr>\n",
              "    <tr>\n",
              "      <th>5</th>\n",
              "      <td>should i use nested classes in this case i am ...</td>\n",
              "      <td>['c++']</td>\n",
              "    </tr>\n",
              "    <tr>\n",
              "      <th>6</th>\n",
              "      <td>homegrown consumption of web services i have b...</td>\n",
              "      <td>['.net']</td>\n",
              "    </tr>\n",
              "    <tr>\n",
              "      <th>8</th>\n",
              "      <td>automatically update version number i would li...</td>\n",
              "      <td>['c#']</td>\n",
              "    </tr>\n",
              "  </tbody>\n",
              "</table>\n",
              "</div>\n",
              "      <button class=\"colab-df-convert\" onclick=\"convertToInteractive('df-bcc28df8-7b5b-429b-9f8a-6b838e97c692')\"\n",
              "              title=\"Convert this dataframe to an interactive table.\"\n",
              "              style=\"display:none;\">\n",
              "        \n",
              "  <svg xmlns=\"http://www.w3.org/2000/svg\" height=\"24px\"viewBox=\"0 0 24 24\"\n",
              "       width=\"24px\">\n",
              "    <path d=\"M0 0h24v24H0V0z\" fill=\"none\"/>\n",
              "    <path d=\"M18.56 5.44l.94 2.06.94-2.06 2.06-.94-2.06-.94-.94-2.06-.94 2.06-2.06.94zm-11 1L8.5 8.5l.94-2.06 2.06-.94-2.06-.94L8.5 2.5l-.94 2.06-2.06.94zm10 10l.94 2.06.94-2.06 2.06-.94-2.06-.94-.94-2.06-.94 2.06-2.06.94z\"/><path d=\"M17.41 7.96l-1.37-1.37c-.4-.4-.92-.59-1.43-.59-.52 0-1.04.2-1.43.59L10.3 9.45l-7.72 7.72c-.78.78-.78 2.05 0 2.83L4 21.41c.39.39.9.59 1.41.59.51 0 1.02-.2 1.41-.59l7.78-7.78 2.81-2.81c.8-.78.8-2.07 0-2.86zM5.41 20L4 18.59l7.72-7.72 1.47 1.35L5.41 20z\"/>\n",
              "  </svg>\n",
              "      </button>\n",
              "      \n",
              "  <style>\n",
              "    .colab-df-container {\n",
              "      display:flex;\n",
              "      flex-wrap:wrap;\n",
              "      gap: 12px;\n",
              "    }\n",
              "\n",
              "    .colab-df-convert {\n",
              "      background-color: #E8F0FE;\n",
              "      border: none;\n",
              "      border-radius: 50%;\n",
              "      cursor: pointer;\n",
              "      display: none;\n",
              "      fill: #1967D2;\n",
              "      height: 32px;\n",
              "      padding: 0 0 0 0;\n",
              "      width: 32px;\n",
              "    }\n",
              "\n",
              "    .colab-df-convert:hover {\n",
              "      background-color: #E2EBFA;\n",
              "      box-shadow: 0px 1px 2px rgba(60, 64, 67, 0.3), 0px 1px 3px 1px rgba(60, 64, 67, 0.15);\n",
              "      fill: #174EA6;\n",
              "    }\n",
              "\n",
              "    [theme=dark] .colab-df-convert {\n",
              "      background-color: #3B4455;\n",
              "      fill: #D2E3FC;\n",
              "    }\n",
              "\n",
              "    [theme=dark] .colab-df-convert:hover {\n",
              "      background-color: #434B5C;\n",
              "      box-shadow: 0px 1px 3px 1px rgba(0, 0, 0, 0.15);\n",
              "      filter: drop-shadow(0px 1px 2px rgba(0, 0, 0, 0.3));\n",
              "      fill: #FFFFFF;\n",
              "    }\n",
              "  </style>\n",
              "\n",
              "      <script>\n",
              "        const buttonEl =\n",
              "          document.querySelector('#df-bcc28df8-7b5b-429b-9f8a-6b838e97c692 button.colab-df-convert');\n",
              "        buttonEl.style.display =\n",
              "          google.colab.kernel.accessAllowed ? 'block' : 'none';\n",
              "\n",
              "        async function convertToInteractive(key) {\n",
              "          const element = document.querySelector('#df-bcc28df8-7b5b-429b-9f8a-6b838e97c692');\n",
              "          const dataTable =\n",
              "            await google.colab.kernel.invokeFunction('convertToInteractive',\n",
              "                                                     [key], {});\n",
              "          if (!dataTable) return;\n",
              "\n",
              "          const docLinkHtml = 'Like what you see? Visit the ' +\n",
              "            '<a target=\"_blank\" href=https://colab.research.google.com/notebooks/data_table.ipynb>data table notebook</a>'\n",
              "            + ' to learn more about interactive tables.';\n",
              "          element.innerHTML = '';\n",
              "          dataTable['output_type'] = 'display_data';\n",
              "          await google.colab.output.renderOutput(dataTable, element);\n",
              "          const docLink = document.createElement('div');\n",
              "          docLink.innerHTML = docLinkHtml;\n",
              "          element.appendChild(docLink);\n",
              "        }\n",
              "      </script>\n",
              "    </div>\n",
              "  </div>\n",
              "  "
            ]
          },
          "metadata": {},
          "execution_count": 355
        }
      ]
    },
    {
      "cell_type": "code",
      "source": [
        "type(DF.iloc[0]['Tags'])"
      ],
      "metadata": {
        "colab": {
          "base_uri": "https://localhost:8080/"
        },
        "id": "TklL0bZi7uSD",
        "outputId": "a6425b11-faae-4d44-bdf3-2729c98e4dee"
      },
      "execution_count": 353,
      "outputs": [
        {
          "output_type": "execute_result",
          "data": {
            "text/plain": [
              "str"
            ]
          },
          "metadata": {},
          "execution_count": 353
        }
      ]
    },
    {
      "cell_type": "code",
      "source": [
        "import ast"
      ],
      "metadata": {
        "id": "L4_BcA6E7uYt"
      },
      "execution_count": 356,
      "outputs": []
    },
    {
      "cell_type": "code",
      "source": [
        "DF.iloc[0]['Tags']"
      ],
      "metadata": {
        "colab": {
          "base_uri": "https://localhost:8080/",
          "height": 36
        },
        "id": "JM9mhNhmNIPL",
        "outputId": "efdf1a1a-f327-4b2f-d182-cff110484830"
      },
      "execution_count": 357,
      "outputs": [
        {
          "output_type": "execute_result",
          "data": {
            "text/plain": [
              "\"['sql', 'asp.net']\""
            ],
            "application/vnd.google.colaboratory.intrinsic+json": {
              "type": "string"
            }
          },
          "metadata": {},
          "execution_count": 357
        }
      ]
    },
    {
      "cell_type": "code",
      "source": [
        "ast.literal_eval(DF.iloc[0]['Tags'])"
      ],
      "metadata": {
        "colab": {
          "base_uri": "https://localhost:8080/"
        },
        "id": "3vEwCsirNIRv",
        "outputId": "3b68660d-ebe0-4fda-bde9-1fecada95d41"
      },
      "execution_count": 358,
      "outputs": [
        {
          "output_type": "execute_result",
          "data": {
            "text/plain": [
              "['sql', 'asp.net']"
            ]
          },
          "metadata": {},
          "execution_count": 358
        }
      ]
    },
    {
      "cell_type": "code",
      "source": [
        "DF['Tags']=DF['Tags'].apply(lambda x: ast.literal_eval(x))"
      ],
      "metadata": {
        "id": "cibKL-wLNIUq"
      },
      "execution_count": 361,
      "outputs": []
    },
    {
      "cell_type": "code",
      "source": [
        "multilabel=MultiLabelBinarizer()\n",
        "y=multilabel.fit_transform(DF['Tags'])"
      ],
      "metadata": {
        "id": "U2zXagmANIXu"
      },
      "execution_count": 363,
      "outputs": []
    },
    {
      "cell_type": "code",
      "source": [
        "classes=multilabel.classes_\n",
        "classes"
      ],
      "metadata": {
        "colab": {
          "base_uri": "https://localhost:8080/"
        },
        "id": "2Bqcw3oPQSMl",
        "outputId": "8c527d0b-dc3d-49a4-e1ce-1bcae9dbb986"
      },
      "execution_count": 364,
      "outputs": [
        {
          "output_type": "execute_result",
          "data": {
            "text/plain": [
              "array(['.net', 'android', 'asp.net', 'c', 'c#', 'c++', 'css', 'html',\n",
              "       'ios', 'iphone', 'java', 'javascript', 'jquery', 'mysql',\n",
              "       'objective-c', 'php', 'python', 'ruby', 'ruby-on-rails', 'sql'],\n",
              "      dtype=object)"
            ]
          },
          "metadata": {},
          "execution_count": 364
        }
      ]
    },
    {
      "cell_type": "code",
      "source": [
        "pd.DataFrame(y,columns=classes)"
      ],
      "metadata": {
        "colab": {
          "base_uri": "https://localhost:8080/",
          "height": 522
        },
        "id": "B3BZN--GNIaD",
        "outputId": "5a6cd113-7d1e-4b40-e19f-afdcdd3df98d"
      },
      "execution_count": 365,
      "outputs": [
        {
          "output_type": "execute_result",
          "data": {
            "text/plain": [
              "       .net  android  asp.net  c  c#  c++  css  html  ios  iphone  java  \\\n",
              "0         0        0        1  0   0    0    0     0    0       0     0   \n",
              "1         1        0        0  0   1    0    0     0    0       0     0   \n",
              "2         0        0        0  0   0    1    0     0    0       0     0   \n",
              "3         1        0        0  0   0    0    0     0    0       0     0   \n",
              "4         0        0        0  0   1    0    0     0    0       0     0   \n",
              "...     ...      ...      ... ..  ..  ...  ...   ...  ...     ...   ...   \n",
              "48971     0        0        0  0   0    1    0     0    0       0     0   \n",
              "48972     0        0        0  0   0    1    0     0    0       0     0   \n",
              "48973     0        0        0  0   0    0    0     0    0       0     0   \n",
              "48974     0        0        0  0   0    0    0     0    0       0     0   \n",
              "48975     0        0        0  0   0    1    0     0    0       0     0   \n",
              "\n",
              "       javascript  jquery  mysql  objective-c  php  python  ruby  \\\n",
              "0               0       0      0            0    0       0     0   \n",
              "1               0       0      0            0    0       0     0   \n",
              "2               0       0      0            0    0       0     0   \n",
              "3               0       0      0            0    0       0     0   \n",
              "4               0       0      0            0    0       0     0   \n",
              "...           ...     ...    ...          ...  ...     ...   ...   \n",
              "48971           0       0      0            0    0       0     0   \n",
              "48972           0       0      0            0    0       0     0   \n",
              "48973           0       0      0            0    0       1     0   \n",
              "48974           0       0      0            0    0       1     0   \n",
              "48975           0       0      0            0    0       0     0   \n",
              "\n",
              "       ruby-on-rails  sql  \n",
              "0                  0    1  \n",
              "1                  0    0  \n",
              "2                  0    0  \n",
              "3                  0    0  \n",
              "4                  0    0  \n",
              "...              ...  ...  \n",
              "48971              0    0  \n",
              "48972              0    0  \n",
              "48973              0    0  \n",
              "48974              0    0  \n",
              "48975              0    0  \n",
              "\n",
              "[48976 rows x 20 columns]"
            ],
            "text/html": [
              "\n",
              "  <div id=\"df-c581a861-0e10-4d7d-bce0-18e6e7d44d9b\">\n",
              "    <div class=\"colab-df-container\">\n",
              "      <div>\n",
              "<style scoped>\n",
              "    .dataframe tbody tr th:only-of-type {\n",
              "        vertical-align: middle;\n",
              "    }\n",
              "\n",
              "    .dataframe tbody tr th {\n",
              "        vertical-align: top;\n",
              "    }\n",
              "\n",
              "    .dataframe thead th {\n",
              "        text-align: right;\n",
              "    }\n",
              "</style>\n",
              "<table border=\"1\" class=\"dataframe\">\n",
              "  <thead>\n",
              "    <tr style=\"text-align: right;\">\n",
              "      <th></th>\n",
              "      <th>.net</th>\n",
              "      <th>android</th>\n",
              "      <th>asp.net</th>\n",
              "      <th>c</th>\n",
              "      <th>c#</th>\n",
              "      <th>c++</th>\n",
              "      <th>css</th>\n",
              "      <th>html</th>\n",
              "      <th>ios</th>\n",
              "      <th>iphone</th>\n",
              "      <th>java</th>\n",
              "      <th>javascript</th>\n",
              "      <th>jquery</th>\n",
              "      <th>mysql</th>\n",
              "      <th>objective-c</th>\n",
              "      <th>php</th>\n",
              "      <th>python</th>\n",
              "      <th>ruby</th>\n",
              "      <th>ruby-on-rails</th>\n",
              "      <th>sql</th>\n",
              "    </tr>\n",
              "  </thead>\n",
              "  <tbody>\n",
              "    <tr>\n",
              "      <th>0</th>\n",
              "      <td>0</td>\n",
              "      <td>0</td>\n",
              "      <td>1</td>\n",
              "      <td>0</td>\n",
              "      <td>0</td>\n",
              "      <td>0</td>\n",
              "      <td>0</td>\n",
              "      <td>0</td>\n",
              "      <td>0</td>\n",
              "      <td>0</td>\n",
              "      <td>0</td>\n",
              "      <td>0</td>\n",
              "      <td>0</td>\n",
              "      <td>0</td>\n",
              "      <td>0</td>\n",
              "      <td>0</td>\n",
              "      <td>0</td>\n",
              "      <td>0</td>\n",
              "      <td>0</td>\n",
              "      <td>1</td>\n",
              "    </tr>\n",
              "    <tr>\n",
              "      <th>1</th>\n",
              "      <td>1</td>\n",
              "      <td>0</td>\n",
              "      <td>0</td>\n",
              "      <td>0</td>\n",
              "      <td>1</td>\n",
              "      <td>0</td>\n",
              "      <td>0</td>\n",
              "      <td>0</td>\n",
              "      <td>0</td>\n",
              "      <td>0</td>\n",
              "      <td>0</td>\n",
              "      <td>0</td>\n",
              "      <td>0</td>\n",
              "      <td>0</td>\n",
              "      <td>0</td>\n",
              "      <td>0</td>\n",
              "      <td>0</td>\n",
              "      <td>0</td>\n",
              "      <td>0</td>\n",
              "      <td>0</td>\n",
              "    </tr>\n",
              "    <tr>\n",
              "      <th>2</th>\n",
              "      <td>0</td>\n",
              "      <td>0</td>\n",
              "      <td>0</td>\n",
              "      <td>0</td>\n",
              "      <td>0</td>\n",
              "      <td>1</td>\n",
              "      <td>0</td>\n",
              "      <td>0</td>\n",
              "      <td>0</td>\n",
              "      <td>0</td>\n",
              "      <td>0</td>\n",
              "      <td>0</td>\n",
              "      <td>0</td>\n",
              "      <td>0</td>\n",
              "      <td>0</td>\n",
              "      <td>0</td>\n",
              "      <td>0</td>\n",
              "      <td>0</td>\n",
              "      <td>0</td>\n",
              "      <td>0</td>\n",
              "    </tr>\n",
              "    <tr>\n",
              "      <th>3</th>\n",
              "      <td>1</td>\n",
              "      <td>0</td>\n",
              "      <td>0</td>\n",
              "      <td>0</td>\n",
              "      <td>0</td>\n",
              "      <td>0</td>\n",
              "      <td>0</td>\n",
              "      <td>0</td>\n",
              "      <td>0</td>\n",
              "      <td>0</td>\n",
              "      <td>0</td>\n",
              "      <td>0</td>\n",
              "      <td>0</td>\n",
              "      <td>0</td>\n",
              "      <td>0</td>\n",
              "      <td>0</td>\n",
              "      <td>0</td>\n",
              "      <td>0</td>\n",
              "      <td>0</td>\n",
              "      <td>0</td>\n",
              "    </tr>\n",
              "    <tr>\n",
              "      <th>4</th>\n",
              "      <td>0</td>\n",
              "      <td>0</td>\n",
              "      <td>0</td>\n",
              "      <td>0</td>\n",
              "      <td>1</td>\n",
              "      <td>0</td>\n",
              "      <td>0</td>\n",
              "      <td>0</td>\n",
              "      <td>0</td>\n",
              "      <td>0</td>\n",
              "      <td>0</td>\n",
              "      <td>0</td>\n",
              "      <td>0</td>\n",
              "      <td>0</td>\n",
              "      <td>0</td>\n",
              "      <td>0</td>\n",
              "      <td>0</td>\n",
              "      <td>0</td>\n",
              "      <td>0</td>\n",
              "      <td>0</td>\n",
              "    </tr>\n",
              "    <tr>\n",
              "      <th>...</th>\n",
              "      <td>...</td>\n",
              "      <td>...</td>\n",
              "      <td>...</td>\n",
              "      <td>...</td>\n",
              "      <td>...</td>\n",
              "      <td>...</td>\n",
              "      <td>...</td>\n",
              "      <td>...</td>\n",
              "      <td>...</td>\n",
              "      <td>...</td>\n",
              "      <td>...</td>\n",
              "      <td>...</td>\n",
              "      <td>...</td>\n",
              "      <td>...</td>\n",
              "      <td>...</td>\n",
              "      <td>...</td>\n",
              "      <td>...</td>\n",
              "      <td>...</td>\n",
              "      <td>...</td>\n",
              "      <td>...</td>\n",
              "    </tr>\n",
              "    <tr>\n",
              "      <th>48971</th>\n",
              "      <td>0</td>\n",
              "      <td>0</td>\n",
              "      <td>0</td>\n",
              "      <td>0</td>\n",
              "      <td>0</td>\n",
              "      <td>1</td>\n",
              "      <td>0</td>\n",
              "      <td>0</td>\n",
              "      <td>0</td>\n",
              "      <td>0</td>\n",
              "      <td>0</td>\n",
              "      <td>0</td>\n",
              "      <td>0</td>\n",
              "      <td>0</td>\n",
              "      <td>0</td>\n",
              "      <td>0</td>\n",
              "      <td>0</td>\n",
              "      <td>0</td>\n",
              "      <td>0</td>\n",
              "      <td>0</td>\n",
              "    </tr>\n",
              "    <tr>\n",
              "      <th>48972</th>\n",
              "      <td>0</td>\n",
              "      <td>0</td>\n",
              "      <td>0</td>\n",
              "      <td>0</td>\n",
              "      <td>0</td>\n",
              "      <td>1</td>\n",
              "      <td>0</td>\n",
              "      <td>0</td>\n",
              "      <td>0</td>\n",
              "      <td>0</td>\n",
              "      <td>0</td>\n",
              "      <td>0</td>\n",
              "      <td>0</td>\n",
              "      <td>0</td>\n",
              "      <td>0</td>\n",
              "      <td>0</td>\n",
              "      <td>0</td>\n",
              "      <td>0</td>\n",
              "      <td>0</td>\n",
              "      <td>0</td>\n",
              "    </tr>\n",
              "    <tr>\n",
              "      <th>48973</th>\n",
              "      <td>0</td>\n",
              "      <td>0</td>\n",
              "      <td>0</td>\n",
              "      <td>0</td>\n",
              "      <td>0</td>\n",
              "      <td>0</td>\n",
              "      <td>0</td>\n",
              "      <td>0</td>\n",
              "      <td>0</td>\n",
              "      <td>0</td>\n",
              "      <td>0</td>\n",
              "      <td>0</td>\n",
              "      <td>0</td>\n",
              "      <td>0</td>\n",
              "      <td>0</td>\n",
              "      <td>0</td>\n",
              "      <td>1</td>\n",
              "      <td>0</td>\n",
              "      <td>0</td>\n",
              "      <td>0</td>\n",
              "    </tr>\n",
              "    <tr>\n",
              "      <th>48974</th>\n",
              "      <td>0</td>\n",
              "      <td>0</td>\n",
              "      <td>0</td>\n",
              "      <td>0</td>\n",
              "      <td>0</td>\n",
              "      <td>0</td>\n",
              "      <td>0</td>\n",
              "      <td>0</td>\n",
              "      <td>0</td>\n",
              "      <td>0</td>\n",
              "      <td>0</td>\n",
              "      <td>0</td>\n",
              "      <td>0</td>\n",
              "      <td>0</td>\n",
              "      <td>0</td>\n",
              "      <td>0</td>\n",
              "      <td>1</td>\n",
              "      <td>0</td>\n",
              "      <td>0</td>\n",
              "      <td>0</td>\n",
              "    </tr>\n",
              "    <tr>\n",
              "      <th>48975</th>\n",
              "      <td>0</td>\n",
              "      <td>0</td>\n",
              "      <td>0</td>\n",
              "      <td>0</td>\n",
              "      <td>0</td>\n",
              "      <td>1</td>\n",
              "      <td>0</td>\n",
              "      <td>0</td>\n",
              "      <td>0</td>\n",
              "      <td>0</td>\n",
              "      <td>0</td>\n",
              "      <td>0</td>\n",
              "      <td>0</td>\n",
              "      <td>0</td>\n",
              "      <td>0</td>\n",
              "      <td>0</td>\n",
              "      <td>0</td>\n",
              "      <td>0</td>\n",
              "      <td>0</td>\n",
              "      <td>0</td>\n",
              "    </tr>\n",
              "  </tbody>\n",
              "</table>\n",
              "<p>48976 rows × 20 columns</p>\n",
              "</div>\n",
              "      <button class=\"colab-df-convert\" onclick=\"convertToInteractive('df-c581a861-0e10-4d7d-bce0-18e6e7d44d9b')\"\n",
              "              title=\"Convert this dataframe to an interactive table.\"\n",
              "              style=\"display:none;\">\n",
              "        \n",
              "  <svg xmlns=\"http://www.w3.org/2000/svg\" height=\"24px\"viewBox=\"0 0 24 24\"\n",
              "       width=\"24px\">\n",
              "    <path d=\"M0 0h24v24H0V0z\" fill=\"none\"/>\n",
              "    <path d=\"M18.56 5.44l.94 2.06.94-2.06 2.06-.94-2.06-.94-.94-2.06-.94 2.06-2.06.94zm-11 1L8.5 8.5l.94-2.06 2.06-.94-2.06-.94L8.5 2.5l-.94 2.06-2.06.94zm10 10l.94 2.06.94-2.06 2.06-.94-2.06-.94-.94-2.06-.94 2.06-2.06.94z\"/><path d=\"M17.41 7.96l-1.37-1.37c-.4-.4-.92-.59-1.43-.59-.52 0-1.04.2-1.43.59L10.3 9.45l-7.72 7.72c-.78.78-.78 2.05 0 2.83L4 21.41c.39.39.9.59 1.41.59.51 0 1.02-.2 1.41-.59l7.78-7.78 2.81-2.81c.8-.78.8-2.07 0-2.86zM5.41 20L4 18.59l7.72-7.72 1.47 1.35L5.41 20z\"/>\n",
              "  </svg>\n",
              "      </button>\n",
              "      \n",
              "  <style>\n",
              "    .colab-df-container {\n",
              "      display:flex;\n",
              "      flex-wrap:wrap;\n",
              "      gap: 12px;\n",
              "    }\n",
              "\n",
              "    .colab-df-convert {\n",
              "      background-color: #E8F0FE;\n",
              "      border: none;\n",
              "      border-radius: 50%;\n",
              "      cursor: pointer;\n",
              "      display: none;\n",
              "      fill: #1967D2;\n",
              "      height: 32px;\n",
              "      padding: 0 0 0 0;\n",
              "      width: 32px;\n",
              "    }\n",
              "\n",
              "    .colab-df-convert:hover {\n",
              "      background-color: #E2EBFA;\n",
              "      box-shadow: 0px 1px 2px rgba(60, 64, 67, 0.3), 0px 1px 3px 1px rgba(60, 64, 67, 0.15);\n",
              "      fill: #174EA6;\n",
              "    }\n",
              "\n",
              "    [theme=dark] .colab-df-convert {\n",
              "      background-color: #3B4455;\n",
              "      fill: #D2E3FC;\n",
              "    }\n",
              "\n",
              "    [theme=dark] .colab-df-convert:hover {\n",
              "      background-color: #434B5C;\n",
              "      box-shadow: 0px 1px 3px 1px rgba(0, 0, 0, 0.15);\n",
              "      filter: drop-shadow(0px 1px 2px rgba(0, 0, 0, 0.3));\n",
              "      fill: #FFFFFF;\n",
              "    }\n",
              "  </style>\n",
              "\n",
              "      <script>\n",
              "        const buttonEl =\n",
              "          document.querySelector('#df-c581a861-0e10-4d7d-bce0-18e6e7d44d9b button.colab-df-convert');\n",
              "        buttonEl.style.display =\n",
              "          google.colab.kernel.accessAllowed ? 'block' : 'none';\n",
              "\n",
              "        async function convertToInteractive(key) {\n",
              "          const element = document.querySelector('#df-c581a861-0e10-4d7d-bce0-18e6e7d44d9b');\n",
              "          const dataTable =\n",
              "            await google.colab.kernel.invokeFunction('convertToInteractive',\n",
              "                                                     [key], {});\n",
              "          if (!dataTable) return;\n",
              "\n",
              "          const docLinkHtml = 'Like what you see? Visit the ' +\n",
              "            '<a target=\"_blank\" href=https://colab.research.google.com/notebooks/data_table.ipynb>data table notebook</a>'\n",
              "            + ' to learn more about interactive tables.';\n",
              "          element.innerHTML = '';\n",
              "          dataTable['output_type'] = 'display_data';\n",
              "          await google.colab.output.renderOutput(dataTable, element);\n",
              "          const docLink = document.createElement('div');\n",
              "          docLink.innerHTML = docLinkHtml;\n",
              "          element.appendChild(docLink);\n",
              "        }\n",
              "      </script>\n",
              "    </div>\n",
              "  </div>\n",
              "  "
            ]
          },
          "metadata": {},
          "execution_count": 365
        }
      ]
    },
    {
      "cell_type": "code",
      "source": [
        "tfidf=TfidfVectorizer(analyzer='word',max_features=1000,\n",
        "                      ngram_range=(1,3),stop_words='english')"
      ],
      "metadata": {
        "id": "OyUYZeSuNIdw"
      },
      "execution_count": 366,
      "outputs": []
    },
    {
      "cell_type": "code",
      "source": [
        "X=tfidf.fit_transform(DF['Text'])\n",
        "X"
      ],
      "metadata": {
        "colab": {
          "base_uri": "https://localhost:8080/"
        },
        "id": "Xzm4Dt4oSoZi",
        "outputId": "64ab1385-23c1-40f6-abea-2b92e5164478"
      },
      "execution_count": 368,
      "outputs": [
        {
          "output_type": "execute_result",
          "data": {
            "text/plain": [
              "<48976x1000 sparse matrix of type '<class 'numpy.float64'>'\n",
              "\twith 1239765 stored elements in Compressed Sparse Row format>"
            ]
          },
          "metadata": {},
          "execution_count": 368
        }
      ]
    },
    {
      "cell_type": "code",
      "source": [
        "tfidf.vocabulary_"
      ],
      "metadata": {
        "colab": {
          "base_uri": "https://localhost:8080/"
        },
        "id": "Agr5dty9S380",
        "outputId": "3a457ed9-2318-4435-ce46-509cff6e45ab"
      },
      "execution_count": 369,
      "outputs": [
        {
          "output_type": "execute_result",
          "data": {
            "text/plain": [
              "{'aspnet': 75,\n",
              " 'site': 801,\n",
              " 'got': 392,\n",
              " 'creating': 221,\n",
              " 'default': 239,\n",
              " 'xml': 998,\n",
              " 'file': 347,\n",
              " 'working': 988,\n",
              " 'properly': 675,\n",
              " 'menu': 554,\n",
              " 'need': 576,\n",
              " 'way': 975,\n",
              " 'users': 942,\n",
              " 'create': 217,\n",
              " 'modify': 563,\n",
              " 'pages': 618,\n",
              " 'page': 617,\n",
              " 'standard': 827,\n",
              " 'adding': 34,\n",
              " 'functionality': 374,\n",
              " 'net': 580,\n",
              " 'applications': 61,\n",
              " 'little': 513,\n",
              " 'game': 376,\n",
              " 'written': 995,\n",
              " 'uses': 943,\n",
              " 'database': 229,\n",
              " 'wanted': 973,\n",
              " 'implement': 429,\n",
              " 'function': 373,\n",
              " 'mean': 550,\n",
              " 'interface': 458,\n",
              " 'class': 160,\n",
              " 'implements': 433,\n",
              " 'public': 683,\n",
              " 'contains': 200,\n",
              " 'called': 131,\n",
              " 'make': 538,\n",
              " 'thing': 886,\n",
              " 'like': 500,\n",
              " 'source': 812,\n",
              " 'code': 166,\n",
              " 'compile': 179,\n",
              " 'use': 937,\n",
              " 'just': 477,\n",
              " 'add': 32,\n",
              " 'tell': 878,\n",
              " 'application': 60,\n",
              " 'assembly': 76,\n",
              " 'means': 551,\n",
              " 'possible': 649,\n",
              " 'new': 582,\n",
              " 'language': 485,\n",
              " 'extra': 330,\n",
              " 'write': 993,\n",
              " 'script': 763,\n",
              " 'public class': 684,\n",
              " 'source code': 813,\n",
              " 'nested': 579,\n",
              " 'classes': 161,\n",
              " 'case': 137,\n",
              " 'collection': 167,\n",
              " 'used': 938,\n",
              " 'video': 959,\n",
              " 'main': 535,\n",
              " 'methods': 558,\n",
              " 'play': 641,\n",
              " 'stop': 842,\n",
              " 'record': 710,\n",
              " 'know': 482,\n",
              " 'think': 888,\n",
              " 'using': 944,\n",
              " 'really': 705,\n",
              " 'sure': 865,\n",
              " 'according': 24,\n",
              " 'reading': 703,\n",
              " 'cases': 138,\n",
              " 'good': 390,\n",
              " 'solution': 808,\n",
              " 'inside': 448,\n",
              " 'separate': 781,\n",
              " 'files': 349,\n",
              " 'client': 164,\n",
              " 'avoid': 87,\n",
              " 'want': 971,\n",
              " 'issue': 465,\n",
              " 'web': 977,\n",
              " 'services': 784,\n",
              " 'writing': 994,\n",
              " 'app': 56,\n",
              " 'seen': 772,\n",
              " 'examples': 313,\n",
              " 'service': 783,\n",
              " 'auto': 84,\n",
              " 'generated': 381,\n",
              " 'visual': 964,\n",
              " 'studio': 852,\n",
              " 'creates': 220,\n",
              " 'reference': 714,\n",
              " 'visual studio': 965,\n",
              " 'automatically': 85,\n",
              " 'update': 931,\n",
              " 'version': 956,\n",
              " 'number': 592,\n",
              " 'property': 677,\n",
              " 'build': 121,\n",
              " 'enable': 294,\n",
              " 'tried': 909,\n",
              " 'specify': 819,\n",
              " '10': 2,\n",
              " 'does': 271,\n",
              " 'exactly': 311,\n",
              " 'settings': 789,\n",
              " 'changed': 149,\n",
              " 'looked': 527,\n",
              " 'directory': 264,\n",
              " 'able': 21,\n",
              " 'thisplay': 891,\n",
              " 'form': 366,\n",
              " 'user': 940,\n",
              " 'problem': 661,\n",
              " 'log': 520,\n",
              " 'old': 600,\n",
              " 'short': 793,\n",
              " 'works': 989,\n",
              " 'appreciated': 63,\n",
              " 'connect': 190,\n",
              " 'loop': 531,\n",
              " 'whats': 979,\n",
              " 'query': 694,\n",
              " 'set': 786,\n",
              " 'records': 711,\n",
              " 'value': 949,\n",
              " 'built': 123,\n",
              " 'obviously': 598,\n",
              " 'available': 86,\n",
              " 'request': 727,\n",
              " 'example': 312,\n",
              " 'output': 610,\n",
              " 'id': 423,\n",
              " 'server': 782,\n",
              " 'sent': 780,\n",
              " 'getting': 384,\n",
              " 'delete': 244,\n",
              " 'process': 663,\n",
              " 'looking': 528,\n",
              " 'method': 557,\n",
              " 'close': 165,\n",
              " 'complete': 182,\n",
              " 'stuff': 853,\n",
              " 'lot': 532,\n",
              " 'looks': 529,\n",
              " 'project': 672,\n",
              " 'configuration': 188,\n",
              " 'bit': 107,\n",
              " 'release': 720,\n",
              " 'actually': 31,\n",
              " 'quite': 698,\n",
              " 'compiler': 181,\n",
              " 'end': 296,\n",
              " 'features': 341,\n",
              " 'related': 719,\n",
              " 'want use': 972,\n",
              " 'unit': 929,\n",
              " 'testing': 881,\n",
              " 'wondering': 983,\n",
              " 'going': 389,\n",
              " 'google': 391,\n",
              " 'day': 232,\n",
              " 'believe': 99,\n",
              " 'better': 102,\n",
              " 'response': 735,\n",
              " 'asking': 74,\n",
              " 'question': 695,\n",
              " 'suggestions': 859,\n",
              " 'stored': 844,\n",
              " 'convert': 209,\n",
              " 'hash': 404,\n",
              " 'string': 848,\n",
              " 'sql': 823,\n",
              " 'following': 360,\n",
              " 'returns': 745,\n",
              " 'instead': 453,\n",
              " 'attempt': 79,\n",
              " 'sql server': 824,\n",
              " 'vs': 969,\n",
              " 'currently': 225,\n",
              " 'results': 738,\n",
              " 'tables': 870,\n",
              " 'performance': 635,\n",
              " 'thisable': 890,\n",
              " 'browser': 117,\n",
              " 'field': 344,\n",
              " 'input': 446,\n",
              " 'tag': 871,\n",
              " 'browsers': 118,\n",
              " 'specific': 817,\n",
              " 'library': 499,\n",
              " 'libraries': 498,\n",
              " 'options': 606,\n",
              " 'internet': 460,\n",
              " 'platform': 640,\n",
              " 'let': 495,\n",
              " 'say': 759,\n",
              " '12': 10,\n",
              " 'existing': 320,\n",
              " 'color': 168,\n",
              " 'work': 986,\n",
              " 'implementation': 430,\n",
              " '20': 14,\n",
              " 'list': 510,\n",
              " 'username': 941,\n",
              " 'return': 740,\n",
              " 'help': 413,\n",
              " 'error': 306,\n",
              " 'php': 638,\n",
              " 'mysql': 569,\n",
              " 'password': 629,\n",
              " 'select': 773,\n",
              " 'fetch': 343,\n",
              " 'echo': 286,\n",
              " 'calls': 133,\n",
              " 'fine': 353,\n",
              " 'insert': 447,\n",
              " 'queries': 693,\n",
              " 'software': 807,\n",
              " 'comment': 175,\n",
              " 'result': 737,\n",
              " 'line': 503,\n",
              " 'goes': 388,\n",
              " 'statement': 833,\n",
              " 'content': 201,\n",
              " 'searching': 767,\n",
              " 'solutions': 809,\n",
              " 'logging': 521,\n",
              " 'checked': 156,\n",
              " 'perform': 634,\n",
              " 'account': 25,\n",
              " 'correct': 212,\n",
              " 'having': 405,\n",
              " 'trouble': 911,\n",
              " 'framework': 370,\n",
              " 'links': 507,\n",
              " 'necessary': 575,\n",
              " 'dll': 268,\n",
              " 'program': 668,\n",
              " 'run': 751,\n",
              " 'machine': 534,\n",
              " 'install': 449,\n",
              " 'target': 874,\n",
              " 'doing': 273,\n",
              " 'message': 555,\n",
              " 'tasks': 876,\n",
              " 'ruby': 750,\n",
              " 'task': 875,\n",
              " 'command': 173,\n",
              " 'multiple': 567,\n",
              " 'times': 900,\n",
              " 'right': 746,\n",
              " 'tools': 904,\n",
              " 'java': 470,\n",
              " 'projects': 673,\n",
              " 'interested': 457,\n",
              " 'missing': 559,\n",
              " 'state': 832,\n",
              " 'tool': 903,\n",
              " 'plugin': 642,\n",
              " 'information': 441,\n",
              " 'generate': 380,\n",
              " 'structure': 851,\n",
              " 'views': 961,\n",
              " 'contain': 197,\n",
              " 'best': 100,\n",
              " 'problems': 662,\n",
              " 'difference': 261,\n",
              " 'development': 255,\n",
              " 'various': 954,\n",
              " 'things': 887,\n",
              " 'reason': 706,\n",
              " 'faster': 339,\n",
              " 'view': 960,\n",
              " 'edit': 288,\n",
              " 'sort': 811,\n",
              " 'data': 228,\n",
              " 'columns': 170,\n",
              " 'longer': 525,\n",
              " 'lists': 511,\n",
              " 'control': 206,\n",
              " 'support': 862,\n",
              " 'assume': 77,\n",
              " 'type': 917,\n",
              " 'easily': 284,\n",
              " 'based': 93,\n",
              " 'eclipse': 287,\n",
              " 'javascript': 471,\n",
              " 'native': 573,\n",
              " 'shared': 792,\n",
              " 'objects': 597,\n",
              " 'apply': 62,\n",
              " 'object': 596,\n",
              " 'created': 219,\n",
              " 'area': 66,\n",
              " 'load': 514,\n",
              " 'point': 643,\n",
              " 'path': 630,\n",
              " 'link': 506,\n",
              " 'loading': 516,\n",
              " 'os': 609,\n",
              " 'does work': 272,\n",
              " 'keys': 480,\n",
              " 'position': 648,\n",
              " 'send': 776,\n",
              " 'event': 308,\n",
              " 'events': 309,\n",
              " 'ideas': 425,\n",
              " 'email': 293,\n",
              " 'practice': 651,\n",
              " 'changes': 150,\n",
              " 'address': 36,\n",
              " 'allow': 42,\n",
              " 'second': 768,\n",
              " 'probably': 660,\n",
              " 'login': 523,\n",
              " 'developing': 254,\n",
              " 'custom': 227,\n",
              " 'mode': 561,\n",
              " 'ajax': 39,\n",
              " 'different': 262,\n",
              " 'cause': 142,\n",
              " 'folder': 359,\n",
              " 'handle': 397,\n",
              " 'situation': 802,\n",
              " 'solve': 810,\n",
              " 'simply': 799,\n",
              " 'fail': 333,\n",
              " 'gives': 386,\n",
              " 'table': 869,\n",
              " 'supposed': 864,\n",
              " 'days': 233,\n",
              " 'product': 665,\n",
              " 'handling': 399,\n",
              " 'details': 250,\n",
              " 'define': 240,\n",
              " 'grid': 394,\n",
              " 'int': 454,\n",
              " 'null': 591,\n",
              " 'primary': 656,\n",
              " 'key': 478,\n",
              " 'unique': 928,\n",
              " 'row': 748,\n",
              " 'start': 828,\n",
              " 'index': 439,\n",
              " 'references': 716,\n",
              " 'remove': 723,\n",
              " 'double': 277,\n",
              " 'unfortunately': 927,\n",
              " 'did': 260,\n",
              " 'fix': 355,\n",
              " 'removed': 724,\n",
              " 'db': 234,\n",
              " 'api': 55,\n",
              " 'building': 122,\n",
              " 'latest': 488,\n",
              " 'download': 278,\n",
              " 'package': 615,\n",
              " 'profile': 667,\n",
              " 'installed': 450,\n",
              " 'binary': 105,\n",
              " 'far': 337,\n",
              " 'size': 803,\n",
              " 'option': 605,\n",
              " 'time': 898,\n",
              " 'make sure': 539,\n",
              " 'module': 564,\n",
              " 'place': 639,\n",
              " 'website': 978,\n",
              " 'running': 752,\n",
              " 'kind': 481,\n",
              " 'firefox': 354,\n",
              " 'recently': 709,\n",
              " 'issues': 466,\n",
              " 'click': 163,\n",
              " 'bug': 120,\n",
              " 'try': 913,\n",
              " 'debug': 235,\n",
              " 'causing': 144,\n",
              " 'usage': 936,\n",
              " 'anybody': 53,\n",
              " 'similar': 797,\n",
              " 'tab': 868,\n",
              " 'apps': 65,\n",
              " 'feel': 342,\n",
              " 'easy': 285,\n",
              " 'require': 729,\n",
              " 'jar': 469,\n",
              " 'linux': 509,\n",
              " 'windows': 982,\n",
              " 'regular': 718,\n",
              " 'unable': 923,\n",
              " 'looks like': 530,\n",
              " 'open': 601,\n",
              " 'read': 702,\n",
              " 'provide': 679,\n",
              " 'char': 152,\n",
              " 'buffer': 119,\n",
              " 'important': 435,\n",
              " 'validation': 948,\n",
              " 'runs': 753,\n",
              " 'level': 496,\n",
              " 'stack': 826,\n",
              " 'long': 524,\n",
              " 'people': 633,\n",
              " 'post': 650,\n",
              " 'contents': 203,\n",
              " 'sending': 778,\n",
              " 'suppose': 863,\n",
              " 'engine': 297,\n",
              " 'simple': 798,\n",
              " 'html': 420,\n",
              " 'free': 371,\n",
              " 'print': 657,\n",
              " 'local': 517,\n",
              " 'image': 426,\n",
              " 'memory': 553,\n",
              " 'stream': 847,\n",
              " 'big': 104,\n",
              " 'change': 148,\n",
              " 'bad': 90,\n",
              " 'come': 171,\n",
              " 'generic': 382,\n",
              " 'confused': 189,\n",
              " 'head': 406,\n",
              " 'tree': 908,\n",
              " 'understanding': 926,\n",
              " 'dictionary': 259,\n",
              " 'passing': 628,\n",
              " 'public string': 688,\n",
              " 'access': 23,\n",
              " 'camera': 135,\n",
              " 'pass': 626,\n",
              " 'parameter': 620,\n",
              " 'passed': 627,\n",
              " 'column': 169,\n",
              " 'algorithm': 40,\n",
              " 'pattern': 631,\n",
              " 'entire': 299,\n",
              " 'linq': 508,\n",
              " 'useful': 939,\n",
              " 'date': 230,\n",
              " 'job': 472,\n",
              " 'instances': 452,\n",
              " 'complex': 184,\n",
              " 'threads': 895,\n",
              " 'article': 72,\n",
              " 'thread': 894,\n",
              " 'async': 78,\n",
              " 'purpose': 690,\n",
              " 'handler': 398,\n",
              " 'additional': 35,\n",
              " 'requests': 728,\n",
              " 'processing': 664,\n",
              " 'original': 608,\n",
              " 'takes': 873,\n",
              " 'answer': 51,\n",
              " 'exit': 322,\n",
              " 'functions': 375,\n",
              " 'void': 966,\n",
              " 'fact': 332,\n",
              " 'gets': 383,\n",
              " 'status': 839,\n",
              " 'answers': 52,\n",
              " 'internal': 459,\n",
              " 'layer': 489,\n",
              " 'aware': 88,\n",
              " 'entity': 300,\n",
              " 'types': 919,\n",
              " 'strings': 849,\n",
              " 'valid': 947,\n",
              " 'store': 843,\n",
              " 'questions': 696,\n",
              " 'approach': 64,\n",
              " 'best way': 101,\n",
              " 'apache': 54,\n",
              " 'heres': 414,\n",
              " 'proper': 674,\n",
              " 'upload': 933,\n",
              " 'basic': 94,\n",
              " 'developer': 253,\n",
              " 'needs': 578,\n",
              " 'setting': 788,\n",
              " 'later': 487,\n",
              " 'test': 880,\n",
              " 'thought': 893,\n",
              " 'throw': 896,\n",
              " 'python': 692,\n",
              " 'needed': 577,\n",
              " 'tests': 882,\n",
              " 'given': 385,\n",
              " 'happens': 402,\n",
              " 'header': 407,\n",
              " 'small': 805,\n",
              " 'trying': 914,\n",
              " 'alternative': 45,\n",
              " 'wrong': 996,\n",
              " 'maybe': 549,\n",
              " 'look': 526,\n",
              " 'share': 791,\n",
              " 'parameters': 621,\n",
              " 'pointers': 645,\n",
              " 'pointer': 644,\n",
              " 'action': 27,\n",
              " 'determine': 252,\n",
              " 'variables': 953,\n",
              " 'sense': 779,\n",
              " 'include': 436,\n",
              " 'calling': 132,\n",
              " 'enabled': 295,\n",
              " 'changing': 151,\n",
              " 'idea': 424,\n",
              " 'static': 835,\n",
              " 'resources': 734,\n",
              " 'images': 427,\n",
              " 'style': 854,\n",
              " 'ways': 976,\n",
              " 'loaded': 515,\n",
              " 'js': 475,\n",
              " 'ip': 463,\n",
              " 'errors': 307,\n",
              " 'exceptions': 315,\n",
              " 'receive': 707,\n",
              " 'exception': 314,\n",
              " 'current': 224,\n",
              " 'ok': 599,\n",
              " 'filter': 350,\n",
              " 'namespace': 572,\n",
              " 'section': 770,\n",
              " 'worked': 987,\n",
              " 'yes': 999,\n",
              " 'pretty': 653,\n",
              " 'arrays': 71,\n",
              " 'group': 395,\n",
              " 'spring': 822,\n",
              " 'allowed': 43,\n",
              " 'setup': 790,\n",
              " 'suggest': 858,\n",
              " 'large': 486,\n",
              " 'order': 607,\n",
              " 'slow': 804,\n",
              " 'join': 473,\n",
              " 'speed': 820,\n",
              " 'copy': 210,\n",
              " 'couple': 215,\n",
              " 'val': 946,\n",
              " 'clear': 162,\n",
              " 'actual': 30,\n",
              " 'check': 155,\n",
              " 'prevent': 654,\n",
              " 'exists': 321,\n",
              " 'values': 950,\n",
              " 'logic': 522,\n",
              " 'rows': 749,\n",
              " 'returned': 743,\n",
              " 'inline': 444,\n",
              " 'foo': 363,\n",
              " 'words': 985,\n",
              " 'numbers': 593,\n",
              " 'manually': 543,\n",
              " 'base': 92,\n",
              " 'provided': 680,\n",
              " 'variable': 952,\n",
              " 'argument': 68,\n",
              " 'gcc': 377,\n",
              " 'jquery': 474,\n",
              " 'common': 177,\n",
              " 'compiled': 180,\n",
              " 'final': 351,\n",
              " 'ui': 921,\n",
              " 'real': 704,\n",
              " 'programming': 670,\n",
              " 'fields': 345,\n",
              " 'enum': 302,\n",
              " 'containing': 199,\n",
              " 'world': 991,\n",
              " 'started': 829,\n",
              " 'makes': 540,\n",
              " 'dynamic': 282,\n",
              " 'modules': 565,\n",
              " 'thanks': 885,\n",
              " 'tutorial': 916,\n",
              " 'bundle': 124,\n",
              " 'hello': 412,\n",
              " 'design': 249,\n",
              " 'consider': 192,\n",
              " 'byte': 127,\n",
              " 'array': 70,\n",
              " 'private': 658,\n",
              " 'override': 612,\n",
              " 'bool': 111,\n",
              " 'obj': 595,\n",
              " 'false': 336,\n",
              " 'true': 912,\n",
              " 'updated': 932,\n",
              " 'equal': 304,\n",
              " 'return false': 741,\n",
              " 'return true': 742,\n",
              " 'execute': 316,\n",
              " 'happen': 400,\n",
              " 'connection': 191,\n",
              " 'detect': 251,\n",
              " 'operation': 602,\n",
              " 'external': 329,\n",
              " 'mac': 533,\n",
              " 'command line': 174,\n",
              " 'better way': 103,\n",
              " 'rails': 699,\n",
              " 'text': 883,\n",
              " 'callback': 130,\n",
              " 'config': 187,\n",
              " 'outside': 611,\n",
              " 'lock': 519,\n",
              " 'production': 666,\n",
              " 'fast': 338,\n",
              " 'port': 647,\n",
              " 'runtime': 754,\n",
              " 'ask': 73,\n",
              " 'buttons': 126,\n",
              " 'thisplayed': 892,\n",
              " 'equivalent': 305,\n",
              " 'xcode': 997,\n",
              " 'learning': 492,\n",
              " 'starting': 830,\n",
              " 'note': 587,\n",
              " 'environment': 303,\n",
              " 'definition': 242,\n",
              " 'ul': 922,\n",
              " 'word': 984,\n",
              " 'format': 367,\n",
              " 'global': 387,\n",
              " 'sample': 757,\n",
              " 'draw': 279,\n",
              " 'label': 483,\n",
              " 'selected': 774,\n",
              " 'correctly': 213,\n",
              " 'window': 981,\n",
              " 'force': 364,\n",
              " 'comes': 172,\n",
              " 'push': 691,\n",
              " 'step': 841,\n",
              " 'elements': 292,\n",
              " 'statements': 834,\n",
              " 'host': 418,\n",
              " 'url': 935,\n",
              " 'map': 544,\n",
              " 'figure': 346,\n",
              " 'search': 766,\n",
              " 'failed': 334,\n",
              " 'binding': 106,\n",
              " '15': 12,\n",
              " 'included': 437,\n",
              " 'syntax': 867,\n",
              " 'document': 269,\n",
              " 'says': 760,\n",
              " 'home': 417,\n",
              " 'compare': 178,\n",
              " 'root': 747,\n",
              " 'datetime': 231,\n",
              " 'cast': 139,\n",
              " 'expected': 324,\n",
              " 'defined': 241,\n",
              " 'messages': 556,\n",
              " 'vector': 955,\n",
              " 'lambda': 484,\n",
              " 'guess': 396,\n",
              " 'normal': 586,\n",
              " 'height': 409,\n",
              " '30': 15,\n",
              " 'left': 493,\n",
              " 'constant': 195,\n",
              " '100': 5,\n",
              " 'happening': 401,\n",
              " '50': 18,\n",
              " 'import': 434,\n",
              " 'thinking': 889,\n",
              " 'great': 393,\n",
              " 'course': 216,\n",
              " 'css': 222,\n",
              " 'layout': 490,\n",
              " 'abstract': 22,\n",
              " 'tags': 872,\n",
              " 'component': 185,\n",
              " 'particular': 625,\n",
              " 'block': 109,\n",
              " 'finally': 352,\n",
              " 'said': 756,\n",
              " 'including': 438,\n",
              " 'instance': 451,\n",
              " 'submit': 855,\n",
              " 'utf8': 945,\n",
              " 'parse': 624,\n",
              " 'single': 800,\n",
              " 'node': 585,\n",
              " 'lines': 505,\n",
              " 'returning': 744,\n",
              " 'child': 158,\n",
              " 'element': 291,\n",
              " 'rest': 736,\n",
              " 'total': 905,\n",
              " 'properties': 676,\n",
              " 'items': 468,\n",
              " 'implementing': 432,\n",
              " 'foreach': 365,\n",
              " 'extension': 328,\n",
              " 'catch': 140,\n",
              " 'nice': 583,\n",
              " 'previous': 655,\n",
              " 'attribute': 80,\n",
              " 'break': 116,\n",
              " 'allows': 44,\n",
              " 'attributes': 81,\n",
              " 'requires': 731,\n",
              " 'authentication': 83,\n",
              " 'android': 46,\n",
              " 'managed': 542,\n",
              " 'success': 856,\n",
              " 'wpf': 992,\n",
              " 'description': 248,\n",
              " 'network': 581,\n",
              " 'socket': 806,\n",
              " 'sender': 777,\n",
              " 'advance': 38,\n",
              " 'points': 646,\n",
              " 'like know': 501,\n",
              " 'font': 362,\n",
              " 'item': 467,\n",
              " 'exist': 319,\n",
              " 'duplicate': 281,\n",
              " 'entry': 301,\n",
              " 'button': 125,\n",
              " 'drop': 280,\n",
              " 'dialog': 258,\n",
              " 'certain': 147,\n",
              " 'controller': 207,\n",
              " 'hard': 403,\n",
              " 'documentation': 270,\n",
              " 'active': 28,\n",
              " 'explain': 325,\n",
              " 'ms': 566,\n",
              " 'basically': 95,\n",
              " 'integer': 455,\n",
              " '11': 9,\n",
              " 'mvc': 568,\n",
              " 'model': 562,\n",
              " 'json': 476,\n",
              " 'dom': 275,\n",
              " 'background': 89,\n",
              " 'sdk': 765,\n",
              " 'versions': 958,\n",
              " 'div': 265,\n",
              " 'dynamically': 283,\n",
              " 'width': 980,\n",
              " 'starts': 831,\n",
              " 'screen': 762,\n",
              " 'max': 548,\n",
              " 'container': 198,\n",
              " 'scroll': 764,\n",
              " 'bar': 91,\n",
              " 'retrieve': 739,\n",
              " 'warning': 974,\n",
              " 'box': 115,\n",
              " 'href': 419,\n",
              " 'typetext': 920,\n",
              " 'initialize': 443,\n",
              " 'var': 951,\n",
              " 'http': 421,\n",
              " 'hidden': 415,\n",
              " 'django': 267,\n",
              " 'undefined': 924,\n",
              " 'checking': 157,\n",
              " 'param': 619,\n",
              " 'gem': 378,\n",
              " 'matter': 546,\n",
              " 'count': 214,\n",
              " 'inner': 445,\n",
              " 'behavior': 97,\n",
              " 'implemented': 431,\n",
              " 'directly': 263,\n",
              " 'device': 256,\n",
              " 'referenced': 715,\n",
              " 'fails': 335,\n",
              " 'switch': 866,\n",
              " 'title': 901,\n",
              " 'scope': 761,\n",
              " 'arguments': 69,\n",
              " 'understand': 925,\n",
              " 'making': 541,\n",
              " 'constructor': 196,\n",
              " 'person': 636,\n",
              " 'cache': 129,\n",
              " 'added': 33,\n",
              " 'wait': 970,\n",
              " 'length': 494,\n",
              " 'came': 134,\n",
              " 'args': 67,\n",
              " 'character': 153,\n",
              " 'derived': 247,\n",
              " 'trigger': 910,\n",
              " 'chrome': 159,\n",
              " 'regex': 717,\n",
              " 'match': 545,\n",
              " 'characters': 154,\n",
              " 'template': 879,\n",
              " 'flag': 357,\n",
              " 'transaction': 907,\n",
              " 'session': 785,\n",
              " 'works fine': 990,\n",
              " 'save': 758,\n",
              " 'bytes': 128,\n",
              " 'expect': 323,\n",
              " 'following code': 361,\n",
              " 'programmatically': 669,\n",
              " 'noticed': 588,\n",
              " 'doing wrong': 274,\n",
              " 'init': 442,\n",
              " 'enter': 298,\n",
              " 'names': 571,\n",
              " 'causes': 143,\n",
              " 'strange': 846,\n",
              " 'behaviour': 98,\n",
              " 'required': 730,\n",
              " 'const': 194,\n",
              " 'info': 440,\n",
              " 'parent': 622,\n",
              " 'public static': 686,\n",
              " 'private static': 659,\n",
              " 'public void': 689,\n",
              " 'iphone': 464,\n",
              " 'successfully': 857,\n",
              " 'center': 146,\n",
              " 'shown': 795,\n",
              " 'body': 110,\n",
              " 'tr': 906,\n",
              " 'fixed': 356,\n",
              " 'security': 771,\n",
              " 'relevant': 721,\n",
              " 'showing': 794,\n",
              " 'achieve': 26,\n",
              " 'completely': 183,\n",
              " 'learn': 491,\n",
              " 'delegate': 243,\n",
              " 'appear': 57,\n",
              " '64': 20,\n",
              " 'present': 652,\n",
              " 'effect': 289,\n",
              " 'resource': 733,\n",
              " 'core': 211,\n",
              " 'operator': 604,\n",
              " 'debugging': 236,\n",
              " 'throws': 897,\n",
              " 'range': 701,\n",
              " 'float': 358,\n",
              " 'super': 861,\n",
              " 'special': 816,\n",
              " 'split': 821,\n",
              " 'domain': 276,\n",
              " 'general': 379,\n",
              " 'feature': 340,\n",
              " 'invalid': 461,\n",
              " 'declared': 237,\n",
              " 'space': 814,\n",
              " 'condition': 186,\n",
              " 'notification': 589,\n",
              " 'render': 725,\n",
              " 'phone': 637,\n",
              " 'protected': 678,\n",
              " 'ex': 310,\n",
              " 'console': 193,\n",
              " 'hide': 416,\n",
              " 'pdf': 632,\n",
              " 'conversion': 208,\n",
              " 'bean': 96,\n",
              " 'efficient': 290,\n",
              " 'context': 204,\n",
              " 'member': 552,\n",
              " '1024': 6,\n",
              " 'expression': 326,\n",
              " 'operations': 603,\n",
              " 'redirect': 713,\n",
              " 'def': 238,\n",
              " 'execution': 318,\n",
              " 'specified': 818,\n",
              " 'mainstring': 536,\n",
              " 'override public': 613,\n",
              " 'static void': 837,\n",
              " 'void mainstring': 967,\n",
              " 'mainstring args': 537,\n",
              " 'override public void': 614,\n",
              " 'public static void': 687,\n",
              " 'static void mainstring': 838,\n",
              " 'void mainstring args': 968,\n",
              " 'public int': 685,\n",
              " 'continue': 205,\n",
              " 'turn': 915,\n",
              " 'audio': 82,\n",
              " 'keyboard': 479,\n",
              " 'filename': 348,\n",
              " 'named': 570,\n",
              " 'create new': 218,\n",
              " 'resolve': 732,\n",
              " 'struct': 850,\n",
              " 'safe': 755,\n",
              " 'maven': 547,\n",
              " 'dependencies': 245,\n",
              " 'virtual': 962,\n",
              " 'random': 700,\n",
              " 'nil': 584,\n",
              " 'str': 845,\n",
              " 'comments': 176,\n",
              " 'headers': 408,\n",
              " 'appears': 58,\n",
              " 'typename': 918,\n",
              " 'remote': 722,\n",
              " 'executed': 317,\n",
              " 'frame': 369,\n",
              " 'sum': 860,\n",
              " 'location': 518,\n",
              " 'timeout': 899,\n",
              " 'replace': 726,\n",
              " '32': 16,\n",
              " 'seconds': 769,\n",
              " 'padding': 616,\n",
              " 'border': 114,\n",
              " 'apple': 59,\n",
              " '13': 11,\n",
              " 'boolean': 112,\n",
              " 'cursor': 226,\n",
              " 'navigation': 574,\n",
              " 'visible': 963,\n",
              " 'animation': 50,\n",
              " 'limit': 502,\n",
              " 'red': 712,\n",
              " '16': 13,\n",
              " '512': 19,\n",
              " 'extends': 327,\n",
              " 'curl': 223,\n",
              " 'icon': 422,\n",
              " 'unsigned': 930,\n",
              " 'dependency': 246,\n",
              " 'listview': 512,\n",
              " 'canvas': 136,\n",
              " 'uri': 934,\n",
              " 'shows': 796,\n",
              " 'admin': 37,\n",
              " 'progress': 671,\n",
              " 'bitmap': 108,\n",
              " 'fragment': 368,\n",
              " 'queue': 697,\n",
              " 'self': 775,\n",
              " 'td': 877,\n",
              " 'facebook': 331,\n",
              " '40': 17,\n",
              " 'span': 815,\n",
              " 'src': 825,\n",
              " 'li': 497,\n",
              " 'mobile': 560,\n",
              " 'recent': 708,\n",
              " 'ios': 462,\n",
              " 'cell': 145,\n",
              " 'func': 372,\n",
              " 'category': 141,\n",
              " 'set public': 787,\n",
              " 'nsstring': 590,\n",
              " '10 10': 3,\n",
              " 'provider': 681,\n",
              " 'version10': 957,\n",
              " '00': 0,\n",
              " 'img': 428,\n",
              " 'numpy': 594,\n",
              " 'alloc': 41,\n",
              " 'activity': 29,\n",
              " 'ptr': 682,\n",
              " 'bootstrap': 113,\n",
              " 'div div': 266,\n",
              " 'devices': 257,\n",
              " 'stdcout': 840,\n",
              " 'intent': 456,\n",
              " 'token': 902,\n",
              " 'static final': 836,\n",
              " 'textview': 884,\n",
              " '10 10 10': 4,\n",
              " 'androidlayout': 47,\n",
              " 'parent androidlayout': 623,\n",
              " 'linearlayout': 504,\n",
              " 'heightwrap': 410,\n",
              " 'androidlayout heightwrap': 48,\n",
              " 'heightwrap content': 411,\n",
              " 'content androidlayout': 202,\n",
              " 'androidlayout heightwrap content': 49,\n",
              " '00 00': 1,\n",
              " '1024 1024': 7,\n",
              " '1024 1024 1024': 8}"
            ]
          },
          "metadata": {},
          "execution_count": 369
        }
      ]
    },
    {
      "cell_type": "code",
      "source": [
        "X.shape,y.shape"
      ],
      "metadata": {
        "colab": {
          "base_uri": "https://localhost:8080/"
        },
        "id": "NCzmcN_AOPul",
        "outputId": "8cbaf018-5782-4366-e723-cbf663163dfc"
      },
      "execution_count": 370,
      "outputs": [
        {
          "output_type": "execute_result",
          "data": {
            "text/plain": [
              "((48976, 1000), (48976, 20))"
            ]
          },
          "metadata": {},
          "execution_count": 370
        }
      ]
    },
    {
      "cell_type": "code",
      "source": [
        "X_train,X_test,y_train,y_test=train_test_split(X,y,test_size=0.2,random_state=0)"
      ],
      "metadata": {
        "id": "ECYMWPWDOPxr"
      },
      "execution_count": 371,
      "outputs": []
    },
    {
      "cell_type": "code",
      "source": [
        "X_train.shape,X_test.shape"
      ],
      "metadata": {
        "colab": {
          "base_uri": "https://localhost:8080/"
        },
        "id": "BAhIWXR1OPzj",
        "outputId": "6801d035-20fb-4aa1-f72c-4d1c79665403"
      },
      "execution_count": 372,
      "outputs": [
        {
          "output_type": "execute_result",
          "data": {
            "text/plain": [
              "((39180, 1000), (9796, 1000))"
            ]
          },
          "metadata": {},
          "execution_count": 372
        }
      ]
    },
    {
      "cell_type": "markdown",
      "source": [
        "###MODEL BUILDING"
      ],
      "metadata": {
        "id": "CpDKm5qBO0d-"
      }
    },
    {
      "cell_type": "code",
      "source": [
        "from sklearn.multiclass import OneVsRestClassifier"
      ],
      "metadata": {
        "id": "DHwaYJ5FOP3L"
      },
      "execution_count": 373,
      "outputs": []
    },
    {
      "cell_type": "code",
      "source": [
        "def j_score(y_true,y_pred):\n",
        "  jaccard=np.minimum(y_true,y_pred).sum(axis=1)/np.maximum(y_true,y_pred).sum(axis=1)\n",
        "  return jaccard.mean()*100"
      ],
      "metadata": {
        "id": "MLbcUyMZO2fw"
      },
      "execution_count": 374,
      "outputs": []
    },
    {
      "cell_type": "markdown",
      "source": [
        "####LOGISTIC REGRESSION"
      ],
      "metadata": {
        "id": "L9n6cx2hUcDM"
      }
    },
    {
      "cell_type": "code",
      "source": [
        "lr=LogisticRegression(solver='lbfgs')"
      ],
      "metadata": {
        "id": "iBxyNwSmTePu"
      },
      "execution_count": 375,
      "outputs": []
    },
    {
      "cell_type": "code",
      "source": [
        "clf=OneVsRestClassifier(lr)\n",
        "clf.fit(X_train,y_train)"
      ],
      "metadata": {
        "colab": {
          "base_uri": "https://localhost:8080/"
        },
        "id": "Dp98orN1UNdF",
        "outputId": "1e7ad859-d25e-4c2e-e96d-833c5e0b5524"
      },
      "execution_count": 387,
      "outputs": [
        {
          "output_type": "execute_result",
          "data": {
            "text/plain": [
              "OneVsRestClassifier(estimator=LogisticRegression())"
            ]
          },
          "metadata": {},
          "execution_count": 387
        }
      ]
    },
    {
      "cell_type": "code",
      "source": [
        "y_pred=clf.predict(X_test)"
      ],
      "metadata": {
        "id": "KZs9qeTdUS93"
      },
      "execution_count": 388,
      "outputs": []
    },
    {
      "cell_type": "code",
      "source": [
        "j_score(y_test,y_pred)"
      ],
      "metadata": {
        "colab": {
          "base_uri": "https://localhost:8080/"
        },
        "outputId": "04cc75c5-f7d4-4818-bd68-d6a6cea4c808",
        "id": "J3q9XpS1US94"
      },
      "execution_count": 389,
      "outputs": [
        {
          "output_type": "execute_result",
          "data": {
            "text/plain": [
              "49.12668436096366"
            ]
          },
          "metadata": {},
          "execution_count": 389
        }
      ]
    },
    {
      "cell_type": "markdown",
      "source": [
        "####SVM"
      ],
      "metadata": {
        "id": "_rfcxwnSO4wS"
      }
    },
    {
      "cell_type": "code",
      "source": [
        "from sklearn.svm import LinearSVC"
      ],
      "metadata": {
        "id": "RvK7e4ClO2jA"
      },
      "execution_count": 390,
      "outputs": []
    },
    {
      "cell_type": "code",
      "source": [
        "svm=LinearSVC(C=1.5,penalty='l1',dual=False)\n",
        "clf=OneVsRestClassifier(svm)\n",
        "clf.fit(X_train,y_train)"
      ],
      "metadata": {
        "colab": {
          "base_uri": "https://localhost:8080/"
        },
        "id": "RIIXxBw5O_4V",
        "outputId": "e2f3c9e6-df10-42b5-b822-cba6202c48cd"
      },
      "execution_count": 391,
      "outputs": [
        {
          "output_type": "execute_result",
          "data": {
            "text/plain": [
              "OneVsRestClassifier(estimator=LinearSVC(C=1.5, dual=False, penalty='l1'))"
            ]
          },
          "metadata": {},
          "execution_count": 391
        }
      ]
    },
    {
      "cell_type": "code",
      "source": [
        "y_pred=clf.predict(X_test)"
      ],
      "metadata": {
        "id": "s0xfzjE8O_7w"
      },
      "execution_count": 392,
      "outputs": []
    },
    {
      "cell_type": "code",
      "source": [
        "j_score(y_test,y_pred)"
      ],
      "metadata": {
        "colab": {
          "base_uri": "https://localhost:8080/"
        },
        "id": "suqksw4yO_-L",
        "outputId": "6ed33f89-24b2-400a-bbea-5e5ad8eadef7"
      },
      "execution_count": 393,
      "outputs": [
        {
          "output_type": "execute_result",
          "data": {
            "text/plain": [
              "53.3787600381108"
            ]
          },
          "metadata": {},
          "execution_count": 393
        }
      ]
    },
    {
      "cell_type": "markdown",
      "source": [
        "####PREDICTING LABELS"
      ],
      "metadata": {
        "id": "GZZKhnicQHrH"
      }
    },
    {
      "cell_type": "code",
      "source": [
        "x=['how to write ml code in python and java i have data but do not know how to do it']\n",
        "x1=['C#,html,.net are my favourite language']\n",
        "x2=['HTML and SQL']"
      ],
      "metadata": {
        "id": "3SSuo_i_Pszf"
      },
      "execution_count": 454,
      "outputs": []
    },
    {
      "cell_type": "code",
      "source": [
        "xt=tfidf.transform(x)\n",
        "print(clf.predict(xt))\n",
        "multilabel.inverse_transform(clf.predict(xt))"
      ],
      "metadata": {
        "colab": {
          "base_uri": "https://localhost:8080/"
        },
        "id": "vwYZBuaSPswZ",
        "outputId": "f697e5cf-7f00-417f-f4b3-54d51d188323"
      },
      "execution_count": 455,
      "outputs": [
        {
          "output_type": "stream",
          "name": "stdout",
          "text": [
            "[[0 0 0 0 0 0 0 0 0 0 1 0 0 0 0 0 1 0 0 0]]\n"
          ]
        },
        {
          "output_type": "execute_result",
          "data": {
            "text/plain": [
              "[('java', 'python')]"
            ]
          },
          "metadata": {},
          "execution_count": 455
        }
      ]
    },
    {
      "cell_type": "code",
      "source": [
        "xt=tfidf.transform(x1)\n",
        "print(clf.predict(xt))\n",
        "multilabel.inverse_transform(clf.predict(xt))"
      ],
      "metadata": {
        "colab": {
          "base_uri": "https://localhost:8080/"
        },
        "id": "n701sv86O2l1",
        "outputId": "facd5792-36ac-4f4c-e2f0-c264316aafb2"
      },
      "execution_count": 456,
      "outputs": [
        {
          "output_type": "stream",
          "name": "stdout",
          "text": [
            "[[1 0 0 0 1 0 0 1 0 0 0 0 0 0 0 0 0 0 0 0]]\n"
          ]
        },
        {
          "output_type": "execute_result",
          "data": {
            "text/plain": [
              "[('.net', 'c#', 'html')]"
            ]
          },
          "metadata": {},
          "execution_count": 456
        }
      ]
    },
    {
      "cell_type": "code",
      "source": [
        "xt=tfidf.transform(x2)\n",
        "print(clf.predict(xt))\n",
        "multilabel.inverse_transform(clf.predict(xt))"
      ],
      "metadata": {
        "colab": {
          "base_uri": "https://localhost:8080/"
        },
        "id": "jSsi86WMV2Om",
        "outputId": "a4d31301-cb6a-431b-f9aa-9a597e55c789"
      },
      "execution_count": 457,
      "outputs": [
        {
          "output_type": "stream",
          "name": "stdout",
          "text": [
            "[[0 0 0 0 0 0 0 1 0 0 0 0 0 0 0 0 0 0 0 1]]\n"
          ]
        },
        {
          "output_type": "execute_result",
          "data": {
            "text/plain": [
              "[('html', 'sql')]"
            ]
          },
          "metadata": {},
          "execution_count": 457
        }
      ]
    }
  ]
}
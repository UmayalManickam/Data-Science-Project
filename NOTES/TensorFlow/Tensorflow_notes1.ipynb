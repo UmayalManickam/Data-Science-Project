{
  "nbformat": 4,
  "nbformat_minor": 0,
  "metadata": {
    "colab": {
      "name": "Tensorflow_notes1.ipynb",
      "provenance": [],
      "collapsed_sections": []
    },
    "kernelspec": {
      "name": "python3",
      "display_name": "Python 3"
    },
    "language_info": {
      "name": "python"
    },
    "accelerator": "GPU"
  },
  "cells": [
    {
      "cell_type": "code",
      "execution_count": null,
      "metadata": {
        "id": "DY28fXN0xUE-"
      },
      "outputs": [],
      "source": [
        "import tensorflow as tf"
      ]
    },
    {
      "cell_type": "markdown",
      "source": [
        "# COMMON TERMS\n",
        "#### SCALAR: A single number\n",
        "#### VECTOR: A number with direction(E.G windspeed with direction)\n",
        "#### MATRIX: Matrix is 2D array of numbers\n",
        "#### TENSOR: A n-dimensional array of numbers (where n can be any number,\n",
        "##### 0 D TENSOR-->Scalar\n",
        "##### 1 D TENSOR-->Vector)"
      ],
      "metadata": {
        "id": "Od-ocyzo1YGG"
      }
    },
    {
      "cell_type": "code",
      "source": [
        "array=tf.constant([[[1,2],[3,4]],[[1,2],[3,4]],[[1,2],[3,4]]])\n",
        "print(array)\n",
        "print(array.ndim)\n",
        "print(array.shape)"
      ],
      "metadata": {
        "colab": {
          "base_uri": "https://localhost:8080/"
        },
        "id": "HTYvDmny1YSB",
        "outputId": "0513c2ef-bb39-4066-dac8-4a0474862bfd"
      },
      "execution_count": null,
      "outputs": [
        {
          "output_type": "stream",
          "name": "stdout",
          "text": [
            "tf.Tensor(\n",
            "[[[1 2]\n",
            "  [3 4]]\n",
            "\n",
            " [[1 2]\n",
            "  [3 4]]\n",
            "\n",
            " [[1 2]\n",
            "  [3 4]]], shape=(3, 2, 2), dtype=int32)\n",
            "3\n",
            "(3, 2, 2)\n"
          ]
        }
      ]
    },
    {
      "cell_type": "markdown",
      "source": [
        "# DIFFERENCE BETWEEN VARIABLE AND CONSTA    NT"
      ],
      "metadata": {
        "id": "9jWFcrslxcMe"
      }
    },
    {
      "cell_type": "code",
      "source": [
        "var=tf.Variable([10,7])\n",
        "const=tf.constant([10,7])\n",
        "var[0].assign(7)\n",
        "print(var)\n",
        "print(const)"
      ],
      "metadata": {
        "colab": {
          "base_uri": "https://localhost:8080/"
        },
        "id": "wUR5h2sExcZC",
        "outputId": "535889d2-10b5-4689-b1e9-5d3dc1765843"
      },
      "execution_count": null,
      "outputs": [
        {
          "output_type": "stream",
          "name": "stdout",
          "text": [
            "<tf.Variable 'Variable:0' shape=(2,) dtype=int32, numpy=array([7, 7], dtype=int32)>\n",
            "tf.Tensor([10  7], shape=(2,), dtype=int32)\n"
          ]
        }
      ]
    },
    {
      "cell_type": "markdown",
      "source": [
        "you can assign only to variable not to constant"
      ],
      "metadata": {
        "id": "DCHE1ju-z3p4"
      }
    },
    {
      "cell_type": "markdown",
      "source": [
        "# CREATING RANDOM TENSORS "
      ],
      "metadata": {
        "id": "DmVlqSpbz7f2"
      }
    },
    {
      "cell_type": "markdown",
      "source": [
        "### USING UNIFORM"
      ],
      "metadata": {
        "id": "uM6Mx_Gd0Ccy"
      }
    },
    {
      "cell_type": "code",
      "source": [
        "random1=tf.random.Generator.from_seed(42)  #setting seed for reproduceability\n",
        "random1=random1.uniform(shape=(3,2))\n",
        "random1"
      ],
      "metadata": {
        "colab": {
          "base_uri": "https://localhost:8080/"
        },
        "id": "1NuNjElX0FnX",
        "outputId": "cb40f9aa-d028-4cc1-d69b-0cae46444c7c"
      },
      "execution_count": null,
      "outputs": [
        {
          "output_type": "execute_result",
          "data": {
            "text/plain": [
              "<tf.Tensor: shape=(3, 2), dtype=float32, numpy=\n",
              "array([[0.7493447 , 0.73561966],\n",
              "       [0.45230794, 0.49039817],\n",
              "       [0.1889317 , 0.52027524]], dtype=float32)>"
            ]
          },
          "metadata": {},
          "execution_count": 129
        }
      ]
    },
    {
      "cell_type": "code",
      "source": [
        "### USING NORMAL"
      ],
      "metadata": {
        "id": "hLhbfFzP0BEt"
      },
      "execution_count": null,
      "outputs": []
    },
    {
      "cell_type": "code",
      "source": [
        "random2=tf.random.Generator.from_seed(42)  #setting seed for reproduceability\n",
        "random2=random2.normal(shape=(3,2))\n",
        "random2"
      ],
      "metadata": {
        "colab": {
          "base_uri": "https://localhost:8080/"
        },
        "id": "aXO0YWdH0lSa",
        "outputId": "6492a86a-f6e4-429b-dad6-37a1325c3981"
      },
      "execution_count": null,
      "outputs": [
        {
          "output_type": "execute_result",
          "data": {
            "text/plain": [
              "<tf.Tensor: shape=(3, 2), dtype=float32, numpy=\n",
              "array([[-0.7565803 , -0.06854702],\n",
              "       [ 0.07595026, -1.2573844 ],\n",
              "       [-0.23193765, -1.8107855 ]], dtype=float32)>"
            ]
          },
          "metadata": {},
          "execution_count": 131
        }
      ]
    },
    {
      "cell_type": "markdown",
      "source": [
        "# SHUFFLING ORDER OF ELEMENTS IN TENSOR"
      ],
      "metadata": {
        "id": "lJd9PnUg0tn9"
      }
    },
    {
      "cell_type": "markdown",
      "source": [
        "We shuffle the elements, so that we can initiate the random weights to input data to help our model learn from NEURAL NETWORK"
      ],
      "metadata": {
        "id": "4pecpGwB03xn"
      }
    },
    {
      "cell_type": "code",
      "source": [
        "notShuffled=tf.constant([[1,2],[3,4],[5,6]])\n",
        "print('Not Shuffled :\\n',notShuffled)"
      ],
      "metadata": {
        "colab": {
          "base_uri": "https://localhost:8080/"
        },
        "id": "JVzj64Ne1CT2",
        "outputId": "242cdeb3-3ff5-4e09-bf56-cfad6d1e523b"
      },
      "execution_count": null,
      "outputs": [
        {
          "output_type": "stream",
          "name": "stdout",
          "text": [
            "Not Shuffled :\n",
            " tf.Tensor(\n",
            "[[1 2]\n",
            " [3 4]\n",
            " [5 6]], shape=(3, 2), dtype=int32)\n"
          ]
        }
      ]
    },
    {
      "cell_type": "markdown",
      "source": [
        "### USING GLOBAL SEEDING METHOD\n",
        "once the seed is setted globally,it will result in same output for every run"
      ],
      "metadata": {
        "id": "FzVEt6oK3Z3r"
      }
    },
    {
      "cell_type": "code",
      "source": [
        "tf.random.set_seed(42)\n",
        "Shuffled=tf.random.shuffle(notShuffled)\n",
        "print('Shuffled:\\n',Shuffled)"
      ],
      "metadata": {
        "colab": {
          "base_uri": "https://localhost:8080/"
        },
        "id": "NL1m29tr0zzd",
        "outputId": "c2aa958a-69c4-445b-c91e-00fa9463983d"
      },
      "execution_count": null,
      "outputs": [
        {
          "output_type": "stream",
          "name": "stdout",
          "text": [
            "Shuffled:\n",
            " tf.Tensor(\n",
            "[[3 4]\n",
            " [5 6]\n",
            " [1 2]], shape=(3, 2), dtype=int32)\n"
          ]
        }
      ]
    },
    {
      "cell_type": "markdown",
      "source": [
        "### OPERATIONAL SEEDING METHOD\n",
        "Here the seeding is not done globally,so every time you run, you get different shuffling"
      ],
      "metadata": {
        "id": "d5q8Ens63h6x"
      }
    },
    {
      "cell_type": "code",
      "source": [
        "Shuffled=tf.random.shuffle(notShuffled,seed=42)\n",
        "print('Shuffled:\\n',Shuffled)"
      ],
      "metadata": {
        "colab": {
          "base_uri": "https://localhost:8080/"
        },
        "id": "3mD3SS7F3LqA",
        "outputId": "9f225cac-25b7-465a-fe54-1c3ccf8c510d"
      },
      "execution_count": null,
      "outputs": [
        {
          "output_type": "stream",
          "name": "stdout",
          "text": [
            "Shuffled:\n",
            " tf.Tensor(\n",
            "[[1 2]\n",
            " [3 4]\n",
            " [5 6]], shape=(3, 2), dtype=int32)\n"
          ]
        }
      ]
    },
    {
      "cell_type": "markdown",
      "source": [
        "### ONES AND ZEROS IN TENSORFLOW"
      ],
      "metadata": {
        "id": "rrUoeXz_5Mrp"
      }
    },
    {
      "cell_type": "code",
      "source": [
        "tf_1=tf.ones(shape=(3,4))\n",
        "tf_1"
      ],
      "metadata": {
        "colab": {
          "base_uri": "https://localhost:8080/"
        },
        "id": "seFlCIeN5C5v",
        "outputId": "97783c9b-cabc-4749-c7e1-0c210520a02b"
      },
      "execution_count": null,
      "outputs": [
        {
          "output_type": "execute_result",
          "data": {
            "text/plain": [
              "<tf.Tensor: shape=(3, 4), dtype=float32, numpy=\n",
              "array([[1., 1., 1., 1.],\n",
              "       [1., 1., 1., 1.],\n",
              "       [1., 1., 1., 1.]], dtype=float32)>"
            ]
          },
          "metadata": {},
          "execution_count": 135
        }
      ]
    },
    {
      "cell_type": "code",
      "source": [
        "tf_0=tf.zeros(shape=(3,4))\n",
        "tf_0"
      ],
      "metadata": {
        "colab": {
          "base_uri": "https://localhost:8080/"
        },
        "id": "GA2UsXYH5NsZ",
        "outputId": "e25d2f3f-517a-4d05-9e2f-266c5c5f22bf"
      },
      "execution_count": null,
      "outputs": [
        {
          "output_type": "execute_result",
          "data": {
            "text/plain": [
              "<tf.Tensor: shape=(3, 4), dtype=float32, numpy=\n",
              "array([[0., 0., 0., 0.],\n",
              "       [0., 0., 0., 0.],\n",
              "       [0., 0., 0., 0.]], dtype=float32)>"
            ]
          },
          "metadata": {},
          "execution_count": 136
        }
      ]
    },
    {
      "cell_type": "markdown",
      "source": [
        "### TURNING NUMPY ARRAY INTO TENSORS"
      ],
      "metadata": {
        "id": "vdrvcIra5dMK"
      }
    },
    {
      "cell_type": "code",
      "source": [
        "import numpy as np\n",
        "np_array=np.arange(1,25)\n",
        "print('Data type of np_array:',np_array.dtype)\n",
        "np_array"
      ],
      "metadata": {
        "colab": {
          "base_uri": "https://localhost:8080/"
        },
        "id": "pmcUOXyT5ctD",
        "outputId": "754000d1-9e20-4419-d502-641166fa2a09"
      },
      "execution_count": null,
      "outputs": [
        {
          "output_type": "stream",
          "name": "stdout",
          "text": [
            "Data type of np_array: int64\n"
          ]
        },
        {
          "output_type": "execute_result",
          "data": {
            "text/plain": [
              "array([ 1,  2,  3,  4,  5,  6,  7,  8,  9, 10, 11, 12, 13, 14, 15, 16, 17,\n",
              "       18, 19, 20, 21, 22, 23, 24])"
            ]
          },
          "metadata": {},
          "execution_count": 137
        }
      ]
    },
    {
      "cell_type": "code",
      "source": [
        "np_array1=np.arange(1,25,dtype=np.int32)\n",
        "np_array1"
      ],
      "metadata": {
        "colab": {
          "base_uri": "https://localhost:8080/"
        },
        "id": "udwYnZUN6wng",
        "outputId": "ea0adee5-8182-469c-901b-290c90c2935e"
      },
      "execution_count": null,
      "outputs": [
        {
          "output_type": "execute_result",
          "data": {
            "text/plain": [
              "array([ 1,  2,  3,  4,  5,  6,  7,  8,  9, 10, 11, 12, 13, 14, 15, 16, 17,\n",
              "       18, 19, 20, 21, 22, 23, 24], dtype=int32)"
            ]
          },
          "metadata": {},
          "execution_count": 138
        }
      ]
    },
    {
      "cell_type": "code",
      "source": [
        "# 2 sub array , where each array has 3 rows and 4 columns\n",
        "np_arrayTensor=tf.constant(np_array1,shape=(2,3,4))\n",
        "np_arrayTensor"
      ],
      "metadata": {
        "colab": {
          "base_uri": "https://localhost:8080/"
        },
        "id": "yj033AV77Sfr",
        "outputId": "ab7acc66-1695-454f-c073-97c58500acb7"
      },
      "execution_count": null,
      "outputs": [
        {
          "output_type": "execute_result",
          "data": {
            "text/plain": [
              "<tf.Tensor: shape=(2, 3, 4), dtype=int32, numpy=\n",
              "array([[[ 1,  2,  3,  4],\n",
              "        [ 5,  6,  7,  8],\n",
              "        [ 9, 10, 11, 12]],\n",
              "\n",
              "       [[13, 14, 15, 16],\n",
              "        [17, 18, 19, 20],\n",
              "        [21, 22, 23, 24]]], dtype=int32)>"
            ]
          },
          "metadata": {},
          "execution_count": 139
        }
      ]
    },
    {
      "cell_type": "markdown",
      "source": [
        "**Difference between numpy and tensor is that, tensor can run on GPU(much faster numerical computing)**"
      ],
      "metadata": {
        "id": "ObQWPSfu9Gqm"
      }
    },
    {
      "cell_type": "markdown",
      "source": [
        "**GETTING INFO FROM TENSORS**\n",
        "\n",
        "SHAPE: length(no.of elements) of each dimension of tensor.\n",
        "\n",
        "RANK: no.of tensor dimension--> SCALAR=0,VECTOR=1,MATRIX=2,TENSOR=n.\n",
        "\n",
        "AXIS/DIMENSION: a particular dimension of tensor.\n",
        "\n",
        "SIZE: total no.of items in tensor"
      ],
      "metadata": {
        "id": "icvAdqs-9y5s"
      }
    },
    {
      "cell_type": "code",
      "source": [
        "#RANK 4 TENSOR\n",
        "rank4Tensor=tf.zeros(shape=(2,3,4,5))  #2 divisions 3 sub divisions inside each, with 4 rows and 5 columns in each sub divisions of divisions.\n",
        "rank4Tensor"
      ],
      "metadata": {
        "colab": {
          "base_uri": "https://localhost:8080/"
        },
        "id": "-EEHDg3w-dMp",
        "outputId": "75c4afb2-e8f6-49a3-fa62-412e281d6a52"
      },
      "execution_count": null,
      "outputs": [
        {
          "output_type": "execute_result",
          "data": {
            "text/plain": [
              "<tf.Tensor: shape=(2, 3, 4, 5), dtype=float32, numpy=\n",
              "array([[[[0., 0., 0., 0., 0.],\n",
              "         [0., 0., 0., 0., 0.],\n",
              "         [0., 0., 0., 0., 0.],\n",
              "         [0., 0., 0., 0., 0.]],\n",
              "\n",
              "        [[0., 0., 0., 0., 0.],\n",
              "         [0., 0., 0., 0., 0.],\n",
              "         [0., 0., 0., 0., 0.],\n",
              "         [0., 0., 0., 0., 0.]],\n",
              "\n",
              "        [[0., 0., 0., 0., 0.],\n",
              "         [0., 0., 0., 0., 0.],\n",
              "         [0., 0., 0., 0., 0.],\n",
              "         [0., 0., 0., 0., 0.]]],\n",
              "\n",
              "\n",
              "       [[[0., 0., 0., 0., 0.],\n",
              "         [0., 0., 0., 0., 0.],\n",
              "         [0., 0., 0., 0., 0.],\n",
              "         [0., 0., 0., 0., 0.]],\n",
              "\n",
              "        [[0., 0., 0., 0., 0.],\n",
              "         [0., 0., 0., 0., 0.],\n",
              "         [0., 0., 0., 0., 0.],\n",
              "         [0., 0., 0., 0., 0.]],\n",
              "\n",
              "        [[0., 0., 0., 0., 0.],\n",
              "         [0., 0., 0., 0., 0.],\n",
              "         [0., 0., 0., 0., 0.],\n",
              "         [0., 0., 0., 0., 0.]]]], dtype=float32)>"
            ]
          },
          "metadata": {},
          "execution_count": 140
        }
      ]
    },
    {
      "cell_type": "code",
      "source": [
        "rank4Tensor[0]  #1 st division from total 2 divisions "
      ],
      "metadata": {
        "colab": {
          "base_uri": "https://localhost:8080/"
        },
        "id": "GTqXzt3P_iJI",
        "outputId": "03adce8d-d161-4807-aacd-7e401a5e83c8"
      },
      "execution_count": null,
      "outputs": [
        {
          "output_type": "execute_result",
          "data": {
            "text/plain": [
              "<tf.Tensor: shape=(3, 4, 5), dtype=float32, numpy=\n",
              "array([[[0., 0., 0., 0., 0.],\n",
              "        [0., 0., 0., 0., 0.],\n",
              "        [0., 0., 0., 0., 0.],\n",
              "        [0., 0., 0., 0., 0.]],\n",
              "\n",
              "       [[0., 0., 0., 0., 0.],\n",
              "        [0., 0., 0., 0., 0.],\n",
              "        [0., 0., 0., 0., 0.],\n",
              "        [0., 0., 0., 0., 0.]],\n",
              "\n",
              "       [[0., 0., 0., 0., 0.],\n",
              "        [0., 0., 0., 0., 0.],\n",
              "        [0., 0., 0., 0., 0.],\n",
              "        [0., 0., 0., 0., 0.]]], dtype=float32)>"
            ]
          },
          "metadata": {},
          "execution_count": 141
        }
      ]
    },
    {
      "cell_type": "code",
      "source": [
        "#GETTING VARIOUS ATTRIBUTES OF TENSORS\n",
        "print('Data type of each element:',rank4Tensor.dtype)\n",
        "print('Rank(no.of dimensions):',rank4Tensor.ndim)\n",
        "print('Shape of tensor:',rank4Tensor.shape)\n",
        "print('Element along the 0 axis:',rank4Tensor[0])\n",
        "print('Element along the last axis:',rank4Tensor[-1])\n",
        "print('Total no.of element in tensor:',np.size(rank4Tensor))"
      ],
      "metadata": {
        "colab": {
          "base_uri": "https://localhost:8080/"
        },
        "id": "l-L0LMEJ_mRd",
        "outputId": "56ef3b5d-aa93-41a0-83bd-aa529f8f61f1"
      },
      "execution_count": null,
      "outputs": [
        {
          "output_type": "stream",
          "name": "stdout",
          "text": [
            "Data type of each element: <dtype: 'float32'>\n",
            "Rank(no.of dimensions): 4\n",
            "Shape of tensor: (2, 3, 4, 5)\n",
            "Element along the 0 axis: tf.Tensor(\n",
            "[[[0. 0. 0. 0. 0.]\n",
            "  [0. 0. 0. 0. 0.]\n",
            "  [0. 0. 0. 0. 0.]\n",
            "  [0. 0. 0. 0. 0.]]\n",
            "\n",
            " [[0. 0. 0. 0. 0.]\n",
            "  [0. 0. 0. 0. 0.]\n",
            "  [0. 0. 0. 0. 0.]\n",
            "  [0. 0. 0. 0. 0.]]\n",
            "\n",
            " [[0. 0. 0. 0. 0.]\n",
            "  [0. 0. 0. 0. 0.]\n",
            "  [0. 0. 0. 0. 0.]\n",
            "  [0. 0. 0. 0. 0.]]], shape=(3, 4, 5), dtype=float32)\n",
            "Element along the last axis: tf.Tensor(\n",
            "[[[0. 0. 0. 0. 0.]\n",
            "  [0. 0. 0. 0. 0.]\n",
            "  [0. 0. 0. 0. 0.]\n",
            "  [0. 0. 0. 0. 0.]]\n",
            "\n",
            " [[0. 0. 0. 0. 0.]\n",
            "  [0. 0. 0. 0. 0.]\n",
            "  [0. 0. 0. 0. 0.]\n",
            "  [0. 0. 0. 0. 0.]]\n",
            "\n",
            " [[0. 0. 0. 0. 0.]\n",
            "  [0. 0. 0. 0. 0.]\n",
            "  [0. 0. 0. 0. 0.]\n",
            "  [0. 0. 0. 0. 0.]]], shape=(3, 4, 5), dtype=float32)\n",
            "Total no.of element in tensor: 120\n"
          ]
        }
      ]
    },
    {
      "cell_type": "markdown",
      "source": [
        "## INDEXING AND EXPANDING THE TENSORS"
      ],
      "metadata": {
        "id": "DcgT0YSIA1gR"
      }
    },
    {
      "cell_type": "code",
      "source": [
        "#Indexing in tensorflow is same as python\n",
        "#normal list\n",
        "L=[1,2,3,4,5]\n",
        "L[:2]"
      ],
      "metadata": {
        "colab": {
          "base_uri": "https://localhost:8080/"
        },
        "id": "l776VoF5A7Tf",
        "outputId": "8319b4e6-be3f-487c-b36b-9378fafbbf33"
      },
      "execution_count": null,
      "outputs": [
        {
          "output_type": "execute_result",
          "data": {
            "text/plain": [
              "[1, 2]"
            ]
          },
          "metadata": {},
          "execution_count": 143
        }
      ]
    },
    {
      "cell_type": "code",
      "source": [
        "#In tensors\n",
        "rank4Tensor[:2,:2,:2,:2]"
      ],
      "metadata": {
        "colab": {
          "base_uri": "https://localhost:8080/"
        },
        "id": "qfvbCXMfBLur",
        "outputId": "15faedb5-791a-4e4d-8bdf-1fbb5ed77531"
      },
      "execution_count": null,
      "outputs": [
        {
          "output_type": "execute_result",
          "data": {
            "text/plain": [
              "<tf.Tensor: shape=(2, 2, 2, 2), dtype=float32, numpy=\n",
              "array([[[[0., 0.],\n",
              "         [0., 0.]],\n",
              "\n",
              "        [[0., 0.],\n",
              "         [0., 0.]]],\n",
              "\n",
              "\n",
              "       [[[0., 0.],\n",
              "         [0., 0.]],\n",
              "\n",
              "        [[0., 0.],\n",
              "         [0., 0.]]]], dtype=float32)>"
            ]
          },
          "metadata": {},
          "execution_count": 144
        }
      ]
    },
    {
      "cell_type": "code",
      "source": [
        "#Getting first element from each dimension from each index except the final one\n",
        "rank4Tensor[:1,:1,:1]"
      ],
      "metadata": {
        "colab": {
          "base_uri": "https://localhost:8080/"
        },
        "id": "gqj0oN72B8io",
        "outputId": "86c79ed0-0fc9-43af-c221-3faeaad1d505"
      },
      "execution_count": null,
      "outputs": [
        {
          "output_type": "execute_result",
          "data": {
            "text/plain": [
              "<tf.Tensor: shape=(1, 1, 1, 5), dtype=float32, numpy=array([[[[0., 0., 0., 0., 0.]]]], dtype=float32)>"
            ]
          },
          "metadata": {},
          "execution_count": 145
        }
      ]
    },
    {
      "cell_type": "code",
      "source": [
        "# CREATING RANK 2 TENSOR\n",
        "rank2Tensor=tf.constant([[10,7],[3,4]])\n",
        "rank2Tensor.shape,rank2Tensor.ndim"
      ],
      "metadata": {
        "colab": {
          "base_uri": "https://localhost:8080/"
        },
        "id": "Bz1phxSuCIou",
        "outputId": "77bfc38b-f924-47f1-9597-dac1b506d253"
      },
      "execution_count": null,
      "outputs": [
        {
          "output_type": "execute_result",
          "data": {
            "text/plain": [
              "(TensorShape([2, 2]), 2)"
            ]
          },
          "metadata": {},
          "execution_count": 146
        }
      ]
    },
    {
      "cell_type": "code",
      "source": [
        "L,L[-1]"
      ],
      "metadata": {
        "colab": {
          "base_uri": "https://localhost:8080/"
        },
        "id": "01B3qu4HCeqx",
        "outputId": "0b4135f0-5d5c-4079-fe84-634f461204c8"
      },
      "execution_count": null,
      "outputs": [
        {
          "output_type": "execute_result",
          "data": {
            "text/plain": [
              "([1, 2, 3, 4, 5], 5)"
            ]
          },
          "metadata": {},
          "execution_count": 147
        }
      ]
    },
    {
      "cell_type": "code",
      "source": [
        "rank2Tensor[:-1]"
      ],
      "metadata": {
        "colab": {
          "base_uri": "https://localhost:8080/"
        },
        "id": "2rzV9KLUChXD",
        "outputId": "2de2c46c-5be7-4883-bed8-dccedb0f5400"
      },
      "execution_count": null,
      "outputs": [
        {
          "output_type": "execute_result",
          "data": {
            "text/plain": [
              "<tf.Tensor: shape=(1, 2), dtype=int32, numpy=array([[10,  7]], dtype=int32)>"
            ]
          },
          "metadata": {},
          "execution_count": 148
        }
      ]
    },
    {
      "cell_type": "code",
      "source": [
        "# ADDING 1 EXTRA DIMENSION TO rank2Tensor\n",
        "rank3Tensor=rank2Tensor[...,tf.newaxis]  #on;y keep 3 dots(...)\n",
        "rank3Tensor.shape,rank3Tensor.ndim"
      ],
      "metadata": {
        "colab": {
          "base_uri": "https://localhost:8080/"
        },
        "id": "t8YimIY5FUuY",
        "outputId": "65a43cf2-350a-46e8-d378-092a6386b90c"
      },
      "execution_count": null,
      "outputs": [
        {
          "output_type": "execute_result",
          "data": {
            "text/plain": [
              "(TensorShape([2, 2, 1]), 3)"
            ]
          },
          "metadata": {},
          "execution_count": 149
        }
      ]
    },
    {
      "cell_type": "code",
      "source": [
        "#ALTERNATE TO NEWAXIS\n",
        "B=tf.expand_dims(rank2Tensor,axis=-1) # -1 means adding 3rd axis at last\n",
        "B.shape,B.ndim"
      ],
      "metadata": {
        "colab": {
          "base_uri": "https://localhost:8080/"
        },
        "id": "629BmvbLF69S",
        "outputId": "b60e385d-976e-4c73-bf30-54f534f91919"
      },
      "execution_count": null,
      "outputs": [
        {
          "output_type": "execute_result",
          "data": {
            "text/plain": [
              "(TensorShape([2, 2, 1]), 3)"
            ]
          },
          "metadata": {},
          "execution_count": 150
        }
      ]
    },
    {
      "cell_type": "code",
      "source": [
        "B=tf.expand_dims(rank2Tensor,axis=0)  #at first adding the new axis\n",
        "B.shape,B.ndim"
      ],
      "metadata": {
        "colab": {
          "base_uri": "https://localhost:8080/"
        },
        "id": "eInnsH92GaJM",
        "outputId": "04abc1fd-6068-4828-b576-7387e9fd6b7a"
      },
      "execution_count": null,
      "outputs": [
        {
          "output_type": "execute_result",
          "data": {
            "text/plain": [
              "(TensorShape([1, 2, 2]), 3)"
            ]
          },
          "metadata": {},
          "execution_count": 151
        }
      ]
    },
    {
      "cell_type": "code",
      "source": [
        "B=tf.expand_dims(rank2Tensor,axis=1)   #adding new axis in middle\n",
        "B.shape,B.ndim"
      ],
      "metadata": {
        "colab": {
          "base_uri": "https://localhost:8080/"
        },
        "id": "bVcfsDzHFUKq",
        "outputId": "df80e0bd-dd10-4b08-8c3f-aa8265f8f858"
      },
      "execution_count": null,
      "outputs": [
        {
          "output_type": "execute_result",
          "data": {
            "text/plain": [
              "(TensorShape([2, 1, 2]), 3)"
            ]
          },
          "metadata": {},
          "execution_count": 152
        }
      ]
    },
    {
      "cell_type": "markdown",
      "source": [
        "## MANIPULATING TENSORS USING BASIC OPERATIONS"
      ],
      "metadata": {
        "id": "LtIqQa3xawIl"
      }
    },
    {
      "cell_type": "code",
      "source": [
        "    tensor=tf.constant([[10,7],[3,4]])\n",
        "    tensor"
      ],
      "metadata": {
        "colab": {
          "base_uri": "https://localhost:8080/"
        },
        "id": "iQhSFSrMa8e_",
        "outputId": "bbbd70c8-8367-48e2-cd22-ebdf79e9f554"
      },
      "execution_count": null,
      "outputs": [
        {
          "output_type": "execute_result",
          "data": {
            "text/plain": [
              "<tf.Tensor: shape=(2, 2), dtype=int32, numpy=\n",
              "array([[10,  7],\n",
              "       [ 3,  4]], dtype=int32)>"
            ]
          },
          "metadata": {},
          "execution_count": 153
        }
      ]
    },
    {
      "cell_type": "code",
      "source": [
        "#METHOD 1\n",
        "print('ADDITION:',tensor+10)\n",
        "print('SUBTRACTION:',tensor-10)\n",
        "print('MULTIPLICATION:',tensor*10)"
      ],
      "metadata": {
        "colab": {
          "base_uri": "https://localhost:8080/"
        },
        "id": "ytrQZJICbedu",
        "outputId": "9afdca09-2dda-4319-d468-3183969dd1d0"
      },
      "execution_count": null,
      "outputs": [
        {
          "output_type": "stream",
          "name": "stdout",
          "text": [
            "ADDITION: tf.Tensor(\n",
            "[[20 17]\n",
            " [13 14]], shape=(2, 2), dtype=int32)\n",
            "SUBTRACTION: tf.Tensor(\n",
            "[[ 0 -3]\n",
            " [-7 -6]], shape=(2, 2), dtype=int32)\n",
            "MULTIPLICATION: tf.Tensor(\n",
            "[[100  70]\n",
            " [ 30  40]], shape=(2, 2), dtype=int32)\n"
          ]
        }
      ]
    },
    {
      "cell_type": "code",
      "source": [
        "#METHOD 2\n",
        "print('ADDITION:',tf.add(tensor,10))\n",
        "print('SUBTRACTION:',tf.subtract(tensor,10))\n",
        "print('MULTIPLICATION:',tf.multiply(tensor,10))\n"
      ],
      "metadata": {
        "colab": {
          "base_uri": "https://localhost:8080/"
        },
        "id": "bGGuVmlXb8ib",
        "outputId": "a7b32082-e5e7-424a-bf27-cdd65b29bd83"
      },
      "execution_count": null,
      "outputs": [
        {
          "output_type": "stream",
          "name": "stdout",
          "text": [
            "ADDITION: tf.Tensor(\n",
            "[[20 17]\n",
            " [13 14]], shape=(2, 2), dtype=int32)\n",
            "SUBTRACTION: tf.Tensor(\n",
            "[[ 0 -3]\n",
            " [-7 -6]], shape=(2, 2), dtype=int32)\n",
            "MULTIPLICATION: tf.Tensor(\n",
            "[[100  70]\n",
            " [ 30  40]], shape=(2, 2), dtype=int32)\n"
          ]
        }
      ]
    },
    {
      "cell_type": "markdown",
      "source": [
        "**VERY IMPORTANT MATHEMATICAL OPERATION IN NEURAL NETWORK**"
      ],
      "metadata": {
        "id": "JOZVps8Kcqgm"
      }
    },
    {
      "cell_type": "code",
      "source": [
        "#multiplying 2 matrices\n",
        "#METHOD 1\n",
        "tf.matmul(tensor,tensor)"
      ],
      "metadata": {
        "colab": {
          "base_uri": "https://localhost:8080/"
        },
        "id": "S-M7wNYuckLn",
        "outputId": "1b55cf48-b29f-433b-e33a-37002334419d"
      },
      "execution_count": null,
      "outputs": [
        {
          "output_type": "execute_result",
          "data": {
            "text/plain": [
              "<tf.Tensor: shape=(2, 2), dtype=int32, numpy=\n",
              "array([[121,  98],\n",
              "       [ 42,  37]], dtype=int32)>"
            ]
          },
          "metadata": {},
          "execution_count": 156
        }
      ]
    },
    {
      "cell_type": "code",
      "source": [
        "#METHOD 2\n",
        "tensor@tensor"
      ],
      "metadata": {
        "colab": {
          "base_uri": "https://localhost:8080/"
        },
        "id": "w8e0HjiAc-Ni",
        "outputId": "6f2bc389-58d8-43a7-9767-1eb9c139ea11"
      },
      "execution_count": null,
      "outputs": [
        {
          "output_type": "execute_result",
          "data": {
            "text/plain": [
              "<tf.Tensor: shape=(2, 2), dtype=int32, numpy=\n",
              "array([[121,  98],\n",
              "       [ 42,  37]], dtype=int32)>"
            ]
          },
          "metadata": {},
          "execution_count": 157
        }
      ]
    },
    {
      "cell_type": "code",
      "source": [
        "#MATRIX MULTIPLICATION\n",
        "x=tf.constant([[1,2],[3,4],[5,6]])\n",
        "y=tf.constant([[1,2],[3,4],[5,6]])\n",
        "x.shape,y.shape"
      ],
      "metadata": {
        "colab": {
          "base_uri": "https://localhost:8080/"
        },
        "id": "01T8SQhDdSQb",
        "outputId": "7aee81a0-5271-491e-aacd-ae30cc91da3a"
      },
      "execution_count": null,
      "outputs": [
        {
          "output_type": "execute_result",
          "data": {
            "text/plain": [
              "(TensorShape([3, 2]), TensorShape([3, 2]))"
            ]
          },
          "metadata": {},
          "execution_count": 158
        }
      ]
    },
    {
      "cell_type": "code",
      "source": [
        "tf.matmul(x,y)"
      ],
      "metadata": {
        "colab": {
          "base_uri": "https://localhost:8080/",
          "height": 362
        },
        "id": "7yNfZv5edtX1",
        "outputId": "0a1432dd-1f75-4373-ae3c-aa6458ae5b53"
      },
      "execution_count": null,
      "outputs": [
        {
          "output_type": "error",
          "ename": "InvalidArgumentError",
          "evalue": "ignored",
          "traceback": [
            "\u001b[0;31m---------------------------------------------------------------------------\u001b[0m",
            "\u001b[0;31mInvalidArgumentError\u001b[0m                      Traceback (most recent call last)",
            "\u001b[0;32m<ipython-input-160-6d85c9df1c33>\u001b[0m in \u001b[0;36m<module>\u001b[0;34m()\u001b[0m\n\u001b[0;32m----> 1\u001b[0;31m \u001b[0mtf\u001b[0m\u001b[0;34m.\u001b[0m\u001b[0mmatmul\u001b[0m\u001b[0;34m(\u001b[0m\u001b[0mx\u001b[0m\u001b[0;34m,\u001b[0m\u001b[0my\u001b[0m\u001b[0;34m)\u001b[0m\u001b[0;34m\u001b[0m\u001b[0;34m\u001b[0m\u001b[0m\n\u001b[0m",
            "\u001b[0;32m/usr/local/lib/python3.7/dist-packages/tensorflow/python/util/traceback_utils.py\u001b[0m in \u001b[0;36merror_handler\u001b[0;34m(*args, **kwargs)\u001b[0m\n\u001b[1;32m    151\u001b[0m     \u001b[0;32mexcept\u001b[0m \u001b[0mException\u001b[0m \u001b[0;32mas\u001b[0m \u001b[0me\u001b[0m\u001b[0;34m:\u001b[0m\u001b[0;34m\u001b[0m\u001b[0;34m\u001b[0m\u001b[0m\n\u001b[1;32m    152\u001b[0m       \u001b[0mfiltered_tb\u001b[0m \u001b[0;34m=\u001b[0m \u001b[0m_process_traceback_frames\u001b[0m\u001b[0;34m(\u001b[0m\u001b[0me\u001b[0m\u001b[0;34m.\u001b[0m\u001b[0m__traceback__\u001b[0m\u001b[0;34m)\u001b[0m\u001b[0;34m\u001b[0m\u001b[0;34m\u001b[0m\u001b[0m\n\u001b[0;32m--> 153\u001b[0;31m       \u001b[0;32mraise\u001b[0m \u001b[0me\u001b[0m\u001b[0;34m.\u001b[0m\u001b[0mwith_traceback\u001b[0m\u001b[0;34m(\u001b[0m\u001b[0mfiltered_tb\u001b[0m\u001b[0;34m)\u001b[0m \u001b[0;32mfrom\u001b[0m \u001b[0;32mNone\u001b[0m\u001b[0;34m\u001b[0m\u001b[0;34m\u001b[0m\u001b[0m\n\u001b[0m\u001b[1;32m    154\u001b[0m     \u001b[0;32mfinally\u001b[0m\u001b[0;34m:\u001b[0m\u001b[0;34m\u001b[0m\u001b[0;34m\u001b[0m\u001b[0m\n\u001b[1;32m    155\u001b[0m       \u001b[0;32mdel\u001b[0m \u001b[0mfiltered_tb\u001b[0m\u001b[0;34m\u001b[0m\u001b[0;34m\u001b[0m\u001b[0m\n",
            "\u001b[0;32m/usr/local/lib/python3.7/dist-packages/tensorflow/python/framework/ops.py\u001b[0m in \u001b[0;36mraise_from_not_ok_status\u001b[0;34m(e, name)\u001b[0m\n\u001b[1;32m   7184\u001b[0m \u001b[0;32mdef\u001b[0m \u001b[0mraise_from_not_ok_status\u001b[0m\u001b[0;34m(\u001b[0m\u001b[0me\u001b[0m\u001b[0;34m,\u001b[0m \u001b[0mname\u001b[0m\u001b[0;34m)\u001b[0m\u001b[0;34m:\u001b[0m\u001b[0;34m\u001b[0m\u001b[0;34m\u001b[0m\u001b[0m\n\u001b[1;32m   7185\u001b[0m   \u001b[0me\u001b[0m\u001b[0;34m.\u001b[0m\u001b[0mmessage\u001b[0m \u001b[0;34m+=\u001b[0m \u001b[0;34m(\u001b[0m\u001b[0;34m\" name: \"\u001b[0m \u001b[0;34m+\u001b[0m \u001b[0mname\u001b[0m \u001b[0;32mif\u001b[0m \u001b[0mname\u001b[0m \u001b[0;32mis\u001b[0m \u001b[0;32mnot\u001b[0m \u001b[0;32mNone\u001b[0m \u001b[0;32melse\u001b[0m \u001b[0;34m\"\"\u001b[0m\u001b[0;34m)\u001b[0m\u001b[0;34m\u001b[0m\u001b[0;34m\u001b[0m\u001b[0m\n\u001b[0;32m-> 7186\u001b[0;31m   \u001b[0;32mraise\u001b[0m \u001b[0mcore\u001b[0m\u001b[0;34m.\u001b[0m\u001b[0m_status_to_exception\u001b[0m\u001b[0;34m(\u001b[0m\u001b[0me\u001b[0m\u001b[0;34m)\u001b[0m \u001b[0;32mfrom\u001b[0m \u001b[0;32mNone\u001b[0m  \u001b[0;31m# pylint: disable=protected-access\u001b[0m\u001b[0;34m\u001b[0m\u001b[0;34m\u001b[0m\u001b[0m\n\u001b[0m\u001b[1;32m   7187\u001b[0m \u001b[0;34m\u001b[0m\u001b[0m\n\u001b[1;32m   7188\u001b[0m \u001b[0;34m\u001b[0m\u001b[0m\n",
            "\u001b[0;31mInvalidArgumentError\u001b[0m: Matrix size-incompatible: In[0]: [3,2], In[1]: [3,2] [Op:MatMul]"
          ]
        }
      ]
    },
    {
      "cell_type": "code",
      "source": [
        "Y=tf.reshape(y,shape=(2,3))\n",
        "x.shape,Y.shape"
      ],
      "metadata": {
        "colab": {
          "base_uri": "https://localhost:8080/"
        },
        "id": "IrKLZ7sMeCMA",
        "outputId": "eb62868c-8538-4f98-cdac-39c5259fe20d"
      },
      "execution_count": null,
      "outputs": [
        {
          "output_type": "execute_result",
          "data": {
            "text/plain": [
              "(TensorShape([3, 2]), TensorShape([2, 3]))"
            ]
          },
          "metadata": {},
          "execution_count": 161
        }
      ]
    },
    {
      "cell_type": "code",
      "source": [
        "tf.matmul(x,Y)"
      ],
      "metadata": {
        "colab": {
          "base_uri": "https://localhost:8080/"
        },
        "id": "SfmyxwRsd12N",
        "outputId": "d1042d7f-5bb4-49f3-9722-ae51d7dc0927"
      },
      "execution_count": null,
      "outputs": [
        {
          "output_type": "execute_result",
          "data": {
            "text/plain": [
              "<tf.Tensor: shape=(3, 3), dtype=int32, numpy=\n",
              "array([[ 9, 12, 15],\n",
              "       [19, 26, 33],\n",
              "       [29, 40, 51]], dtype=int32)>"
            ]
          },
          "metadata": {},
          "execution_count": 162
        }
      ]
    },
    {
      "cell_type": "code",
      "source": [
        "#TRANSPOSE OF MATRIX\n",
        "x,tf.transpose(x),Y,tf.transpose(Y)"
      ],
      "metadata": {
        "colab": {
          "base_uri": "https://localhost:8080/"
        },
        "id": "B0ablrGzeN3O",
        "outputId": "f1dcaf85-9a44-43a5-f15b-e14ab838e666"
      },
      "execution_count": null,
      "outputs": [
        {
          "output_type": "execute_result",
          "data": {
            "text/plain": [
              "(<tf.Tensor: shape=(3, 2), dtype=int32, numpy=\n",
              " array([[1, 2],\n",
              "        [3, 4],\n",
              "        [5, 6]], dtype=int32)>, <tf.Tensor: shape=(2, 3), dtype=int32, numpy=\n",
              " array([[1, 3, 5],\n",
              "        [2, 4, 6]], dtype=int32)>, <tf.Tensor: shape=(2, 3), dtype=int32, numpy=\n",
              " array([[1, 2, 3],\n",
              "        [4, 5, 6]], dtype=int32)>, <tf.Tensor: shape=(3, 2), dtype=int32, numpy=\n",
              " array([[1, 4],\n",
              "        [2, 5],\n",
              "        [3, 6]], dtype=int32)>)"
            ]
          },
          "metadata": {},
          "execution_count": 163
        }
      ]
    },
    {
      "cell_type": "code",
      "source": [
        "#MATRIX MULTIPLICATION OF TWO TRANSPOSES\n",
        "tf.matmul(tf.transpose(x),tf.transpose(Y))"
      ],
      "metadata": {
        "colab": {
          "base_uri": "https://localhost:8080/"
        },
        "id": "0WVgRr1Le-7N",
        "outputId": "62200e36-113a-467a-fd1b-0dea50af1723"
      },
      "execution_count": null,
      "outputs": [
        {
          "output_type": "execute_result",
          "data": {
            "text/plain": [
              "<tf.Tensor: shape=(2, 2), dtype=int32, numpy=\n",
              "array([[22, 49],\n",
              "       [28, 64]], dtype=int32)>"
            ]
          },
          "metadata": {},
          "execution_count": 164
        }
      ]
    },
    {
      "cell_type": "markdown",
      "source": [
        "### DOT PRODUCT"
      ],
      "metadata": {
        "id": "JO7daiqkfTl7"
      }
    },
    {
      "cell_type": "markdown",
      "source": [
        "matrix multiplication is also referred to as DOT PRODUCT .You can perform using\n",
        "**tf.matmul() or tf.tensordot()**"
      ],
      "metadata": {
        "id": "hnr7x3NZfn0w"
      }
    },
    {
      "cell_type": "code",
      "source": [
        "#DOT PRODUCT FOR x and Y matrices\n",
        "tf.tensordot(tf.transpose(x),tf.transpose(Y),axes=1)"
      ],
      "metadata": {
        "colab": {
          "base_uri": "https://localhost:8080/"
        },
        "id": "RNXhWsjyfLID",
        "outputId": "5c42d12b-2c1c-4eea-b25d-d481478be893"
      },
      "execution_count": null,
      "outputs": [
        {
          "output_type": "execute_result",
          "data": {
            "text/plain": [
              "<tf.Tensor: shape=(2, 2), dtype=int32, numpy=\n",
              "array([[22, 49],\n",
              "       [28, 64]], dtype=int32)>"
            ]
          },
          "metadata": {},
          "execution_count": 165
        }
      ]
    },
    {
      "cell_type": "markdown",
      "source": [
        "### CHANGING DATA TYPE"
      ],
      "metadata": {
        "id": "_aIxSrTQgHf7"
      }
    },
    {
      "cell_type": "code",
      "source": [
        "c=tf.constant([2,3])\n",
        "c.dtype"
      ],
      "metadata": {
        "colab": {
          "base_uri": "https://localhost:8080/"
        },
        "id": "e9tzlsUygAQ7",
        "outputId": "7c9c0cf9-c744-4750-b9ba-9c14e659fda8"
      },
      "execution_count": null,
      "outputs": [
        {
          "output_type": "execute_result",
          "data": {
            "text/plain": [
              "tf.int32"
            ]
          },
          "metadata": {},
          "execution_count": 166
        }
      ]
    },
    {
      "cell_type": "code",
      "source": [
        "#changing to float32 in different ways\n",
        "d=tf.constant([2,3],tf.float32)\n",
        "print(d)\n",
        "d1=tf.cast(c,dtype=tf.float32)\n",
        "print(d1)\n",
        "d2=tf.cast(c,tf.float32)\n",
        "print(d2)"
      ],
      "metadata": {
        "colab": {
          "base_uri": "https://localhost:8080/"
        },
        "id": "GSfUtB_RgPCR",
        "outputId": "139197df-f942-4f15-a1da-cf3d0e1ea713"
      },
      "execution_count": null,
      "outputs": [
        {
          "output_type": "stream",
          "name": "stdout",
          "text": [
            "tf.Tensor([2. 3.], shape=(2,), dtype=float32)\n",
            "tf.Tensor([2. 3.], shape=(2,), dtype=float32)\n",
            "tf.Tensor([2. 3.], shape=(2,), dtype=float32)\n"
          ]
        }
      ]
    },
    {
      "cell_type": "code",
      "source": [
        "#GETTING ABSOLUTE VALUES\n",
        "neg=tf.constant([-10,-5])\n",
        "print('Negative numbers:',neg)\n",
        "print('Absolute numbers from negative:',tf.abs(neg))"
      ],
      "metadata": {
        "colab": {
          "base_uri": "https://localhost:8080/"
        },
        "id": "4z6kmaV-hRrF",
        "outputId": "128b1b71-3772-4219-df2e-293d81b25fa1"
      },
      "execution_count": null,
      "outputs": [
        {
          "output_type": "stream",
          "name": "stdout",
          "text": [
            "Negative numbers: tf.Tensor([-10  -5], shape=(2,), dtype=int32)\n",
            "Absolute numbers from negative: tf.Tensor([10  5], shape=(2,), dtype=int32)\n"
          ]
        }
      ]
    },
    {
      "cell_type": "code",
      "source": [
        "E=tf.constant(np.random.randint(0,100,size=50))\n",
        "E.ndim,E.shape,tf.size(E)"
      ],
      "metadata": {
        "colab": {
          "base_uri": "https://localhost:8080/"
        },
        "id": "VPZvMp1shwNV",
        "outputId": "e5ac70ac-c068-44f8-d59d-6e51b3724cc4"
      },
      "execution_count": null,
      "outputs": [
        {
          "output_type": "execute_result",
          "data": {
            "text/plain": [
              "(1, TensorShape([50]), <tf.Tensor: shape=(), dtype=int32, numpy=50>)"
            ]
          },
          "metadata": {},
          "execution_count": 169
        }
      ]
    },
    {
      "cell_type": "code",
      "source": [
        "print('Minimum value:',tf.reduce_min(E))\n",
        "print('Maximum value:',tf.reduce_max(E))\n",
        "print('Average value:',tf.reduce_mean(E))\n",
        "print('Sum value:',tf.reduce_sum(E))\n",
        "# print('SD value:',tf.math.reduce_std(E))\n",
        "# print('Variance value:',tf.math.reduce_variance(E))"
      ],
      "metadata": {
        "colab": {
          "base_uri": "https://localhost:8080/"
        },
        "id": "xJZ3VPaoiEm3",
        "outputId": "d0a9a12a-e041-4313-92ca-c416f3ccf2fd"
      },
      "execution_count": null,
      "outputs": [
        {
          "output_type": "stream",
          "name": "stdout",
          "text": [
            "Minimum value: tf.Tensor(7, shape=(), dtype=int64)\n",
            "Maximum value: tf.Tensor(97, shape=(), dtype=int64)\n",
            "Average value: tf.Tensor(51, shape=(), dtype=int64)\n",
            "Sum value: tf.Tensor(2567, shape=(), dtype=int64)\n"
          ]
        }
      ]
    },
    {
      "cell_type": "markdown",
      "source": [
        "### FINDING POSITIONAL MAXIMUM AND MINIMUM"
      ],
      "metadata": {
        "id": "d8VrFHWRbTid"
      }
    },
    {
      "cell_type": "code",
      "source": [
        "#CREATE A TENSOR WITH 50 VALUES BETWEEN 0 & 1\n",
        "F=tf.constant(np.random.random(50))\n",
        "F"
      ],
      "metadata": {
        "id": "smOOrdW0iHdC",
        "colab": {
          "base_uri": "https://localhost:8080/"
        },
        "outputId": "d1202d38-f839-44c5-d75d-9251b0d4a656"
      },
      "execution_count": null,
      "outputs": [
        {
          "output_type": "execute_result",
          "data": {
            "text/plain": [
              "<tf.Tensor: shape=(50,), dtype=float64, numpy=\n",
              "array([0.06498527, 0.25521208, 0.14708808, 0.80979656, 0.13897805,\n",
              "       0.16683736, 0.08441661, 0.97291418, 0.26835297, 0.51940024,\n",
              "       0.08633375, 0.4989261 , 0.00545392, 0.77343898, 0.71228828,\n",
              "       0.97431793, 0.84392882, 0.61363656, 0.09065775, 0.95826542,\n",
              "       0.73750987, 0.35638098, 0.43067757, 0.2255137 , 0.08410223,\n",
              "       0.61512261, 0.78441863, 0.88938561, 0.9989307 , 0.45398431,\n",
              "       0.63891419, 0.41019199, 0.31234717, 0.35196437, 0.59030194,\n",
              "       0.76043195, 0.84739709, 0.6401708 , 0.66225485, 0.51019179,\n",
              "       0.40894387, 0.15341491, 0.05642931, 0.52894137, 0.0223441 ,\n",
              "       0.34022777, 0.43804095, 0.03732921, 0.13658972, 0.79505397])>"
            ]
          },
          "metadata": {},
          "execution_count": 171
        }
      ]
    },
    {
      "cell_type": "code",
      "source": [
        "#FINDING THE MAX ELEMENT POSITION OF F\n",
        "print(tf.argmax(F))      #the position\n",
        "print(tf.reduce_max(F))  #the value\n",
        "#FINDING THE MIN ELEMENT POSITION OF F\n",
        "print(tf.argmin(F))      #the position\n",
        "print(tf.reduce_min(F))  #the value"
      ],
      "metadata": {
        "colab": {
          "base_uri": "https://localhost:8080/"
        },
        "id": "Q53cMeKacP3P",
        "outputId": "d031c7ee-7ec1-4546-ea60-719852c2d14d"
      },
      "execution_count": null,
      "outputs": [
        {
          "output_type": "stream",
          "name": "stdout",
          "text": [
            "tf.Tensor(28, shape=(), dtype=int64)\n",
            "tf.Tensor(0.9989307044510953, shape=(), dtype=float64)\n",
            "tf.Tensor(12, shape=(), dtype=int64)\n",
            "tf.Tensor(0.005453918995694584, shape=(), dtype=float64)\n"
          ]
        }
      ]
    },
    {
      "cell_type": "code",
      "source": [
        "print(f\"The max value of F:{tf.reduce_max(F).numpy()}\")\n",
        "print('The max value of F:',F[tf.argmax(F)].numpy())\n",
        "print(f\"The max value of F is at position:{tf.argmax(F).numpy()}\")"
      ],
      "metadata": {
        "colab": {
          "base_uri": "https://localhost:8080/"
        },
        "id": "8hHcR-28dWoi",
        "outputId": "e57001f9-5921-429c-f3d8-cd7e7fa2f87a"
      },
      "execution_count": null,
      "outputs": [
        {
          "output_type": "stream",
          "name": "stdout",
          "text": [
            "The max value of F:0.9989307044510953\n",
            "The max value of F: 0.9989307044510953\n",
            "The max value of F is at position:28\n"
          ]
        }
      ]
    },
    {
      "cell_type": "markdown",
      "source": [
        "### ONE HOT ENCODING"
      ],
      "metadata": {
        "id": "pkOYQ7gxgL61"
      }
    },
    {
      "cell_type": "code",
      "source": [
        "print(L)\n",
        "#ONE HOT ENCODE\n",
        "tf.one_hot(L,depth=3)  #depth gives no.of columns,len(L) gives no.of rows"
      ],
      "metadata": {
        "colab": {
          "base_uri": "https://localhost:8080/"
        },
        "id": "jMw7lBmqgOn7",
        "outputId": "26a1273b-69f0-40a1-8911-c99f03b8cee1"
      },
      "execution_count": null,
      "outputs": [
        {
          "output_type": "stream",
          "name": "stdout",
          "text": [
            "[1, 2, 3, 4, 5]\n"
          ]
        },
        {
          "output_type": "execute_result",
          "data": {
            "text/plain": [
              "<tf.Tensor: shape=(5, 3), dtype=float32, numpy=\n",
              "array([[0., 1., 0.],\n",
              "       [0., 0., 1.],\n",
              "       [0., 0., 0.],\n",
              "       [0., 0., 0.],\n",
              "       [0., 0., 0.]], dtype=float32)>"
            ]
          },
          "metadata": {},
          "execution_count": 174
        }
      ]
    },
    {
      "cell_type": "code",
      "source": [
        "#SPECIFY CUSTOM VALUES FOR ON AND OFF ENCODING\n",
        "tf.one_hot(L,depth=4,on_value='We are live!',off_value='offline')"
      ],
      "metadata": {
        "colab": {
          "base_uri": "https://localhost:8080/"
        },
        "id": "921kQgxJgpog",
        "outputId": "9e994bec-822c-4b57-83d7-51e1a8915ae0"
      },
      "execution_count": null,
      "outputs": [
        {
          "output_type": "execute_result",
          "data": {
            "text/plain": [
              "<tf.Tensor: shape=(5, 4), dtype=string, numpy=\n",
              "array([[b'offline', b'We are live!', b'offline', b'offline'],\n",
              "       [b'offline', b'offline', b'We are live!', b'offline'],\n",
              "       [b'offline', b'offline', b'offline', b'We are live!'],\n",
              "       [b'offline', b'offline', b'offline', b'offline'],\n",
              "       [b'offline', b'offline', b'offline', b'offline']], dtype=object)>"
            ]
          },
          "metadata": {},
          "execution_count": 175
        }
      ]
    },
    {
      "cell_type": "markdown",
      "source": [
        "### SQUARE,LOG,SQRT"
      ],
      "metadata": {
        "id": "35lcPzkUhDvZ"
      }
    },
    {
      "cell_type": "code",
      "source": [
        "#CREATE A TENSOR\n",
        "H=tf.constant(np.arange(1,10))\n",
        "print(H)"
      ],
      "metadata": {
        "colab": {
          "base_uri": "https://localhost:8080/"
        },
        "id": "Zj-bJfmrhH-L",
        "outputId": "9ef7a562-a901-4a37-d2d5-1184ae4900d2"
      },
      "execution_count": null,
      "outputs": [
        {
          "output_type": "stream",
          "name": "stdout",
          "text": [
            "tf.Tensor([1 2 3 4 5 6 7 8 9], shape=(9,), dtype=int64)\n"
          ]
        }
      ]
    },
    {
      "cell_type": "code",
      "source": [
        "#SQUARE\n",
        "print('SQUARE OF H:\\n',tf.square(H).numpy())  # you can also use tf.square(H)\n",
        "#SQRT\n",
        "H=tf.cast(H,tf.float32)\n",
        "print('SQRT OF H:\\n',tf.sqrt(H).numpy())\n",
        "#LOG\n",
        "print('LOG OF H:\\n',tf.math.log(H).numpy())"
      ],
      "metadata": {
        "colab": {
          "base_uri": "https://localhost:8080/"
        },
        "id": "_BQJtQ85hfbe",
        "outputId": "a37ca4e8-5421-4894-8dc0-6fcc6814b6e4"
      },
      "execution_count": null,
      "outputs": [
        {
          "output_type": "stream",
          "name": "stdout",
          "text": [
            "SQUARE OF H:\n",
            " [ 1  4  9 16 25 36 49 64 81]\n",
            "SQRT OF H:\n",
            " [1.        1.4142137 1.7320509 2.        2.2360682 2.4494898 2.6457515\n",
            " 2.8284273 3.0000002]\n",
            "LOG OF H:\n",
            " [0.        0.6931472 1.0986123 1.3862944 1.609438  1.7917595 1.9459102\n",
            " 2.0794415 2.1972246]\n"
          ]
        }
      ]
    },
    {
      "cell_type": "markdown",
      "source": [
        "### MANIPULATING tf.Variable TENSOR"
      ],
      "metadata": {
        "id": "SnQ4t5LljRgO"
      }
    },
    {
      "cell_type": "code",
      "source": [
        "#CREATE A  VARIABLE TENSOR\n",
        "I=tf.Variable(np.arange(0,5))  # you can also use np.arange(5)\n",
        "print(I)"
      ],
      "metadata": {
        "colab": {
          "base_uri": "https://localhost:8080/"
        },
        "id": "tc3yopW8jQ4o",
        "outputId": "ff111725-2a1c-4c73-a5ed-b80294c85635"
      },
      "execution_count": null,
      "outputs": [
        {
          "output_type": "stream",
          "name": "stdout",
          "text": [
            "<tf.Variable 'Variable:0' shape=(5,) dtype=int64, numpy=array([0, 1, 2, 3, 4])>\n"
          ]
        }
      ]
    },
    {
      "cell_type": "code",
      "source": [
        "#ASSIGN THE FINAL VALUE - NEW VALUE OF 50\n",
        "#METHOD 1\n",
        "I.assign([0,1,2,3,50])\n",
        "print(I.numpy())"
      ],
      "metadata": {
        "colab": {
          "base_uri": "https://localhost:8080/"
        },
        "id": "uySCcGFrjrma",
        "outputId": "825cef94-1838-4fea-cebf-d99031914591"
      },
      "execution_count": null,
      "outputs": [
        {
          "output_type": "stream",
          "name": "stdout",
          "text": [
            "[ 0  1  2  3 50]\n"
          ]
        }
      ]
    },
    {
      "cell_type": "markdown",
      "source": [
        "### TENSOR AND NUMPY ARRAY\n",
        "By default ,data type of\n",
        "\n",
        "**numpy-->float64**\n",
        "\n",
        "**tensor-->float32**\n",
        "\n",
        "**Tensors can be created from Numpy array**"
      ],
      "metadata": {
        "id": "cMDb07MPkbVV"
      }
    },
    {
      "cell_type": "code",
      "source": [
        "#CREATE A TENSOR FROM NUMPY ARRAY\n",
        "J=tf.constant(np.array([3.,7.,10]))\n",
        "print(J)\n",
        "#CONVERTING A TENSOR J TO NUMPY WITH np.array\n",
        "print(np.array(J),type(np.array(J)))\n",
        "#CONVERT  A TENSOR J TO NUMPY WITH .numpy()\n",
        "print(J.numpy(),type(J.numpy()))"
      ],
      "metadata": {
        "colab": {
          "base_uri": "https://localhost:8080/"
        },
        "id": "cxs-Uf2tj3Af",
        "outputId": "a3a24e07-a3ce-4bd0-d8df-cfaf05bf28ba"
      },
      "execution_count": null,
      "outputs": [
        {
          "output_type": "stream",
          "name": "stdout",
          "text": [
            "tf.Tensor([ 3.  7. 10.], shape=(3,), dtype=float64)\n",
            "[ 3.  7. 10.] <class 'numpy.ndarray'>\n",
            "[ 3.  7. 10.] <class 'numpy.ndarray'>\n"
          ]
        }
      ]
    },
    {
      "cell_type": "code",
      "source": [
        "#CREATE A TENSOR FROM NUMPY AND FORM AN ARRAY\n",
        "numpy_J=tf.constant(np.array([3.,7.,10.]))\n",
        "tensor_J=tf.constant([3.,7.,10.])\n",
        "numpy_J.dtype,tensor_J.dtype"
      ],
      "metadata": {
        "colab": {
          "base_uri": "https://localhost:8080/"
        },
        "id": "zb--sUlCk80P",
        "outputId": "4e78d363-2036-468e-d8af-2b908a108e05"
      },
      "execution_count": null,
      "outputs": [
        {
          "output_type": "execute_result",
          "data": {
            "text/plain": [
              "(tf.float64, tf.float32)"
            ]
          },
          "metadata": {},
          "execution_count": 181
        }
      ]
    },
    {
      "cell_type": "markdown",
      "source": [
        "##@tensor Function"
      ],
      "metadata": {
        "id": "IUmW-JN0nBI0"
      }
    },
    {
      "cell_type": "code",
      "source": [
        "#CREATE A SAMPLE FUNCTION\n",
        "def function(x,y):\n",
        "  return x**2+y;\n",
        "\n",
        "x=tf.constant(np.arange(0,10))\n",
        "y=tf.constant(np.arange(10,20))\n",
        "function(x,y)"
      ],
      "metadata": {
        "colab": {
          "base_uri": "https://localhost:8080/"
        },
        "id": "ebmIK8wenFyS",
        "outputId": "ca9d1638-007c-4def-cbb3-6de3ec41164b"
      },
      "execution_count": null,
      "outputs": [
        {
          "output_type": "execute_result",
          "data": {
            "text/plain": [
              "<tf.Tensor: shape=(10,), dtype=int64, numpy=array([ 10,  12,  16,  22,  30,  40,  52,  66,  82, 100])>"
            ]
          },
          "metadata": {},
          "execution_count": 182
        }
      ]
    },
    {
      "cell_type": "markdown",
      "source": [
        "###FINDING ACCESS TO GPUs"
      ],
      "metadata": {
        "id": "Oq_CkKlqnzBn"
      }
    },
    {
      "cell_type": "code",
      "source": [
        "print('Number of GPU available:',len(tf.config.experimental.list_physical_devices('GPU')))"
      ],
      "metadata": {
        "colab": {
          "base_uri": "https://localhost:8080/"
        },
        "id": "sKba68MCn2gW",
        "outputId": "f46c12ff-db90-433a-a2d9-0d1a54302ebb"
      },
      "execution_count": null,
      "outputs": [
        {
          "output_type": "stream",
          "name": "stdout",
          "text": [
            "Number of GPU available: 1\n"
          ]
        }
      ]
    },
    {
      "cell_type": "code",
      "source": [
        "!nvidia-smi"
      ],
      "metadata": {
        "colab": {
          "base_uri": "https://localhost:8080/"
        },
        "id": "qgrPWrgUonq9",
        "outputId": "18f0100b-b610-457e-8a3b-8f5f02835dd8"
      },
      "execution_count": null,
      "outputs": [
        {
          "output_type": "stream",
          "name": "stdout",
          "text": [
            "Thu May  5 09:52:33 2022       \n",
            "+-----------------------------------------------------------------------------+\n",
            "| NVIDIA-SMI 460.32.03    Driver Version: 460.32.03    CUDA Version: 11.2     |\n",
            "|-------------------------------+----------------------+----------------------+\n",
            "| GPU  Name        Persistence-M| Bus-Id        Disp.A | Volatile Uncorr. ECC |\n",
            "| Fan  Temp  Perf  Pwr:Usage/Cap|         Memory-Usage | GPU-Util  Compute M. |\n",
            "|                               |                      |               MIG M. |\n",
            "|===============================+======================+======================|\n",
            "|   0  Tesla K80           Off  | 00000000:00:04.0 Off |                    0 |\n",
            "| N/A   41C    P0    56W / 149W |    147MiB / 11441MiB |      0%      Default |\n",
            "|                               |                      |                  N/A |\n",
            "+-------------------------------+----------------------+----------------------+\n",
            "                                                                               \n",
            "+-----------------------------------------------------------------------------+\n",
            "| Processes:                                                                  |\n",
            "|  GPU   GI   CI        PID   Type   Process name                  GPU Memory |\n",
            "|        ID   ID                                                   Usage      |\n",
            "|=============================================================================|\n",
            "+-----------------------------------------------------------------------------+\n"
          ]
        }
      ]
    },
    {
      "cell_type": "markdown",
      "source": [
        "If you have access to a GPU, Tensorflow will automatically use it whenever possible"
      ],
      "metadata": {
        "id": "U42SId-ip3bI"
      }
    }
  ]
}
{
 "cells": [
  {
   "cell_type": "markdown",
   "id": "ae25c173",
   "metadata": {},
   "source": [
    "# TASK 1"
   ]
  },
  {
   "cell_type": "code",
   "execution_count": 23,
   "id": "1bd79aa4",
   "metadata": {},
   "outputs": [],
   "source": [
    "import matplotlib.pyplot as plt\n",
    "from scipy.stats import norm\n",
    "import pandas as pd\n",
    "import numpy as np\n",
    "import statistics as st"
   ]
  },
  {
   "cell_type": "code",
   "execution_count": 17,
   "id": "c0cbbb3b",
   "metadata": {},
   "outputs": [],
   "source": [
    "mean_r=1332\n",
    "sd=725"
   ]
  },
  {
   "cell_type": "code",
   "execution_count": 21,
   "id": "86271656",
   "metadata": {},
   "outputs": [
    {
     "data": {
      "image/png": "[encoded data removed]",
      "text/plain": [
       "<Figure size 432x288 with 1 Axes>"
      ]
     },
     "metadata": {
      "needs_background": "light"
     },
     "output_type": "display_data"
    }
   ],
   "source": [
    "lower=mean_r-4*sd\n",
    "upper=mean_r+4*sd\n",
    "\n",
    "norm1=np.arange(lower,upper)\n",
    "plt.plot(norm1,norm.pdf(norm1,mean_r,sd))\n",
    "plt.show()\n"
   ]
  },
  {
   "cell_type": "markdown",
   "id": "63d2ed37",
   "metadata": {},
   "source": [
    "a)Proportion of tax returns greater than $2000"
   ]
  },
  {
   "cell_type": "code",
   "execution_count": 47,
   "id": "2af90e43",
   "metadata": {},
   "outputs": [
    {
     "name": "stdout",
     "output_type": "stream",
     "text": [
      "Proportion of tax returns greater than $2000= 0.1784262133979203\n"
     ]
    }
   ],
   "source": [
    "n1=norm.cdf(2000,mean_r,sd)\n",
    "print('Proportion of tax returns greater than $2000=',(1-n1))"
   ]
  },
  {
   "cell_type": "markdown",
   "id": "ed52aa6e",
   "metadata": {},
   "source": [
    "b)Taxpayer owes money to the government "
   ]
  },
  {
   "cell_type": "code",
   "execution_count": 74,
   "id": "b7c994f3",
   "metadata": {},
   "outputs": [
    {
     "name": "stdout",
     "output_type": "stream",
     "text": [
      "Taxpayer owes money to the government= 0.03308713475892688\n"
     ]
    }
   ],
   "source": [
    "n2=norm.cdf(0,mean_r,sd)\n",
    "print('Taxpayer owes money to the government=',n2)"
   ]
  },
  {
   "cell_type": "markdown",
   "id": "baf4461b",
   "metadata": {},
   "source": [
    "c)Refund between $100 & $700"
   ]
  },
  {
   "cell_type": "code",
   "execution_count": 80,
   "id": "46d83561",
   "metadata": {},
   "outputs": [
    {
     "name": "stdout",
     "output_type": "stream",
     "text": [
      "Tax return indicates a refund between $100 and $700= 0.14704908218269308\n"
     ]
    }
   ],
   "source": [
    "n3=norm.cdf(100,mean_r,sd)\n",
    "n4=norm.cdf(700,mean_r,sd)\n",
    "print('Tax return indicates a refund between $100 and $700=',(n4-n3))"
   ]
  },
  {
   "cell_type": "markdown",
   "id": "6129ed8f",
   "metadata": {},
   "source": [
    "# TASK 2"
   ]
  },
  {
   "cell_type": "code",
   "execution_count": 6,
   "id": "f84265c9",
   "metadata": {},
   "outputs": [
    {
     "data": {
      "text/plain": [
       "'C:\\\\Users\\\\Admin'"
      ]
     },
     "execution_count": 6,
     "metadata": {},
     "output_type": "execute_result"
    }
   ],
   "source": [
    "pwd"
   ]
  },
  {
   "cell_type": "code",
   "execution_count": 78,
   "id": "c6d89283",
   "metadata": {},
   "outputs": [],
   "source": [
    "comp_df=pd.read_csv('DS1_C5_S5_Continuous_Practice_Computers_Data.csv')\n",
    "#comp_df"
   ]
  },
  {
   "cell_type": "code",
   "execution_count": 82,
   "id": "b29489c6",
   "metadata": {},
   "outputs": [],
   "source": [
    "row_head=['Mean','Median','Standard Deviation']\n",
    "col_names=['Population','Sample']\n",
    "CT=pd.DataFrame([Mean,Median,SD],columns=col_names)\n",
    "CT.insert(0,'Measures',row_head,True)"
   ]
  },
  {
   "cell_type": "markdown",
   "id": "912f84b1",
   "metadata": {},
   "source": [
    "i)Computer price must not exceed $4000"
   ]
  },
  {
   "cell_type": "code",
   "execution_count": 54,
   "id": "da3344e5",
   "metadata": {},
   "outputs": [
    {
     "name": "stdout",
     "output_type": "stream",
     "text": [
      "Computer price must not exceed $4000= 0.9989132733164642\n"
     ]
    }
   ],
   "source": [
    "m1=norm.cdf(4000,Mean[0],SD[0])\n",
    "print('Computer price must not exceed $4000=',m1)"
   ]
  },
  {
   "cell_type": "markdown",
   "id": "3fd56f1f",
   "metadata": {},
   "source": [
    "ii)Device screen-sample"
   ]
  },
  {
   "cell_type": "code",
   "execution_count": 77,
   "id": "7ccbd066",
   "metadata": {},
   "outputs": [],
   "source": [
    "# STRATIFIED SAMPLING FOR SCREEN\n",
    "grp_df=comp_df.groupby(['screen'])\n",
    "grp=comp_df.screen.unique()\n",
    "ST_df=pd.DataFrame()\n",
    "#print(grp)\n",
    "\n",
    "for i in grp:\n",
    "        data=grp_df.get_group(i)\n",
    "        sample_data=data.sample(n=60,replace=True,random_state=1)\n",
    "        ST_df=ST_df.append(sample_data,ignore_index=True)\n",
    "    \n",
    "#ST_df"
   ]
  },
  {
   "cell_type": "markdown",
   "id": "b3a952cc",
   "metadata": {},
   "source": [
    "iii) a. Computer price is greater than $2700 in sample"
   ]
  },
  {
   "cell_type": "code",
   "execution_count": 55,
   "id": "4329fe30",
   "metadata": {},
   "outputs": [
    {
     "name": "stdout",
     "output_type": "stream",
     "text": [
      "Computer price is greater than $2700 in sample= 0.2595187813804609\n"
     ]
    }
   ],
   "source": [
    "m2=norm.cdf(2700,Mean[1],SD[1])\n",
    "print('Computer price is greater than $2700 in sample=',(1-m2))"
   ]
  },
  {
   "cell_type": "markdown",
   "id": "5835df8a",
   "metadata": {},
   "source": [
    "b. Computer price is less than $1301 in sample"
   ]
  },
  {
   "cell_type": "code",
   "execution_count": 56,
   "id": "958414df",
   "metadata": {},
   "outputs": [
    {
     "name": "stdout",
     "output_type": "stream",
     "text": [
      "Computer price is less than $1301 in sample= 0.03569779404275497\n"
     ]
    }
   ],
   "source": [
    "m3=norm.cdf(1301,Mean[1],SD[1])\n",
    "print('Computer price is less than $1301 in sample=',m3)"
   ]
  },
  {
   "cell_type": "markdown",
   "id": "f2d8b54e",
   "metadata": {},
   "source": [
    "c. Computer price is between $2000 & $2900 in sample"
   ]
  },
  {
   "cell_type": "code",
   "execution_count": 76,
   "id": "052a2fa8",
   "metadata": {},
   "outputs": [
    {
     "name": "stdout",
     "output_type": "stream",
     "text": [
      " Computer price is between $2000 and $2900 in sample= 0.559095484750044\n"
     ]
    }
   ],
   "source": [
    "m4=norm.cdf(2000,Mean[1],SD[1])\n",
    "m5=norm.cdf(2900,Mean[1],SD[1])\n",
    "print(' Computer price is between $2000 and $2900 in sample=',(m5-m4))"
   ]
  },
  {
   "cell_type": "markdown",
   "id": "71ec60cc",
   "metadata": {},
   "source": [
    "2.A same as ii)"
   ]
  },
  {
   "cell_type": "markdown",
   "id": "bf0e1519",
   "metadata": {},
   "source": [
    "2.B CENTRAL TENDENCY AND DISPERSION OF SAMPLE AND POPULATION"
   ]
  },
  {
   "cell_type": "code",
   "execution_count": 29,
   "id": "9fc233cb",
   "metadata": {},
   "outputs": [
    {
     "name": "stdout",
     "output_type": "stream",
     "text": [
      "580.8039556527063\n"
     ]
    }
   ],
   "source": [
    "data_s=ST_df['price'].tolist()\n",
    "data_p=comp_df['price'].tolist()\n",
    "\n",
    "Mean=[st.mean(data_p),st.mean(data_s)]\n",
    "Median=[st.median(data_p),st.median(data_s)]\n",
    "SD=[st.stdev(data_p),st.stdev(data_s)]"
   ]
  },
  {
   "cell_type": "code",
   "execution_count": 86,
   "id": "07866c95",
   "metadata": {
    "scrolled": true
   },
   "outputs": [
    {
     "data": {
      "text/html": [
       "<div>\n",
       "<style scoped>\n",
       "    .dataframe tbody tr th:only-of-type {\n",
       "        vertical-align: middle;\n",
       "    }\n",
       "\n",
       "    .dataframe tbody tr th {\n",
       "        vertical-align: top;\n",
       "    }\n",
       "\n",
       "    .dataframe thead th {\n",
       "        text-align: right;\n",
       "    }\n",
       "</style>\n",
       "<table border=\"1\" class=\"dataframe\">\n",
       "  <thead>\n",
       "    <tr style=\"text-align: right;\">\n",
       "      <th></th>\n",
       "      <th>Measures</th>\n",
       "      <th>Population</th>\n",
       "      <th>Sample</th>\n",
       "    </tr>\n",
       "  </thead>\n",
       "  <tbody>\n",
       "    <tr>\n",
       "      <th>0</th>\n",
       "      <td>Mean</td>\n",
       "      <td>2219.576610</td>\n",
       "      <td>2331.455556</td>\n",
       "    </tr>\n",
       "    <tr>\n",
       "      <th>1</th>\n",
       "      <td>Median</td>\n",
       "      <td>2144.000000</td>\n",
       "      <td>2224.500000</td>\n",
       "    </tr>\n",
       "    <tr>\n",
       "      <th>2</th>\n",
       "      <td>Standard Deviation</td>\n",
       "      <td>580.803956</td>\n",
       "      <td>571.537653</td>\n",
       "    </tr>\n",
       "  </tbody>\n",
       "</table>\n",
       "</div>"
      ],
      "text/plain": [
       "             Measures   Population       Sample\n",
       "0                Mean  2219.576610  2331.455556\n",
       "1              Median  2144.000000  2224.500000\n",
       "2  Standard Deviation   580.803956   571.537653"
      ]
     },
     "execution_count": 86,
     "metadata": {},
     "output_type": "execute_result"
    }
   ],
   "source": [
    "#mean,median,sd\n",
    "CT"
   ]
  },
  {
   "cell_type": "markdown",
   "id": "f84eef66",
   "metadata": {},
   "source": [
    "EXPLANATION"
   ]
  },
  {
   "cell_type": "code",
   "execution_count": 87,
   "id": "33b1097c",
   "metadata": {},
   "outputs": [
    {
     "name": "stdout",
     "output_type": "stream",
     "text": [
      "Mean and SD of population and sample data are not equal\n",
      "As sample=60 and it follows central limit theorem,so this is a normal distribution\n"
     ]
    }
   ],
   "source": [
    "print('Mean and SD of population and sample data are not equal')\n",
    "print('As sample=60 and it follows central limit theorem,so this is a normal distribution')"
   ]
  },
  {
   "cell_type": "markdown",
   "id": "a38d0013",
   "metadata": {},
   "source": [
    "2.C DISTRIBUTION CURVE FOR POPULATION"
   ]
  },
  {
   "cell_type": "code",
   "execution_count": 31,
   "id": "46fc6708",
   "metadata": {},
   "outputs": [
    {
     "data": {
      "image/png": "[encoded data removed]",
      "text/plain": [
       "<Figure size 432x288 with 1 Axes>"
      ]
     },
     "metadata": {
      "needs_background": "light"
     },
     "output_type": "display_data"
    }
   ],
   "source": [
    "lower_p=Mean[0]-4*SD[0]\n",
    "upper_p=Mean[0]+4*SD[0]\n",
    "\n",
    "norm_p=np.arange(lower_p,upper_p)\n",
    "plt.plot(norm_p,norm.pdf(norm_p,Mean[0],SD[0]))\n",
    "plt.show()"
   ]
  },
  {
   "cell_type": "markdown",
   "id": "0d2106e9",
   "metadata": {},
   "source": [
    "2.D DISTRIBUTION CURVE FOR SAMPLE"
   ]
  },
  {
   "cell_type": "code",
   "execution_count": 32,
   "id": "92a06017",
   "metadata": {},
   "outputs": [
    {
     "data": {
      "image/png": "[encoded data removed]",
      "text/plain": [
       "<Figure size 432x288 with 1 Axes>"
      ]
     },
     "metadata": {
      "needs_background": "light"
     },
     "output_type": "display_data"
    }
   ],
   "source": [
    "lower_s=Mean[1]-4*SD[1]\n",
    "upper_s=Mean[1]+4*SD[1]\n",
    "\n",
    "norm_s=np.arange(lower_s,upper_s)\n",
    "plt.plot(norm_s,norm.pdf(norm_s,Mean[1],SD[1]))\n",
    "plt.show()"
   ]
  },
  {
   "cell_type": "markdown",
   "id": "f8e7e101",
   "metadata": {},
   "source": [
    "2.E Z SCORES"
   ]
  },
  {
   "cell_type": "code",
   "execution_count": 45,
   "id": "f0c75f80",
   "metadata": {},
   "outputs": [],
   "source": [
    "for x in norm_p:\n",
    "    zs=(x-Mean[0])/SD[0]\n",
    "    #print(zs)  "
   ]
  },
  {
   "cell_type": "markdown",
   "id": "4ac4323b",
   "metadata": {},
   "source": [
    "2.F PROBABILITY OF Z SCORES"
   ]
  },
  {
   "cell_type": "code",
   "execution_count": 75,
   "id": "5fed71ca",
   "metadata": {},
   "outputs": [],
   "source": [
    "for x in norm_p:    \n",
    "    p_value=norm.cdf(zs)\n",
    "    #print(p_value)"
   ]
  },
  {
   "cell_type": "markdown",
   "id": "e50abba2",
   "metadata": {},
   "source": [
    "2.G STANDARD NORMAL PROBABILITY DISTRIBUTION CURVE"
   ]
  },
  {
   "cell_type": "code",
   "execution_count": 44,
   "id": "29d60131",
   "metadata": {},
   "outputs": [
    {
     "data": {
      "image/png": "[encoded data removed]",
      "text/plain": [
       "<Figure size 432x288 with 1 Axes>"
      ]
     },
     "metadata": {
      "needs_background": "light"
     },
     "output_type": "display_data"
    }
   ],
   "source": [
    "standard_data=[]\n",
    "\n",
    "for x in norm_p:\n",
    "    zs=(x-Mean[0])/SD[0]\n",
    "    standard_data.append(zs)\n",
    "    \n",
    "plt.plot(standard_data,norm.pdf(standard_data,st.mean(standard_data),st.stdev(standard_data)))\n",
    "plt.show()"
   ]
  },
  {
   "cell_type": "markdown",
   "id": "97ed41c0",
   "metadata": {},
   "source": [
    "2.H OCCURRENCE OF PRICE GREATER THAN $2700"
   ]
  },
  {
   "cell_type": "code",
   "execution_count": 69,
   "id": "30a830c2",
   "metadata": {},
   "outputs": [
    {
     "name": "stdout",
     "output_type": "stream",
     "text": [
      "OCCURRENCE OF PRICE GREATER THAN $2700= 0.204070462668142\n"
     ]
    }
   ],
   "source": [
    "x=2700\n",
    "zs=(x-Mean[0])/SD[0]\n",
    "p_value=norm.cdf(zs)\n",
    "print('OCCURRENCE OF PRICE GREATER THAN $2700=',(1-p_value))"
   ]
  },
  {
   "cell_type": "markdown",
   "id": "176c7f54",
   "metadata": {},
   "source": [
    "2.I OCCURRENCE OF THE PRICE LESS THAN $1301"
   ]
  },
  {
   "cell_type": "code",
   "execution_count": 71,
   "id": "7f070b42",
   "metadata": {},
   "outputs": [
    {
     "name": "stdout",
     "output_type": "stream",
     "text": [
      "OCCURRENCE OF THE PRICE LESS THAN $1301= 0.05687496568511256\n"
     ]
    }
   ],
   "source": [
    "x=1301\n",
    "zs=(x-Mean[0])/SD[0]\n",
    "p_value=norm.cdf(zs)\n",
    "print('OCCURRENCE OF THE PRICE LESS THAN $1301=',p_value)"
   ]
  },
  {
   "cell_type": "markdown",
   "id": "d38fc935",
   "metadata": {},
   "source": [
    "2.J OCCURRENCE OF THE PRICE BETWEEN $2000 & $2900"
   ]
  },
  {
   "cell_type": "code",
   "execution_count": 72,
   "id": "6864d222",
   "metadata": {},
   "outputs": [
    {
     "name": "stdout",
     "output_type": "stream",
     "text": [
      "OCCURRENCE OF THE PRICE BETWEEN 2000 and 2900= 0.5266106918749109\n"
     ]
    }
   ],
   "source": [
    "x=2000\n",
    "y=2900\n",
    "zs1=(x-Mean[0])/SD[0]\n",
    "zs2=(y-Mean[0])/SD[0]\n",
    "p1=norm.cdf(zs1)\n",
    "p2=norm.cdf(zs2)\n",
    "print('OCCURRENCE OF THE PRICE BETWEEN $2000 and $2900=',(p2-p1))"
   ]
  },
  {
   "cell_type": "code",
   "execution_count": 1,
   "id": "94b598b0",
   "metadata": {},
   "outputs": [],
   "source": [
    "#END"
   ]
  }
 ],
 "metadata": {
  "kernelspec": {
   "display_name": "Python 3 (ipykernel)",
   "language": "python",
   "name": "python3"
  },
  "language_info": {
   "codemirror_mode": {
    "name": "ipython",
    "version": 3
   },
   "file_extension": ".py",
   "mimetype": "text/x-python",
   "name": "python",
   "nbconvert_exporter": "python",
   "pygments_lexer": "ipython3",
   "version": "3.9.7"
  }
 },
 "nbformat": 4,
 "nbformat_minor": 5
}

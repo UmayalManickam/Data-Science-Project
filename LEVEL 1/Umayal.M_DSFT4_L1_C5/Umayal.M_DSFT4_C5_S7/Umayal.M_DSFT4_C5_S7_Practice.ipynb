{
 "cells": [
  {
   "cell_type": "markdown",
   "metadata": {},
   "source": [
    "# Hypothesis test - II"
   ]
  },
  {
   "cell_type": "markdown",
   "metadata": {},
   "source": [
    "## TASK 1: Hypothesis Test Using Single Sample Mean"
   ]
  },
  {
   "cell_type": "markdown",
   "metadata": {},
   "source": [
    "### Establish the null and alternate hypothesis"
   ]
  },
  {
   "cell_type": "markdown",
   "metadata": {},
   "source": [
    "H0: The mean score for the class on the test would be above 71\n",
    "\n",
    "Ha: The mean score for the class on the test would be less than or equal to 71"
   ]
  },
  {
   "cell_type": "markdown",
   "metadata": {},
   "source": [
    "### Calculate Sample Mean and standard deviation"
   ]
  },
  {
   "cell_type": "code",
   "execution_count": 1,
   "metadata": {},
   "outputs": [
    {
     "name": "stdout",
     "output_type": "stream",
     "text": [
      "Sample Mean = 79.16666666666667\n",
      "Sample Standard Deviation = 13.862419221285535\n",
      "Sample Size = 6\n"
     ]
    }
   ],
   "source": [
    "import statistics as st\n",
    "\n",
    "sample_data=[61,93,75,67,84,95]\n",
    "s_mean=st.mean(sample_data)\n",
    "s_sd=st.stdev(sample_data)\n",
    "n=len(sample_data)\n",
    "print('Sample Mean = '+str(s_mean))\n",
    "print('Sample Standard Deviation = '+str(s_sd))\n",
    "print('Sample Size = '+str(n))"
   ]
  },
  {
   "cell_type": "markdown",
   "metadata": {},
   "source": [
    "### Determine the appropriate statistical test"
   ]
  },
  {
   "cell_type": "code",
   "execution_count": 3,
   "metadata": {},
   "outputs": [],
   "source": [
    "p_mean = 71  #Population Mean\n",
    "s_mean =  79.16 #  Sample Mean\n",
    "s_sd = 13.86 #  Sample Standard Deviation\n",
    "n = 6 # Sample Size\n",
    "dof = n-1 # Degrees of Freedom"
   ]
  },
  {
   "cell_type": "markdown",
   "metadata": {},
   "source": [
    "### Set the value of alpha"
   ]
  },
  {
   "cell_type": "code",
   "execution_count": 4,
   "metadata": {},
   "outputs": [],
   "source": [
    "alpha = 0.05 \n",
    "\n",
    "#As this is a ONE-tailed test, we have to consider alpha/2 i.e. 0.025."
   ]
  },
  {
   "cell_type": "markdown",
   "metadata": {},
   "source": [
    "### Establish the decision rule"
   ]
  },
  {
   "cell_type": "markdown",
   "metadata": {},
   "source": [
    "If -t-critical > t-statistics > +t-critical : Rejection of Null Hypothesis(H0)"
   ]
  },
  {
   "cell_type": "markdown",
   "metadata": {},
   "source": [
    "### Analyze the data"
   ]
  },
  {
   "cell_type": "code",
   "execution_count": 7,
   "metadata": {},
   "outputs": [
    {
     "name": "stdout",
     "output_type": "stream",
     "text": [
      "The t-statistics is  1.44212383124897\n",
      "The t-critical value is 2.5705818366147395\n"
     ]
    }
   ],
   "source": [
    "import math\n",
    "from scipy.stats import t\n",
    "\n",
    "t_statistics = (s_mean - p_mean) / (s_sd/math.sqrt(n)) \n",
    "print(\"The t-statistics is \", t_statistics)\n",
    "\n",
    "t_critical = t.ppf(1-alpha/2, dof)\n",
    "print(\"The t-critical value is \"+str(t_critical))\n"
   ]
  },
  {
   "cell_type": "markdown",
   "metadata": {},
   "source": [
    "### Reach a statistical conclusion"
   ]
  },
  {
   "cell_type": "markdown",
   "metadata": {},
   "source": [
    "As per the decision rule:\n",
    "\n",
    "i. If -t-critical > t-statistics > +t-critical : Rejection of Null Hypothesis(H0)\n",
    "\n",
    "In our study,\n",
    "\n",
    "t_statistics=1.44 < -t-critical=2.57, which leads to rejection of Null Hypothesis."
   ]
  },
  {
   "cell_type": "markdown",
   "metadata": {},
   "source": [
    "### Make a business decision"
   ]
  },
  {
   "cell_type": "markdown",
   "metadata": {},
   "source": [
    "Assumption:\n",
    "\n",
    "1) Sample size less than 30\n",
    "\n",
    "2) The sample mean does not follow a normal distribution but a T distribution.\n",
    "\n",
    "The mean score of the class on the test would be less than or equal to 71"
   ]
  },
  {
   "cell_type": "markdown",
   "metadata": {},
   "source": [
    "## Plotting t-distribution"
   ]
  },
  {
   "cell_type": "code",
   "execution_count": 8,
   "metadata": {},
   "outputs": [
    {
     "data": {
      "image/png": "[encoded data removed]",
      "text/plain": [
       "<Figure size 432x288 with 1 Axes>"
      ]
     },
     "metadata": {
      "needs_background": "light"
     },
     "output_type": "display_data"
    }
   ],
   "source": [
    "import matplotlib.pyplot as plt\n",
    "import numpy as np\n",
    "\n",
    "upper=s_mean+4*s_sd\n",
    "lower=s_mean-4*s_sd\n",
    "\n",
    "x=np.arange(-4,4,.05)\n",
    "\n",
    "tvals5=t.pdf(x,5)\n",
    "\n",
    "plt.plot(x,tvals5,'g-')\n",
    "plt.legend(['df=5'])\n",
    "plt.show()"
   ]
  },
  {
   "cell_type": "markdown",
   "metadata": {},
   "source": [
    "## TASK 2: Hypothesis Test Using Two Sample Means"
   ]
  },
  {
   "cell_type": "markdown",
   "metadata": {},
   "source": [
    "### Establish the null and alternate hypothesis"
   ]
  },
  {
   "cell_type": "markdown",
   "metadata": {},
   "source": [
    "H0: The average fill of machine1 and machine 2 is zero\n",
    "\n",
    "Ha: The average fill of machine1 and machine 2 is not zero"
   ]
  },
  {
   "cell_type": "markdown",
   "metadata": {},
   "source": [
    "### Determine the appropriate statistical test"
   ]
  },
  {
   "cell_type": "markdown",
   "metadata": {},
   "source": [
    "We will test the hypothesis about a population mean using the t-statistics (standard deviation of the population is known).\n",
    "\n",
    "t-statistic = [(𝑥1- 𝑥2) – (µ1 - µ2)] / [sqrt((s1^2(n1 -1) + s2^2(n2-1))/df)*sqrt(1/n1 + 1/n2)] \n",
    "\n",
    "Where, df is the degrees of freedom."
   ]
  },
  {
   "cell_type": "markdown",
   "metadata": {},
   "source": [
    "### Set the value of alpha (α)"
   ]
  },
  {
   "cell_type": "code",
   "execution_count": 12,
   "metadata": {},
   "outputs": [],
   "source": [
    "alpha= 0.01\n",
    "\n",
    "#This test is a two-tailed test, each of the two rejection regions has an area of 0.005."
   ]
  },
  {
   "cell_type": "markdown",
   "metadata": {},
   "source": [
    "### Establish the decision rule"
   ]
  },
  {
   "cell_type": "markdown",
   "metadata": {},
   "source": [
    "If -t-critical > t-statistics > +t-critical : Rejection of Null Hypothesis(H0)"
   ]
  },
  {
   "cell_type": "markdown",
   "metadata": {},
   "source": [
    "### Set degrees of freedom"
   ]
  },
  {
   "cell_type": "markdown",
   "metadata": {},
   "source": [
    "Sample size Machine1 (n1)=4\n",
    "\n",
    "Sample size of Machine2 (n2)= 6\n",
    "\n",
    "Degrees of Freedom (df) = n1 + n2 - 2 = 4 + 6 - 2 = 8"
   ]
  },
  {
   "cell_type": "markdown",
   "metadata": {},
   "source": [
    "### Analyze the data"
   ]
  },
  {
   "cell_type": "markdown",
   "metadata": {},
   "source": [
    "#### Calculate sample statistic"
   ]
  },
  {
   "cell_type": "code",
   "execution_count": 10,
   "metadata": {},
   "outputs": [
    {
     "name": "stdout",
     "output_type": "stream",
     "text": [
      "Sample mean of Machine1 = 4.029999999999999\n",
      "Sample mean of Machine2 = 4.001666666666667\n",
      "Sample variance of Machine1 = 0.00033333333333333685\n",
      "Sample variance of Machine2 = 0.00013666666666666084\n",
      "Sample size of Machine1 = 4\n",
      "Sample size of Machine2 = 6\n",
      "Degrees of freedom = 8\n"
     ]
    }
   ],
   "source": [
    "import statistics as st\n",
    "sample_Machine1=[4.05,4.01,4.04,4.02]\n",
    "sample_Machine2=[4.02,3.99,4.01,3.99,4.00,4.00]\n",
    "x1=st.mean(sample_Machine1)\n",
    "x2=st.mean(sample_Machine2)\n",
    "v1=(st.stdev(sample_Machine1))**2\n",
    "v2=(st.stdev(sample_Machine2))**2\n",
    "n1=len(sample_Machine1)\n",
    "n2=len(sample_Machine2)\n",
    "df= n1+n2-2\n",
    "print(\"Sample mean of Machine1 =\",x1)\n",
    "print(\"Sample mean of Machine2 =\",x2)\n",
    "print(\"Sample variance of Machine1 =\",v1)\n",
    "print(\"Sample variance of Machine2 =\",v2)\n",
    "print(\"Sample size of Machine1 =\",n1)\n",
    "print(\"Sample size of Machine2 =\",n2)\n",
    "print('Degrees of freedom =',df)"
   ]
  },
  {
   "cell_type": "markdown",
   "metadata": {},
   "source": [
    "#### Calculate t-statistic and t-critical"
   ]
  },
  {
   "cell_type": "code",
   "execution_count": 17,
   "metadata": {},
   "outputs": [
    {
     "name": "stdout",
     "output_type": "stream",
     "text": [
      "t-statistic = 1.0698385183968115\n",
      "t-critical = 3.3553873313333957\n"
     ]
    }
   ],
   "source": [
    "from scipy.stats import t\n",
    "signal = abs(x1-x2)\n",
    "noise = math.sqrt(v1*(n1-1) + v2*(n2-1))*math.sqrt(1/n1 + 1/n2)\n",
    "t_statistic=signal/noise\n",
    "print('t-statistic =',t_statistic)\n",
    "\n",
    "t_critical = t.ppf(1-alpha/2, df)\n",
    "print('t-critical =',t_critical)"
   ]
  },
  {
   "cell_type": "markdown",
   "metadata": {},
   "source": [
    "### Reach a statistical conclusion"
   ]
  },
  {
   "cell_type": "markdown",
   "metadata": {},
   "source": [
    "As per the decision rule:\n",
    "\n",
    "If -t-critical > t-statistics > +t-critical : Rejection of Null Hypothesis(H0)\n",
    "\n",
    "In our study,\n",
    "\n",
    "t_statistics=1.069 < t-critical=3.355, which leads to acceptance of Null Hypothesis."
   ]
  },
  {
   "cell_type": "markdown",
   "metadata": {},
   "source": [
    "### Make the business decision"
   ]
  },
  {
   "cell_type": "markdown",
   "metadata": {},
   "source": [
    "The average fill of machine1 and machine 2 is zero"
   ]
  },
  {
   "cell_type": "markdown",
   "metadata": {},
   "source": [
    "## TASK 3: Hypothesis Test Using ANOVA"
   ]
  },
  {
   "cell_type": "markdown",
   "metadata": {},
   "source": [
    "### Set the Null and Alternate Hypothesis"
   ]
  },
  {
   "cell_type": "markdown",
   "metadata": {},
   "source": [
    "H0: The average fill of four machines is zero\n",
    "\n",
    "Ha: The average fill of four machines is not zero"
   ]
  },
  {
   "cell_type": "markdown",
   "metadata": {},
   "source": [
    "### Determine the appropriate statistical test"
   ]
  },
  {
   "cell_type": "markdown",
   "metadata": {},
   "source": [
    "The appropriate test statistic is the F-test calculated from ANOVA."
   ]
  },
  {
   "cell_type": "markdown",
   "metadata": {},
   "source": [
    "### Establish the decision rule"
   ]
  },
  {
   "cell_type": "markdown",
   "metadata": {},
   "source": [
    "If F-statistic > F-critical : Rejection of Null Hypothesis(H0)i. If F-statistic > F-critical : Rejection of Null Hypothesis(H0)"
   ]
  },
  {
   "cell_type": "markdown",
   "metadata": {},
   "source": [
    "### Access the sample data"
   ]
  },
  {
   "cell_type": "code",
   "execution_count": 18,
   "metadata": {},
   "outputs": [],
   "source": [
    "Machine1=[4.05,4.01,4.04,4.02]\n",
    "Machine2=[4.02,3.99,4.01,3.99,4.00,4.00]\n",
    "Machine3=[4.00,3.97,3.95,3.98,3.97]\n",
    "Machine4=[4.01,4.00,3.99,4.02]"
   ]
  },
  {
   "cell_type": "markdown",
   "metadata": {},
   "source": [
    "### Calculate the total age for each sample(Tj)"
   ]
  },
  {
   "cell_type": "code",
   "execution_count": 19,
   "metadata": {},
   "outputs": [
    {
     "name": "stdout",
     "output_type": "stream",
     "text": [
      "Total fill from Machine1 = 16.119999999999997\n",
      "Total fill from Machine2 = 24.009999999999998\n",
      "Total fill from Machine3 = 19.87\n",
      "Total fill from Machine4 = 16.02\n",
      "Total fill from all 4 machines = 76.02\n"
     ]
    }
   ],
   "source": [
    "T1=sum(Machine1)\n",
    "T2=sum(Machine2)\n",
    "T3=sum(Machine3)\n",
    "T4=sum(Machine4)\n",
    "T=T1+T2+T3+T4\n",
    "print('Total fill from Machine1 =',T1 )\n",
    "print('Total fill from Machine2 =',T2 )\n",
    "print('Total fill from Machine3 =',T3 )\n",
    "print('Total fill from Machine4 =',T4 )\n",
    "print('Total fill from all 4 machines =',T )"
   ]
  },
  {
   "cell_type": "markdown",
   "metadata": {},
   "source": [
    "### Samples size (nj)"
   ]
  },
  {
   "cell_type": "code",
   "execution_count": 20,
   "metadata": {},
   "outputs": [
    {
     "name": "stdout",
     "output_type": "stream",
     "text": [
      "Size of Machine1 = 4\n",
      "Size of Machine2 = 6\n",
      "Size of Machine3 = 5\n",
      "Size of Machine4 = 4\n",
      "Size of all 4 Machines = 19\n"
     ]
    }
   ],
   "source": [
    "n1=len(Machine1)\n",
    "n2=len(Machine2)\n",
    "n3=len(Machine3)\n",
    "n4=len(Machine4)\n",
    "n=n1+n2+n3+n4\n",
    "print('Size of Machine1 =',n1)\n",
    "print('Size of Machine2 =',n2)\n",
    "print('Size of Machine3 =',n3)\n",
    "print('Size of Machine4 =',n4)\n",
    "print('Size of all 4 Machines =',n)"
   ]
  },
  {
   "cell_type": "markdown",
   "metadata": {},
   "source": [
    "### Calculate sample means (xj)"
   ]
  },
  {
   "cell_type": "code",
   "execution_count": 21,
   "metadata": {},
   "outputs": [
    {
     "name": "stdout",
     "output_type": "stream",
     "text": [
      "Mean of Machine1 = 4.029999999999999\n",
      "Mean of Machine2 = 4.001666666666667\n",
      "Mean of Machine3 = 3.974\n",
      "Mean of Machine4 = 4.005\n",
      "Mean of four Machines = 4.002666666666666\n"
     ]
    }
   ],
   "source": [
    "x1=st.mean(Machine1)\n",
    "x2=st.mean(Machine2)\n",
    "x3=st.mean(Machine3)\n",
    "x4=st.mean(Machine4)\n",
    "x=(x1+x2+x3+x4)/4\n",
    "print('Mean of Machine1 =',x1)\n",
    "print('Mean of Machine2 =',x2)\n",
    "print('Mean of Machine3 =',x3)\n",
    "print('Mean of Machine4 =',x4)\n",
    "print('Mean of four Machines =',x)"
   ]
  },
  {
   "cell_type": "markdown",
   "metadata": {},
   "source": [
    "### Analyze the data"
   ]
  },
  {
   "cell_type": "markdown",
   "metadata": {},
   "source": [
    "#### Calculate the sum of squares columns (SSC)"
   ]
  },
  {
   "cell_type": "code",
   "execution_count": 22,
   "metadata": {},
   "outputs": [
    {
     "name": "stdout",
     "output_type": "stream",
     "text": [
      "SSC = 0.007125111111110891\n"
     ]
    }
   ],
   "source": [
    "SSC=n1*(x1-x)**2 + n2*(x2-x)**2 + n3*(x3-x)**2 + n4*(x4-x)**2\n",
    "print(\"SSC =\",SSC)"
   ]
  },
  {
   "cell_type": "markdown",
   "metadata": {},
   "source": [
    "#### Calculate the sum of squares errors (SSE)"
   ]
  },
  {
   "cell_type": "code",
   "execution_count": 23,
   "metadata": {},
   "outputs": [
    {
     "name": "stdout",
     "output_type": "stream",
     "text": [
      "SSE = 0.0035033333333332815\n"
     ]
    }
   ],
   "source": [
    "SSE=0\n",
    "for i in Machine1:\n",
    "    SSE=SSE+(i-x1)**2\n",
    "    \n",
    "for i in Machine2:\n",
    "    SSE=SSE+(i-x2)**2\n",
    "    \n",
    "for i in Machine3:\n",
    "    SSE=SSE+(i-x3)**2\n",
    "    \n",
    "for i in Machine4:\n",
    "    SSE=SSE+(i-x4)**2\n",
    "    \n",
    "print(\"SSE =\",SSE)"
   ]
  },
  {
   "cell_type": "markdown",
   "metadata": {},
   "source": [
    "#### Calculate the total sum of squares (SST)"
   ]
  },
  {
   "cell_type": "code",
   "execution_count": 24,
   "metadata": {},
   "outputs": [
    {
     "name": "stdout",
     "output_type": "stream",
     "text": [
      "SST = 0.010628444444444302\n"
     ]
    }
   ],
   "source": [
    "SST=0\n",
    "for i in Machine1:\n",
    "    SST=SST+(i-x)**2\n",
    "    \n",
    "for i in Machine2:\n",
    "    SST=SST+(i-x)**2\n",
    "    \n",
    "for i in Machine3:\n",
    "    SST=SST+(i-x)**2\n",
    "    \n",
    "for i in Machine4:\n",
    "    SST=SST+(i-x)**2\n",
    "    \n",
    "print(\"SST =\",SST)"
   ]
  },
  {
   "cell_type": "markdown",
   "metadata": {},
   "source": [
    "#### Calculate column, error, and the total degree of freedoms (dfc,dfe,dft)"
   ]
  },
  {
   "cell_type": "code",
   "execution_count": 25,
   "metadata": {},
   "outputs": [
    {
     "name": "stdout",
     "output_type": "stream",
     "text": [
      "dfc = 3\n",
      "dfe = 15\n",
      "dft = 18\n"
     ]
    }
   ],
   "source": [
    "dfc= 4-1\n",
    "dfe= 19-4\n",
    "dft= 19-1\n",
    "print('dfc =',dfc)\n",
    "print('dfe =',dfe)\n",
    "print('dft =',dft)"
   ]
  },
  {
   "cell_type": "markdown",
   "metadata": {},
   "source": [
    "#### Calculate MSC"
   ]
  },
  {
   "cell_type": "code",
   "execution_count": 26,
   "metadata": {},
   "outputs": [
    {
     "name": "stdout",
     "output_type": "stream",
     "text": [
      "MSC = 0.0023750370370369638\n"
     ]
    }
   ],
   "source": [
    "MSC=SSC/dfc\n",
    "print('MSC =',MSC)"
   ]
  },
  {
   "cell_type": "markdown",
   "metadata": {},
   "source": [
    "#### Calculate MSE"
   ]
  },
  {
   "cell_type": "code",
   "execution_count": 27,
   "metadata": {},
   "outputs": [
    {
     "name": "stdout",
     "output_type": "stream",
     "text": [
      "MSE = 0.0002335555555555521\n"
     ]
    }
   ],
   "source": [
    "MSE=SSE/dfe\n",
    "print('MSE =',MSE)"
   ]
  },
  {
   "cell_type": "markdown",
   "metadata": {},
   "source": [
    "#### Calculate F-statistic"
   ]
  },
  {
   "cell_type": "code",
   "execution_count": 28,
   "metadata": {},
   "outputs": [
    {
     "name": "stdout",
     "output_type": "stream",
     "text": [
      "F-statistic = 10.169045353631299\n"
     ]
    }
   ],
   "source": [
    "f_statistic=MSC/MSE\n",
    "print('F-statistic =',f_statistic)"
   ]
  },
  {
   "cell_type": "markdown",
   "metadata": {},
   "source": [
    "#### Calculate F-critical"
   ]
  },
  {
   "cell_type": "code",
   "execution_count": 29,
   "metadata": {},
   "outputs": [
    {
     "name": "stdout",
     "output_type": "stream",
     "text": [
      "F-critical = 5.416964857818421\n"
     ]
    }
   ],
   "source": [
    "from scipy.stats import f\n",
    "\n",
    "f_critical=f.ppf(1-alpha, dfc, dfe)\n",
    "print('F-critical =',f_critical)"
   ]
  },
  {
   "cell_type": "markdown",
   "metadata": {},
   "source": [
    "#### Distribution using boxplot"
   ]
  },
  {
   "cell_type": "code",
   "execution_count": 30,
   "metadata": {},
   "outputs": [
    {
     "data": {
      "image/png": "[encoded data removed]",
      "text/plain": [
       "<Figure size 720x504 with 1 Axes>"
      ]
     },
     "metadata": {
      "needs_background": "light"
     },
     "output_type": "display_data"
    }
   ],
   "source": [
    "fig = plt.figure(figsize =(10, 7))\n",
    "ax = fig.add_axes([0, 0, 1, 1])\n",
    "data=[Machine1,Machine2,Machine3,Machine4]\n",
    "\n",
    "plt.boxplot(data,vert = 0)\n",
    "ax.set_yticklabels(['Machine1','Machine2','Machine3','Machine4'])\n",
    "plt.show()"
   ]
  },
  {
   "cell_type": "markdown",
   "metadata": {},
   "source": [
    "### Reach a statistical conclusion"
   ]
  },
  {
   "cell_type": "markdown",
   "metadata": {},
   "source": [
    "As per the decision rule:\n",
    "\n",
    "If F-statistic > F-critical : Rejection of Null Hypothesis(H0)\n",
    "\n",
    "In our study,\n",
    "\n",
    "F-statistic=10.16 > F-critical=5.41, which leads to rejection of Null Hypothesis."
   ]
  },
  {
   "cell_type": "markdown",
   "metadata": {},
   "source": [
    "### Make a business decision"
   ]
  },
  {
   "cell_type": "markdown",
   "metadata": {},
   "source": [
    "The average fill for four machines is not the same"
   ]
  },
  {
   "cell_type": "markdown",
   "metadata": {},
   "source": [
    "### Plotting f-distribution"
   ]
  },
  {
   "cell_type": "code",
   "execution_count": 32,
   "metadata": {},
   "outputs": [
    {
     "data": {
      "image/png": "[encoded data removed]",
      "text/plain": [
       "<Figure size 432x288 with 1 Axes>"
      ]
     },
     "metadata": {
      "needs_background": "light"
     },
     "output_type": "display_data"
    }
   ],
   "source": [
    "from scipy.stats import norm\n",
    "\n",
    "rv1 = f(dfn=dfc, dfd=dfe, loc=0, scale=1)\n",
    "x = np.linspace(rv1.ppf(0.01), rv1.ppf(1-0.01), 100)\n",
    "y = rv1.pdf(x) \n",
    "\n",
    "plt.plot(x,y, 'r-')\n",
    "plt.show()"
   ]
  },
  {
   "cell_type": "code",
   "execution_count": 33,
   "metadata": {},
   "outputs": [],
   "source": [
    "#END"
   ]
  }
 ],
 "metadata": {
  "kernelspec": {
   "display_name": "Python 3 (ipykernel)",
   "language": "python",
   "name": "python3"
  },
  "language_info": {
   "codemirror_mode": {
    "name": "ipython",
    "version": 3
   },
   "file_extension": ".py",
   "mimetype": "text/x-python",
   "name": "python",
   "nbconvert_exporter": "python",
   "pygments_lexer": "ipython3",
   "version": "3.9.7"
  }
 },
 "nbformat": 4,
 "nbformat_minor": 2
}

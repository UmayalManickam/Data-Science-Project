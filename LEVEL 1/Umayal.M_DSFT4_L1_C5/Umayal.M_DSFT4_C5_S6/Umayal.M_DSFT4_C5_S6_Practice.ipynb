{
 "cells": [
  {
   "cell_type": "code",
   "execution_count": 30,
   "id": "704988bd",
   "metadata": {},
   "outputs": [],
   "source": [
    "import pandas as pd\n",
    "import statistics as st\n",
    "import math\n",
    "from scipy.stats import norm\n",
    "import numpy as np"
   ]
  },
  {
   "cell_type": "markdown",
   "id": "1074b716",
   "metadata": {},
   "source": [
    "# TASK 1"
   ]
  },
  {
   "cell_type": "markdown",
   "id": "e89cf354",
   "metadata": {},
   "source": [
    "GIVEN:-\n",
    "\n",
    "    sd=1.28\n",
    "    \n",
    "    HYPOTHESIS\n",
    "    \n",
    "    NULL HYPOTHESIS(H0)\n",
    "    (i.e)u1-u2=0\n",
    "    \n",
    "    ALTERNATE HYPOTHESIS(Ha)\n",
    "    (i.e)u1-u2!=0\n",
    "    \n",
    "    n=49\n",
    "    \n",
    "    SL=5%\n",
    "    "
   ]
  },
  {
   "cell_type": "code",
   "execution_count": 26,
   "id": "0eee1c55",
   "metadata": {},
   "outputs": [
    {
     "name": "stdout",
     "output_type": "stream",
     "text": [
      "Z-Statistics= -9.296875000000016\n",
      "P-Value= 1.4463410868771357e-20\n",
      "Z-Critical value= -1.9599639845400545\n"
     ]
    }
   ],
   "source": [
    "#They are two tailed test\n",
    "s_mean=32.18\n",
    "p_mean=33.88  \n",
    "p_sd=1.28\n",
    "n=49\n",
    "alpha=0.05  "
   ]
  },
  {
   "cell_type": "code",
   "execution_count": 70,
   "id": "46a24615",
   "metadata": {},
   "outputs": [
    {
     "name": "stdout",
     "output_type": "stream",
     "text": [
      "Z-Statistics= -9.296875000000016\n",
      "P-Value= 1.4463410868771357e-20\n",
      "Z-Critical value= -2.575829303548901\n"
     ]
    }
   ],
   "source": [
    "#Analysing data\n",
    "z_statistic=(s_mean-p_mean)/(p_sd/math.sqrt(n))\n",
    "print('Z-Statistics=',z_statistic)\n",
    "\n",
    "p_value=norm.sf(abs(z_statistic))*2  \n",
    "print('P-Value=',p_value)\n",
    "\n",
    "z_critical=norm.ppf(alpha/2)     \n",
    "print('Z-Critical value=',z_critical)\n"
   ]
  },
  {
   "cell_type": "code",
   "execution_count": 68,
   "id": "c47b5b2d",
   "metadata": {},
   "outputs": [
    {
     "name": "stdout",
     "output_type": "stream",
     "text": [
      "True\n",
      "True\n"
     ]
    }
   ],
   "source": [
    "#Reaching statistical conclusion\n",
    "print(p_value<alpha)\n",
    "print(z_critical>z_statistic)   #  here z-critical is negative"
   ]
  },
  {
   "cell_type": "code",
   "execution_count": 63,
   "id": "0f93919f",
   "metadata": {},
   "outputs": [],
   "source": [
    "#MAKE A BUSINESS DECISION"
   ]
  },
  {
   "cell_type": "markdown",
   "id": "8c246561",
   "metadata": {},
   "source": [
    "\n",
    "From our statistical conclusion,we confirm the rejection of Null hypothesis(H0)\n",
    "\n",
    "So,Alternate hypothesis(Ha) is considered where (u1-u2)!=0  (i.e)difference between the population and sample mean is not zero"
   ]
  },
  {
   "cell_type": "markdown",
   "id": "b1d04076",
   "metadata": {},
   "source": [
    "# TASK 2"
   ]
  },
  {
   "cell_type": "markdown",
   "id": "a22fb60f",
   "metadata": {},
   "source": [
    "Alternate hypothesis(Ha) >85\n",
    "\n",
    "Null hypothesis(H0)  <=85\n"
   ]
  },
  {
   "cell_type": "code",
   "execution_count": 72,
   "id": "6da92eb1",
   "metadata": {},
   "outputs": [],
   "source": [
    "#One side RIGHT tailed test\n",
    "p_mean=85\n",
    "p_sd=2.1\n",
    "n=32\n",
    "s_mean=87.5\n",
    "alpha=0.05"
   ]
  },
  {
   "cell_type": "code",
   "execution_count": 74,
   "id": "e5a85da4",
   "metadata": {},
   "outputs": [
    {
     "name": "stdout",
     "output_type": "stream",
     "text": [
      "Z-Statistics= 6.734350297014738\n",
      "P-Value= 8.233201952582752e-12\n",
      "Z-Critical value= 1.6448536269514722\n"
     ]
    }
   ],
   "source": [
    "#Analysing data\n",
    "z_statistic=(s_mean-p_mean)/(p_sd/math.sqrt(n))\n",
    "print('Z-Statistics=',z_statistic)\n",
    "\n",
    "p_value=norm.sf(abs(z_statistic))  \n",
    "print('P-Value=',p_value)\n",
    "\n",
    "z_critical=norm.ppf(1-alpha)     \n",
    "print('Z-Critical value=',z_critical)"
   ]
  },
  {
   "cell_type": "code",
   "execution_count": 78,
   "id": "18efabc5",
   "metadata": {},
   "outputs": [
    {
     "name": "stdout",
     "output_type": "stream",
     "text": [
      "True\n",
      "True\n"
     ]
    }
   ],
   "source": [
    "#Reaching statistical conclusion\n",
    "print(p_value<alpha)\n",
    "print(z_statistic>z_critical)"
   ]
  },
  {
   "cell_type": "code",
   "execution_count": 79,
   "id": "e05e03a9",
   "metadata": {},
   "outputs": [],
   "source": [
    "#MAKE A BUSINESS DECISION"
   ]
  },
  {
   "cell_type": "markdown",
   "id": "28f33e24",
   "metadata": {},
   "source": [
    "From our statistical conclusion,we confirm the rejection of Null hypothesis(H0)\n",
    "\n",
    "So,Alternate hypothesis(Ha) is considered (i.e)The different grip helped Mac throw farther than 85 yards "
   ]
  },
  {
   "cell_type": "markdown",
   "id": "b1fed3c4",
   "metadata": {},
   "source": [
    "# TASK 3"
   ]
  },
  {
   "cell_type": "markdown",
   "id": "597c5f7c",
   "metadata": {},
   "source": [
    "TO DETERMINE THE DIFFERENCE IN AVG PRICE OF A LITER OF SPECIFIC HEALTH DRINK IN CALIFORNIA AND FLORIDA.\n",
    "\n",
    "California-->33 sample\n",
    "\n",
    "Florida-->30\n",
    "\n",
    "    NULL HYPOTHESIS(H0)\n",
    "    (i.e)u1-u2=0\n",
    "    \n",
    "    ALTERNATE HYPOTHESIS(Ha)\n",
    "    (i.e)u1-u2!=0"
   ]
  },
  {
   "cell_type": "code",
   "execution_count": 6,
   "id": "101fcaeb",
   "metadata": {},
   "outputs": [],
   "source": [
    "#GIVEN:-\n",
    "var_cal=0.028\n",
    "var_flo=0.015"
   ]
  },
  {
   "cell_type": "code",
   "execution_count": 7,
   "id": "e911b65e",
   "metadata": {},
   "outputs": [
    {
     "data": {
      "text/plain": [
       "'C:\\\\Users\\\\Admin'"
      ]
     },
     "execution_count": 7,
     "metadata": {},
     "output_type": "execute_result"
    }
   ],
   "source": [
    "pwd"
   ]
  },
  {
   "cell_type": "code",
   "execution_count": 8,
   "id": "51f4ef0b",
   "metadata": {},
   "outputs": [
    {
     "data": {
      "text/html": [
       "<div>\n",
       "<style scoped>\n",
       "    .dataframe tbody tr th:only-of-type {\n",
       "        vertical-align: middle;\n",
       "    }\n",
       "\n",
       "    .dataframe tbody tr th {\n",
       "        vertical-align: top;\n",
       "    }\n",
       "\n",
       "    .dataframe thead th {\n",
       "        text-align: right;\n",
       "    }\n",
       "</style>\n",
       "<table border=\"1\" class=\"dataframe\">\n",
       "  <thead>\n",
       "    <tr style=\"text-align: right;\">\n",
       "      <th></th>\n",
       "      <th>California</th>\n",
       "      <th>Florida</th>\n",
       "    </tr>\n",
       "  </thead>\n",
       "  <tbody>\n",
       "    <tr>\n",
       "      <th>0</th>\n",
       "      <td>2.55</td>\n",
       "      <td>2.25</td>\n",
       "    </tr>\n",
       "    <tr>\n",
       "      <th>1</th>\n",
       "      <td>2.36</td>\n",
       "      <td>2.40</td>\n",
       "    </tr>\n",
       "    <tr>\n",
       "      <th>2</th>\n",
       "      <td>2.38</td>\n",
       "      <td>2.19</td>\n",
       "    </tr>\n",
       "    <tr>\n",
       "      <th>3</th>\n",
       "      <td>2.43</td>\n",
       "      <td>2.39</td>\n",
       "    </tr>\n",
       "    <tr>\n",
       "      <th>4</th>\n",
       "      <td>2.73</td>\n",
       "      <td>2.39</td>\n",
       "    </tr>\n",
       "    <tr>\n",
       "      <th>5</th>\n",
       "      <td>2.67</td>\n",
       "      <td>2.50</td>\n",
       "    </tr>\n",
       "    <tr>\n",
       "      <th>6</th>\n",
       "      <td>2.54</td>\n",
       "      <td>2.33</td>\n",
       "    </tr>\n",
       "    <tr>\n",
       "      <th>7</th>\n",
       "      <td>2.24</td>\n",
       "      <td>2.33</td>\n",
       "    </tr>\n",
       "    <tr>\n",
       "      <th>8</th>\n",
       "      <td>2.43</td>\n",
       "      <td>2.40</td>\n",
       "    </tr>\n",
       "    <tr>\n",
       "      <th>9</th>\n",
       "      <td>2.80</td>\n",
       "      <td>2.49</td>\n",
       "    </tr>\n",
       "    <tr>\n",
       "      <th>10</th>\n",
       "      <td>2.50</td>\n",
       "      <td>2.19</td>\n",
       "    </tr>\n",
       "    <tr>\n",
       "      <th>11</th>\n",
       "      <td>2.64</td>\n",
       "      <td>2.29</td>\n",
       "    </tr>\n",
       "    <tr>\n",
       "      <th>12</th>\n",
       "      <td>2.25</td>\n",
       "      <td>2.59</td>\n",
       "    </tr>\n",
       "    <tr>\n",
       "      <th>13</th>\n",
       "      <td>2.38</td>\n",
       "      <td>2.23</td>\n",
       "    </tr>\n",
       "    <tr>\n",
       "      <th>14</th>\n",
       "      <td>2.61</td>\n",
       "      <td>2.41</td>\n",
       "    </tr>\n",
       "    <tr>\n",
       "      <th>15</th>\n",
       "      <td>2.71</td>\n",
       "      <td>2.56</td>\n",
       "    </tr>\n",
       "    <tr>\n",
       "      <th>16</th>\n",
       "      <td>2.80</td>\n",
       "      <td>2.48</td>\n",
       "    </tr>\n",
       "    <tr>\n",
       "      <th>17</th>\n",
       "      <td>2.49</td>\n",
       "      <td>2.29</td>\n",
       "    </tr>\n",
       "    <tr>\n",
       "      <th>18</th>\n",
       "      <td>2.69</td>\n",
       "      <td>2.28</td>\n",
       "    </tr>\n",
       "    <tr>\n",
       "      <th>19</th>\n",
       "      <td>2.43</td>\n",
       "      <td>2.39</td>\n",
       "    </tr>\n",
       "    <tr>\n",
       "      <th>20</th>\n",
       "      <td>2.23</td>\n",
       "      <td>2.59</td>\n",
       "    </tr>\n",
       "    <tr>\n",
       "      <th>21</th>\n",
       "      <td>2.61</td>\n",
       "      <td>2.58</td>\n",
       "    </tr>\n",
       "    <tr>\n",
       "      <th>22</th>\n",
       "      <td>2.57</td>\n",
       "      <td>2.53</td>\n",
       "    </tr>\n",
       "    <tr>\n",
       "      <th>23</th>\n",
       "      <td>2.36</td>\n",
       "      <td>2.26</td>\n",
       "    </tr>\n",
       "    <tr>\n",
       "      <th>24</th>\n",
       "      <td>2.57</td>\n",
       "      <td>2.39</td>\n",
       "    </tr>\n",
       "    <tr>\n",
       "      <th>25</th>\n",
       "      <td>2.56</td>\n",
       "      <td>2.58</td>\n",
       "    </tr>\n",
       "    <tr>\n",
       "      <th>26</th>\n",
       "      <td>2.38</td>\n",
       "      <td>2.29</td>\n",
       "    </tr>\n",
       "    <tr>\n",
       "      <th>27</th>\n",
       "      <td>2.43</td>\n",
       "      <td>2.27</td>\n",
       "    </tr>\n",
       "    <tr>\n",
       "      <th>28</th>\n",
       "      <td>2.71</td>\n",
       "      <td>2.45</td>\n",
       "    </tr>\n",
       "    <tr>\n",
       "      <th>29</th>\n",
       "      <td>2.25</td>\n",
       "      <td>2.56</td>\n",
       "    </tr>\n",
       "    <tr>\n",
       "      <th>30</th>\n",
       "      <td>2.64</td>\n",
       "      <td>NaN</td>\n",
       "    </tr>\n",
       "    <tr>\n",
       "      <th>31</th>\n",
       "      <td>2.27</td>\n",
       "      <td>NaN</td>\n",
       "    </tr>\n",
       "    <tr>\n",
       "      <th>32</th>\n",
       "      <td>2.18</td>\n",
       "      <td>NaN</td>\n",
       "    </tr>\n",
       "  </tbody>\n",
       "</table>\n",
       "</div>"
      ],
      "text/plain": [
       "    California  Florida\n",
       "0         2.55     2.25\n",
       "1         2.36     2.40\n",
       "2         2.38     2.19\n",
       "3         2.43     2.39\n",
       "4         2.73     2.39\n",
       "5         2.67     2.50\n",
       "6         2.54     2.33\n",
       "7         2.24     2.33\n",
       "8         2.43     2.40\n",
       "9         2.80     2.49\n",
       "10        2.50     2.19\n",
       "11        2.64     2.29\n",
       "12        2.25     2.59\n",
       "13        2.38     2.23\n",
       "14        2.61     2.41\n",
       "15        2.71     2.56\n",
       "16        2.80     2.48\n",
       "17        2.49     2.29\n",
       "18        2.69     2.28\n",
       "19        2.43     2.39\n",
       "20        2.23     2.59\n",
       "21        2.61     2.58\n",
       "22        2.57     2.53\n",
       "23        2.36     2.26\n",
       "24        2.57     2.39\n",
       "25        2.56     2.58\n",
       "26        2.38     2.29\n",
       "27        2.43     2.27\n",
       "28        2.71     2.45\n",
       "29        2.25     2.56\n",
       "30        2.64      NaN\n",
       "31        2.27      NaN\n",
       "32        2.18      NaN"
      ]
     },
     "execution_count": 8,
     "metadata": {},
     "output_type": "execute_result"
    }
   ],
   "source": [
    "city_df=pd.read_csv('DS1_C5_S6_Hypothesis_I_Practice_CityPrice_Data.csv')\n",
    "city_df"
   ]
  },
  {
   "cell_type": "code",
   "execution_count": 9,
   "id": "688b543c",
   "metadata": {},
   "outputs": [
    {
     "name": "stdout",
     "output_type": "stream",
     "text": [
      "SIZE OF CITY DF= 33 \n",
      "\n",
      "CALIFORNIA\n",
      "SIZE= 33\n",
      "MEAN= 2.4966666666666666\n",
      "SD= 0.1673320053068151 \n",
      "\n",
      "FLORIDA\n",
      "SIZE= 30\n",
      "MEAN= 2.396\n",
      "SD= 0.1224744871391589\n"
     ]
    }
   ],
   "source": [
    "#CENTRAL TENDENCY\n",
    "\n",
    "print('SIZE OF CITY DF=',len(city_df),'\\n')\n",
    "\n",
    "print('CALIFORNIA')\n",
    "n1=len(city_df)\n",
    "print('SIZE=',n1)\n",
    "Mean=st.mean(city_df['California'])\n",
    "print('MEAN=',Mean)\n",
    "sd1=math.sqrt(var_cal)\n",
    "print('SD=',sd1,'\\n')\n",
    "\n",
    "c_df=city_df.copy()\n",
    "c_df=c_df.dropna()\n",
    "\n",
    "print('FLORIDA')\n",
    "n2=len(c_df)\n",
    "print('SIZE=',n2)\n",
    "Mean1=st.mean(c_df['Florida'])\n",
    "print('MEAN=',Mean1)\n",
    "sd2=math.sqrt(var_flo)\n",
    "print('SD=',sd2)\n"
   ]
  },
  {
   "cell_type": "markdown",
   "id": "e49ccf4f",
   "metadata": {},
   "source": [
    "CONFIDENCE LEVEL=99%"
   ]
  },
  {
   "cell_type": "code",
   "execution_count": 75,
   "id": "2bfbf7d4",
   "metadata": {},
   "outputs": [
    {
     "name": "stdout",
     "output_type": "stream",
     "text": [
      "Z STATISTICS= 2.7413384193834984\n",
      "P-VALUE= 0.006118944821314574\n",
      "Z-CRITICAL= 2.5758293035489004\n"
     ]
    }
   ],
   "source": [
    "#They are two tailed test\n",
    "alpha=0.01\n",
    "\n",
    "#Analysing data\n",
    "z_statistics=((Mean-Mean1)/(math.sqrt(var_cal/n1+ var_flo/n2)))\n",
    "print('Z STATISTICS=',z_statistics)\n",
    "\n",
    "p_value=norm.sf(abs(z_statistics))*2\n",
    "print('P-VALUE=',p_value)\n",
    "\n",
    "z_critical=norm.ppf(1-alpha/2)\n",
    "print('Z-CRITICAL=',z_critical)"
   ]
  },
  {
   "cell_type": "code",
   "execution_count": 11,
   "id": "2025ab5d",
   "metadata": {},
   "outputs": [
    {
     "name": "stdout",
     "output_type": "stream",
     "text": [
      "True\n",
      "True\n"
     ]
    }
   ],
   "source": [
    "#Reaching statistical conclusion\n",
    "print(p_value<alpha)\n",
    "print(z_statistics>z_critical)"
   ]
  },
  {
   "cell_type": "code",
   "execution_count": 62,
   "id": "4ee31694",
   "metadata": {},
   "outputs": [],
   "source": [
    "#MAKE A BUSINESS DECISION"
   ]
  },
  {
   "cell_type": "markdown",
   "id": "9e1aebb9",
   "metadata": {},
   "source": [
    "\n",
    "From our statistical conclusion,we confirm the rejection of Null hypothesis(H0)\n",
    "\n",
    "So,Alternate hypothesis(Ha) is considered where (u1-u2)!=0  (i.e)difference between the mean price of health drink between two cities is not zero"
   ]
  },
  {
   "cell_type": "code",
   "execution_count": 57,
   "id": "bde73e7c",
   "metadata": {},
   "outputs": [
    {
     "name": "stdout",
     "output_type": "stream",
     "text": [
      "0.006291841762153222\n",
      "0.19504149157118014\n"
     ]
    }
   ],
   "source": [
    "#difference between the mean\n",
    "\n",
    "lower=(Mean-Mean1)-2.57*(math.sqrt(var_cal/n1+ var_flo/n2))\n",
    "print(lower)\n",
    "upper=(Mean-Mean1)+2.57*(math.sqrt(var_cal/n1+ var_flo/n2))\n",
    "print(upper)\n",
    "\n",
    "#norm.cdf(2.5758293035489004)-norm.cdf(-2.5758293035489004)"
   ]
  },
  {
   "cell_type": "markdown",
   "id": "d251d8e2",
   "metadata": {},
   "source": [
    "0.006<=(u1-u2)<=0.195"
   ]
  },
  {
   "cell_type": "markdown",
   "id": "e8ba9b21",
   "metadata": {},
   "source": [
    "We are 99% confident that the actual difference between the mean price of a liter of health drink between two cities is between 0.006 and 0.195"
   ]
  },
  {
   "cell_type": "markdown",
   "id": "4e797bde",
   "metadata": {},
   "source": [
    "The point estimate is(Mean-Mean1)=0.10066"
   ]
  },
  {
   "cell_type": "code",
   "execution_count": 60,
   "id": "7993f09a",
   "metadata": {},
   "outputs": [],
   "source": [
    "#END"
   ]
  }
 ],
 "metadata": {
  "kernelspec": {
   "display_name": "Python 3 (ipykernel)",
   "language": "python",
   "name": "python3"
  },
  "language_info": {
   "codemirror_mode": {
    "name": "ipython",
    "version": 3
   },
   "file_extension": ".py",
   "mimetype": "text/x-python",
   "name": "python",
   "nbconvert_exporter": "python",
   "pygments_lexer": "ipython3",
   "version": "3.9.7"
  }
 },
 "nbformat": 4,
 "nbformat_minor": 5
}

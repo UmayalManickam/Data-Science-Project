{
 "cells": [
  {
   "cell_type": "markdown",
   "id": "44365d4c",
   "metadata": {},
   "source": [
    "# TASK 1"
   ]
  },
  {
   "cell_type": "markdown",
   "id": "26236ca8",
   "metadata": {},
   "source": [
    "1.A"
   ]
  },
  {
   "cell_type": "code",
   "execution_count": 3,
   "id": "0020ad18",
   "metadata": {},
   "outputs": [
    {
     "name": "stdout",
     "output_type": "stream",
     "text": [
      "1.0\n"
     ]
    }
   ],
   "source": [
    "import numpy as np\n",
    "X=[6,7,8,9,10,11,12,13,14]\n",
    "P_X=[0.03,0.08,0.15,0.20,0.19,0.16,0.10,0.07,0.02]"
   ]
  },
  {
   "cell_type": "code",
   "execution_count": 4,
   "id": "f24f3c22",
   "metadata": {},
   "outputs": [
    {
     "name": "stdout",
     "output_type": "stream",
     "text": [
      "Probability of no.of days lost due to extreme weather conditions does not exceed 10 days the next summer= 0.65\n"
     ]
    }
   ],
   "source": [
    "print('Probability of no.of days lost due to extreme weather conditions does not exceed 10 days the next summer=',np.sum(P_X[0:5]))"
   ]
  },
  {
   "cell_type": "markdown",
   "id": "82e3b5d5",
   "metadata": {},
   "source": [
    "1.B"
   ]
  },
  {
   "cell_type": "code",
   "execution_count": 5,
   "id": "fd36b21c",
   "metadata": {},
   "outputs": [
    {
     "name": "stdout",
     "output_type": "stream",
     "text": [
      "Probability that you will lose 8 to 12 days next summer= 0.65\n"
     ]
    }
   ],
   "source": [
    "a=np.sum(P_X[0:7])\n",
    "b=np.sum(P_X[0:3])\n",
    "print('Probability that you will lose 8 to 12 days next summer=',a-b)\n"
   ]
  },
  {
   "cell_type": "markdown",
   "id": "c1af1554",
   "metadata": {},
   "source": [
    "1.C"
   ]
  },
  {
   "cell_type": "code",
   "execution_count": 58,
   "id": "3174288b",
   "metadata": {},
   "outputs": [
    {
     "name": "stdout",
     "output_type": "stream",
     "text": [
      "Probability that the number of days will not be lost at all next summer= 0.0\n"
     ]
    }
   ],
   "source": [
    "print('Probability that the number of days will not be lost at all next summer=',(1-(np.sum(P_X))))"
   ]
  },
  {
   "cell_type": "markdown",
   "id": "89142b59",
   "metadata": {},
   "source": [
    "1.D"
   ]
  },
  {
   "cell_type": "code",
   "execution_count": 8,
   "id": "06ba41d7",
   "metadata": {},
   "outputs": [
    {
     "name": "stdout",
     "output_type": "stream",
     "text": [
      "Mean= 9.790000000000001\n",
      "Variance= 3.4659\n",
      "Standard Deviation= 1.8616927780920245\n"
     ]
    }
   ],
   "source": [
    "mean=0\n",
    "for x,p in zip(X,P_X):\n",
    "    mean+=x*p\n",
    "print('Mean=',mean)\n",
    "\n",
    "var=0\n",
    "for x,p in zip(X,P_X):\n",
    "    var+=((x-mean)**2)*p\n",
    "print('Variance=',var)\n",
    "\n",
    "import math\n",
    "sd=math.sqrt(var)\n",
    "print('Standard Deviation=',sd)"
   ]
  },
  {
   "cell_type": "markdown",
   "id": "93276131",
   "metadata": {},
   "source": [
    "1.E"
   ]
  },
  {
   "cell_type": "code",
   "execution_count": 9,
   "id": "7016f22d",
   "metadata": {},
   "outputs": [
    {
     "name": "stderr",
     "output_type": "stream",
     "text": [
      "C:\\Users\\Admin\\anaconda3\\lib\\site-packages\\seaborn\\_decorators.py:36: FutureWarning: Pass the following variables as keyword args: x, y. From version 0.12, the only valid positional argument will be `data`, and passing other arguments without an explicit keyword will result in an error or misinterpretation.\n",
      "  warnings.warn(\n"
     ]
    },
    {
     "data": {
      "image/png": "[encoded data removed]",
      "text/plain": [
       "<Figure size 432x288 with 1 Axes>"
      ]
     },
     "metadata": {
      "needs_background": "light"
     },
     "output_type": "display_data"
    }
   ],
   "source": [
    "import matplotlib.pyplot as plt\n",
    "import seaborn as sns\n",
    "\n",
    "sns.barplot(X,P_X)\n",
    "plt.xlabel('X')\n",
    "plt.ylabel('Probability of X')\n",
    "plt.show()"
   ]
  },
  {
   "cell_type": "markdown",
   "id": "77cc4a9a",
   "metadata": {},
   "source": [
    "# TASK 2"
   ]
  },
  {
   "cell_type": "markdown",
   "id": "31eb09a5",
   "metadata": {},
   "source": [
    "2.A"
   ]
  },
  {
   "cell_type": "code",
   "execution_count": 48,
   "id": "378c08b1",
   "metadata": {},
   "outputs": [
    {
     "name": "stdout",
     "output_type": "stream",
     "text": [
      "Probability of fewer than 4 purchasers to choose Oreo=0.8670\n"
     ]
    }
   ],
   "source": [
    "from scipy.stats import binom\n",
    "\n",
    "p=0.1 \n",
    "q=1-p\n",
    "n=20\n",
    "k=np.arange(0,n+1)  \n",
    "#print(k)\n",
    "\n",
    "b=binom.pmf(k,n,p)\n",
    "#print(binomial)\n",
    "cb=list(binom.cdf(k,n,p))\n",
    "print('Probability of fewer than 4 purchasers to choose Oreo=%1.4f'%cb[3])"
   ]
  },
  {
   "cell_type": "markdown",
   "id": "ec73332c",
   "metadata": {},
   "source": [
    "2.B"
   ]
  },
  {
   "cell_type": "code",
   "execution_count": 49,
   "id": "ddb3b3f7",
   "metadata": {},
   "outputs": [
    {
     "name": "stdout",
     "output_type": "stream",
     "text": [
      "Mean of purchases= 2.0\n",
      "SD of purchases= 1.3416\n"
     ]
    }
   ],
   "source": [
    "mean=n*p\n",
    "sd=np.sqrt(n*p*(1-p))\n",
    "print('Mean of purchases=',mean)\n",
    "print('SD of purchases= %1.4f'%(sd))"
   ]
  },
  {
   "cell_type": "markdown",
   "id": "48f606e9",
   "metadata": {},
   "source": [
    "2.C"
   ]
  },
  {
   "cell_type": "code",
   "execution_count": 50,
   "id": "c5861e50",
   "metadata": {},
   "outputs": [
    {
     "data": {
      "image/png": "[encoded data removed]",
      "text/plain": [
       "<Figure size 432x288 with 1 Axes>"
      ]
     },
     "metadata": {
      "needs_background": "light"
     },
     "output_type": "display_data"
    }
   ],
   "source": [
    "plt.plot(k,b,'ro-')\n",
    "plt.title('Shares of Oreo')\n",
    "plt.xlabel('No of purchasers')\n",
    "plt.ylabel('Probability of Purchasers')\n",
    "plt.show()"
   ]
  },
  {
   "cell_type": "markdown",
   "id": "1eda596d",
   "metadata": {},
   "source": [
    "# TASK 3"
   ]
  },
  {
   "cell_type": "code",
   "execution_count": 14,
   "id": "8876de10",
   "metadata": {},
   "outputs": [],
   "source": [
    "p=0.2 \n",
    "q=1-p\n",
    "n=15 \n",
    "k=np.arange(0,n+1)  \n",
    "binomial=binom.pmf(k,n,p)"
   ]
  },
  {
   "cell_type": "markdown",
   "id": "3802dbed",
   "metadata": {},
   "source": [
    "3.A"
   ]
  },
  {
   "cell_type": "code",
   "execution_count": 160,
   "id": "e615aaf4",
   "metadata": {},
   "outputs": [
    {
     "name": "stdout",
     "output_type": "stream",
     "text": [
      "Probability of exactly five overseas outsourcing companies using consultant=0.1032\n"
     ]
    }
   ],
   "source": [
    "print('Probability of exactly five overseas outsourcing companies using consultant=%1.4f'%binomial[5])"
   ]
  },
  {
   "cell_type": "markdown",
   "id": "bbdd979e",
   "metadata": {},
   "source": [
    "3.B"
   ]
  },
  {
   "cell_type": "code",
   "execution_count": 161,
   "id": "ca2cc54f",
   "metadata": {},
   "outputs": [
    {
     "name": "stdout",
     "output_type": "stream",
     "text": [
      "Probability of more than nine overseas outsourcing companies using consultant=0.0001\n"
     ]
    }
   ],
   "source": [
    "print('Probability of more than nine overseas outsourcing companies using consultant=%1.4f'%(np.sum(binomial[10:13])))"
   ]
  },
  {
   "cell_type": "markdown",
   "id": "9e8ec640",
   "metadata": {},
   "source": [
    "3.C"
   ]
  },
  {
   "cell_type": "code",
   "execution_count": 162,
   "id": "cc80319f",
   "metadata": {},
   "outputs": [
    {
     "name": "stdout",
     "output_type": "stream",
     "text": [
      "Probability that none of the overseas outsourcing companies use a consultant=0.0352\n"
     ]
    }
   ],
   "source": [
    "print('Probability that none of the overseas outsourcing companies use a consultant=%1.4f'%binomial[0])"
   ]
  },
  {
   "cell_type": "markdown",
   "id": "8917d728",
   "metadata": {},
   "source": [
    "3.D"
   ]
  },
  {
   "cell_type": "code",
   "execution_count": 15,
   "id": "df0f9f46",
   "metadata": {},
   "outputs": [
    {
     "name": "stdout",
     "output_type": "stream",
     "text": [
      "Probability of Four to Seven overseas outsourcing companies use a consultant=0.3476\n"
     ]
    }
   ],
   "source": [
    "print('Probability of Four to Seven overseas outsourcing companies use a consultant=%1.4f'%(np.sum(binomial[4:8])))"
   ]
  },
  {
   "cell_type": "markdown",
   "id": "e29f1877",
   "metadata": {},
   "source": [
    "3.E"
   ]
  },
  {
   "cell_type": "code",
   "execution_count": 164,
   "id": "d4302f5f",
   "metadata": {},
   "outputs": [
    {
     "data": {
      "image/png": "[encoded data removed]",
      "text/plain": [
       "<Figure size 432x288 with 1 Axes>"
      ]
     },
     "metadata": {
      "needs_background": "light"
     },
     "output_type": "display_data"
    }
   ],
   "source": [
    "#GRAPH FOR 3.D\n",
    "plt.plot(k[4:8],binom.pmf(k,n,p)[4:8],'gs-')\n",
    "plt.title('Overseas outsourcing')\n",
    "plt.xlabel('No.of companies')\n",
    "plt.ylabel('Probability of outsourcing')\n",
    "plt.show()"
   ]
  },
  {
   "cell_type": "code",
   "execution_count": 165,
   "id": "970a57a5",
   "metadata": {},
   "outputs": [
    {
     "data": {
      "image/png": "[encoded data removed]",
      "text/plain": [
       "<Figure size 432x288 with 1 Axes>"
      ]
     },
     "metadata": {
      "needs_background": "light"
     },
     "output_type": "display_data"
    },
    {
     "name": "stdout",
     "output_type": "stream",
     "text": [
      "A)In the graph for x=5 the y is 0.10 as calculated above \n",
      "B)When the companies using consultant are greater than 9,we get probability nearer to 0 \n",
      "C)When the companies using consultant are 0,we get lower probability,before the no.of companies becomes 6 \n",
      "D)When the companies using consultant lies between 4 and 7, then it starts to decrease linearly and gives a sum of 0.3476\n"
     ]
    }
   ],
   "source": [
    "#GRAPH AND JUSTIFICATION\n",
    "plt.plot(k,binomial,'bo-')\n",
    "plt.title('Overseas outsourcing')\n",
    "plt.xlabel('No.of companies')\n",
    "plt.ylabel('Probability of outsourcing')\n",
    "plt.show()\n",
    "\n",
    "print('A)In the graph for x=5 the y is 0.10 as calculated above \\nB)When the companies using consultant are greater than 9,we get probability nearer to 0 \\nC)When the companies using consultant are 0,we get lower probability,before the no.of companies becomes 6 \\nD)When the companies using consultant lies between 4 and 7, then it starts to decrease linearly and gives a sum of 0.3476') \n"
   ]
  },
  {
   "cell_type": "markdown",
   "id": "8f18ac56",
   "metadata": {},
   "source": [
    "# TASK 4"
   ]
  },
  {
   "cell_type": "code",
   "execution_count": 17,
   "id": "b5434307",
   "metadata": {},
   "outputs": [],
   "source": [
    "week1=[3,6,4,6,2,3,1,5,1,0,3,3]\n",
    "week2=[1,2,4,0,2,6,5,4,2,5,3,4]\n",
    "week3=[5,3,5,3,5,4,7,3,4,8,3,1]\n",
    "a=np.mean(week1)\n",
    "a1=np.mean(week2)\n",
    "a2=np.mean(week3)\n",
    "w=[a,a1,a2]\n",
    "rate_5=np.mean(w)"
   ]
  },
  {
   "cell_type": "code",
   "execution_count": 18,
   "id": "def2f68d",
   "metadata": {},
   "outputs": [
    {
     "name": "stdout",
     "output_type": "stream",
     "text": [
      "[3.01973834e-02 1.05690842e-01 1.84958973e-01 2.15785469e-01\n",
      " 1.88812285e-01 1.32168600e-01 7.70983499e-02 3.85491749e-02\n",
      " 1.68652640e-02 6.55871379e-03 2.29554983e-03 7.30402218e-04\n",
      " 2.13033980e-04 5.73553024e-05 1.43388256e-05 3.34572597e-06\n",
      " 7.31877556e-07 1.50680673e-07 2.92990198e-08 5.39718786e-09\n",
      " 9.44507875e-10 1.57417979e-10 2.50437694e-11 3.81100839e-12\n",
      " 5.55772057e-13 7.78080880e-14 1.04741657e-14 1.35776222e-15\n",
      " 1.69720277e-16 2.04834818e-17 2.38973954e-18 2.69809303e-19\n",
      " 2.95103925e-20 3.12989011e-21 3.22194570e-22 3.22194570e-23\n",
      " 3.13244721e-24]\n"
     ]
    }
   ],
   "source": [
    "from scipy.stats import poisson    \n",
    "n=np.arange(0,37)    \n",
    "pdata=poisson.pmf(n,rate_5)\n",
    "print(pdata)"
   ]
  },
  {
   "cell_type": "markdown",
   "id": "f4cd6675",
   "metadata": {},
   "source": [
    "4.A"
   ]
  },
  {
   "cell_type": "code",
   "execution_count": 19,
   "id": "edc0144d",
   "metadata": {},
   "outputs": [
    {
     "name": "stdout",
     "output_type": "stream",
     "text": [
      "No customers arrive in 5 min interval time=0.0302\n"
     ]
    }
   ],
   "source": [
    "print('No customers arrive in 5 min interval time=%1.4f'%pdata[0])"
   ]
  },
  {
   "cell_type": "code",
   "execution_count": 20,
   "id": "3d782956",
   "metadata": {},
   "outputs": [
    {
     "data": {
      "image/png": "[encoded data removed]",
      "text/plain": [
       "<Figure size 432x288 with 1 Axes>"
      ]
     },
     "metadata": {
      "needs_background": "light"
     },
     "output_type": "display_data"
    }
   ],
   "source": [
    "#graph\n",
    "plt.plot(n,pdata,'go-')\n",
    "plt.title('No.of customers in five minute interval time')\n",
    "plt.show()"
   ]
  },
  {
   "cell_type": "markdown",
   "id": "fe97b889",
   "metadata": {},
   "source": [
    "4.B"
   ]
  },
  {
   "cell_type": "code",
   "execution_count": null,
   "id": "494fedb8",
   "metadata": {},
   "outputs": [],
   "source": [
    "b=1-(np.sum(pdata[0:6]))\n",
    "print('Six or more customers arrive in 5 min interval time=%1.4f'%b)"
   ]
  },
  {
   "cell_type": "code",
   "execution_count": 180,
   "id": "ac73be6f",
   "metadata": {},
   "outputs": [
    {
     "data": {
      "image/png": "[encoded data removed]",
      "text/plain": [
       "<Figure size 432x288 with 1 Axes>"
      ]
     },
     "metadata": {
      "needs_background": "light"
     },
     "output_type": "display_data"
    }
   ],
   "source": [
    "#graph\n",
    "plt.plot(n[0:6],poisson.pmf(n,rate_5)[0:6],'s-')\n",
    "plt.show()"
   ]
  },
  {
   "cell_type": "markdown",
   "id": "971bf3fe",
   "metadata": {},
   "source": [
    "4.C"
   ]
  },
  {
   "cell_type": "code",
   "execution_count": 24,
   "id": "4f6dba77",
   "metadata": {},
   "outputs": [
    {
     "name": "stdout",
     "output_type": "stream",
     "text": [
      "Fewer than four customer arrive in 10 min interval time=0.0818\n"
     ]
    }
   ],
   "source": [
    "rate_10=2*rate_5\n",
    "p1data=poisson.pmf(n,rate_10)\n",
    "print('Fewer than four customer arrive in 10 min interval time=%1.4f'%(np.sum(p1data[0:4])))"
   ]
  },
  {
   "cell_type": "code",
   "execution_count": 25,
   "id": "6be2c5ec",
   "metadata": {},
   "outputs": [
    {
     "data": {
      "image/png": "[encoded data removed]",
      "text/plain": [
       "<Figure size 432x288 with 1 Axes>"
      ]
     },
     "metadata": {
      "needs_background": "light"
     },
     "output_type": "display_data"
    }
   ],
   "source": [
    "#graph\n",
    "plt.plot(n[0:4],poisson.pmf(n,rate_10)[0:4],'bs-')\n",
    "plt.show()"
   ]
  },
  {
   "cell_type": "markdown",
   "id": "67be1cb3",
   "metadata": {},
   "source": [
    "4.D"
   ]
  },
  {
   "cell_type": "code",
   "execution_count": 196,
   "id": "ba0733b3",
   "metadata": {},
   "outputs": [
    {
     "name": "stdout",
     "output_type": "stream",
     "text": [
      "Between three and six customers arrive in 10 min interval time=0.4201\n"
     ]
    }
   ],
   "source": [
    "print('Between three and six customers arrive in 10 min interval time=%1.4f'%(np.sum(p1data[3:7])))"
   ]
  },
  {
   "cell_type": "code",
   "execution_count": 46,
   "id": "9235af3c",
   "metadata": {},
   "outputs": [
    {
     "data": {
      "image/png": "[encoded data removed]",
      "text/plain": [
       "<Figure size 432x288 with 1 Axes>"
      ]
     },
     "metadata": {
      "needs_background": "light"
     },
     "output_type": "display_data"
    }
   ],
   "source": [
    "#graph\n",
    "plt.plot(n[3:7],poisson.pmf(n,rate_10)[3:7],'rd-')\n",
    "plt.show()"
   ]
  },
  {
   "cell_type": "markdown",
   "id": "f3f3a6b2",
   "metadata": {},
   "source": [
    "4.E"
   ]
  },
  {
   "cell_type": "code",
   "execution_count": 21,
   "id": "842a7560",
   "metadata": {},
   "outputs": [
    {
     "name": "stdout",
     "output_type": "stream",
     "text": [
      "Exactly eight customers arrive in 15 min interval=0.1009\n"
     ]
    }
   ],
   "source": [
    "rate_15=3*rate_5\n",
    "p2data=poisson.pmf(n,rate_15)\n",
    "print('Exactly eight customers arrive in 15 min interval=%1.4f'%p2data[8])"
   ]
  },
  {
   "cell_type": "code",
   "execution_count": 22,
   "id": "91ab5bd5",
   "metadata": {},
   "outputs": [
    {
     "data": {
      "image/png": "[encoded data removed]",
      "text/plain": [
       "<Figure size 432x288 with 1 Axes>"
      ]
     },
     "metadata": {
      "needs_background": "light"
     },
     "output_type": "display_data"
    }
   ],
   "source": [
    "#graph\n",
    "plt.plot(n,p2data,'bo-')\n",
    "plt.title('No.of customers in 15 mins interval time')\n",
    "plt.show()"
   ]
  },
  {
   "cell_type": "code",
   "execution_count": 29,
   "id": "5f20f074",
   "metadata": {},
   "outputs": [
    {
     "data": {
      "image/png": "[encoded data removed]",
      "text/plain": [
       "<Figure size 432x288 with 1 Axes>"
      ]
     },
     "metadata": {
      "needs_background": "light"
     },
     "output_type": "display_data"
    }
   ],
   "source": [
    "#graph for 10 mins interval time\n",
    "plt.plot(n,p1data,'go-')\n",
    "plt.title('No.of customers in 10 mins interval time')\n",
    "plt.show()"
   ]
  },
  {
   "cell_type": "markdown",
   "id": "20436b98",
   "metadata": {},
   "source": [
    "# TASK 5"
   ]
  },
  {
   "cell_type": "code",
   "execution_count": 31,
   "id": "218b860b",
   "metadata": {},
   "outputs": [
    {
     "name": "stdout",
     "output_type": "stream",
     "text": [
      "[5.78104865e-01 3.16801466e-01 8.68036016e-02 1.58561246e-02\n",
      " 2.17228907e-03 2.38082882e-04 2.17449032e-05 1.70231528e-06\n",
      " 1.16608597e-07 7.10016788e-09 3.89089200e-10 1.93837165e-11]\n"
     ]
    }
   ],
   "source": [
    "rate_1yr=0.548\n",
    "n=np.arange(0,12)\n",
    "data=poisson.pmf(n,rate_1yr)\n",
    "print(data)"
   ]
  },
  {
   "cell_type": "markdown",
   "id": "798ba238",
   "metadata": {},
   "source": [
    "5.A"
   ]
  },
  {
   "cell_type": "code",
   "execution_count": 32,
   "id": "d2c2aed3",
   "metadata": {},
   "outputs": [
    {
     "name": "stdout",
     "output_type": "stream",
     "text": [
      "Family did not make a trip=0.5781\n"
     ]
    }
   ],
   "source": [
    "print('Family did not make a trip=%1.4f'%data[0])"
   ]
  },
  {
   "cell_type": "markdown",
   "id": "aebaedd2",
   "metadata": {},
   "source": [
    "5.B\n"
   ]
  },
  {
   "cell_type": "code",
   "execution_count": 33,
   "id": "332fd66a",
   "metadata": {},
   "outputs": [
    {
     "name": "stdout",
     "output_type": "stream",
     "text": [
      "Family took exactly one trip=0.3168\n"
     ]
    }
   ],
   "source": [
    "print('Family took exactly one trip=%1.4f'%data[1])"
   ]
  },
  {
   "cell_type": "code",
   "execution_count": 35,
   "id": "4de9cb53",
   "metadata": {},
   "outputs": [
    {
     "data": {
      "image/png": "[encoded data removed]",
      "text/plain": [
       "<Figure size 432x288 with 1 Axes>"
      ]
     },
     "metadata": {
      "needs_background": "light"
     },
     "output_type": "display_data"
    }
   ],
   "source": [
    "#graph\n",
    "plt.plot(n,data,'go-')\n",
    "plt.title(\"No.of days that family didn't take a trip in last year\")\n",
    "plt.show()"
   ]
  },
  {
   "cell_type": "markdown",
   "id": "d4ac1a26",
   "metadata": {},
   "source": [
    "\n",
    "5.C"
   ]
  },
  {
   "cell_type": "code",
   "execution_count": 207,
   "id": "b70f88d5",
   "metadata": {},
   "outputs": [
    {
     "name": "stdout",
     "output_type": "stream",
     "text": [
      "Family took two or more trips=0.1051\n"
     ]
    }
   ],
   "source": [
    "print('Family took two or more trips=%1.4f'%(np.sum(data[2:])))"
   ]
  },
  {
   "cell_type": "code",
   "execution_count": 208,
   "id": "f826ee09",
   "metadata": {},
   "outputs": [
    {
     "data": {
      "image/png": "[encoded data removed]",
      "text/plain": [
       "<Figure size 432x288 with 1 Axes>"
      ]
     },
     "metadata": {
      "needs_background": "light"
     },
     "output_type": "display_data"
    }
   ],
   "source": [
    "#graph\n",
    "plt.plot(n[2:],poisson.pmf(n,rate_1yr)[2:],'bo-')\n",
    "plt.show()"
   ]
  },
  {
   "cell_type": "markdown",
   "id": "28696440",
   "metadata": {},
   "source": [
    "5.D"
   ]
  },
  {
   "cell_type": "code",
   "execution_count": 39,
   "id": "0b3387eb",
   "metadata": {},
   "outputs": [
    {
     "name": "stdout",
     "output_type": "stream",
     "text": [
      "Family took three or fewer trips=0.9150\n"
     ]
    }
   ],
   "source": [
    "rate_3yr=3*rate_1yr\n",
    "data1=poisson.pmf(n,rate_3yr)\n",
    "print('Family took three or fewer trips=%1.4f'%(np.sum(data1[0:4])))"
   ]
  },
  {
   "cell_type": "code",
   "execution_count": 216,
   "id": "79b0bbd4",
   "metadata": {},
   "outputs": [
    {
     "data": {
      "image/png": "[encoded data removed]",
      "text/plain": [
       "<Figure size 432x288 with 1 Axes>"
      ]
     },
     "metadata": {
      "needs_background": "light"
     },
     "output_type": "display_data"
    }
   ],
   "source": [
    "#graph\n",
    "plt.plot(n[0:4],poisson.pmf(n,rate_3yr)[0:4],'ro-')\n",
    "plt.show()"
   ]
  },
  {
   "cell_type": "markdown",
   "id": "bd4e7640",
   "metadata": {},
   "source": [
    "5.E\n"
   ]
  },
  {
   "cell_type": "code",
   "execution_count": 37,
   "id": "16896bce",
   "metadata": {},
   "outputs": [
    {
     "name": "stdout",
     "output_type": "stream",
     "text": [
      "Family took exactly four trips=0.1818\n"
     ]
    }
   ],
   "source": [
    "rate_6yr=6*rate_1yr\n",
    "data2=poisson.pmf(n,rate_6yr)\n",
    "print('Family took exactly four trips=%1.4f'%data2[4])"
   ]
  },
  {
   "cell_type": "code",
   "execution_count": 38,
   "id": "521b8c54",
   "metadata": {},
   "outputs": [
    {
     "data": {
      "image/png": "[encoded data removed]",
      "text/plain": [
       "<Figure size 432x288 with 1 Axes>"
      ]
     },
     "metadata": {
      "needs_background": "light"
     },
     "output_type": "display_data"
    }
   ],
   "source": [
    "#graph\n",
    "plt.plot(n,data2,'gs-')\n",
    "plt.title(\"No.of days that family didn't take a trip in six years\")\n",
    "plt.show()"
   ]
  },
  {
   "cell_type": "code",
   "execution_count": 41,
   "id": "fffe3301",
   "metadata": {},
   "outputs": [
    {
     "data": {
      "image/png": "[encoded data removed]",
      "text/plain": [
       "<Figure size 432x288 with 1 Axes>"
      ]
     },
     "metadata": {
      "needs_background": "light"
     },
     "output_type": "display_data"
    }
   ],
   "source": [
    "#graph for 3 years\n",
    "plt.plot(n,data1,'bs-')\n",
    "plt.title(\"No.of days that family didn't take a trip in six years\")\n",
    "plt.show()"
   ]
  },
  {
   "cell_type": "code",
   "execution_count": null,
   "id": "edb86c66",
   "metadata": {},
   "outputs": [],
   "source": [
    "#END"
   ]
  }
 ],
 "metadata": {
  "kernelspec": {
   "display_name": "Python 3 (ipykernel)",
   "language": "python",
   "name": "python3"
  },
  "language_info": {
   "codemirror_mode": {
    "name": "ipython",
    "version": 3
   },
   "file_extension": ".py",
   "mimetype": "text/x-python",
   "name": "python",
   "nbconvert_exporter": "python",
   "pygments_lexer": "ipython3",
   "version": "3.9.7"
  }
 },
 "nbformat": 4,
 "nbformat_minor": 5
}

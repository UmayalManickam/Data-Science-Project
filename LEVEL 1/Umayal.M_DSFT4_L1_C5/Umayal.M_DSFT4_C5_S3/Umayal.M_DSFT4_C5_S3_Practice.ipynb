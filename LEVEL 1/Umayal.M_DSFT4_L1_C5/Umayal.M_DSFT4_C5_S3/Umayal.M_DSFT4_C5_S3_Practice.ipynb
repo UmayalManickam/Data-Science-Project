{
 "cells": [
  {
   "cell_type": "markdown",
   "id": "29d028bb",
   "metadata": {},
   "source": [
    "# TASK 1"
   ]
  },
  {
   "cell_type": "markdown",
   "id": "08cb7907",
   "metadata": {},
   "source": [
    "p(F)=0.46\n",
    "p(F INTER PT)=p(F)*0.25=0.46*0.25=0.115\n",
    "p(PT)=0.174\n",
    "TO FIND p(F|PT)=?\n",
    "p(F|PT)=p(F INTER PT)/p(PT)\n",
    "       =0.115/0.174=0.66"
   ]
  },
  {
   "cell_type": "code",
   "execution_count": 110,
   "id": "1a69e432",
   "metadata": {},
   "outputs": [
    {
     "name": "stdout",
     "output_type": "stream",
     "text": [
      "The probability of part time worker to be Female is 66%\n"
     ]
    }
   ],
   "source": [
    "print('The probability of part time worker to be Female is 66%')"
   ]
  },
  {
   "cell_type": "markdown",
   "id": "f07f3d80",
   "metadata": {},
   "source": [
    "# TASK 2"
   ]
  },
  {
   "cell_type": "markdown",
   "id": "818577dc",
   "metadata": {},
   "source": [
    "p(N)=0.70\n",
    "p(S)=0.67\n",
    "p(S INTER N)=0.56\n",
    "TO FIND p(S|N)=?\n",
    "p(S|N)=p(S INTER N)/p(N)\n",
    "      =0.56/0.70=0.80"
   ]
  },
  {
   "cell_type": "code",
   "execution_count": 111,
   "id": "7b05796b",
   "metadata": {},
   "outputs": [
    {
     "name": "stdout",
     "output_type": "stream",
     "text": [
      "The probability that the worker believes that more storage space will increase productivity is 80%\n"
     ]
    }
   ],
   "source": [
    "print('The probability that the worker believes that more storage space will increase productivity is 80%')"
   ]
  },
  {
   "cell_type": "markdown",
   "id": "929ece50",
   "metadata": {},
   "source": [
    "# TASK 3"
   ]
  },
  {
   "cell_type": "code",
   "execution_count": 217,
   "id": "8beb7a94",
   "metadata": {},
   "outputs": [],
   "source": [
    "import pandas as pd\n",
    "import numpy as np\n",
    "import statistics as st\n",
    "import matplotlib.pyplot as plt"
   ]
  },
  {
   "cell_type": "code",
   "execution_count": 113,
   "id": "84194846",
   "metadata": {},
   "outputs": [
    {
     "data": {
      "text/plain": [
       "'C:\\\\Users\\\\Admin'"
      ]
     },
     "execution_count": 113,
     "metadata": {},
     "output_type": "execute_result"
    }
   ],
   "source": [
    "pwd"
   ]
  },
  {
   "cell_type": "code",
   "execution_count": 114,
   "id": "1b997f99",
   "metadata": {},
   "outputs": [],
   "source": [
    "df=pd.read_csv('DS1_C5_S3_Sampling_Practice_GamesSales_Data.csv')\n",
    "#df"
   ]
  },
  {
   "cell_type": "markdown",
   "id": "38a9a949",
   "metadata": {},
   "source": [
    "# SUBTASK 3.1 \n",
    "SAMPLING ON GLOBAL SALES DATA"
   ]
  },
  {
   "cell_type": "code",
   "execution_count": 194,
   "id": "926a2935",
   "metadata": {},
   "outputs": [],
   "source": [
    "# RANDOM SAMPLING WITHOUT REPLACEMENT\n",
    "RS_df=df.sample(n=30,random_state=1)\n",
    "#RS_df"
   ]
  },
  {
   "cell_type": "code",
   "execution_count": 200,
   "id": "8bfe8e64",
   "metadata": {},
   "outputs": [],
   "source": [
    "# RANDOM SAMPLING WITH REPLACEMENT\n",
    "RSR_df=df.sample(n=30,replace=True,random_state=1)\n",
    "#RSR_df"
   ]
  },
  {
   "cell_type": "code",
   "execution_count": 117,
   "id": "6b105b2b",
   "metadata": {},
   "outputs": [],
   "source": [
    "# SYSTEMATIC SAMPLING\n",
    "index=np.arange(0,len(df),step=5) \n",
    "SS_df=df.iloc[index]\n",
    "#SS_df"
   ]
  },
  {
   "cell_type": "code",
   "execution_count": 215,
   "id": "8e23c904",
   "metadata": {},
   "outputs": [],
   "source": [
    "# STRATIFIED SAMPLING FOR YEAR AND GENRE\n",
    "grp=df.groupby(['Year'])['Genre'].value_counts()\n",
    "grp_df=df.groupby(['Year','Genre'])\n",
    "ST_df=pd.DataFrame()\n",
    "\n",
    "for i in grp.index:\n",
    "        data=grp_df.get_group(i)\n",
    "        sample_data=data.sample(n=30,replace=True,random_state=1)\n",
    "        ST_df=ST_df.append(sample_data,ignore_index=True)\n",
    "    \n",
    "#ST_df"
   ]
  },
  {
   "cell_type": "code",
   "execution_count": 216,
   "id": "b9486b29",
   "metadata": {},
   "outputs": [],
   "source": [
    "# CLUSTER SAMPLING FOR YEAR AND GENRE\n",
    "grp=df.groupby(['Year'])['Genre'].value_counts()\n",
    "grp_df=df.groupby(['Year','Genre'])\n",
    "\n",
    "CC_df=pd.DataFrame()\n",
    "for y in grp.index[::5]:\n",
    "    data=grp_df.get_group(y)\n",
    "    sample_data=data.sample(frac=0.2,random_state=1)\n",
    "    CC_df=CC_df.append(sample_data,ignore_index=True)\n",
    "    \n",
    "#CC_df"
   ]
  },
  {
   "cell_type": "markdown",
   "id": "b560cd4c",
   "metadata": {},
   "source": [
    "# SUBTASK 3.2"
   ]
  },
  {
   "cell_type": "code",
   "execution_count": 122,
   "id": "747ad48f",
   "metadata": {},
   "outputs": [],
   "source": [
    "R1=df.sample(n=10,random_state=1)\n",
    "R2=df.sample(n=20,random_state=1)\n",
    "R3=df.sample(n=30,random_state=1)\n",
    "R4=df.sample(n=40,random_state=1)"
   ]
  },
  {
   "cell_type": "markdown",
   "id": "09266c71",
   "metadata": {},
   "source": [
    "SAMPLE DISTRIBUTION"
   ]
  },
  {
   "cell_type": "code",
   "execution_count": 211,
   "id": "348aae4f",
   "metadata": {},
   "outputs": [],
   "source": [
    "row_head=['Mean','Median','Standard Deviation']\n",
    "col_names=['Sample Data(n=10)','Sample Data(n=20)','Sample Data(n=30)','Sample Data(n=40)','Population Data']"
   ]
  },
  {
   "cell_type": "code",
   "execution_count": 213,
   "id": "e1d19b12",
   "metadata": {},
   "outputs": [
    {
     "data": {
      "text/html": [
       "<div>\n",
       "<style scoped>\n",
       "    .dataframe tbody tr th:only-of-type {\n",
       "        vertical-align: middle;\n",
       "    }\n",
       "\n",
       "    .dataframe tbody tr th {\n",
       "        vertical-align: top;\n",
       "    }\n",
       "\n",
       "    .dataframe thead th {\n",
       "        text-align: right;\n",
       "    }\n",
       "</style>\n",
       "<table border=\"1\" class=\"dataframe\">\n",
       "  <thead>\n",
       "    <tr style=\"text-align: right;\">\n",
       "      <th></th>\n",
       "      <th>Measures</th>\n",
       "      <th>Sample Data(n=10)</th>\n",
       "      <th>Sample Data(n=20)</th>\n",
       "      <th>Sample Data(n=30)</th>\n",
       "      <th>Sample Data(n=40)</th>\n",
       "      <th>Population Data</th>\n",
       "    </tr>\n",
       "  </thead>\n",
       "  <tbody>\n",
       "    <tr>\n",
       "      <th>0</th>\n",
       "      <td>Mean</td>\n",
       "      <td>0.580000</td>\n",
       "      <td>1.047000</td>\n",
       "      <td>1.045333</td>\n",
       "      <td>0.87775</td>\n",
       "      <td>0.839803</td>\n",
       "    </tr>\n",
       "    <tr>\n",
       "      <th>1</th>\n",
       "      <td>Median</td>\n",
       "      <td>0.160000</td>\n",
       "      <td>0.380000</td>\n",
       "      <td>0.185000</td>\n",
       "      <td>0.15500</td>\n",
       "      <td>0.170000</td>\n",
       "    </tr>\n",
       "    <tr>\n",
       "      <th>2</th>\n",
       "      <td>Standard Deviation</td>\n",
       "      <td>0.776431</td>\n",
       "      <td>1.950396</td>\n",
       "      <td>1.838631</td>\n",
       "      <td>1.66511</td>\n",
       "      <td>1.853915</td>\n",
       "    </tr>\n",
       "  </tbody>\n",
       "</table>\n",
       "</div>"
      ],
      "text/plain": [
       "             Measures  Sample Data(n=10)  Sample Data(n=20)  \\\n",
       "0                Mean           0.580000           1.047000   \n",
       "1              Median           0.160000           0.380000   \n",
       "2  Standard Deviation           0.776431           1.950396   \n",
       "\n",
       "   Sample Data(n=30)  Sample Data(n=40)  Population Data  \n",
       "0           1.045333            0.87775         0.839803  \n",
       "1           0.185000            0.15500         0.170000  \n",
       "2           1.838631            1.66511         1.853915  "
      ]
     },
     "execution_count": 213,
     "metadata": {},
     "output_type": "execute_result"
    }
   ],
   "source": [
    "Mean=[st.mean(R1['Global_Sales_M$']),st.mean(R2['Global_Sales_M$']),st.mean(R3['Global_Sales_M$']),st.mean(R4['Global_Sales_M$']),st.mean(df['Global_Sales_M$'])]\n",
    "Median=[st.median(R1['Global_Sales_M$']),st.median(R2['Global_Sales_M$']),st.median(R3['Global_Sales_M$']),st.median(R4['Global_Sales_M$']),st.median(df['Global_Sales_M$'])]\n",
    "SD=[st.stdev(R1['Global_Sales_M$']),st.stdev(R2['Global_Sales_M$']),st.stdev(R3['Global_Sales_M$']),st.stdev(R4['Global_Sales_M$']),st.stdev(df['Global_Sales_M$'])]\n",
    "DF=pd.DataFrame([Mean,Median,SD],columns=col_names)\n",
    "DF.insert(0,'Measures',row_head,True)\n",
    "\n",
    "DF"
   ]
  },
  {
   "cell_type": "markdown",
   "id": "7f901ff7",
   "metadata": {},
   "source": [
    "SHAPE OF DISTRIBUTION"
   ]
  },
  {
   "cell_type": "code",
   "execution_count": 128,
   "id": "ce6d26ec",
   "metadata": {},
   "outputs": [
    {
     "data": {
      "image/png": "[encoded data removed]",
      "text/plain": [
       "<Figure size 432x288 with 1 Axes>"
      ]
     },
     "metadata": {
      "needs_background": "light"
     },
     "output_type": "display_data"
    }
   ],
   "source": [
    "#POPULATION DATA\n",
    "plt.hist(df['Global_Sales_M$'],bins=5)\n",
    "plt.show()"
   ]
  },
  {
   "cell_type": "code",
   "execution_count": 214,
   "id": "7bfaadbf",
   "metadata": {},
   "outputs": [
    {
     "data": {
      "image/png": "[encoded data removed]",
      "text/plain": [
       "<Figure size 432x288 with 1 Axes>"
      ]
     },
     "metadata": {
      "needs_background": "light"
     },
     "output_type": "display_data"
    }
   ],
   "source": [
    "# STRATIFIED SAMPLING FOR YEAR AND GENRE\n",
    "plt.hist(ST_df['Global_Sales_M$'],bins=5)\n",
    "plt.show()"
   ]
  },
  {
   "cell_type": "markdown",
   "id": "a3b14b27",
   "metadata": {},
   "source": [
    "CHECKING WHETHER SAMPLE SUPPORTS CENTRAL LIMIT THEOREM"
   ]
  },
  {
   "cell_type": "code",
   "execution_count": 218,
   "id": "c8b2f15c",
   "metadata": {},
   "outputs": [
    {
     "data": {
      "image/png": "[encoded data removed]",
      "text/plain": [
       "<Figure size 432x288 with 1 Axes>"
      ]
     },
     "metadata": {
      "needs_background": "light"
     },
     "output_type": "display_data"
    }
   ],
   "source": [
    "#N=10\n",
    "plt.hist(R1['Global_Sales_M$'],bins=5)\n",
    "plt.title('Sample data n=10')\n",
    "plt.show()"
   ]
  },
  {
   "cell_type": "code",
   "execution_count": 219,
   "id": "fbf845cd",
   "metadata": {},
   "outputs": [
    {
     "data": {
      "image/png": "[encoded data removed]",
      "text/plain": [
       "<Figure size 432x288 with 1 Axes>"
      ]
     },
     "metadata": {
      "needs_background": "light"
     },
     "output_type": "display_data"
    }
   ],
   "source": [
    "#N=20\n",
    "plt.hist(R2['Global_Sales_M$'],bins=5)\n",
    "plt.title('Sample data n=20')\n",
    "plt.show()"
   ]
  },
  {
   "cell_type": "code",
   "execution_count": 220,
   "id": "eda060ef",
   "metadata": {},
   "outputs": [
    {
     "data": {
      "image/png": "[encoded data removed]",
      "text/plain": [
       "<Figure size 432x288 with 1 Axes>"
      ]
     },
     "metadata": {
      "needs_background": "light"
     },
     "output_type": "display_data"
    }
   ],
   "source": [
    "#N=30\n",
    "plt.hist(R3['Global_Sales_M$'],bins=5)\n",
    "plt.title('Sample data n=30')\n",
    "plt.show()"
   ]
  },
  {
   "cell_type": "code",
   "execution_count": 221,
   "id": "2ebd550f",
   "metadata": {},
   "outputs": [
    {
     "data": {
      "image/png": "[encoded data removed]",
      "text/plain": [
       "<Figure size 432x288 with 1 Axes>"
      ]
     },
     "metadata": {
      "needs_background": "light"
     },
     "output_type": "display_data"
    }
   ],
   "source": [
    "#N=40\n",
    "plt.hist(R4['Global_Sales_M$'],bins=5)\n",
    "plt.title('Sample data n=40')\n",
    "plt.show()"
   ]
  },
  {
   "cell_type": "markdown",
   "id": "6fda50e0",
   "metadata": {},
   "source": [
    "# CONCLUSION"
   ]
  },
  {
   "cell_type": "markdown",
   "id": "d0fc15e7",
   "metadata": {},
   "source": [
    "When sample data(n) is greater , it is similar to the population data.\n",
    "(i.e)when n>=30,the graph is similar to the population data graph.\n",
    "So,the central limit theorem is supported here."
   ]
  }
 ],
 "metadata": {
  "kernelspec": {
   "display_name": "Python 3 (ipykernel)",
   "language": "python",
   "name": "python3"
  },
  "language_info": {
   "codemirror_mode": {
    "name": "ipython",
    "version": 3
   },
   "file_extension": ".py",
   "mimetype": "text/x-python",
   "name": "python",
   "nbconvert_exporter": "python",
   "pygments_lexer": "ipython3",
   "version": "3.9.7"
  }
 },
 "nbformat": 4,
 "nbformat_minor": 5
}

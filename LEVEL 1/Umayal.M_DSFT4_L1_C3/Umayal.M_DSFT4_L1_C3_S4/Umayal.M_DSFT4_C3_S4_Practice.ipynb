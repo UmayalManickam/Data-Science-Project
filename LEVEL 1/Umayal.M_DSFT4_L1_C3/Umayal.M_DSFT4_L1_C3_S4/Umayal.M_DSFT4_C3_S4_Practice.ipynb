{
 "cells": [
  {
   "cell_type": "code",
   "execution_count": 1,
   "id": "1544ab76",
   "metadata": {},
   "outputs": [
    {
     "name": "stdout",
     "output_type": "stream",
     "text": [
      "Enter a number: 5\n",
      "The factorial of the number is: 120\n"
     ]
    }
   ],
   "source": [
    "# TASK 1\n",
    "\n",
    "i=1\n",
    "fact=1\n",
    "num=int(input('Enter a number: '))\n",
    "while(i<=num):\n",
    "    fact=fact* i\n",
    "    i=i+1\n",
    "print('The factorial of the number is:',fact)"
   ]
  },
  {
   "cell_type": "code",
   "execution_count": 2,
   "id": "d9c5eab0",
   "metadata": {},
   "outputs": [
    {
     "name": "stdout",
     "output_type": "stream",
     "text": [
      " 1   2   3   5   7   11   13   17   19  "
     ]
    }
   ],
   "source": [
    " # TASK 2\n",
    "    \n",
    "Start = 1\n",
    "End=20\n",
    "while(Start <= End):\n",
    "    count = 0\n",
    "    i = 2\n",
    "    while(i <= Start//2):\n",
    "        if(Start % i == 0):\n",
    "            count = count + 1\n",
    "            break\n",
    "        i = i + 1\n",
    "    if count == 0 :\n",
    "        print(\" %d\" %Start, end = '  ')\n",
    "    Start = Start+ 1"
   ]
  },
  {
   "cell_type": "code",
   "execution_count": 3,
   "id": "73b56bbb",
   "metadata": {},
   "outputs": [
    {
     "name": "stdout",
     "output_type": "stream",
     "text": [
      "Enter a five digit number:11111\n",
      "The total sum of digits is: 5\n"
     ]
    }
   ],
   "source": [
    "# TASK 3\n",
    "\n",
    "n=int(input(\"Enter a five digit number:\"))\n",
    "total=0\n",
    "while(n>0):\n",
    "    digit=n%10\n",
    "    total=total+digit\n",
    "    n=n//10\n",
    "print(\"The total sum of digits is:\",total)"
   ]
  },
  {
   "cell_type": "code",
   "execution_count": 4,
   "id": "88721c50",
   "metadata": {},
   "outputs": [
    {
     "name": "stdout",
     "output_type": "stream",
     "text": [
      "Fibonacci Series\n",
      "1 2 3 5 8 13 21 "
     ]
    }
   ],
   "source": [
    "# TASK 4\n",
    "\n",
    "print('Fibonacci Series')\n",
    "a=0\n",
    "b=7\n",
    "c=0\n",
    "term=1\n",
    "while(a<b):\n",
    "    d=c+term\n",
    "    print(d,end=' ')\n",
    "    c=term\n",
    "    term=d\n",
    "    a=a+1\n",
    "    "
   ]
  },
  {
   "cell_type": "code",
   "execution_count": 5,
   "id": "46db4959",
   "metadata": {},
   "outputs": [
    {
     "name": "stdout",
     "output_type": "stream",
     "text": [
      "ID_t1: 2947702404576\n",
      "ID_t2: 2947702404256\n",
      "(2, 98, 7, 5, 100, 8, 9, 25)\n",
      "ID_t1_t2: 2947673756944\n"
     ]
    }
   ],
   "source": [
    "# TASK 5\n",
    "\n",
    "t1=(2,98,7,5)\n",
    "t2=(100,8,9,25)\n",
    "print('ID_t1:',id(t1))\n",
    "print('ID_t2:',id(t2))\n",
    "t1=t1+t2\n",
    "print(t1)\n",
    "print('ID_t1_t2:',id(t1))"
   ]
  },
  {
   "cell_type": "code",
   "execution_count": 6,
   "id": "f4d2b669",
   "metadata": {},
   "outputs": [
    {
     "name": "stdout",
     "output_type": "stream",
     "text": [
      "{70, 40, 10, 50, 20, 60, 30}\n"
     ]
    }
   ],
   "source": [
    "# TASK 6\n",
    "\n",
    "m={10,20,30,40,50}\n",
    "n={30,40,50,60,70}\n",
    "m.update(n)\n",
    "print(m)"
   ]
  },
  {
   "cell_type": "code",
   "execution_count": 15,
   "id": "cb29b7d5",
   "metadata": {},
   "outputs": [
    {
     "name": "stdout",
     "output_type": "stream",
     "text": [
      "2\n",
      "4\n"
     ]
    }
   ],
   "source": [
    "# TASK 7\n",
    "\n",
    "port1={'FTP':1,'SSH':2,'telnet':3,'http:':4}\n",
    "keys=list(port1.values())\n",
    "i=0\n",
    "while i< len(keys):\n",
    "    if keys[i]%2==0:\n",
    "        print(keys[i])\n",
    "    i=i+1\n"
   ]
  },
  {
   "cell_type": "code",
   "execution_count": 13,
   "id": "06c07e55",
   "metadata": {},
   "outputs": [
    {
     "name": "stdout",
     "output_type": "stream",
     "text": [
      "{1: 1, 2: 4, 3: 9, 4: 16, 5: 25, 6: 36, 7: 49, 8: 64, 9: 81, 10: 100, 11: 121, 12: 144, 13: 169, 14: 196, 15: 225}\n",
      "{1: 1, 2: 4, 3: 9, 4: 16, 5: 25, 6: 36, 7: 49, 8: 64, 9: 81, 10: 100, 11: 121, 12: 144, 13: 169, 14: 196, 15: 225, 100: 1000}\n"
     ]
    }
   ],
   "source": [
    "# TASK 8\n",
    "\n",
    "sq={}\n",
    "for i in range(1,16):\n",
    "    sq[i]=i**2\n",
    "print(sq)\n",
    "sq.update({100:1000})\n",
    "print(sq)"
   ]
  },
  {
   "cell_type": "code",
   "execution_count": 9,
   "id": "4f3902e2",
   "metadata": {},
   "outputs": [
    {
     "name": "stdout",
     "output_type": "stream",
     "text": [
      "{'FTP': 21, 'SSH': 22, 'telnet': 23, 'http': 80}\n"
     ]
    }
   ],
   "source": [
    "# TASK 9\n",
    "\n",
    "port1={21:'FTP',22:'SSH',23:'telnet',80:'http'}\n",
    "port2={}\n",
    "for keys,values in port1.items():\n",
    "    temp={values:keys}\n",
    "    port2.update(temp)\n",
    "print(port2)\n"
   ]
  },
  {
   "cell_type": "code",
   "execution_count": 10,
   "id": "c3256b07",
   "metadata": {},
   "outputs": [
    {
     "name": "stdout",
     "output_type": "stream",
     "text": [
      "{'Emp1': {'name': 'Sara', 'Dept': 'IT', 'Designation': 'Team Lead'}, 'Emp2': {'name': 'Anna', 'Dept': 'IT', 'Designation': 'Senior software engineer'}, 'Emp3': {'name': 'Andy', 'Dept': 'Bio Tech', 'Designation': 'Senior software engineer'}}\n"
     ]
    }
   ],
   "source": [
    "# TASK 10\n",
    "\n",
    "Employee={'Emp1': {'name':'Sara','Dept':'IT','Designation':'Team Lead'},\n",
    "          'Emp2': {'name':'Anna','Dept':'IT','Designation':'Senior software engineer'},\n",
    "          'Emp3': {'name':'Andy','Dept':'Bio Tech','Designation':'Senior software engineer'},\n",
    "          'Emp4': {'name':'Andy','Dept':'Bio Tech','Designation':'Senior software engineer'}}\n",
    "\n",
    "del Employee['Emp4']\n",
    "print(Employee)"
   ]
  }
 ],
 "metadata": {
  "kernelspec": {
   "display_name": "Python 3 (ipykernel)",
   "language": "python",
   "name": "python3"
  },
  "language_info": {
   "codemirror_mode": {
    "name": "ipython",
    "version": 3
   },
   "file_extension": ".py",
   "mimetype": "text/x-python",
   "name": "python",
   "nbconvert_exporter": "python",
   "pygments_lexer": "ipython3",
   "version": "3.9.7"
  }
 },
 "nbformat": 4,
 "nbformat_minor": 5
}

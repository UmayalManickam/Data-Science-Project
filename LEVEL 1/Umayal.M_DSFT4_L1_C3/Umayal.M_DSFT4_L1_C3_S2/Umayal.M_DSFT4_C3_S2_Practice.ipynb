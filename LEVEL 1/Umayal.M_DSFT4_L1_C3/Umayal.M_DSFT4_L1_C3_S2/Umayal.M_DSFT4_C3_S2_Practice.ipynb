{
 "cells": [
  {
   "cell_type": "code",
   "execution_count": 1,
   "id": "43dfead9",
   "metadata": {},
   "outputs": [
    {
     "name": "stdout",
     "output_type": "stream",
     "text": [
      "Enter a character: C\n",
      "Excel\n"
     ]
    }
   ],
   "source": [
    "# TASK 1\n",
    "Input=input('Enter a character: ')\n",
    "if Input=='A':\n",
    "    print('Python')\n",
    "elif Input=='B':\n",
    "    print('MySQL')\n",
    "elif Input=='C':\n",
    "    print('Excel')\n",
    "else:\n",
    "    print('Holiday')\n"
   ]
  },
  {
   "cell_type": "code",
   "execution_count": 2,
   "id": "79953566",
   "metadata": {},
   "outputs": [
    {
     "name": "stdout",
     "output_type": "stream",
     "text": [
      "Enter the first value: 150\n",
      "Enter the second value: 175\n",
      "175\n"
     ]
    }
   ],
   "source": [
    "# TASK 2\n",
    "Value1=int(input('Enter the first value: '))\n",
    "Value2=int(input('Enter the second value: '))\n",
    "if Value1>Value2:\n",
    "    print(Value1)\n",
    "else:\n",
    "    print(Value2)"
   ]
  },
  {
   "cell_type": "code",
   "execution_count": 3,
   "id": "1f7ecc1c",
   "metadata": {},
   "outputs": [
    {
     "name": "stdout",
     "output_type": "stream",
     "text": [
      "Enter your basic salary: 20000\n",
      "Net Income after deduction:  24000.0\n"
     ]
    }
   ],
   "source": [
    "# TASK 3\n",
    "Basic_salary=int(input('Enter your basic salary: '))\n",
    "if Basic_salary==0 and Basic_salary<=4000:\n",
    "    HRA=Basic_salary*0.1\n",
    "    DA=Basic_salary*0.05\n",
    "    Net_income=Basic_salary+HRA+DA\n",
    "    print('Net Income after deduction: ',Net_income)\n",
    "elif Basic_salary>4000 and Basic_salary<=10000:\n",
    "    HRA=Basic_salary*0.2\n",
    "    DA=Basic_salary*0.1\n",
    "    Tax=Basic_salary*0.15\n",
    "    Net_income=Basic_salary+HRA+DA-Tax\n",
    "    print('Net Income after deduction: ',Net_income)\n",
    "else:\n",
    "    HRA=Basic_salary*0.25\n",
    "    DA=Basic_salary*0.15\n",
    "    Tax=Basic_salary*0.20\n",
    "    Net_income=Basic_salary+HRA+DA-Tax\n",
    "    print('Net Income after deduction: ',Net_income)"
   ]
  },
  {
   "cell_type": "code",
   "execution_count": 4,
   "id": "359971a2",
   "metadata": {},
   "outputs": [
    {
     "name": "stdout",
     "output_type": "stream",
     "text": [
      "Enter a word: code\n",
      "The word exists in variable var\n"
     ]
    }
   ],
   "source": [
    "# TASK 4\n",
    "var='Python is an interpreted high-level general-purpose programming language.Its design philosophy emphasizes code readability with its use of significant indentation.Its language constructs as well as its object-oriented approach aim to help programmers write clear,logical code fro small and large-scale projects'\n",
    "Input=input('Enter a word: ')\n",
    "if Input in var:\n",
    "    print('The word exists in variable var')\n",
    "else:\n",
    "    print('The word not exists in variable var')"
   ]
  },
  {
   "cell_type": "code",
   "execution_count": 5,
   "id": "7a7e5265",
   "metadata": {},
   "outputs": [
    {
     "name": "stdout",
     "output_type": "stream",
     "text": [
      "Enter a character: P\n",
      "Upper Case\n"
     ]
    }
   ],
   "source": [
    "# TASK 6\n",
    "Input=input('Enter a character: ')\n",
    "if Input==Input.upper():\n",
    "    print('Upper Case')\n",
    "else:\n",
    "    print('Lower Case')\n"
   ]
  },
  {
   "cell_type": "code",
   "execution_count": 6,
   "id": "66fd2d23",
   "metadata": {},
   "outputs": [
    {
     "name": "stdout",
     "output_type": "stream",
     "text": [
      "Enter a character: U\n",
      "VOWEL\n"
     ]
    }
   ],
   "source": [
    "# TASK 7\n",
    "Input=input('Enter a character: ')\n",
    "Lower=('a','e','i','o','u')\n",
    "Upper=('A','E','I','O','U')\n",
    "if Input in Lower or Input in Upper:\n",
    "    print('VOWEL')\n",
    "else:\n",
    "    print('CONSONANT')"
   ]
  },
  {
   "cell_type": "code",
   "execution_count": 7,
   "id": "4e915734",
   "metadata": {},
   "outputs": [
    {
     "name": "stdout",
     "output_type": "stream",
     "text": [
      "Enter an integer: 2022\n",
      "Not a leap year\n"
     ]
    }
   ],
   "source": [
    "# TASK 8\n",
    "Input=int(input('Enter an integer: '))\n",
    "if Input%4==0:\n",
    "    print('It is a Leap year')\n",
    "else:\n",
    "    print('Not a leap year')"
   ]
  },
  {
   "cell_type": "code",
   "execution_count": 8,
   "id": "f6f932b2",
   "metadata": {},
   "outputs": [
    {
     "name": "stdout",
     "output_type": "stream",
     "text": [
      "Enter a number: 6\n",
      "Month is June\n",
      "There are 30 days\n"
     ]
    }
   ],
   "source": [
    "# TASK 9\n",
    "Input=int(input('Enter a number: '))\n",
    "if Input==1:\n",
    "    print('Month is January'+'\\nThere are 31 days')\n",
    "elif Input==2:\n",
    "    print('Month is February'+'\\nThere are 28 days')\n",
    "elif Input==3:\n",
    "    print('Month is March'+'\\nThere are 31 days')\n",
    "elif Input==4:\n",
    "    print('Month is April'+'\\nThere are 30 days')\n",
    "elif Input==5:\n",
    "    print('Month is May'+'\\nThere are 31 days')\n",
    "elif Input==6:\n",
    "    print('Month is June'+'\\nThere are 30 days')\n",
    "elif Input==7:\n",
    "    print('Month is July'+'\\nThere are 31 days')\n",
    "elif Input==8:\n",
    "    print('Month is August'+'\\nThere are 31 days')\n",
    "elif Input==9:\n",
    "    print('Month is September'+'\\nThere are 30 days')\n",
    "elif Input==10:\n",
    "    print('Month is October'+'\\nThere are 31 days')\n",
    "elif Input==11:\n",
    "    print('Month is November'+'\\nThere are 30 days')\n",
    "elif Input==12:\n",
    "    print('Month is December'+'\\nThere are 31 days')\n",
    "else:\n",
    "    print('Enter any number between 1 to 12')\n",
    "    "
   ]
  },
  {
   "cell_type": "code",
   "execution_count": 17,
   "id": "a83b1c90",
   "metadata": {},
   "outputs": [
    {
     "name": "stdout",
     "output_type": "stream",
     "text": [
      "Enter your gender: F\n",
      "Enter your age: 25\n",
      "20% DISCOUNT\n"
     ]
    }
   ],
   "source": [
    "# TASK 10\n",
    "Gender=input('Enter your gender: ')\n",
    "if Gender=='m' or Gender=='M':\n",
    "    print('NO DISCOUNT')\n",
    "elif Gender=='f' or Gender=='F':\n",
    "    Age=int(input('Enter your age: '))\n",
    "    if Age<=20:\n",
    "        print('10% DISCOUNT')\n",
    "    elif Age>20 and Age<=30:\n",
    "        print('20% DISCOUNT')\n",
    "    else:\n",
    "        print('30% DISCOUNT')\n",
    "else:\n",
    "    print('NOT APPLICABLE')\n",
    "\n"
   ]
  }
 ],
 "metadata": {
  "kernelspec": {
   "display_name": "Python 3 (ipykernel)",
   "language": "python",
   "name": "python3"
  },
  "language_info": {
   "codemirror_mode": {
    "name": "ipython",
    "version": 3
   },
   "file_extension": ".py",
   "mimetype": "text/x-python",
   "name": "python",
   "nbconvert_exporter": "python",
   "pygments_lexer": "ipython3",
   "version": "3.9.7"
  }
 },
 "nbformat": 4,
 "nbformat_minor": 5
}

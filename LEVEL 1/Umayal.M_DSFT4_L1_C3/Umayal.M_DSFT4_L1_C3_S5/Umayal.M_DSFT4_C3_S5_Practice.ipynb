{
 "cells": [
  {
   "cell_type": "code",
   "execution_count": 1,
   "id": "e01534dc",
   "metadata": {},
   "outputs": [
    {
     "name": "stdout",
     "output_type": "stream",
     "text": [
      "Enter a string: APPLE\n",
      "NOT A PALINDROME\n"
     ]
    }
   ],
   "source": [
    "# TASK 1\n",
    "\n",
    "def string(x):\n",
    "    a=x[::-1]\n",
    "    check(x,a)\n",
    "\n",
    "def check(x,a):\n",
    "    if(x==a):\n",
    "        print('PALINDROME')\n",
    "    else:\n",
    "        print('NOT A PALINDROME')\n",
    "        \n",
    "x=input('Enter a string: ')\n",
    "string(x)\n"
   ]
  },
  {
   "cell_type": "code",
   "execution_count": 2,
   "id": "a6efd239",
   "metadata": {},
   "outputs": [
    {
     "name": "stdout",
     "output_type": "stream",
     "text": [
      "Enter a Sentence: i love apple\n",
      "apple i love "
     ]
    }
   ],
   "source": [
    "# TASK 2\n",
    "\n",
    "def sort(Y):\n",
    "    char=Y.split()\n",
    "    char.sort()\n",
    "    for i in char:\n",
    "        print(i,end=' ')  \n",
    "        \n",
    "Y=input('Enter a Sentence: ')\n",
    "sort(Y)"
   ]
  },
  {
   "cell_type": "code",
   "execution_count": 3,
   "id": "7064ad37",
   "metadata": {},
   "outputs": [
    {
     "name": "stdout",
     "output_type": "stream",
     "text": [
      "APPLE\n"
     ]
    }
   ],
   "source": [
    "# TASK 3\n",
    "\n",
    "def combine(L):\n",
    "    string=''.join(L)\n",
    "    print(string)  \n",
    "L=['A','P','P','L','E']\n",
    "combine(L)   "
   ]
  },
  {
   "cell_type": "code",
   "execution_count": 4,
   "id": "c5ec4481",
   "metadata": {},
   "outputs": [
    {
     "name": "stdout",
     "output_type": "stream",
     "text": [
      "Enter the range5\n",
      "Enter the number: 5\n",
      "Enter the number: 9\n",
      "Enter the number: 6\n",
      "Enter the number: 4\n",
      "Enter the number: 7\n",
      "The minimum value is: 4\n",
      "The maximum value is: 9\n"
     ]
    }
   ],
   "source": [
    "# TASK 4\n",
    "\n",
    "def ls(N):\n",
    "    print('The minimum value is:',min(N))\n",
    "    print('The maximum value is:',max(N))\n",
    "    \n",
    "N=[]\n",
    "n=int(input('Enter the range'))\n",
    "for i in range (0,n):\n",
    "    m=int(input('Enter the number: '))\n",
    "    N.append(m)\n",
    "ls(N)\n",
    "    "
   ]
  },
  {
   "cell_type": "code",
   "execution_count": 5,
   "id": "de87f768",
   "metadata": {},
   "outputs": [
    {
     "name": "stdout",
     "output_type": "stream",
     "text": [
      "The minimum value is: 29\n",
      "The maximum value is: 49.89\n"
     ]
    }
   ],
   "source": [
    "# TASK 5\n",
    "\n",
    "def ls(item_values):\n",
    "    print('The minimum value is:',min(item_values))\n",
    "    print('The maximum value is:',max(item_values))\n",
    "    \n",
    "\n",
    "item={'item1':45.50,'item2':35,'item3':41.30,'item4':29,'item5':49.89}\n",
    "item_values=item.values()\n",
    "ls(item_values)    "
   ]
  },
  {
   "cell_type": "code",
   "execution_count": 6,
   "id": "bfb82eb4",
   "metadata": {},
   "outputs": [
    {
     "name": "stdout",
     "output_type": "stream",
     "text": [
      "Enter your name: Umayal\n",
      "Enter your age: 21\n",
      "Enter your genderFemale\n",
      "PROFILE CARD: \n",
      "Name:  Umayal\n",
      "Age:  21\n",
      "Gender:  Female\n"
     ]
    }
   ],
   "source": [
    "# TASK 6\n",
    "\n",
    " \n",
    "def card():\n",
    "    call=func()\n",
    "    print('PROFILE CARD: ')\n",
    "    print('Name: ',call[0])\n",
    "    print('Age: ',call[1])\n",
    "    print('Gender: ',call[2])\n",
    "def func():\n",
    "    NAME=input('Enter your name: ')\n",
    "    AGE=input('Enter your age: ')\n",
    "    GENDER=input('Enter your gender')\n",
    "    return NAME,AGE,GENDER\n",
    "\n",
    "card()"
   ]
  },
  {
   "cell_type": "code",
   "execution_count": 11,
   "id": "0c0fecb9",
   "metadata": {},
   "outputs": [
    {
     "name": "stdout",
     "output_type": "stream",
     "text": [
      "Enter the first number: 3\n",
      "Enter the second number: 5\n",
      "45\n"
     ]
    }
   ],
   "source": [
    "# TASK 7\n",
    "\n",
    "def outer(int1):\n",
    "    def inner(int2):\n",
    "        return int1**2*int2\n",
    "    return inner\n",
    "\n",
    "int1=int(input('Enter the first number: '))\n",
    "int2=int(input('Enter the second number: '))\n",
    "O=outer(int1)\n",
    "print(O(int2))"
   ]
  },
  {
   "cell_type": "code",
   "execution_count": 8,
   "id": "dd56c9ab",
   "metadata": {},
   "outputs": [
    {
     "name": "stdout",
     "output_type": "stream",
     "text": [
      "[('green', 1), ('blue', 2), ('yellow', 3), ('black', 4), ('red', 5)]\n"
     ]
    }
   ],
   "source": [
    "# TASK 8\n",
    "\n",
    "def Sort(color):\n",
    "    color.sort(key=lambda x:x[1])\n",
    "    print(color)\n",
    "    \n",
    "color=[('black',4),('green',1),('red',5),('blue',2),('yellow',3)]\n",
    "Sort(color)"
   ]
  },
  {
   "cell_type": "code",
   "execution_count": 9,
   "id": "6d5be20c",
   "metadata": {},
   "outputs": [
    {
     "name": "stdout",
     "output_type": "stream",
     "text": [
      "Intersection of a and b is: ['Mandy']\n"
     ]
    }
   ],
   "source": [
    "# TASK 9\n",
    "\n",
    "a=['Andy','Mandy','Sandy']\n",
    "b=['Handy','Brandy','Mandy']\n",
    "Intersection=list(filter(lambda x:x in a,b))\n",
    "print('Intersection of a and b is:',Intersection)"
   ]
  },
  {
   "cell_type": "code",
   "execution_count": 10,
   "id": "7c830a35",
   "metadata": {},
   "outputs": [
    {
     "name": "stdout",
     "output_type": "stream",
     "text": [
      "Addition of two list: [29, 29, 29]\n"
     ]
    }
   ],
   "source": [
    "# TASK 10\n",
    "\n",
    "c=[12,13,14]\n",
    "d=[17,16,15]\n",
    "Add=map(lambda i,j: i+j,c,d)\n",
    "print('Addition of two list:',list(Add))"
   ]
  }
 ],
 "metadata": {
  "kernelspec": {
   "display_name": "Python 3 (ipykernel)",
   "language": "python",
   "name": "python3"
  },
  "language_info": {
   "codemirror_mode": {
    "name": "ipython",
    "version": 3
   },
   "file_extension": ".py",
   "mimetype": "text/x-python",
   "name": "python",
   "nbconvert_exporter": "python",
   "pygments_lexer": "ipython3",
   "version": "3.9.7"
  }
 },
 "nbformat": 4,
 "nbformat_minor": 5
}

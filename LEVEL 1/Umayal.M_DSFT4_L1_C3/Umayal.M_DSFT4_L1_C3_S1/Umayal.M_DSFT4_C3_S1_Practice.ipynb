{
 "cells": [
  {
   "cell_type": "code",
   "execution_count": 1,
   "id": "00b5e472",
   "metadata": {},
   "outputs": [
    {
     "name": "stdout",
     "output_type": "stream",
     "text": [
      "1716148\n",
      "1924184975472\n",
      "<class 'int'>\n"
     ]
    }
   ],
   "source": [
    "# TASK 1.A\n",
    "Roll_no=1716148\n",
    "print(Roll_no)\n",
    "print(id(Roll_no))\n",
    "print(type(Roll_no))"
   ]
  },
  {
   "cell_type": "code",
   "execution_count": 2,
   "id": "895f15b2",
   "metadata": {},
   "outputs": [
    {
     "name": "stdout",
     "output_type": "stream",
     "text": [
      "Umayal\n",
      "1924184220464\n",
      "<class 'str'>\n"
     ]
    }
   ],
   "source": [
    "# TASK 1.B\n",
    "First_name='Umayal'\n",
    "print(First_name)\n",
    "print(id(First_name))\n",
    "print(type(First_name))"
   ]
  },
  {
   "cell_type": "code",
   "execution_count": 3,
   "id": "df551d2d",
   "metadata": {},
   "outputs": [
    {
     "name": "stdout",
     "output_type": "stream",
     "text": [
      "Manickam\n",
      "1924184786416\n",
      "<class 'str'>\n"
     ]
    }
   ],
   "source": [
    "# TASK 1.C\n",
    "Last_name='Manickam'\n",
    "print(Last_name)\n",
    "print(id(Last_name))\n",
    "print(type(Last_name))"
   ]
  },
  {
   "cell_type": "code",
   "execution_count": 4,
   "id": "28b98ee0",
   "metadata": {},
   "outputs": [
    {
     "name": "stdout",
     "output_type": "stream",
     "text": [
      "50\n",
      "1926269005648\n",
      "<class 'int'>\n"
     ]
    }
   ],
   "source": [
    "# TASK 1.D\n",
    "Max_marks=50\n",
    "print(Max_marks)\n",
    "print(id(Max_marks))\n",
    "print(type(Max_marks))"
   ]
  },
  {
   "cell_type": "code",
   "execution_count": 25,
   "id": "dbf46e47",
   "metadata": {},
   "outputs": [],
   "source": [
    "# TASK 2.A \n",
    "var1=2"
   ]
  },
  {
   "cell_type": "code",
   "execution_count": 26,
   "id": "1a876d13",
   "metadata": {},
   "outputs": [
    {
     "ename": "SyntaxError",
     "evalue": "invalid syntax (Temp/ipykernel_8336/3638817649.py, line 2)",
     "output_type": "error",
     "traceback": [
      "\u001b[1;36m  File \u001b[1;32m\"C:\\Users\\Admin\\AppData\\Local\\Temp/ipykernel_8336/3638817649.py\"\u001b[1;36m, line \u001b[1;32m2\u001b[0m\n\u001b[1;33m    2var=2\u001b[0m\n\u001b[1;37m     ^\u001b[0m\n\u001b[1;31mSyntaxError\u001b[0m\u001b[1;31m:\u001b[0m invalid syntax\n"
     ]
    }
   ],
   "source": [
    "# TASK 2.B This code will give error,because variable name should not start with number.\n",
    "2var=2"
   ]
  },
  {
   "cell_type": "code",
   "execution_count": 27,
   "id": "9d630267",
   "metadata": {},
   "outputs": [
    {
     "ename": "SyntaxError",
     "evalue": "invalid syntax (Temp/ipykernel_8336/2289351400.py, line 2)",
     "output_type": "error",
     "traceback": [
      "\u001b[1;36m  File \u001b[1;32m\"C:\\Users\\Admin\\AppData\\Local\\Temp/ipykernel_8336/2289351400.py\"\u001b[1;36m, line \u001b[1;32m2\u001b[0m\n\u001b[1;33m    var 1=2\u001b[0m\n\u001b[1;37m        ^\u001b[0m\n\u001b[1;31mSyntaxError\u001b[0m\u001b[1;31m:\u001b[0m invalid syntax\n"
     ]
    }
   ],
   "source": [
    "# TASK 2.C This code will give error,because variable name should not contain space.\n",
    "var 1=2"
   ]
  },
  {
   "cell_type": "code",
   "execution_count": 28,
   "id": "3e91cf33",
   "metadata": {},
   "outputs": [
    {
     "ename": "SyntaxError",
     "evalue": "invalid syntax (Temp/ipykernel_8336/216189351.py, line 2)",
     "output_type": "error",
     "traceback": [
      "\u001b[1;36m  File \u001b[1;32m\"C:\\Users\\Admin\\AppData\\Local\\Temp/ipykernel_8336/216189351.py\"\u001b[1;36m, line \u001b[1;32m2\u001b[0m\n\u001b[1;33m    var$2=2\u001b[0m\n\u001b[1;37m       ^\u001b[0m\n\u001b[1;31mSyntaxError\u001b[0m\u001b[1;31m:\u001b[0m invalid syntax\n"
     ]
    }
   ],
   "source": [
    "# TASK 2.D This code will give error,because variable name should not contain special character except underscore(_).\n",
    "var$2=2"
   ]
  },
  {
   "cell_type": "code",
   "execution_count": 29,
   "id": "9a7ed50f",
   "metadata": {},
   "outputs": [],
   "source": [
    "# TASK 3.A\n",
    "Class=15"
   ]
  },
  {
   "cell_type": "code",
   "execution_count": 30,
   "id": "ad29928e",
   "metadata": {},
   "outputs": [
    {
     "ename": "SyntaxError",
     "evalue": "invalid syntax (Temp/ipykernel_8336/3305763128.py, line 2)",
     "output_type": "error",
     "traceback": [
      "\u001b[1;36m  File \u001b[1;32m\"C:\\Users\\Admin\\AppData\\Local\\Temp/ipykernel_8336/3305763128.py\"\u001b[1;36m, line \u001b[1;32m2\u001b[0m\n\u001b[1;33m    class=14\u001b[0m\n\u001b[1;37m         ^\u001b[0m\n\u001b[1;31mSyntaxError\u001b[0m\u001b[1;31m:\u001b[0m invalid syntax\n"
     ]
    }
   ],
   "source": [
    "#TASK 3.B class is a keyword here,so it cannot be used as a variable.\n",
    "class=14"
   ]
  },
  {
   "cell_type": "code",
   "execution_count": 31,
   "id": "8cead641",
   "metadata": {},
   "outputs": [],
   "source": [
    "#TASK 3.C \n",
    "DEF=13"
   ]
  },
  {
   "cell_type": "code",
   "execution_count": 32,
   "id": "6fbfb013",
   "metadata": {},
   "outputs": [
    {
     "ename": "SyntaxError",
     "evalue": "invalid syntax (Temp/ipykernel_8336/259729623.py, line 2)",
     "output_type": "error",
     "traceback": [
      "\u001b[1;36m  File \u001b[1;32m\"C:\\Users\\Admin\\AppData\\Local\\Temp/ipykernel_8336/259729623.py\"\u001b[1;36m, line \u001b[1;32m2\u001b[0m\n\u001b[1;33m    def=12\u001b[0m\n\u001b[1;37m       ^\u001b[0m\n\u001b[1;31mSyntaxError\u001b[0m\u001b[1;31m:\u001b[0m invalid syntax\n"
     ]
    }
   ],
   "source": [
    "#TASK 3.D def is a keyword here,so it cannot be used as a variable.\n",
    "def=12"
   ]
  },
  {
   "cell_type": "code",
   "execution_count": 3,
   "id": "121b0028",
   "metadata": {},
   "outputs": [
    {
     "ename": "NameError",
     "evalue": "name 'TRUE' is not defined",
     "output_type": "error",
     "traceback": [
      "\u001b[1;31m---------------------------------------------------------------------------\u001b[0m",
      "\u001b[1;31mNameError\u001b[0m                                 Traceback (most recent call last)",
      "\u001b[1;32m~\\AppData\\Local\\Temp/ipykernel_10784/1765718465.py\u001b[0m in \u001b[0;36m<module>\u001b[1;34m\u001b[0m\n\u001b[0;32m      1\u001b[0m \u001b[1;31m#TASK 3.E\u001b[0m\u001b[1;33m\u001b[0m\u001b[1;33m\u001b[0m\u001b[0m\n\u001b[1;32m----> 2\u001b[1;33m \u001b[0ma\u001b[0m\u001b[1;33m=\u001b[0m\u001b[0mTRUE\u001b[0m\u001b[1;33m\u001b[0m\u001b[1;33m\u001b[0m\u001b[0m\n\u001b[0m",
      "\u001b[1;31mNameError\u001b[0m: name 'TRUE' is not defined"
     ]
    }
   ],
   "source": [
    "#TASK 3.E Only True as boolean can be used and there cannot be any variable.\n",
    "a=TRUE"
   ]
  },
  {
   "cell_type": "code",
   "execution_count": 34,
   "id": "f3335196",
   "metadata": {},
   "outputs": [
    {
     "ename": "NameError",
     "evalue": "name 'false' is not defined",
     "output_type": "error",
     "traceback": [
      "\u001b[1;31m---------------------------------------------------------------------------\u001b[0m",
      "\u001b[1;31mNameError\u001b[0m                                 Traceback (most recent call last)",
      "\u001b[1;32m~\\AppData\\Local\\Temp/ipykernel_8336/1201762047.py\u001b[0m in \u001b[0;36m<module>\u001b[1;34m\u001b[0m\n\u001b[0;32m      1\u001b[0m \u001b[1;31m#TASK 3.F\u001b[0m\u001b[1;33m\u001b[0m\u001b[1;33m\u001b[0m\u001b[0m\n\u001b[1;32m----> 2\u001b[1;33m \u001b[0mb\u001b[0m\u001b[1;33m=\u001b[0m\u001b[0mfalse\u001b[0m\u001b[1;33m\u001b[0m\u001b[1;33m\u001b[0m\u001b[0m\n\u001b[0m",
      "\u001b[1;31mNameError\u001b[0m: name 'false' is not defined"
     ]
    }
   ],
   "source": [
    "#TASK 3.F Only False as boolean can be used and there cannot be any variable.\n",
    "b=false"
   ]
  },
  {
   "cell_type": "code",
   "execution_count": 5,
   "id": "238272e7",
   "metadata": {},
   "outputs": [
    {
     "name": "stdout",
     "output_type": "stream",
     "text": [
      "45.55\n",
      "1924184973392\n",
      "<class 'float'>\n"
     ]
    }
   ],
   "source": [
    "# TASK 4.A\n",
    "Marks=45.55\n",
    "print(Marks)\n",
    "print(id(Marks))\n",
    "print(type(Marks))"
   ]
  },
  {
   "cell_type": "code",
   "execution_count": 6,
   "id": "70bbc1c4",
   "metadata": {},
   "outputs": [
    {
     "name": "stdout",
     "output_type": "stream",
     "text": [
      "25.89\n",
      "1924184619920\n",
      "<class 'float'>\n"
     ]
    }
   ],
   "source": [
    "# TASK 4.B\n",
    "Marks=25.89\n",
    "print(Marks)\n",
    "print(id(Marks))\n",
    "print(type(Marks))"
   ]
  },
  {
   "cell_type": "code",
   "execution_count": 7,
   "id": "49c88530",
   "metadata": {},
   "outputs": [],
   "source": [
    "# TASK 4.C\n",
    "# ID is not same,as it is unique for each assigned variable."
   ]
  },
  {
   "cell_type": "code",
   "execution_count": 68,
   "id": "b545609f",
   "metadata": {},
   "outputs": [
    {
     "name": "stdout",
     "output_type": "stream",
     "text": [
      "97.5 %\n"
     ]
    }
   ],
   "source": [
    "# TASK 5.A\n",
    "Marks=117\n",
    "Max_marks=120\n",
    "Percentage=(Marks/Max_marks)*100\n",
    "print(Percentage,'%')"
   ]
  },
  {
   "cell_type": "code",
   "execution_count": 36,
   "id": "15a18956",
   "metadata": {},
   "outputs": [
    {
     "name": "stdout",
     "output_type": "stream",
     "text": [
      "Umayal Manickam\n"
     ]
    }
   ],
   "source": [
    "# TASK 5.B\n",
    "First_name='Umayal'\n",
    "Last_name=' Manickam'\n",
    "Full_name=First_name+Last_name\n",
    "print(Full_name)"
   ]
  },
  {
   "cell_type": "code",
   "execution_count": 69,
   "id": "20444e58",
   "metadata": {},
   "outputs": [
    {
     "name": "stdout",
     "output_type": "stream",
     "text": [
      "Umayal Manickam 97.5 %\n"
     ]
    }
   ],
   "source": [
    "# TASK 5.C\n",
    "print(Full_name,Percentage,\"%\")"
   ]
  },
  {
   "cell_type": "code",
   "execution_count": 12,
   "id": "442e2ef3",
   "metadata": {
    "scrolled": false
   },
   "outputs": [
    {
     "ename": "TypeError",
     "evalue": "unsupported operand type(s) for +: 'int' and 'str'",
     "output_type": "error",
     "traceback": [
      "\u001b[1;31m---------------------------------------------------------------------------\u001b[0m",
      "\u001b[1;31mTypeError\u001b[0m                                 Traceback (most recent call last)",
      "\u001b[1;32m~\\AppData\\Local\\Temp/ipykernel_8336/1156707558.py\u001b[0m in \u001b[0;36m<module>\u001b[1;34m\u001b[0m\n\u001b[1;32m----> 1\u001b[1;33m \u001b[1;36m1\u001b[0m\u001b[1;33m+\u001b[0m\u001b[1;34m'2'\u001b[0m\u001b[1;33m\u001b[0m\u001b[1;33m\u001b[0m\u001b[0m\n\u001b[0m",
      "\u001b[1;31mTypeError\u001b[0m: unsupported operand type(s) for +: 'int' and 'str'"
     ]
    }
   ],
   "source": [
    "# TASK 7.A Different data type of variable cannot be added,as we have int and string data types here.So,addition is not possible.\n",
    "1+'2'"
   ]
  },
  {
   "cell_type": "code",
   "execution_count": 42,
   "id": "ce4d40c1",
   "metadata": {},
   "outputs": [
    {
     "data": {
      "text/plain": [
       "'12'"
      ]
     },
     "execution_count": 42,
     "metadata": {},
     "output_type": "execute_result"
    }
   ],
   "source": [
    "# TASK 7.B Addition between same data type(string) is possible, and here string concatenation takes place.\n",
    "'1'+'2'"
   ]
  },
  {
   "cell_type": "code",
   "execution_count": 43,
   "id": "5d77c19b",
   "metadata": {},
   "outputs": [
    {
     "data": {
      "text/plain": [
       "0.5"
      ]
     },
     "execution_count": 43,
     "metadata": {},
     "output_type": "execute_result"
    }
   ],
   "source": [
    "# TASK 7.C Division operator gives the quotient.\n",
    "1/2"
   ]
  },
  {
   "cell_type": "code",
   "execution_count": 44,
   "id": "20f359f5",
   "metadata": {},
   "outputs": [
    {
     "data": {
      "text/plain": [
       "0"
      ]
     },
     "execution_count": 44,
     "metadata": {},
     "output_type": "execute_result"
    }
   ],
   "source": [
    "# TASK 7.D Floor division opartor gives the integer part of the quotient. \n",
    "1//2"
   ]
  },
  {
   "cell_type": "code",
   "execution_count": 14,
   "id": "535cdfb4",
   "metadata": {},
   "outputs": [
    {
     "data": {
      "text/plain": [
       "True"
      ]
     },
     "execution_count": 14,
     "metadata": {},
     "output_type": "execute_result"
    }
   ],
   "source": [
    "# TASK 8.A When both are True the output is True in AND operator.\n",
    "True and True"
   ]
  },
  {
   "cell_type": "code",
   "execution_count": 45,
   "id": "6d634952",
   "metadata": {},
   "outputs": [
    {
     "data": {
      "text/plain": [
       "False"
      ]
     },
     "execution_count": 45,
     "metadata": {},
     "output_type": "execute_result"
    }
   ],
   "source": [
    "# TASK 8.B When one is False then output automatically gets False in AND operator.\n",
    "True and False"
   ]
  },
  {
   "cell_type": "code",
   "execution_count": 46,
   "id": "0d1c8e8f",
   "metadata": {},
   "outputs": [
    {
     "data": {
      "text/plain": [
       "True"
      ]
     },
     "execution_count": 46,
     "metadata": {},
     "output_type": "execute_result"
    }
   ],
   "source": [
    "# TASK 8.C When one is True then output automatically gets True in OR operator.\n",
    "False or True"
   ]
  },
  {
   "cell_type": "code",
   "execution_count": 47,
   "id": "60ab09c1",
   "metadata": {},
   "outputs": [
    {
     "data": {
      "text/plain": [
       "False"
      ]
     },
     "execution_count": 47,
     "metadata": {},
     "output_type": "execute_result"
    }
   ],
   "source": [
    "# TASK 8.D When one is False then output automatically gets False in OR operator.\n",
    "False or False"
   ]
  },
  {
   "cell_type": "code",
   "execution_count": 49,
   "id": "284f82b1",
   "metadata": {},
   "outputs": [
    {
     "name": "stdout",
     "output_type": "stream",
     "text": [
      "True\n"
     ]
    }
   ],
   "source": [
    "# TASK 9.A My first name is a part of my full name,so the output is true.\n",
    "First_name='Umayal'\n",
    "Full_name='Umayal Manickam'\n",
    "print(First_name in Full_name)"
   ]
  },
  {
   "cell_type": "code",
   "execution_count": 48,
   "id": "2e4c7975",
   "metadata": {},
   "outputs": [
    {
     "name": "stdout",
     "output_type": "stream",
     "text": [
      "True\n"
     ]
    }
   ],
   "source": [
    "# TASK 9.B My first name is same as my full name,so the output is true.\n",
    "First_name='Umayal'\n",
    "Full_name='Umayal'\n",
    "print(First_name is Full_name)"
   ]
  },
  {
   "cell_type": "code",
   "execution_count": 54,
   "id": "c697428b",
   "metadata": {},
   "outputs": [
    {
     "name": "stdout",
     "output_type": "stream",
     "text": [
      "d= 66\n",
      "e= 1024\n"
     ]
    }
   ],
   "source": [
    "# TASK 10\n",
    "a=4\n",
    "b=3\n",
    "c=2\n",
    "d=a**b+c\n",
    "e=a**(b+c)\n",
    "print('d=',d)\n",
    "print('e=',e)\n",
    "# d and e value are not same\n",
    "# d-the operator precedence is exponential,addition\n",
    "# e-the operator precedence is parentheses,addition,exponential."
   ]
  },
  {
   "cell_type": "code",
   "execution_count": 56,
   "id": "f21bfb77",
   "metadata": {},
   "outputs": [
    {
     "name": "stdout",
     "output_type": "stream",
     "text": [
      "AREA OF THE CIRCLE= 113.04\n"
     ]
    }
   ],
   "source": [
    "# TASK 11\n",
    "Radius=6\n",
    "Pi=3.14\n",
    "Area=Pi*Radius**2\n",
    "print('AREA OF THE CIRCLE=',Area)"
   ]
  },
  {
   "cell_type": "code",
   "execution_count": 63,
   "id": "4dc76213",
   "metadata": {},
   "outputs": [
    {
     "name": "stdout",
     "output_type": "stream",
     "text": [
      "TAX AMOUNT= 15.299999999999999\n",
      "FINAL PRICE= 100.3\n"
     ]
    }
   ],
   "source": [
    "# TASK 12\n",
    "Selling_price=85\n",
    "Sales_tax=0.18\n",
    "Tax_amount=Selling_price*Sales_tax\n",
    "print('TAX AMOUNT=',Tax_amount)\n",
    "Final_amount=Selling_price+Tax_amount\n",
    "print('FINAL PRICE=',Final_amount)"
   ]
  },
  {
   "cell_type": "code",
   "execution_count": 72,
   "id": "924caefd",
   "metadata": {},
   "outputs": [
    {
     "name": "stdout",
     "output_type": "stream",
     "text": [
      "Total amount=$ 44.44\n"
     ]
    }
   ],
   "source": [
    "# TASK 13\n",
    "Total_INR=3333\n",
    "dollar=75\n",
    "print('Total amount=$',Total_INR/dollar)\n"
   ]
  },
  {
   "cell_type": "code",
   "execution_count": 4,
   "id": "2a275dd1",
   "metadata": {},
   "outputs": [
    {
     "name": "stdout",
     "output_type": "stream",
     "text": [
      "Purchasing_power_Lastyear=$ 467.2897196261682\n"
     ]
    }
   ],
   "source": [
    "# TASK 14\n",
    "Purchasing_power=500\n",
    "Inflation_rate=0.07\n",
    "\n",
    "print('Purchasing_power_Lastyear=$',Purchasing_power/(1+Inflation_rate))\n"
   ]
  },
  {
   "cell_type": "code",
   "execution_count": 5,
   "id": "42f1a3cd",
   "metadata": {},
   "outputs": [
    {
     "data": {
      "text/plain": [
       "500.0"
      ]
     },
     "execution_count": 5,
     "metadata": {},
     "output_type": "execute_result"
    }
   ],
   "source": [
    "467.2897196261682*1.07"
   ]
  }
 ],
 "metadata": {
  "kernelspec": {
   "display_name": "Python 3 (ipykernel)",
   "language": "python",
   "name": "python3"
  },
  "language_info": {
   "codemirror_mode": {
    "name": "ipython",
    "version": 3
   },
   "file_extension": ".py",
   "mimetype": "text/x-python",
   "name": "python",
   "nbconvert_exporter": "python",
   "pygments_lexer": "ipython3",
   "version": "3.9.7"
  }
 },
 "nbformat": 4,
 "nbformat_minor": 5
}

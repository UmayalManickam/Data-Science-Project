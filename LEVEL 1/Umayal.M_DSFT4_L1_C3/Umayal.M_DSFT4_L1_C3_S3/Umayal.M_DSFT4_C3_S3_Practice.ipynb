{
 "cells": [
  {
   "cell_type": "code",
   "execution_count": 1,
   "id": "79b117f9",
   "metadata": {},
   "outputs": [
    {
     "data": {
      "text/plain": [
       "False"
      ]
     },
     "execution_count": 1,
     "metadata": {},
     "output_type": "execute_result"
    }
   ],
   "source": [
    "# TASK 1\n",
    "\n",
    "mynames=['Joe','Zoe','world','Brad','Angelina','world','Zuki','Tom','Paris','world','magic']\n",
    "'USA' in mynames"
   ]
  },
  {
   "cell_type": "code",
   "execution_count": 2,
   "id": "0066b4b3",
   "metadata": {},
   "outputs": [
    {
     "data": {
      "text/plain": [
       "3"
      ]
     },
     "execution_count": 2,
     "metadata": {},
     "output_type": "execute_result"
    }
   ],
   "source": [
    " # TASK 2\n",
    "mynames=['Joe','Zoe','world','Brad','Angelina','world','Zuki','Tom','Paris','world','magic']\n",
    "mynames.count('world')"
   ]
  },
  {
   "cell_type": "code",
   "execution_count": 3,
   "id": "bd5df6d4",
   "metadata": {},
   "outputs": [
    {
     "name": "stdout",
     "output_type": "stream",
     "text": [
      "DATASET=  [1, 2, 3, 4, 5, 6, 7, 8, 9, 10, 11, 12, 13, 14, 15, 16, 17, 18, 19, 20, 21, 22, 23, 24, 25, 26, 27, 28, 29]\n",
      "Total No.of.Even Numbers:  14\n",
      "Total No.of.Odd Numbers:  15\n"
     ]
    }
   ],
   "source": [
    "# TASK 3\n",
    "\n",
    "count_even=0\n",
    "count_odd=0\n",
    "dataset=list(range(1,30))\n",
    "print('DATASET= ',dataset)\n",
    "for x in dataset:\n",
    "    if(x%2==0):\n",
    "        count_even=count_even+1\n",
    "    else:\n",
    "        count_odd=count_odd+1\n",
    "        \n",
    "print('Total No.of.Even Numbers: ',count_even)        \n",
    "print('Total No.of.Odd Numbers: ',count_odd) \n",
    " "
   ]
  },
  {
   "cell_type": "code",
   "execution_count": 45,
   "id": "98b3835f",
   "metadata": {},
   "outputs": [
    {
     "name": "stdout",
     "output_type": "stream",
     "text": [
      "DATASET=  [1, 2, 3, 4, 5, 6, 7, 8, 9, 10, 11, 12, 13, 14, 15, 16, 17, 18, 19, 20, 21, 22, 23, 24, 25, 26, 27, 28, 29]\n",
      "The new list= [2, 4, 6, 8, 10]\n"
     ]
    }
   ],
   "source": [
    "# TASK 4\n",
    "\n",
    "el=[]\n",
    "count=0\n",
    "dataset=list(range(1,30))\n",
    "print('DATASET= ',dataset)\n",
    "for x in dataset:\n",
    "    if(x%2==0):\n",
    "        el.append(x)\n",
    "        count=count+1\n",
    "    if(count==5):\n",
    "        break\n",
    "\n",
    "print('The new list=',el)\n",
    "        "
   ]
  },
  {
   "cell_type": "code",
   "execution_count": 36,
   "id": "cfb1de7e",
   "metadata": {},
   "outputs": [
    {
     "name": "stdout",
     "output_type": "stream",
     "text": [
      "DATASET=  [1, 2, 3, 4, 5, 6, 7, 8, 9, 10, 11, 12, 13, 14, 15, 16, 17, 18, 19, 20, 21, 22, 23, 24, 25, 26, 27, 28, 29]\n",
      "Odd Numbers\n",
      "1 3 5 7 9 11 13 15 17 19 21 23 25 27 29 \n",
      "Last two odd numbers= [29, 27]\n"
     ]
    }
   ],
   "source": [
    "# TASK 5\n",
    "\n",
    "count=0\n",
    "dataset=list(range(1,30))\n",
    "print('DATASET= ',dataset)\n",
    "print('Odd Numbers')\n",
    "for x in dataset:\n",
    "        if(x%2!=0):\n",
    "            count=count+1\n",
    "            print(x,end=' ') \n",
    "print()            \n",
    "print('Last two odd numbers=',dataset[-1:-4:-2])\n",
    "\n",
    "\n",
    "\n",
    "    "
   ]
  },
  {
   "cell_type": "code",
   "execution_count": 14,
   "id": "f43f2024",
   "metadata": {},
   "outputs": [
    {
     "name": "stdout",
     "output_type": "stream",
     "text": [
      "Enter a number for List 1: 1\n",
      "Enter a number for List 2: 2\n",
      "Enter a number for List 1: 3\n",
      "Enter a number for List 2: 4\n",
      "Enter a number for List 1: 5\n",
      "Enter a number for List 2: 6\n",
      "Enter a number for List 1: 7\n",
      "Enter a number for List 2: 8\n",
      "Enter a number for List 1: 9\n",
      "Enter a number for List 2: 10\n",
      "Enter a stringUmayal\n",
      "Final List =  ['Umayal', 1, 3, 5, 7, 9, 2, 4, 6, 8, 10]\n"
     ]
    }
   ],
   "source": [
    "# TASK 6\n",
    "\n",
    "L1=[]\n",
    "L2=[]\n",
    "for x in range(5):\n",
    "    List1=int(input('Enter a number for List 1: '))\n",
    "    L1.append(List1)\n",
    "    List2=int(input('Enter a number for List 2: '))\n",
    "    L2.append(List2)\n",
    "L1.insert(0,input('Enter a string: '))\n",
    "print('Final List = ',L1+L2)\n"
   ]
  },
  {
   "cell_type": "code",
   "execution_count": 27,
   "id": "146f0ea8",
   "metadata": {},
   "outputs": [
    {
     "name": "stdout",
     "output_type": "stream",
     "text": [
      "FIRST TEN\n",
      "4 9 16 25 36 49 64 81 100 121 \n",
      "LAST TEN\n",
      "900 961 1024 1089 1156 1225 1296 1369 1444 1521 "
     ]
    }
   ],
   "source": [
    "# TASK 7\n",
    "print('FIRST TEN')\n",
    "for num in range(2,12):\n",
    "    x=num*num\n",
    "    print(x,end=' ')\n",
    "print()\n",
    "print('LAST TEN')\n",
    "for num in range(30,40):\n",
    "    x=num*num\n",
    "    print(x,end=' ')\n"
   ]
  },
  {
   "cell_type": "code",
   "execution_count": 10,
   "id": "aa2daa10",
   "metadata": {},
   "outputs": [
    {
     "name": "stdout",
     "output_type": "stream",
     "text": [
      "Enter a number: 5\n",
      "\n",
      "5 * 1 = 5\n",
      "5 * 2 = 10\n",
      "5 * 3 = 15\n",
      "5 * 4 = 20\n",
      "5 * 5 = 25\n",
      "5 * 6 = 30\n",
      "5 * 7 = 35\n",
      "5 * 8 = 40\n",
      "5 * 9 = 45\n",
      "5 * 10 = 50\n"
     ]
    }
   ],
   "source": [
    "# TASK 8\n",
    "\n",
    "N=int(input('Enter a number: '))\n",
    "print()\n",
    "for x in range(1,11):\n",
    "    print('%d * %d = %d' %(N,x,x*N))"
   ]
  }
 ],
 "metadata": {
  "kernelspec": {
   "display_name": "Python 3 (ipykernel)",
   "language": "python",
   "name": "python3"
  },
  "language_info": {
   "codemirror_mode": {
    "name": "ipython",
    "version": 3
   },
   "file_extension": ".py",
   "mimetype": "text/x-python",
   "name": "python",
   "nbconvert_exporter": "python",
   "pygments_lexer": "ipython3",
   "version": "3.9.7"
  }
 },
 "nbformat": 4,
 "nbformat_minor": 5
}

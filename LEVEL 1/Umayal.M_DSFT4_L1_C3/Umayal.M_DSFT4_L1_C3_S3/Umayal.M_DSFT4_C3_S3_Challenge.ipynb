{
 "cells": [
  {
   "cell_type": "code",
   "execution_count": 7,
   "id": "4f09e63e",
   "metadata": {},
   "outputs": [
    {
     "name": "stdout",
     "output_type": "stream",
     "text": [
      "Enter a word: Apple\n",
      "Enter a word: Boy\n",
      "Enter a word: Cat\n",
      "Enter a word: Dog\n",
      "Enter a word: Egg\n",
      "Enter a word: Fan\n",
      "Enter a word: Girl\n",
      "Enter a word: Hen\n",
      "Enter a word: Ice\n",
      "Enter a word: Jungle\n",
      "List= ['Apple', 'Boy', 'Cat', 'Dog', 'Egg', 'Fan', 'Girl', 'Hen', 'Ice', 'Jungle']\n",
      "Reverse of the list\n",
      "elppA yoB taC goD ggE naF lriG neH ecI elgnuJ "
     ]
    }
   ],
   "source": [
    "# TASK 1\n",
    "\n",
    "L=[]\n",
    "for x in range(10):\n",
    "    String=input('Enter a word: ')\n",
    "    L.append(String)\n",
    "print('List=',L)\n",
    "print('Reverse of the list')\n",
    "for x in L:\n",
    "    print(x[::-1],end=' ')"
   ]
  },
  {
   "cell_type": "code",
   "execution_count": 8,
   "id": "2d7aa761",
   "metadata": {},
   "outputs": [
    {
     "name": "stdout",
     "output_type": "stream",
     "text": [
      "Enter a word: Apple\n",
      "Enter a word: Boy\n",
      "Enter a word: Cat\n",
      "Enter a word: Dog\n",
      "Enter a word: Egg\n",
      "Enter a word: Fan\n",
      "Enter a word: Girl\n",
      "Enter a word: Hen\n",
      "Enter a word: Ice\n",
      "Enter a word: Jungle\n",
      "List= ['Apple', 'Boy', 'Cat', 'Dog', 'Egg', 'Fan', 'Girl', 'Hen', 'Ice', 'Jungle']\n",
      "Reverse of the list\n",
      "['Jungle', 'Ice', 'Hen', 'Girl', 'Fan', 'Egg', 'Dog', 'Cat', 'Boy', 'Apple']\n"
     ]
    }
   ],
   "source": [
    "# TASK 2\n",
    "\n",
    "L=[]\n",
    "for x in range(10):\n",
    "    String=input('Enter a word: ')\n",
    "    L.append(String)\n",
    "print('List=',L)\n",
    "print('Reverse of the list')\n",
    "L.reverse()\n",
    "print(L)"
   ]
  },
  {
   "cell_type": "code",
   "execution_count": 6,
   "id": "0147cb60",
   "metadata": {},
   "outputs": [
    {
     "name": "stdout",
     "output_type": "stream",
     "text": [
      "Enter a word: Apple\n",
      "Enter a word: Orange\n",
      "Enter a word: Apple\n",
      "Enter a word: Mango\n",
      "Enter a word: Cherry\n",
      "Enter a word: Cherry\n",
      "Enter a word: Guava\n",
      "Enter a word: Apple\n",
      "Enter a word: Mango\n",
      "Enter a word: Orange\n",
      "List= ['Apple', 'Orange', 'Apple', 'Mango', 'Cherry', 'Cherry', 'Guava', 'Apple', 'Mango', 'Orange']\n"
     ]
    }
   ],
   "source": [
    "# TASK 3\n",
    "\n",
    "alist=[]\n",
    "for x in range(10):\n",
    "    String=input('Enter a word: ')\n",
    "    alist.append(String)\n",
    "print('List=',alist)"
   ]
  },
  {
   "cell_type": "code",
   "execution_count": 31,
   "id": "1c272381",
   "metadata": {},
   "outputs": [
    {
     "name": "stdout",
     "output_type": "stream",
     "text": [
      "alist= ['Apple', 'Orange', 'Apple', 'Mango', 'Cherry', 'Cherry', 'Guava', 'Apple', 'Mango', 'Orange']\n",
      "blist= ['Apple', 'Orange', 'Mango', 'Cherry', 'Guava']\n"
     ]
    }
   ],
   "source": [
    "# TASK 4\n",
    "\n",
    "print('alist=',alist)\n",
    "blist=[]\n",
    "for x in alist:\n",
    "    if x in blist:\n",
    "        continue\n",
    "    else:\n",
    "        blist.append(x)\n",
    "            \n",
    "print('blist=',blist)"
   ]
  },
  {
   "cell_type": "code",
   "execution_count": 37,
   "id": "f6c0dd52",
   "metadata": {},
   "outputs": [
    {
     "name": "stdout",
     "output_type": "stream",
     "text": [
      "blist= ['Apple', 'Cherry', 'Guava', 'Mango', 'Orange']\n"
     ]
    }
   ],
   "source": [
    "# TASK 5\n",
    "\n",
    "blist.sort()\n",
    "print('blist=',blist)"
   ]
  },
  {
   "cell_type": "code",
   "execution_count": 47,
   "id": "b1f729f1",
   "metadata": {},
   "outputs": [
    {
     "name": "stdout",
     "output_type": "stream",
     "text": [
      "blist= []\n"
     ]
    }
   ],
   "source": [
    "# TASK 6\n",
    "\n",
    "n=len(blist)\n",
    "for i in range(n):\n",
    "    blist.pop()\n",
    "print('blist=',blist)"
   ]
  },
  {
   "cell_type": "code",
   "execution_count": 78,
   "id": "f84b693e",
   "metadata": {},
   "outputs": [
    {
     "name": "stdout",
     "output_type": "stream",
     "text": [
      "The numbers divisible by 7 and multipe of 5 are:\n",
      "[1505, 1540, 1575, 1610, 1645, 1680, 1715, 1750, 1785, 1820, 1855, 1890, 1925, 1960, 1995, 2030, 2065, 2100, 2135, 2170, 2205, 2240, 2275, 2310, 2345, 2380, 2415, 2450, 2485, 2520, 2555, 2590, 2625, 2660, 2695]\n",
      "\n",
      "Total count of the numbers: 35\n"
     ]
    }
   ],
   "source": [
    "# TASK 7\n",
    "\n",
    "L1=[]\n",
    "print('The numbers divisible by 7 and multipe of 5 are:')\n",
    "for i in range(1500,2701):\n",
    "    if i%7==0 and i%5==0 :\n",
    "        L1.append(i)\n",
    "print(L1)\n",
    "print()\n",
    "print('Total count of the numbers:',len(L1))"
   ]
  },
  {
   "cell_type": "code",
   "execution_count": 201,
   "id": "bc5d224e",
   "metadata": {},
   "outputs": [
    {
     "name": "stdout",
     "output_type": "stream",
     "text": [
      "Enter a number: 5\n",
      "The first 30 natural numbers are: \n",
      "1 2 3 4 6 7 8 9 11 12 13 14 16 17 18 19 21 22 23 24 26 27 28 29 "
     ]
    }
   ],
   "source": [
    "# TASK 8\n",
    "\n",
    "n=int(input('Enter a number: '))\n",
    "print('The first 30 natural numbers are: ')\n",
    "for i in range(1,31):\n",
    "    if(i%n!=0):\n",
    "        print(i,end=' ')"
   ]
  },
  {
   "cell_type": "code",
   "execution_count": 120,
   "id": "7b6b01a4",
   "metadata": {},
   "outputs": [
    {
     "name": "stdout",
     "output_type": "stream",
     "text": [
      "Third_list=\n",
      "[20, 20, 20] [20, 20, 20] [20, 20, 20] "
     ]
    }
   ],
   "source": [
    "# TASK 9\n",
    "\n",
    "X=[[1,2,3],[4,5,6],[7,8,9]]\n",
    "Y=[[19,18,17],[16,15,14],[13,12,11]]\n",
    "result = [[0,0,0],[0,0,0],[0,0,0]]\n",
    "for i in range(len(X)):  \n",
    "    for j in range(len(X[0])):\n",
    "        result[i][j] = X[i][j] + Y[i][j]\n",
    "print('Third_list=')\n",
    "for r in result:\n",
    "    print(r,end=' ')"
   ]
  },
  {
   "cell_type": "code",
   "execution_count": 49,
   "id": "820f9fc5",
   "metadata": {},
   "outputs": [
    {
     "name": "stdout",
     "output_type": "stream",
     "text": [
      "Enter the number of rows:3\n",
      "Enter the number of columns:3\n",
      "1\n",
      "2\n",
      "3\n",
      "4\n",
      "5\n",
      "6\n",
      "7\n",
      "8\n",
      "9\n",
      "First_list= [[1, 2, 3], [4, 5, 6], [7, 8, 9]]\n",
      "8\n",
      "9\n",
      "4\n",
      "3\n",
      "7\n",
      "5\n",
      "1\n",
      "6\n",
      "2\n",
      "Second_list= [[8, 9, 4], [3, 7, 5], [1, 6, 2]]\n"
     ]
    }
   ],
   "source": [
    "# TASK 10\n",
    "\n",
    "R = int(input(\"Enter the number of rows:\"))\n",
    "C = int(input(\"Enter the number of columns:\"))\n",
    "mat1 = [[int(input()) for x in range (C)] for y in range(R)]\n",
    "print('First_list=',mat1)\n",
    "mat2 = [[int(input()) for x in range (C)] for y in range(R)]\n",
    "\n",
    "print('Second_list=',mat2)"
   ]
  }
 ],
 "metadata": {
  "kernelspec": {
   "display_name": "Python 3 (ipykernel)",
   "language": "python",
   "name": "python3"
  },
  "language_info": {
   "codemirror_mode": {
    "name": "ipython",
    "version": 3
   },
   "file_extension": ".py",
   "mimetype": "text/x-python",
   "name": "python",
   "nbconvert_exporter": "python",
   "pygments_lexer": "ipython3",
   "version": "3.9.7"
  }
 },
 "nbformat": 4,
 "nbformat_minor": 5
}

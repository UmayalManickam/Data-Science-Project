{
 "cells": [
  {
   "cell_type": "code",
   "execution_count": 1,
   "id": "19bd397e",
   "metadata": {},
   "outputs": [],
   "source": [
    "import pandas as pd"
   ]
  },
  {
   "cell_type": "code",
   "execution_count": 160,
   "id": "5738f480",
   "metadata": {},
   "outputs": [
    {
     "name": "stdout",
     "output_type": "stream",
     "text": [
      "The Maths mark obtained by 10 students are:\n",
      "Alex       52\n",
      "Antony     86\n",
      "Thomas     99\n",
      "William    74\n",
      "Kevin      63\n",
      "Danny      50\n",
      "Sunny      49\n",
      "Martin     67\n",
      "Jacob      92\n",
      "Prince     87\n",
      "dtype: int64\n"
     ]
    }
   ],
   "source": [
    "# TASK 1\n",
    "Name=['Alex','Antony','Thomas','William','Kevin','Danny','Sunny','Martin','Jacob','Prince']\n",
    "Maths_mark=[52,86,99,74,63,50,49,67,92,87]\n",
    "S1=pd.Series(Maths_mark,index=Name)\n",
    "print('The Maths mark obtained by 10 students are:')\n",
    "print(S1)\n"
   ]
  },
  {
   "cell_type": "code",
   "execution_count": 161,
   "id": "bcbd9218",
   "metadata": {},
   "outputs": [
    {
     "name": "stdout",
     "output_type": "stream",
     "text": [
      "The Physics mark obtained by 10 students are:\n",
      "Alex       80\n",
      "Antony     59\n",
      "Thomas     88\n",
      "William    63\n",
      "Kevin      94\n",
      "Danny      77\n",
      "Sunny      64\n",
      "Martin     55\n",
      "Jacob      99\n",
      "Prince     89\n",
      "dtype: int64\n",
      "The total marks obtained by students are:\n",
      "Alex       132\n",
      "Antony     145\n",
      "Thomas     187\n",
      "William    137\n",
      "Kevin      157\n",
      "Danny      127\n",
      "Sunny      113\n",
      "Martin     122\n",
      "Jacob      191\n",
      "Prince     176\n",
      "dtype: int64\n",
      "The students qualifying for olympiad are:\n",
      "Thomas    187\n",
      "Kevin     157\n",
      "Jacob     191\n",
      "Prince    176\n",
      "dtype: int64\n"
     ]
    }
   ],
   "source": [
    "# TASK 2\n",
    "Physics_mark=[80,59,88,63,94,77,64,55,99,89]\n",
    "S2=pd.Series(Physics_mark,index=Name)\n",
    "print('The Physics mark obtained by 10 students are:')\n",
    "print(S2)\n",
    "Total_score=S1+S2\n",
    "print('The total marks obtained by students are:')\n",
    "print(Total_score)\n",
    "print('The students qualifying for olympiad are:')\n",
    "print(Total_score[Total_score>=150])"
   ]
  },
  {
   "cell_type": "code",
   "execution_count": 162,
   "id": "91cb9d20",
   "metadata": {},
   "outputs": [
    {
     "name": "stdout",
     "output_type": "stream",
     "text": [
      "Alex       False\n",
      "Antony      True\n",
      "Thomas      True\n",
      "William     True\n",
      "Kevin      False\n",
      "Danny      False\n",
      "Sunny      False\n",
      "Martin      True\n",
      "Jacob      False\n",
      "Prince     False\n",
      "dtype: bool\n"
     ]
    }
   ],
   "source": [
    "# TASK 3\n",
    "print(S1>S2)"
   ]
  },
  {
   "cell_type": "code",
   "execution_count": 165,
   "id": "79320178",
   "metadata": {},
   "outputs": [
    {
     "name": "stdout",
     "output_type": "stream",
     "text": [
      "Alex        True\n",
      "Antony     False\n",
      "Thomas     False\n",
      "William    False\n",
      "Kevin       True\n",
      "Danny       True\n",
      "Sunny       True\n",
      "Martin     False\n",
      "Jacob       True\n",
      "Prince      True\n",
      "dtype: bool\n"
     ]
    }
   ],
   "source": [
    "print(S1<S2)"
   ]
  },
  {
   "cell_type": "code",
   "execution_count": 166,
   "id": "0aa43ca4",
   "metadata": {},
   "outputs": [
    {
     "name": "stdout",
     "output_type": "stream",
     "text": [
      "Alex       False\n",
      "Antony     False\n",
      "Thomas     False\n",
      "William    False\n",
      "Kevin      False\n",
      "Danny      False\n",
      "Sunny      False\n",
      "Martin     False\n",
      "Jacob      False\n",
      "Prince     False\n",
      "dtype: bool\n"
     ]
    }
   ],
   "source": [
    "print(S1==S2)"
   ]
  },
  {
   "cell_type": "code",
   "execution_count": 167,
   "id": "392ce1cd",
   "metadata": {},
   "outputs": [
    {
     "name": "stdout",
     "output_type": "stream",
     "text": [
      "Difference in Maths and Physics mark are:\n",
      "Alex      -28\n",
      "Antony     27\n",
      "Thomas     11\n",
      "William    11\n",
      "Kevin     -31\n",
      "Danny     -27\n",
      "Sunny     -15\n",
      "Martin     12\n",
      "Jacob      -7\n",
      "Prince     -2\n",
      "dtype: int64\n"
     ]
    }
   ],
   "source": [
    "print('Difference in Maths and Physics markS are:')\n",
    "print(S1-S2)"
   ]
  },
  {
   "cell_type": "code",
   "execution_count": null,
   "id": "0f5ea41d",
   "metadata": {},
   "outputs": [],
   "source": [
    " #####################################################################################################################333"
   ]
  },
  {
   "cell_type": "code",
   "execution_count": 180,
   "id": "219f07d0",
   "metadata": {},
   "outputs": [
    {
     "name": "stdout",
     "output_type": "stream",
     "text": [
      "The car model number with price:\n",
      "101    44545\n",
      "102    30527\n",
      "103    47405\n",
      "104    36311\n",
      "105    46178\n",
      "106    34122\n",
      "107    49688\n",
      "108    36241\n",
      "109    34165\n",
      "110    43576\n",
      "111    32101\n",
      "112    37882\n",
      "113    45336\n",
      "114    34077\n",
      "115    41879\n",
      "116    41264\n",
      "117    46313\n",
      "118    42892\n",
      "119    37853\n",
      "120    49609\n",
      "dtype: int32\n"
     ]
    }
   ],
   "source": [
    "# TASK 4\n",
    "import numpy as np\n",
    "car=np.random.randint(30000,50001,20)\n",
    "S4=pd.Series(car,index=np.arange(101,121))\n",
    "print('The car model number with price:')\n",
    "print(S4)"
   ]
  },
  {
   "cell_type": "code",
   "execution_count": 181,
   "id": "5af5aa27",
   "metadata": {},
   "outputs": [
    {
     "name": "stdout",
     "output_type": "stream",
     "text": [
      "Cars price greater than 40,000 is 11\n"
     ]
    }
   ],
   "source": [
    "# TASK 5\n",
    "\n",
    "S5=S4[S4>40000]\n",
    " # print(S5)\n",
    "print('Cars price greater than 40,000 is',S5.size)"
   ]
  },
  {
   "cell_type": "code",
   "execution_count": 182,
   "id": "932bb426",
   "metadata": {},
   "outputs": [
    {
     "name": "stdout",
     "output_type": "stream",
     "text": [
      "Cars from model number 111 to 116 are:\n",
      "111    32101\n",
      "112    37882\n",
      "113    45336\n",
      "114    34077\n",
      "115    41879\n",
      "116    41264\n",
      "dtype: int32\n",
      "The highest price of car within model number 111 to 116 is 45336\n"
     ]
    }
   ],
   "source": [
    "# TASK 6\n",
    "S6=S4[(S4.index>=111) & (S4.index<117)]\n",
    "print('Cars from model number 111 to 116 are:')\n",
    "print(S6)\n",
    "print('The highest price of car within model number 111 to 116 is',S6.max())\n",
    "\n",
    "  "
   ]
  },
  {
   "cell_type": "code",
   "execution_count": 183,
   "id": "faf07c81",
   "metadata": {},
   "outputs": [
    {
     "name": "stdout",
     "output_type": "stream",
     "text": [
      "The cars having price between 30,000 and 40,000 is 9\n"
     ]
    }
   ],
   "source": [
    "# TASK 7\n",
    "S7=S4[(S4>=30000) & (S4<=40000)]\n",
    "print('The cars having price between 30,000 and 40,000 is',S7.size)"
   ]
  },
  {
   "cell_type": "code",
   "execution_count": 184,
   "id": "d10a786f",
   "metadata": {},
   "outputs": [
    {
     "name": "stdout",
     "output_type": "stream",
     "text": [
      "Average price of car is 40598.2\n",
      "No.of cars greater than average price is 11\n"
     ]
    }
   ],
   "source": [
    "# TASK 8\n",
    "avg=S4.mean()\n",
    "print('Average price of car is',avg)\n",
    "S8=S4[S4>avg]\n",
    "# print(S8)\n",
    "print('No.of cars greater than average price is',S8.size)\n",
    "\n"
   ]
  },
  {
   "cell_type": "code",
   "execution_count": 185,
   "id": "fc030e49",
   "metadata": {},
   "outputs": [
    {
     "name": "stdout",
     "output_type": "stream",
     "text": [
      "New data of cars:\n",
      "101    44545\n",
      "102    30527\n",
      "103    47405\n",
      "104    36311\n",
      "105    46178\n",
      "106    34122\n",
      "107    49688\n",
      "108    36241\n",
      "109    34165\n",
      "110    43576\n",
      "111    32101\n",
      "112    37882\n",
      "113    45336\n",
      "114    34077\n",
      "115    41879\n",
      "116    41264\n",
      "117    46313\n",
      "118    42892\n",
      "119    37853\n",
      "120    49609\n",
      "201    34000\n",
      "202    45000\n",
      "203    54000\n",
      "dtype: int64\n"
     ]
    }
   ],
   "source": [
    "# TASK 9\n",
    "model_no=[201,202,203]\n",
    "price=[34000,45000,54000]\n",
    "S91=pd.Series(price,index=model_no)\n",
    "S9=pd.concat([S4,S91])\n",
    "print('New data of cars:')\n",
    "print(S9)"
   ]
  },
  {
   "cell_type": "code",
   "execution_count": 186,
   "id": "10c8ea28",
   "metadata": {},
   "outputs": [
    {
     "name": "stdout",
     "output_type": "stream",
     "text": [
      "Before decrement\n",
      "101    44545\n",
      "102    30527\n",
      "103    47405\n",
      "104    36311\n",
      "105    46178\n",
      "106    34122\n",
      "107    49688\n",
      "108    36241\n",
      "109    34165\n",
      "110    43576\n",
      "111    32101\n",
      "112    37882\n",
      "113    45336\n",
      "114    34077\n",
      "115    41879\n",
      "116    41264\n",
      "117    46313\n",
      "118    42892\n",
      "119    37853\n",
      "120    49609\n",
      "201    34000\n",
      "202    45000\n",
      "203    54000\n",
      "dtype: int64\n",
      "After decrement by 10%\n",
      "101    40090.5\n",
      "102    30527.0\n",
      "103    42664.5\n",
      "104    36311.0\n",
      "105    41560.2\n",
      "106    34122.0\n",
      "107    44719.2\n",
      "108    36241.0\n",
      "109    34165.0\n",
      "110    39218.4\n",
      "111    32101.0\n",
      "112    37882.0\n",
      "113    40802.4\n",
      "114    34077.0\n",
      "115    37691.1\n",
      "116    37137.6\n",
      "117    41681.7\n",
      "118    38602.8\n",
      "119    37853.0\n",
      "120    44648.1\n",
      "201    34000.0\n",
      "202    40500.0\n",
      "203    48600.0\n",
      "dtype: float64\n"
     ]
    }
   ],
   "source": [
    "# TASK 10\n",
    "S10=S9.copy()\n",
    "S10[S10>40000]=S10[S10>40000]*0.9\n",
    "print('Before decrement')\n",
    "print(S9)\n",
    "print('After decrement by 10%')\n",
    "print(S10)"
   ]
  },
  {
   "cell_type": "code",
   "execution_count": 190,
   "id": "ec187e41",
   "metadata": {},
   "outputs": [
    {
     "name": "stdout",
     "output_type": "stream",
     "text": [
      "No.of cars between the price 30,000 to 40,00 before discount is 23\n",
      "No.of cars between the price 30,000 to 40,00 before discount is 14\n"
     ]
    }
   ],
   "source": [
    "# TASK 11\n",
    "print('No.of cars between the price 30,000 to 40,00 before discount is',S9.size)\n",
    "S11=S10[(S10>=30000) & (S10<=40000)]\n",
    "print('No.of cars between the price 30,000 to 40,00 before discount is',S11.size)"
   ]
  },
  {
   "cell_type": "code",
   "execution_count": 191,
   "id": "abcd122d",
   "metadata": {},
   "outputs": [
    {
     "name": "stdout",
     "output_type": "stream",
     "text": [
      "The five cheapest cars are:\n",
      "102    30527\n",
      "111    32101\n",
      "201    34000\n",
      "114    34077\n",
      "106    34122\n",
      "dtype: int64\n"
     ]
    }
   ],
   "source": [
    "# TASK 12\n",
    "sort_asc=S9.sort_values()\n",
    "print('The five cheapest cars are:')\n",
    "print(sort_asc[0:5])"
   ]
  },
  {
   "cell_type": "code",
   "execution_count": null,
   "id": "e1d208c7",
   "metadata": {},
   "outputs": [],
   "source": [
    "# END"
   ]
  }
 ],
 "metadata": {
  "kernelspec": {
   "display_name": "Python 3 (ipykernel)",
   "language": "python",
   "name": "python3"
  },
  "language_info": {
   "codemirror_mode": {
    "name": "ipython",
    "version": 3
   },
   "file_extension": ".py",
   "mimetype": "text/x-python",
   "name": "python",
   "nbconvert_exporter": "python",
   "pygments_lexer": "ipython3",
   "version": "3.9.7"
  }
 },
 "nbformat": 4,
 "nbformat_minor": 5
}

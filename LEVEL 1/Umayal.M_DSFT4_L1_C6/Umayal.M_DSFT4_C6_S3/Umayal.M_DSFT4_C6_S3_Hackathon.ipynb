{
 "cells": [
  {
   "cell_type": "markdown",
   "id": "7821c80b",
   "metadata": {},
   "source": [
    "# BRAZIL HOUSING"
   ]
  },
  {
   "cell_type": "markdown",
   "id": "4552a059",
   "metadata": {},
   "source": [
    "IMPORTING LIBRARIES"
   ]
  },
  {
   "cell_type": "code",
   "execution_count": 1,
   "id": "27e08354",
   "metadata": {},
   "outputs": [],
   "source": [
    "import matplotlib.pyplot as plt             # to visualize\n",
    "from tabulate import tabulate               # to print the table\n",
    "import matplotlib as mat                    # to visualize \n",
    "import seaborn as sns                       # to visualize\n",
    "import pandas as pd                         # for data reading\n",
    "import numpy as np                          # for numerical computation"
   ]
  },
  {
   "cell_type": "markdown",
   "id": "0380a3f0",
   "metadata": {},
   "source": [
    "READING THE FILE"
   ]
  },
  {
   "cell_type": "code",
   "execution_count": 2,
   "id": "3235b986",
   "metadata": {},
   "outputs": [],
   "source": [
    "df=pd.read_csv('DATA1.csv')\n",
    "#df"
   ]
  },
  {
   "cell_type": "markdown",
   "id": "b63bbd2f",
   "metadata": {},
   "source": [
    "NO.OF ROWS AND COLUMNS "
   ]
  },
  {
   "cell_type": "code",
   "execution_count": 3,
   "id": "42d37924",
   "metadata": {},
   "outputs": [
    {
     "data": {
      "text/plain": [
       "(10692, 13)"
      ]
     },
     "execution_count": 3,
     "metadata": {},
     "output_type": "execute_result"
    }
   ],
   "source": [
    "df.shape"
   ]
  },
  {
   "cell_type": "markdown",
   "id": "19107911",
   "metadata": {},
   "source": [
    "COLUMNS NAME"
   ]
  },
  {
   "cell_type": "code",
   "execution_count": 4,
   "id": "7df97187",
   "metadata": {},
   "outputs": [
    {
     "data": {
      "text/plain": [
       "Index(['city', 'area', 'rooms', 'bathroom', 'parking spaces', 'floor',\n",
       "       'animal', 'furniture', 'hoa (R$)', 'rent amount (R$)',\n",
       "       'property tax (R$)', 'fire insurance (R$)', 'total (R$)'],\n",
       "      dtype='object')"
      ]
     },
     "execution_count": 4,
     "metadata": {},
     "output_type": "execute_result"
    }
   ],
   "source": [
    "df.columns"
   ]
  },
  {
   "cell_type": "markdown",
   "id": "0b9f9ee0",
   "metadata": {},
   "source": [
    "DATASET INFORMATION"
   ]
  },
  {
   "cell_type": "code",
   "execution_count": 5,
   "id": "324465d4",
   "metadata": {},
   "outputs": [
    {
     "name": "stdout",
     "output_type": "stream",
     "text": [
      "<class 'pandas.core.frame.DataFrame'>\n",
      "RangeIndex: 10692 entries, 0 to 10691\n",
      "Data columns (total 13 columns):\n",
      " #   Column               Non-Null Count  Dtype \n",
      "---  ------               --------------  ----- \n",
      " 0   city                 10692 non-null  object\n",
      " 1   area                 10692 non-null  int64 \n",
      " 2   rooms                10692 non-null  int64 \n",
      " 3   bathroom             10692 non-null  int64 \n",
      " 4   parking spaces       10692 non-null  int64 \n",
      " 5   floor                10692 non-null  int64 \n",
      " 6   animal               10692 non-null  object\n",
      " 7   furniture            10692 non-null  object\n",
      " 8   hoa (R$)             10692 non-null  int64 \n",
      " 9   rent amount (R$)     10692 non-null  int64 \n",
      " 10  property tax (R$)    10692 non-null  int64 \n",
      " 11  fire insurance (R$)  10692 non-null  int64 \n",
      " 12  total (R$)           10692 non-null  int64 \n",
      "dtypes: int64(10), object(3)\n",
      "memory usage: 1.1+ MB\n"
     ]
    }
   ],
   "source": [
    "df.info()"
   ]
  },
  {
   "cell_type": "markdown",
   "id": "d38a8e94",
   "metadata": {},
   "source": [
    "CHECKING FOR NULL VALUES"
   ]
  },
  {
   "cell_type": "code",
   "execution_count": 6,
   "id": "6c67e9a8",
   "metadata": {},
   "outputs": [
    {
     "data": {
      "text/plain": [
       "city                   0\n",
       "area                   0\n",
       "rooms                  0\n",
       "bathroom               0\n",
       "parking spaces         0\n",
       "floor                  0\n",
       "animal                 0\n",
       "furniture              0\n",
       "hoa (R$)               0\n",
       "rent amount (R$)       0\n",
       "property tax (R$)      0\n",
       "fire insurance (R$)    0\n",
       "total (R$)             0\n",
       "dtype: int64"
      ]
     },
     "execution_count": 6,
     "metadata": {},
     "output_type": "execute_result"
    }
   ],
   "source": [
    "df.isnull().sum()"
   ]
  },
  {
   "cell_type": "markdown",
   "id": "641f33b4",
   "metadata": {},
   "source": [
    "SEPARATING CATEGORICAL AND CONTINUOUS VARIABLES"
   ]
  },
  {
   "cell_type": "code",
   "execution_count": 7,
   "id": "dcb3caba",
   "metadata": {},
   "outputs": [
    {
     "name": "stdout",
     "output_type": "stream",
     "text": [
      "categorical    continuous\n",
      "-------------  -------------------\n",
      "city           area\n",
      "animal         rooms\n",
      "furniture      bathroom\n",
      "               parking spaces\n",
      "               floor\n",
      "               hoa (R$)\n",
      "               rent amount (R$)\n",
      "               property tax (R$)\n",
      "               fire insurance (R$)\n",
      "               total (R$)\n"
     ]
    }
   ],
   "source": [
    "def separate_data_types(df):\n",
    "    categorical = []\n",
    "    continuous = []\n",
    "    for column in df.columns:                # looping on the number of columns\n",
    "        if df[column].nunique() < 10:       # nunique:  returns unique values in the column,\n",
    "                                                    #here 10 is the hyperparamter and can be changed\n",
    "            categorical.append(column)\n",
    "        else:\n",
    "            continuous.append(column)\n",
    "            \n",
    "    return categorical, continuous \n",
    "\n",
    "\n",
    "categorical, continuous = separate_data_types(df)         # Calling the function\n",
    "\n",
    "# # Tabulate is a package used to print the list, dict or any data sets in a proper format; in table format\n",
    "from tabulate import tabulate\n",
    "table = [categorical, continuous]\n",
    "print(tabulate({\"Categorical\":categorical,\n",
    "                \"Continuous\": continuous}, headers = [\"categorical\", \"continuous\"]))"
   ]
  },
  {
   "cell_type": "markdown",
   "id": "6654027c",
   "metadata": {},
   "source": [
    "USER DEFINED FUNCTIONS:-"
   ]
  },
  {
   "cell_type": "markdown",
   "id": "beed0b13",
   "metadata": {},
   "source": [
    "FOR CATEGORICAL:-"
   ]
  },
  {
   "cell_type": "code",
   "execution_count": 8,
   "id": "2e5a11e1",
   "metadata": {},
   "outputs": [],
   "source": [
    "def info_of_cat(col): \n",
    "    print(f\"Unique values in {col} are: {df[col].unique()}\") # unique: returns the unique values in the col\n",
    "    print(f\"Mode of {col} is {df[col].mode()[0]}\")  # mode: returns the mode of the column\n",
    "    print(f\"Number of missing values in {col} is {df[col].isnull().sum()}\") # isnull().sum() counts the number of null in dataframe    "
   ]
  },
  {
   "cell_type": "markdown",
   "id": "73b54b3a",
   "metadata": {},
   "source": [
    "FOR CONTINUOUS:-"
   ]
  },
  {
   "cell_type": "code",
   "execution_count": 9,
   "id": "225a5e7f",
   "metadata": {},
   "outputs": [],
   "source": [
    "def info_of_numerical(col):\n",
    "    print(f\"The mean of the {col} is {df[col].mean()}\")\n",
    "    print(f\"The median of the {col} is {df[col].median()}\")\n",
    "    print(f\"The mode of the {col} is {df[col].mode()[0]}\")\n",
    "    print(f\"The standard deviation of the {col} is {df[col].std()}\")"
   ]
  },
  {
   "cell_type": "markdown",
   "id": "c1091d86",
   "metadata": {},
   "source": [
    "OUTLIER ANALYSIS FOR CONTINUOUS VARIABLES:-"
   ]
  },
  {
   "cell_type": "code",
   "execution_count": 10,
   "id": "b0b12605",
   "metadata": {},
   "outputs": [
    {
     "name": "stdout",
     "output_type": "stream",
     "text": [
      "ROWS AND COLUMNS BEFORE REMOVING OUTLIERS: (10692, 13)\n",
      "I is area\n",
      "LOWER RANGE OF area IS -133.0\n",
      "UPPER RANGE OF area IS 371.0\n",
      "TOTAL OUTLIERS IN area ARE 672\n",
      "************************************\n",
      "I is rooms\n",
      "LOWER RANGE OF rooms IS 0.5\n",
      "UPPER RANGE OF rooms IS 4.5\n",
      "TOTAL OUTLIERS IN rooms ARE 201\n",
      "************************************\n",
      "I is bathroom\n",
      "LOWER RANGE OF bathroom IS -2.0\n",
      "UPPER RANGE OF bathroom IS 6.0\n",
      "TOTAL OUTLIERS IN bathroom ARE 12\n",
      "************************************\n",
      "I is parking spaces\n",
      "LOWER RANGE OF parking spaces IS -3.0\n",
      "UPPER RANGE OF parking spaces IS 5.0\n",
      "TOTAL OUTLIERS IN parking spaces ARE 110\n",
      "************************************\n",
      "I is floor\n",
      "LOWER RANGE OF floor IS -9.5\n",
      "UPPER RANGE OF floor IS 18.5\n",
      "TOTAL OUTLIERS IN floor ARE 255\n",
      "************************************\n",
      "I is hoa (R$)\n",
      "LOWER RANGE OF hoa (R$) IS -1175.0\n",
      "UPPER RANGE OF hoa (R$) IS 2625.0\n",
      "TOTAL OUTLIERS IN hoa (R$) ARE 579\n",
      "************************************\n",
      "I is rent amount (R$)\n",
      "LOWER RANGE OF rent amount (R$) IS -2050.0\n",
      "UPPER RANGE OF rent amount (R$) IS 7150.0\n",
      "TOTAL OUTLIERS IN rent amount (R$) ARE 619\n",
      "************************************\n",
      "I is property tax (R$)\n",
      "LOWER RANGE OF property tax (R$) IS -252.5\n",
      "UPPER RANGE OF property tax (R$) IS 487.5\n",
      "TOTAL OUTLIERS IN property tax (R$) ARE 590\n",
      "************************************\n",
      "I is fire insurance (R$)\n",
      "LOWER RANGE OF fire insurance (R$) IS -16.5\n",
      "UPPER RANGE OF fire insurance (R$) IS 75.5\n",
      "TOTAL OUTLIERS IN fire insurance (R$) ARE 310\n",
      "************************************\n",
      "I is total (R$)\n",
      "LOWER RANGE OF total (R$) IS -1467.5\n",
      "UPPER RANGE OF total (R$) IS 7032.5\n",
      "TOTAL OUTLIERS IN total (R$) ARE 104\n",
      "************************************\n",
      "ROWS AND COLUMNS AFTER REMOVING OUTLIERS: (7240, 13)\n",
      "\n"
     ]
    }
   ],
   "source": [
    "print('ROWS AND COLUMNS BEFORE REMOVING OUTLIERS:',df.shape)\n",
    "def myoutliers(df,col):\n",
    "    \n",
    "    Q1=np.quantile(df[col],0.25)\n",
    "    Q3=np.quantile(df[col],0.75)\n",
    "    \n",
    "    IQR=Q3-Q1\n",
    "    \n",
    "    global mylist\n",
    "    global my_outlier_df\n",
    "    \n",
    "    UF=Q3+1.5*IQR\n",
    "    LF=Q1-1.5*IQR\n",
    "    \n",
    "    print('LOWER RANGE OF',col,'IS',LF)\n",
    "    print('UPPER RANGE OF',col,'IS',UF)\n",
    "    \n",
    "    mylist=[x for x in df[col] if((x<LF) | (x>UF))]\n",
    "    print('TOTAL OUTLIERS IN',col,'ARE',len(mylist))\n",
    "    my_outlier_df=df.loc[df[col].isin(mylist)]\n",
    "    \n",
    "k=['area', 'rooms', 'bathroom', 'parking spaces', 'floor','hoa (R$)', 'rent amount (R$)','property tax (R$)', 'fire insurance (R$)', 'total (R$)']\n",
    "\n",
    "for i in k:\n",
    "    print('I is', i)\n",
    "    myoutliers(df, i)\n",
    "    Index=my_outlier_df.index\n",
    "    df=df.drop(Index)\n",
    "    print(\"************************************\")\n",
    "print('ROWS AND COLUMNS AFTER REMOVING OUTLIERS:',df.shape)\n",
    "print()"
   ]
  },
  {
   "cell_type": "markdown",
   "id": "3594d6c5",
   "metadata": {},
   "source": [
    "FOR CALCULATING PERCENTAGE IN COUNT PLOTS"
   ]
  },
  {
   "cell_type": "code",
   "execution_count": 11,
   "id": "2958adef",
   "metadata": {},
   "outputs": [],
   "source": [
    "def bar_percentage(ax, count: \"number of rows in data \"):\n",
    "    L=[]\n",
    "    for bar in ax.patches:                                            # ax.patches returns the rectange object from matplotlib\n",
    "        percentage = f\"{round((bar.get_height() / count) *100, 2)}%\"  # first it calculate the bar height and then dividing by the number of row(to calculate percentage)\n",
    "                                                                            # in data and multiply with 100 to get the percentage and rounding of by 2 numbers.\n",
    "        x = bar.get_x() + bar.get_width() /2                          # get_x: returns the left corrdinate of the rectange, get_width: returns width of rectagle\n",
    "        y = bar.get_height()                                          # get_height: returns height of rectangle bar.\n",
    "        ax.annotate(percentage, (x, y), va = \"bottom\", ha = \"center\") # va: Vertical axis: -> top means percentage would bneath the bar head. top, bottom or center \n",
    "        #print(y)\n",
    "        L.append(y)          # ha: Horizontal axis:-> how you want to keep it. can be changed to center, left, right.\n",
    "    S=np.array(L)\n",
    "    n=int(len(S)/2)\n",
    "    R=np.reshape(S,(2,n)).T\n",
    "    [H,I]=np.hsplit(R,2)                                     # annotate: used to annotate over objects. here objects are the bars \n",
    "    plt.show()\n",
    "    print('RATE:')\n",
    "    Ans=(I/(H+I)*100).T\n",
    "    print(Ans)"
   ]
  },
  {
   "cell_type": "code",
   "execution_count": 12,
   "id": "e6a265e5",
   "metadata": {},
   "outputs": [],
   "source": [
    "def bar_percent(ax, count: \"number of rows in data \"):\n",
    "    L=[]\n",
    "    for bar in ax.patches:                                            # ax.patches returns the rectange object from matplotlib\n",
    "        percentage = f\"{round((bar.get_height() / count) *100, 2)}%\"  # first it calculate the bar height and then dividing by the number of row(to calculate percentage)\n",
    "                                                                            # in data and multiply with 100 to get the percentage and rounding of by 2 numbers.\n",
    "        x = bar.get_x() + bar.get_width() /2                          # get_x: returns the left corrdinate of the rectange, get_width: returns width of rectagle\n",
    "        y = bar.get_height()                                          # get_height: returns height of rectangle bar.\n",
    "        ax.annotate(percentage, (x, y), va = \"bottom\", ha = \"center\") # va: Vertical axis: -> top means percentage would bneath the bar head. top, bottom or center \n",
    "        #print(y)\n",
    "        L.append(y)          # ha: Horizontal axis:-> how you want to keep it. can be changed to center, left, right.\n",
    "    S=np.array(L)\n",
    "    n=int(len(S)/2)\n",
    "    R=np.reshape(S,(2,n)).T\n",
    "    [H,I]=np.hsplit(R,2)                                     # annotate: used to annotate over objects. here objects are the bars \n",
    "    plt.show()\n",
    "    print('RATE:')\n",
    "    Ans=(H/(H+I)*100).T\n",
    "    print(Ans)"
   ]
  },
  {
   "cell_type": "code",
   "execution_count": 13,
   "id": "0783af0e",
   "metadata": {},
   "outputs": [
    {
     "data": {
      "text/plain": [
       "(2653, 13)"
      ]
     },
     "execution_count": 13,
     "metadata": {},
     "output_type": "execute_result"
    }
   ],
   "source": [
    "data=df[(df.city!='São Paulo')&(df.city!='Rio de Janeiro')]\n",
    "data.shape"
   ]
  },
  {
   "cell_type": "markdown",
   "id": "e8cc43ce",
   "metadata": {},
   "source": [
    "# 1)ANALYSIS BASED ON BUDGET "
   ]
  },
  {
   "cell_type": "code",
   "execution_count": 14,
   "id": "50881ca9",
   "metadata": {},
   "outputs": [
    {
     "name": "stdout",
     "output_type": "stream",
     "text": [
      "Unique values in city are: ['São Paulo' 'Porto Alegre' 'Rio de Janeiro' 'Campinas' 'Belo Horizonte']\n",
      "Mode of city is São Paulo\n",
      "Number of missing values in city is 0\n"
     ]
    }
   ],
   "source": [
    "info_of_cat('city')"
   ]
  },
  {
   "cell_type": "code",
   "execution_count": 15,
   "id": "1edce1c2",
   "metadata": {},
   "outputs": [
    {
     "data": {
      "text/plain": [
       "count    2653.000000\n",
       "mean     2332.361478\n",
       "std      1240.235073\n",
       "min       499.000000\n",
       "25%      1389.000000\n",
       "50%      1958.000000\n",
       "75%      3033.000000\n",
       "max      7012.000000\n",
       "Name: total (R$), dtype: float64"
      ]
     },
     "execution_count": 15,
     "metadata": {},
     "output_type": "execute_result"
    }
   ],
   "source": [
    "data['total (R$)'].describe()"
   ]
  },
  {
   "cell_type": "code",
   "execution_count": 16,
   "id": "a7fbe13b",
   "metadata": {},
   "outputs": [
    {
     "data": {
      "text/plain": [
       "(1624, 13)"
      ]
     },
     "execution_count": 16,
     "metadata": {},
     "output_type": "execute_result"
    }
   ],
   "source": [
    "#filtering total rent less than average\n",
    "d1=data[data['total (R$)']<=2332.361]\n",
    "d1.shape"
   ]
  },
  {
   "cell_type": "code",
   "execution_count": 17,
   "id": "a034c614",
   "metadata": {},
   "outputs": [
    {
     "data": {
      "image/png": "[encoded data removed]",
      "text/plain": [
       "<Figure size 720x504 with 1 Axes>"
      ]
     },
     "metadata": {
      "needs_background": "light"
     },
     "output_type": "display_data"
    },
    {
     "name": "stdout",
     "output_type": "stream",
     "text": [
      "RATE:\n",
      "[[17.11145997  7.32758621  9.17782027]]\n"
     ]
    }
   ],
   "source": [
    "#FURNITURE FIELD\n",
    "fig, ax = plt.subplots(figsize = (10, 7))\n",
    "sns.countplot(x = \"city\", hue = \"furniture\", data = d1)\n",
    "bar_percentage(ax, len(d1)) \n",
    "plt.show()"
   ]
  },
  {
   "cell_type": "markdown",
   "id": "a64ecad7",
   "metadata": {},
   "source": [
    "Porto Alegre has more number of furnished houses"
   ]
  },
  {
   "cell_type": "code",
   "execution_count": 18,
   "id": "60ec0caf",
   "metadata": {},
   "outputs": [
    {
     "data": {
      "image/png": "[encoded data removed]",
      "text/plain": [
       "<Figure size 720x504 with 1 Axes>"
      ]
     },
     "metadata": {
      "needs_background": "light"
     },
     "output_type": "display_data"
    },
    {
     "name": "stdout",
     "output_type": "stream",
     "text": [
      "RATE:\n",
      "[[84.45839874 79.09482759 66.92160612]]\n"
     ]
    }
   ],
   "source": [
    "#ANIMAL FIELD\n",
    "fig, ax = plt.subplots(figsize = (10, 7))\n",
    "sns.countplot(x = \"city\", hue = \"animal\", data = d1)\n",
    "bar_percent(ax, len(d1)) \n",
    "plt.show()"
   ]
  },
  {
   "cell_type": "markdown",
   "id": "92a2dc11",
   "metadata": {},
   "source": [
    "Porto Alegre animal acceptance rate is high"
   ]
  },
  {
   "cell_type": "code",
   "execution_count": 19,
   "id": "4bac41e7",
   "metadata": {},
   "outputs": [
    {
     "data": {
      "text/html": [
       "<div>\n",
       "<style scoped>\n",
       "    .dataframe tbody tr th:only-of-type {\n",
       "        vertical-align: middle;\n",
       "    }\n",
       "\n",
       "    .dataframe tbody tr th {\n",
       "        vertical-align: top;\n",
       "    }\n",
       "\n",
       "    .dataframe thead th {\n",
       "        text-align: right;\n",
       "    }\n",
       "</style>\n",
       "<table border=\"1\" class=\"dataframe\">\n",
       "  <thead>\n",
       "    <tr style=\"text-align: right;\">\n",
       "      <th></th>\n",
       "      <th>city</th>\n",
       "      <th>rooms</th>\n",
       "      <th>Total_no_of_rooms</th>\n",
       "    </tr>\n",
       "  </thead>\n",
       "  <tbody>\n",
       "    <tr>\n",
       "      <th>0</th>\n",
       "      <td>Belo Horizonte</td>\n",
       "      <td>2</td>\n",
       "      <td>226</td>\n",
       "    </tr>\n",
       "    <tr>\n",
       "      <th>1</th>\n",
       "      <td>Belo Horizonte</td>\n",
       "      <td>3</td>\n",
       "      <td>174</td>\n",
       "    </tr>\n",
       "    <tr>\n",
       "      <th>2</th>\n",
       "      <td>Belo Horizonte</td>\n",
       "      <td>1</td>\n",
       "      <td>113</td>\n",
       "    </tr>\n",
       "    <tr>\n",
       "      <th>3</th>\n",
       "      <td>Belo Horizonte</td>\n",
       "      <td>4</td>\n",
       "      <td>10</td>\n",
       "    </tr>\n",
       "    <tr>\n",
       "      <th>4</th>\n",
       "      <td>Campinas</td>\n",
       "      <td>2</td>\n",
       "      <td>202</td>\n",
       "    </tr>\n",
       "    <tr>\n",
       "      <th>5</th>\n",
       "      <td>Campinas</td>\n",
       "      <td>1</td>\n",
       "      <td>176</td>\n",
       "    </tr>\n",
       "    <tr>\n",
       "      <th>6</th>\n",
       "      <td>Campinas</td>\n",
       "      <td>3</td>\n",
       "      <td>83</td>\n",
       "    </tr>\n",
       "    <tr>\n",
       "      <th>7</th>\n",
       "      <td>Campinas</td>\n",
       "      <td>4</td>\n",
       "      <td>3</td>\n",
       "    </tr>\n",
       "    <tr>\n",
       "      <th>8</th>\n",
       "      <td>Porto Alegre</td>\n",
       "      <td>2</td>\n",
       "      <td>291</td>\n",
       "    </tr>\n",
       "    <tr>\n",
       "      <th>9</th>\n",
       "      <td>Porto Alegre</td>\n",
       "      <td>1</td>\n",
       "      <td>276</td>\n",
       "    </tr>\n",
       "    <tr>\n",
       "      <th>10</th>\n",
       "      <td>Porto Alegre</td>\n",
       "      <td>3</td>\n",
       "      <td>66</td>\n",
       "    </tr>\n",
       "    <tr>\n",
       "      <th>11</th>\n",
       "      <td>Porto Alegre</td>\n",
       "      <td>4</td>\n",
       "      <td>4</td>\n",
       "    </tr>\n",
       "  </tbody>\n",
       "</table>\n",
       "</div>"
      ],
      "text/plain": [
       "              city  rooms  Total_no_of_rooms\n",
       "0   Belo Horizonte      2                226\n",
       "1   Belo Horizonte      3                174\n",
       "2   Belo Horizonte      1                113\n",
       "3   Belo Horizonte      4                 10\n",
       "4         Campinas      2                202\n",
       "5         Campinas      1                176\n",
       "6         Campinas      3                 83\n",
       "7         Campinas      4                  3\n",
       "8     Porto Alegre      2                291\n",
       "9     Porto Alegre      1                276\n",
       "10    Porto Alegre      3                 66\n",
       "11    Porto Alegre      4                  4"
      ]
     },
     "execution_count": 19,
     "metadata": {},
     "output_type": "execute_result"
    }
   ],
   "source": [
    "d2=d1['rooms'].groupby(d1['city']).value_counts().rename('Total_no_of_rooms').reset_index()\n",
    "d2"
   ]
  },
  {
   "cell_type": "markdown",
   "id": "184c8160",
   "metadata": {},
   "source": [
    "Porto Alegre is providing more options for houses with rooms 1,2"
   ]
  },
  {
   "cell_type": "markdown",
   "id": "40170c03",
   "metadata": {},
   "source": [
    "CONCLUSION:-\n",
    "    The person who are preferring 1 to 2 rooms and has pet with less than or equal to average budget of $2332 can relocate to Porto Alegre"
   ]
  },
  {
   "cell_type": "markdown",
   "id": "b3f944e2",
   "metadata": {},
   "source": [
    "# 2)ANALYSIS BASED ON FLOOR"
   ]
  },
  {
   "cell_type": "code",
   "execution_count": 38,
   "id": "91a93628",
   "metadata": {},
   "outputs": [
    {
     "data": {
      "text/plain": [
       "count    2653.000000\n",
       "mean        3.906144\n",
       "std         3.719604\n",
       "min         0.000000\n",
       "25%         1.000000\n",
       "50%         3.000000\n",
       "75%         5.000000\n",
       "max        18.000000\n",
       "Name: floor, dtype: float64"
      ]
     },
     "execution_count": 38,
     "metadata": {},
     "output_type": "execute_result"
    }
   ],
   "source": [
    "data['floor'].describe()"
   ]
  },
  {
   "cell_type": "code",
   "execution_count": 39,
   "id": "f0b3eede",
   "metadata": {},
   "outputs": [
    {
     "data": {
      "text/plain": [
       "(801, 13)"
      ]
     },
     "execution_count": 39,
     "metadata": {},
     "output_type": "execute_result"
    }
   ],
   "source": [
    "#filtering data above 75% based on floor\n",
    "d3=data[data.floor>=5]\n",
    "d3.shape"
   ]
  },
  {
   "cell_type": "code",
   "execution_count": 40,
   "id": "a3832935",
   "metadata": {},
   "outputs": [
    {
     "data": {
      "image/png": "[encoded data removed]",
      "text/plain": [
       "<Figure size 720x504 with 1 Axes>"
      ]
     },
     "metadata": {
      "needs_background": "light"
     },
     "output_type": "display_data"
    },
    {
     "name": "stdout",
     "output_type": "stream",
     "text": [
      "RATE:\n",
      "[[83.2278481  77.69784173 71.01449275]]\n"
     ]
    }
   ],
   "source": [
    "#ANIMAL FIELD\n",
    "fig, ax = plt.subplots(figsize = (10, 7))\n",
    "sns.countplot(x = \"city\", hue = \"animal\", data = d3)\n",
    "bar_percent(ax, len(d3)) \n",
    "plt.show()"
   ]
  },
  {
   "cell_type": "markdown",
   "id": "2d4fd36b",
   "metadata": {},
   "source": [
    "Porto Alegre animal acceptance rate is high"
   ]
  },
  {
   "cell_type": "code",
   "execution_count": 41,
   "id": "85b04cb9",
   "metadata": {},
   "outputs": [
    {
     "data": {
      "image/png": "[encoded data removed]",
      "text/plain": [
       "<Figure size 1080x504 with 1 Axes>"
      ]
     },
     "metadata": {
      "needs_background": "light"
     },
     "output_type": "display_data"
    }
   ],
   "source": [
    "#ROOMS FIELD\n",
    "fig, ax = plt.subplots(figsize = (15, 7))\n",
    "sns.countplot(x = d3[\"rooms\"] ,hue = d3[\"city\"] , ax=ax)\n",
    "plt.show()"
   ]
  },
  {
   "cell_type": "markdown",
   "id": "aaa45fb8",
   "metadata": {},
   "source": [
    "Porto alegre has 1,2 rooms high in number"
   ]
  },
  {
   "cell_type": "code",
   "execution_count": 42,
   "id": "c0397ed8",
   "metadata": {},
   "outputs": [
    {
     "data": {
      "text/plain": [
       "city\n",
       "Belo Horizonte    358\n",
       "Campinas          292\n",
       "Porto Alegre      340\n",
       "Name: area, dtype: int64"
      ]
     },
     "execution_count": 42,
     "metadata": {},
     "output_type": "execute_result"
    }
   ],
   "source": [
    "#Maximum AREA FOR CITIES:\n",
    "a1=d3.groupby(d3['city'])['area'].max()\n",
    "a1"
   ]
  },
  {
   "cell_type": "markdown",
   "id": "52f7f1b2",
   "metadata": {},
   "source": [
    "CONCLUSION:-The person who wishes to live in high floor buildings can choose Porto alegre if they have pet and want 1 or 2 rooms while maximum area is small comparing to Belo horizonto"
   ]
  },
  {
   "cell_type": "markdown",
   "id": "e0c90dd3",
   "metadata": {},
   "source": [
    "# 3)ANALYSIS BASED ON AREA"
   ]
  },
  {
   "cell_type": "code",
   "execution_count": 43,
   "id": "554e8464",
   "metadata": {},
   "outputs": [
    {
     "data": {
      "text/plain": [
       "count    2653.00000\n",
       "mean       87.19412\n",
       "std        56.34842\n",
       "min        15.00000\n",
       "25%        50.00000\n",
       "50%        70.00000\n",
       "75%       100.00000\n",
       "max       367.00000\n",
       "Name: area, dtype: float64"
      ]
     },
     "execution_count": 43,
     "metadata": {},
     "output_type": "execute_result"
    }
   ],
   "source": [
    "data['area'].describe()"
   ]
  },
  {
   "cell_type": "code",
   "execution_count": 44,
   "id": "574376b2",
   "metadata": {},
   "outputs": [
    {
     "data": {
      "text/plain": [
       "(733, 13)"
      ]
     },
     "execution_count": 44,
     "metadata": {},
     "output_type": "execute_result"
    }
   ],
   "source": [
    "#filtering area above 75%\n",
    "d4=data[data.area>=100]\n",
    "d4.shape"
   ]
  },
  {
   "cell_type": "code",
   "execution_count": 45,
   "id": "5953e5e5",
   "metadata": {},
   "outputs": [
    {
     "data": {
      "image/png": "[encoded data removed]",
      "text/plain": [
       "<Figure size 720x504 with 1 Axes>"
      ]
     },
     "metadata": {
      "needs_background": "light"
     },
     "output_type": "display_data"
    },
    {
     "name": "stdout",
     "output_type": "stream",
     "text": [
      "RATE:\n",
      "[[93.71727749 90.06024096 68.57142857]]\n"
     ]
    }
   ],
   "source": [
    "#FURNITURE FIELD\n",
    "fig, ax = plt.subplots(figsize = (10, 7))\n",
    "sns.countplot(x = \"city\", hue = \"furniture\", data = d4)\n",
    "bar_percent(ax, len(d4)) \n",
    "plt.show()"
   ]
  },
  {
   "cell_type": "markdown",
   "id": "a5ec86e3",
   "metadata": {},
   "source": [
    "Porto alegre has less furnished house,where the area is large"
   ]
  },
  {
   "cell_type": "code",
   "execution_count": 46,
   "id": "334d2aca",
   "metadata": {},
   "outputs": [
    {
     "data": {
      "image/png": "[encoded data removed]",
      "text/plain": [
       "<Figure size 1080x504 with 2 Axes>"
      ]
     },
     "metadata": {
      "needs_background": "light"
     },
     "output_type": "display_data"
    }
   ],
   "source": [
    "#bathroom & parking spaces field\n",
    "fig, ax = plt.subplots(1,2,figsize = (15, 7))\n",
    "sns.countplot(x = d4[\"bathroom\"] ,hue = d4[\"city\"] , ax=ax[0])\n",
    "sns.countplot(x = d4[\"parking spaces\"] ,hue = d4[\"city\"] , ax=ax[1])\n",
    "plt.show()"
   ]
  },
  {
   "cell_type": "markdown",
   "id": "b9344bdf",
   "metadata": {},
   "source": [
    "You can choose Belo horizonte for parking spaces >2 and bathrooms <=4"
   ]
  },
  {
   "cell_type": "markdown",
   "id": "4ce89dd6",
   "metadata": {},
   "source": [
    "CONCLUSION:-The person who wishes to have area of 100 and above ,then can choose Belo horizonto for furnished house and for parking spaces >2 and bathrooms <=4"
   ]
  },
  {
   "cell_type": "markdown",
   "id": "d609cfc1",
   "metadata": {},
   "source": [
    "# 4)ANALYSIS BASED ON ROOM"
   ]
  },
  {
   "cell_type": "code",
   "execution_count": 48,
   "id": "b5a61479",
   "metadata": {},
   "outputs": [
    {
     "data": {
      "text/plain": [
       "count    2653.000000\n",
       "mean        2.182058\n",
       "std         0.926212\n",
       "min         1.000000\n",
       "25%         1.000000\n",
       "50%         2.000000\n",
       "75%         3.000000\n",
       "max         4.000000\n",
       "Name: rooms, dtype: float64"
      ]
     },
     "execution_count": 48,
     "metadata": {},
     "output_type": "execute_result"
    }
   ],
   "source": [
    "data['rooms'].describe()"
   ]
  },
  {
   "cell_type": "code",
   "execution_count": 49,
   "id": "67e4f0de",
   "metadata": {},
   "outputs": [
    {
     "data": {
      "text/plain": [
       "(213, 13)"
      ]
     },
     "execution_count": 49,
     "metadata": {},
     "output_type": "execute_result"
    }
   ],
   "source": [
    "#filtering room based on 75% data\n",
    "d5=data[data.rooms>3]\n",
    "d5.shape"
   ]
  },
  {
   "cell_type": "code",
   "execution_count": 50,
   "id": "2ae08efa",
   "metadata": {},
   "outputs": [
    {
     "data": {
      "text/plain": [
       "city\n",
       "Belo Horizonte    182.000000\n",
       "Campinas          188.604651\n",
       "Porto Alegre      181.766667\n",
       "Name: area, dtype: float64"
      ]
     },
     "execution_count": 50,
     "metadata": {},
     "output_type": "execute_result"
    }
   ],
   "source": [
    "#AVERAGE AREA FOR CITIES:\n",
    "a2=d5.groupby(d5['city'])['area'].mean()\n",
    "a2"
   ]
  },
  {
   "cell_type": "code",
   "execution_count": 51,
   "id": "b4506565",
   "metadata": {},
   "outputs": [
    {
     "data": {
      "text/plain": [
       "city\n",
       "Belo Horizonte    4134.100000\n",
       "Campinas          4232.116279\n",
       "Porto Alegre      3709.266667\n",
       "Name: total (R$), dtype: float64"
      ]
     },
     "execution_count": 51,
     "metadata": {},
     "output_type": "execute_result"
    }
   ],
   "source": [
    "#AVERAGE total Rent FOR CITIES:\n",
    "a3=d5.groupby(d5['city'])['total (R$)'].mean()\n",
    "a3"
   ]
  },
  {
   "cell_type": "code",
   "execution_count": 52,
   "id": "1c701a5b",
   "metadata": {},
   "outputs": [
    {
     "data": {
      "text/plain": [
       "city\n",
       "Belo Horizonte    22.714835\n",
       "Campinas          22.439088\n",
       "Porto Alegre      20.406749\n",
       "dtype: float64"
      ]
     },
     "execution_count": 52,
     "metadata": {},
     "output_type": "execute_result"
    }
   ],
   "source": [
    "a3/a2"
   ]
  },
  {
   "cell_type": "markdown",
   "id": "80eee7b7",
   "metadata": {},
   "source": [
    " Porto alegre has high average area with low total amount "
   ]
  },
  {
   "cell_type": "markdown",
   "id": "280ed9fc",
   "metadata": {},
   "source": [
    "# 5)ANALYSIS BASED ON FURNISHED HOUSES"
   ]
  },
  {
   "cell_type": "code",
   "execution_count": 55,
   "id": "198dfa76",
   "metadata": {},
   "outputs": [
    {
     "data": {
      "text/plain": [
       "(470, 13)"
      ]
     },
     "execution_count": 55,
     "metadata": {},
     "output_type": "execute_result"
    }
   ],
   "source": [
    "d6=data[data.furniture=='furnished']\n",
    "d6.shape"
   ]
  },
  {
   "cell_type": "code",
   "execution_count": 56,
   "id": "8db3e639",
   "metadata": {},
   "outputs": [
    {
     "data": {
      "image/png": "[encoded data removed]",
      "text/plain": [
       "<Figure size 1080x504 with 1 Axes>"
      ]
     },
     "metadata": {
      "needs_background": "light"
     },
     "output_type": "display_data"
    }
   ],
   "source": [
    "#TOTAL RENT \n",
    "fig, ax = plt.subplots(figsize = (15, 7))\n",
    "sns.boxplot(x = d6[\"city\"] ,y = d6[\"total (R$)\"] , ax=ax)\n",
    "plt.show()"
   ]
  },
  {
   "cell_type": "markdown",
   "id": "b0fd9266",
   "metadata": {},
   "source": [
    "Porto alegre has 50 % total rent in the range  of 1800 to 3700"
   ]
  },
  {
   "cell_type": "code",
   "execution_count": 57,
   "id": "d9801035",
   "metadata": {},
   "outputs": [
    {
     "data": {
      "image/png": "[encoded data removed]",
      "text/plain": [
       "<Figure size 1080x504 with 1 Axes>"
      ]
     },
     "metadata": {},
     "output_type": "display_data"
    }
   ],
   "source": [
    "#CITY WISE HOUSE COUNT \n",
    "fig, ax = plt.subplots(figsize = (15, 7))\n",
    "d= d6[\"city\"].value_counts()                                                                                                     #in gender columns\n",
    "labels =d.keys()                                                 \n",
    "plt.pie(x = d, autopct = \"%.1f%%\", labels = labels, pctdistance = 0.5)  \n",
    "plt.show()"
   ]
  },
  {
   "cell_type": "markdown",
   "id": "3eba0c2b",
   "metadata": {},
   "source": [
    "Porto Alegre has more no.of furnished houses "
   ]
  },
  {
   "cell_type": "code",
   "execution_count": 58,
   "id": "a272bfdd",
   "metadata": {},
   "outputs": [
    {
     "data": {
      "image/png": "[encoded data removed]",
      "text/plain": [
       "<Figure size 1440x360 with 3 Axes>"
      ]
     },
     "metadata": {
      "needs_background": "light"
     },
     "output_type": "display_data"
    }
   ],
   "source": [
    "#Parking spaces & rooms & bathrooms field\n",
    "fig, ax = plt.subplots(1,3,figsize = (20, 5))\n",
    "sns.countplot(x = d6[\"parking spaces\"] ,hue = d6[\"city\"] , ax=ax[0])\n",
    "sns.countplot(x = d6[\"rooms\"] ,hue = d6[\"city\"] , ax=ax[1])\n",
    "sns.countplot(x = d6[\"bathroom\"] ,hue = d6[\"city\"] , ax=ax[2])\n",
    "plt.savefig(\"Graph.jpg\")\n",
    "plt.show()"
   ]
  },
  {
   "cell_type": "markdown",
   "id": "272b78ae",
   "metadata": {},
   "source": [
    " You can choose Porto algere city if you prefer for <= 2- parking spaces, <=4 - bathroom,<=3 -rooms and maximum furnished house"
   ]
  },
  {
   "cell_type": "markdown",
   "id": "a9a77370",
   "metadata": {},
   "source": [
    "# OVERALL CONCLUSION:-"
   ]
  },
  {
   "cell_type": "markdown",
   "id": "fb11261c",
   "metadata": {},
   "source": [
    "Porto Alegre is best city for relocation interms of:-\n",
    "\n",
    "    It has Furnished houses of 56% from total 3 cities\n",
    "    \n",
    "    For <= 2- parking spaces, <=4 - bathroom ,<=3 - rooms\n",
    "    \n",
    "    For having pets\n",
    "    \n",
    "    50% houses-Total rent range 1800 to 3700\n",
    "    \n",
    "    Reasonable total rent price for the area\n",
    "    \n",
    "    Budget friendly(especially who prefer 1 or 2 rooms)\n",
    "    \n",
    "    To live in high floors\n",
    "    \n",
    "    But,the maximum area in this city is small comparing to Belo horizonto\n",
    "    \n",
    "    "
   ]
  },
  {
   "cell_type": "markdown",
   "id": "e641e997",
   "metadata": {},
   "source": [
    "Belo horizonto is best city for relocation interms of:-\n",
    "    \n",
    "    for > 2- parking spaces, > 4 - bathroom , > 3 - room\n",
    "    \n",
    "    More furnished house in large living areas\n",
    "    \n",
    "    Maximum living area comparing to Porto Alegre\n",
    "    \n",
    "    "
   ]
  }
 ],
 "metadata": {
  "kernelspec": {
   "display_name": "Python 3 (ipykernel)",
   "language": "python",
   "name": "python3"
  },
  "language_info": {
   "codemirror_mode": {
    "name": "ipython",
    "version": 3
   },
   "file_extension": ".py",
   "mimetype": "text/x-python",
   "name": "python",
   "nbconvert_exporter": "python",
   "pygments_lexer": "ipython3",
   "version": "3.9.7"
  }
 },
 "nbformat": 4,
 "nbformat_minor": 5
}
